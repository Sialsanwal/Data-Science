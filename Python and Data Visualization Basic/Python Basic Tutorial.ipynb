{
 "cells": [
  {
   "cell_type": "markdown",
   "id": "89b0ec79",
   "metadata": {},
   "source": [
    "# What is Python?\n",
    "- Python is a general-purpose programming language that is becoming ever more popular for data science. Companies worldwide use Python to harvest insights from their data and gain a competitive edge. Python is easy to learn as it has a syntax that is very human-interpretable.\n",
    "\n",
    "\n",
    "To check if you have python installed on a Windows, Linux, or Mac, type:\n",
    "\n",
    "python --version"
   ]
  },
  {
   "cell_type": "markdown",
   "id": "55cdccd7",
   "metadata": {},
   "source": [
    "# First Python Program"
   ]
  },
  {
   "cell_type": "code",
   "execution_count": 3,
   "id": "bfbadb51",
   "metadata": {},
   "outputs": [
    {
     "name": "stdout",
     "output_type": "stream",
     "text": [
      "Hello World\n"
     ]
    }
   ],
   "source": [
    "print(\"Hello World\")"
   ]
  },
  {
   "cell_type": "markdown",
   "id": "476ad11f",
   "metadata": {},
   "source": [
    "# Python Variables"
   ]
  },
  {
   "cell_type": "code",
   "execution_count": 4,
   "id": "20c8b91a",
   "metadata": {},
   "outputs": [],
   "source": [
    "x=5\n",
    "y=\"sanwal\""
   ]
  },
  {
   "cell_type": "code",
   "execution_count": 5,
   "id": "88e3e60e",
   "metadata": {},
   "outputs": [
    {
     "name": "stdout",
     "output_type": "stream",
     "text": [
      "5 sanwal\n"
     ]
    }
   ],
   "source": [
    "print(x,y)"
   ]
  },
  {
   "cell_type": "code",
   "execution_count": 6,
   "id": "5738ae38",
   "metadata": {},
   "outputs": [
    {
     "name": "stdout",
     "output_type": "stream",
     "text": [
      "sanwalsanwalsanwalsanwalsanwal\n"
     ]
    }
   ],
   "source": [
    "print(x*y)"
   ]
  },
  {
   "cell_type": "markdown",
   "id": "81ac07bd",
   "metadata": {},
   "source": [
    "# Casting"
   ]
  },
  {
   "cell_type": "code",
   "execution_count": 7,
   "id": "5a29983d",
   "metadata": {},
   "outputs": [],
   "source": [
    "x=str(3)\n",
    "y=float(3)\n",
    "z=int(3)"
   ]
  },
  {
   "cell_type": "code",
   "execution_count": 8,
   "id": "79ccf26d",
   "metadata": {},
   "outputs": [
    {
     "name": "stdout",
     "output_type": "stream",
     "text": [
      "3 3.0 3\n"
     ]
    }
   ],
   "source": [
    "print(x,y,z)"
   ]
  },
  {
   "cell_type": "code",
   "execution_count": 9,
   "id": "4b963851",
   "metadata": {},
   "outputs": [
    {
     "data": {
      "text/plain": [
       "str"
      ]
     },
     "execution_count": 9,
     "metadata": {},
     "output_type": "execute_result"
    }
   ],
   "source": [
    "type(x)"
   ]
  },
  {
   "cell_type": "markdown",
   "id": "dd5701c1",
   "metadata": {},
   "source": [
    "# Variable Names\n",
    "A variable can have a short name (like x and y) or a more descriptive name (age, carname, total_volume). \n",
    "Rules for Python variables:\n",
    "\n",
    "- A variable name must start with a letter or the underscore character\n",
    "- A variable name cannot start with a number\n",
    "- A variable name can only contain alpha-numeric characters and underscores (A-z, 0-9, and _ )\n",
    "- Variable names are case-sensitive (age, Age and AGE are three different variables)\n"
   ]
  },
  {
   "cell_type": "code",
   "execution_count": 16,
   "id": "a6efcb61",
   "metadata": {},
   "outputs": [],
   "source": [
    "_age=5"
   ]
  },
  {
   "cell_type": "code",
   "execution_count": 17,
   "id": "20c46bf4",
   "metadata": {},
   "outputs": [],
   "source": [
    "age=5"
   ]
  },
  {
   "cell_type": "code",
   "execution_count": 19,
   "id": "3681ba8c",
   "metadata": {},
   "outputs": [
    {
     "ename": "SyntaxError",
     "evalue": "cannot assign to operator (4223731995.py, line 1)",
     "output_type": "error",
     "traceback": [
      "\u001b[1;36m  Input \u001b[1;32mIn [19]\u001b[1;36m\u001b[0m\n\u001b[1;33m    my-var=5\u001b[0m\n\u001b[1;37m    ^\u001b[0m\n\u001b[1;31mSyntaxError\u001b[0m\u001b[1;31m:\u001b[0m cannot assign to operator\n"
     ]
    }
   ],
   "source": [
    "my-var=5"
   ]
  },
  {
   "cell_type": "markdown",
   "id": "7c7323ef",
   "metadata": {},
   "source": [
    "# Many Values to Multiple Variables"
   ]
  },
  {
   "cell_type": "code",
   "execution_count": 20,
   "id": "1bbcc667",
   "metadata": {},
   "outputs": [],
   "source": [
    "x,y,z='orange','mango','banana'"
   ]
  },
  {
   "cell_type": "code",
   "execution_count": 21,
   "id": "f2b06bf6",
   "metadata": {},
   "outputs": [
    {
     "name": "stdout",
     "output_type": "stream",
     "text": [
      "orange\n"
     ]
    }
   ],
   "source": [
    "print(x)"
   ]
  },
  {
   "cell_type": "code",
   "execution_count": 22,
   "id": "cf961c65",
   "metadata": {},
   "outputs": [
    {
     "name": "stdout",
     "output_type": "stream",
     "text": [
      "mango\n"
     ]
    }
   ],
   "source": [
    "print(y)"
   ]
  },
  {
   "cell_type": "code",
   "execution_count": 23,
   "id": "73933fb1",
   "metadata": {},
   "outputs": [
    {
     "name": "stdout",
     "output_type": "stream",
     "text": [
      "banana\n"
     ]
    }
   ],
   "source": [
    "print(z)"
   ]
  },
  {
   "cell_type": "markdown",
   "id": "4f19e993",
   "metadata": {},
   "source": [
    "# One Value to Multiple Variables"
   ]
  },
  {
   "cell_type": "code",
   "execution_count": 24,
   "id": "2a58c19e",
   "metadata": {},
   "outputs": [],
   "source": [
    "x=y=z='orange'"
   ]
  },
  {
   "cell_type": "code",
   "execution_count": 25,
   "id": "02c4d4ae",
   "metadata": {},
   "outputs": [
    {
     "name": "stdout",
     "output_type": "stream",
     "text": [
      "orange\n"
     ]
    }
   ],
   "source": [
    "print(x)"
   ]
  },
  {
   "cell_type": "code",
   "execution_count": 26,
   "id": "c6cb2bf4",
   "metadata": {},
   "outputs": [
    {
     "name": "stdout",
     "output_type": "stream",
     "text": [
      "orange\n"
     ]
    }
   ],
   "source": [
    "print(y)"
   ]
  },
  {
   "cell_type": "code",
   "execution_count": 27,
   "id": "b17993f4",
   "metadata": {},
   "outputs": [
    {
     "name": "stdout",
     "output_type": "stream",
     "text": [
      "orange\n"
     ]
    }
   ],
   "source": [
    "print(z)"
   ]
  },
  {
   "cell_type": "markdown",
   "id": "3c59cbaf",
   "metadata": {},
   "source": [
    "# Python Numbers\n",
    "There are three numeric types in Python\n",
    "- int\n",
    "- float\n",
    "- complex"
   ]
  },
  {
   "cell_type": "markdown",
   "id": "0142501c",
   "metadata": {},
   "source": [
    "# Int \n",
    " - Int, or integer, is a whole number, positive or negative, without decimals, of unlimited length.\n",
    "\n"
   ]
  },
  {
   "cell_type": "code",
   "execution_count": 28,
   "id": "da27f12f",
   "metadata": {},
   "outputs": [],
   "source": [
    "x=1\n",
    "y=342343454454564545\n",
    "z=-111292324"
   ]
  },
  {
   "cell_type": "code",
   "execution_count": 29,
   "id": "57e6384f",
   "metadata": {},
   "outputs": [
    {
     "name": "stdout",
     "output_type": "stream",
     "text": [
      "<class 'int'>\n"
     ]
    }
   ],
   "source": [
    "print(type(x))"
   ]
  },
  {
   "cell_type": "markdown",
   "id": "e2f9abd8",
   "metadata": {},
   "source": [
    "# Float\n",
    "- Float, or \"floating point number\" is a number, positive or negative, containing one or more decimals."
   ]
  },
  {
   "cell_type": "code",
   "execution_count": 30,
   "id": "80832b69",
   "metadata": {},
   "outputs": [],
   "source": [
    "x=1.1\n",
    "y=-2.20\n",
    "z=34.324"
   ]
  },
  {
   "cell_type": "code",
   "execution_count": 31,
   "id": "c8b10b47",
   "metadata": {},
   "outputs": [
    {
     "name": "stdout",
     "output_type": "stream",
     "text": [
      "<class 'float'>\n"
     ]
    }
   ],
   "source": [
    "print(type(x))"
   ]
  },
  {
   "cell_type": "markdown",
   "id": "db688850",
   "metadata": {},
   "source": [
    "# Complex\n",
    "- Complex numbers are written with a \"j\" as the imaginary part:"
   ]
  },
  {
   "cell_type": "code",
   "execution_count": 32,
   "id": "e2f3c3a1",
   "metadata": {},
   "outputs": [
    {
     "name": "stdout",
     "output_type": "stream",
     "text": [
      "<class 'complex'>\n"
     ]
    }
   ],
   "source": [
    "x=5-3j\n",
    "print(type(x))"
   ]
  },
  {
   "cell_type": "markdown",
   "id": "9618192a",
   "metadata": {},
   "source": [
    "# Python Strings\n",
    "- Strings in python are surrounded by either single quotation marks, or double quotation marks.\n",
    "\n"
   ]
  },
  {
   "cell_type": "code",
   "execution_count": 34,
   "id": "2c573ce3",
   "metadata": {},
   "outputs": [
    {
     "name": "stdout",
     "output_type": "stream",
     "text": [
      "hello\n",
      "hello\n"
     ]
    }
   ],
   "source": [
    "print('hello')\n",
    "print(\"hello\")"
   ]
  },
  {
   "cell_type": "markdown",
   "id": "b4fb689f",
   "metadata": {},
   "source": [
    "# Multiline Strings\n",
    "- You can assign a multiline string to a variable by using three quotes:"
   ]
  },
  {
   "cell_type": "code",
   "execution_count": 35,
   "id": "799be2cf",
   "metadata": {},
   "outputs": [
    {
     "name": "stdout",
     "output_type": "stream",
     "text": [
      "hello my name is Sanwal khan\n",
      "I belong to faislabad.\n",
      "and i am in undergraduate\n"
     ]
    }
   ],
   "source": [
    "a='''hello my name is Sanwal khan\n",
    "I belong to faislabad.\n",
    "and i am in undergraduate'''\n",
    "print(a)"
   ]
  },
  {
   "cell_type": "code",
   "execution_count": 36,
   "id": "f2fa0962",
   "metadata": {},
   "outputs": [
    {
     "data": {
      "text/plain": [
       "8"
      ]
     },
     "execution_count": 36,
     "metadata": {},
     "output_type": "execute_result"
    }
   ],
   "source": [
    "a='Pakistan'\n",
    "len(a)"
   ]
  },
  {
   "cell_type": "code",
   "execution_count": 37,
   "id": "bb457088",
   "metadata": {},
   "outputs": [
    {
     "data": {
      "text/plain": [
       "'Pak'"
      ]
     },
     "execution_count": 37,
     "metadata": {},
     "output_type": "execute_result"
    }
   ],
   "source": [
    "a[0:3]"
   ]
  },
  {
   "cell_type": "code",
   "execution_count": 40,
   "id": "3bf7dce4",
   "metadata": {},
   "outputs": [
    {
     "name": "stdout",
     "output_type": "stream",
     "text": [
      "P\ta\tk\ti\ts\tt\ta\tn\t"
     ]
    }
   ],
   "source": [
    "for i in a:\n",
    "    print(i,end='\\t')"
   ]
  },
  {
   "cell_type": "code",
   "execution_count": 41,
   "id": "d4d2c9f8",
   "metadata": {},
   "outputs": [
    {
     "name": "stdout",
     "output_type": "stream",
     "text": [
      "b\n",
      "a\n",
      "n\n",
      "a\n",
      "n\n",
      "a\n"
     ]
    }
   ],
   "source": [
    "for i in 'banana':\n",
    "    print(i)"
   ]
  },
  {
   "cell_type": "code",
   "execution_count": 42,
   "id": "6540eb1f",
   "metadata": {},
   "outputs": [
    {
     "data": {
      "text/plain": [
       "True"
      ]
     },
     "execution_count": 42,
     "metadata": {},
     "output_type": "execute_result"
    }
   ],
   "source": [
    "tex='my name is sanwal khan and i belonged to faisalabad'\n",
    "'sanwal' in tex"
   ]
  },
  {
   "cell_type": "markdown",
   "id": "4ee0438f",
   "metadata": {},
   "source": [
    "# Check String and Check if NOT"
   ]
  },
  {
   "cell_type": "code",
   "execution_count": 43,
   "id": "e9757548",
   "metadata": {},
   "outputs": [
    {
     "name": "stdout",
     "output_type": "stream",
     "text": [
      "True\n",
      "False\n"
     ]
    }
   ],
   "source": [
    "txt='the best thing is life is school time'\n",
    "print('thing' in txt)\n",
    "print('Life' in txt)"
   ]
  },
  {
   "cell_type": "markdown",
   "id": "1227cbee",
   "metadata": {},
   "source": [
    "# Slicing Strings"
   ]
  },
  {
   "cell_type": "code",
   "execution_count": 44,
   "id": "2826d40c",
   "metadata": {},
   "outputs": [
    {
     "data": {
      "text/plain": [
       "'I am'"
      ]
     },
     "execution_count": 44,
     "metadata": {},
     "output_type": "execute_result"
    }
   ],
   "source": [
    "a='I am student of BS'\n",
    "a[0:4]"
   ]
  },
  {
   "cell_type": "code",
   "execution_count": 45,
   "id": "aceff58c",
   "metadata": {},
   "outputs": [
    {
     "data": {
      "text/plain": [
       "'I am'"
      ]
     },
     "execution_count": 45,
     "metadata": {},
     "output_type": "execute_result"
    }
   ],
   "source": [
    "a[:4]"
   ]
  },
  {
   "cell_type": "code",
   "execution_count": 47,
   "id": "c0e13458",
   "metadata": {},
   "outputs": [
    {
     "data": {
      "text/plain": [
       "'I am student of BS'"
      ]
     },
     "execution_count": 47,
     "metadata": {},
     "output_type": "execute_result"
    }
   ],
   "source": [
    "a[:]"
   ]
  },
  {
   "cell_type": "code",
   "execution_count": 48,
   "id": "5f4f1061",
   "metadata": {},
   "outputs": [
    {
     "data": {
      "text/plain": [
       "'I am student of B'"
      ]
     },
     "execution_count": 48,
     "metadata": {},
     "output_type": "execute_result"
    }
   ],
   "source": [
    "a[:-1]"
   ]
  },
  {
   "cell_type": "markdown",
   "id": "68e4976e",
   "metadata": {},
   "source": [
    "# Modify Strings"
   ]
  },
  {
   "cell_type": "code",
   "execution_count": 49,
   "id": "e68ced6d",
   "metadata": {},
   "outputs": [
    {
     "name": "stdout",
     "output_type": "stream",
     "text": [
      "I am student of BS\n"
     ]
    }
   ],
   "source": [
    "print(a)"
   ]
  },
  {
   "cell_type": "code",
   "execution_count": 50,
   "id": "4e70a56c",
   "metadata": {},
   "outputs": [
    {
     "data": {
      "text/plain": [
       "'I am student of bs'"
      ]
     },
     "execution_count": 50,
     "metadata": {},
     "output_type": "execute_result"
    }
   ],
   "source": [
    "a.capitalize()"
   ]
  },
  {
   "cell_type": "code",
   "execution_count": 51,
   "id": "e43839bb",
   "metadata": {},
   "outputs": [
    {
     "data": {
      "text/plain": [
       "'I Am Student Of Bs'"
      ]
     },
     "execution_count": 51,
     "metadata": {},
     "output_type": "execute_result"
    }
   ],
   "source": [
    "a.title()"
   ]
  },
  {
   "cell_type": "code",
   "execution_count": 52,
   "id": "3d52f61f",
   "metadata": {},
   "outputs": [
    {
     "data": {
      "text/plain": [
       "'I AM STUDENT OF BS'"
      ]
     },
     "execution_count": 52,
     "metadata": {},
     "output_type": "execute_result"
    }
   ],
   "source": [
    "a.upper()"
   ]
  },
  {
   "cell_type": "code",
   "execution_count": 53,
   "id": "d80aa47c",
   "metadata": {},
   "outputs": [
    {
     "data": {
      "text/plain": [
       "'i am student of bs'"
      ]
     },
     "execution_count": 53,
     "metadata": {},
     "output_type": "execute_result"
    }
   ],
   "source": [
    "a.lower()"
   ]
  },
  {
   "cell_type": "code",
   "execution_count": 60,
   "id": "1d39cefe",
   "metadata": {},
   "outputs": [
    {
     "data": {
      "text/plain": [
       "2"
      ]
     },
     "execution_count": 60,
     "metadata": {},
     "output_type": "execute_result"
    }
   ],
   "source": [
    "a.count('t')"
   ]
  },
  {
   "cell_type": "code",
   "execution_count": 57,
   "id": "03bddb3f",
   "metadata": {},
   "outputs": [
    {
     "data": {
      "text/plain": [
       "1"
      ]
     },
     "execution_count": 57,
     "metadata": {},
     "output_type": "execute_result"
    }
   ],
   "source": [
    "a.count('s')"
   ]
  },
  {
   "cell_type": "code",
   "execution_count": 61,
   "id": "0d0909b1",
   "metadata": {},
   "outputs": [
    {
     "data": {
      "text/plain": [
       "False"
      ]
     },
     "execution_count": 61,
     "metadata": {},
     "output_type": "execute_result"
    }
   ],
   "source": [
    "a.isalpha()"
   ]
  },
  {
   "cell_type": "code",
   "execution_count": 62,
   "id": "0a916087",
   "metadata": {},
   "outputs": [
    {
     "data": {
      "text/plain": [
       "'I am student of BS'"
      ]
     },
     "execution_count": 62,
     "metadata": {},
     "output_type": "execute_result"
    }
   ],
   "source": [
    "a.lstrip()"
   ]
  },
  {
   "cell_type": "code",
   "execution_count": 63,
   "id": "6cd402bd",
   "metadata": {},
   "outputs": [
    {
     "data": {
      "text/plain": [
       "'I am squdenq of BS'"
      ]
     },
     "execution_count": 63,
     "metadata": {},
     "output_type": "execute_result"
    }
   ],
   "source": [
    "a.replace('t','q')"
   ]
  },
  {
   "cell_type": "markdown",
   "id": "c19347d0",
   "metadata": {},
   "source": [
    "# strip()\n",
    "- Whitespace is the space before and/or after the actual text, and very often you want to remove this space.\n",
    "The strip() method removes any whitespace from the beginning or the end:"
   ]
  },
  {
   "cell_type": "code",
   "execution_count": 64,
   "id": "4ae2516f",
   "metadata": {},
   "outputs": [],
   "source": [
    "a='     hello world      '"
   ]
  },
  {
   "cell_type": "code",
   "execution_count": 65,
   "id": "dff6aeb4",
   "metadata": {},
   "outputs": [
    {
     "data": {
      "text/plain": [
       "'     hello world      '"
      ]
     },
     "execution_count": 65,
     "metadata": {},
     "output_type": "execute_result"
    }
   ],
   "source": [
    "a"
   ]
  },
  {
   "cell_type": "code",
   "execution_count": 66,
   "id": "ee90d832",
   "metadata": {},
   "outputs": [
    {
     "data": {
      "text/plain": [
       "'hello world'"
      ]
     },
     "execution_count": 66,
     "metadata": {},
     "output_type": "execute_result"
    }
   ],
   "source": [
    "a.strip()"
   ]
  },
  {
   "cell_type": "code",
   "execution_count": 67,
   "id": "47798481",
   "metadata": {},
   "outputs": [],
   "source": [
    "a='hello world'"
   ]
  },
  {
   "cell_type": "code",
   "execution_count": 70,
   "id": "c43a3cee",
   "metadata": {},
   "outputs": [],
   "source": [
    "a=a.split(\" \")"
   ]
  },
  {
   "cell_type": "code",
   "execution_count": 74,
   "id": "dbb5608d",
   "metadata": {},
   "outputs": [
    {
     "data": {
      "text/plain": [
       "'wor'"
      ]
     },
     "execution_count": 74,
     "metadata": {},
     "output_type": "execute_result"
    }
   ],
   "source": [
    "a[1][:3]"
   ]
  },
  {
   "cell_type": "markdown",
   "id": "3ac78a75",
   "metadata": {},
   "source": [
    "# String Concatenation\n",
    "- To concatenate or combine, two strings you can use the + operator."
   ]
  },
  {
   "cell_type": "code",
   "execution_count": 75,
   "id": "119c7f4a",
   "metadata": {},
   "outputs": [
    {
     "name": "stdout",
     "output_type": "stream",
     "text": [
      "helloworld\n"
     ]
    }
   ],
   "source": [
    "a='hello'\n",
    "b='world'\n",
    "print(a+b)"
   ]
  },
  {
   "cell_type": "code",
   "execution_count": 77,
   "id": "fc6c9c59",
   "metadata": {},
   "outputs": [
    {
     "name": "stdout",
     "output_type": "stream",
     "text": [
      "hello world\n"
     ]
    }
   ],
   "source": [
    "print(a+\" \"+b)"
   ]
  },
  {
   "cell_type": "code",
   "execution_count": 78,
   "id": "8126b43c",
   "metadata": {},
   "outputs": [
    {
     "ename": "TypeError",
     "evalue": "can only concatenate str (not \"int\") to str",
     "output_type": "error",
     "traceback": [
      "\u001b[1;31m---------------------------------------------------------------------------\u001b[0m",
      "\u001b[1;31mTypeError\u001b[0m                                 Traceback (most recent call last)",
      "Input \u001b[1;32mIn [78]\u001b[0m, in \u001b[0;36m<cell line: 2>\u001b[1;34m()\u001b[0m\n\u001b[0;32m      1\u001b[0m age\u001b[38;5;241m=\u001b[39m\u001b[38;5;241m22\u001b[39m\n\u001b[1;32m----> 2\u001b[0m \u001b[38;5;28mprint\u001b[39m(\u001b[38;5;124;43m\"\u001b[39;49m\u001b[38;5;124;43mMy name is sanwal and my age is\u001b[39;49m\u001b[38;5;124;43m\"\u001b[39;49m\u001b[38;5;241;43m+\u001b[39;49m\u001b[43mage\u001b[49m)\n",
      "\u001b[1;31mTypeError\u001b[0m: can only concatenate str (not \"int\") to str"
     ]
    }
   ],
   "source": [
    "age=22\n",
    "print(\"My name is sanwal and my age is\"+age)"
   ]
  },
  {
   "cell_type": "code",
   "execution_count": 80,
   "id": "6eecffcd",
   "metadata": {},
   "outputs": [
    {
     "name": "stdout",
     "output_type": "stream",
     "text": [
      "My name is sanwal and my age is 22\n"
     ]
    }
   ],
   "source": [
    "print(\"My name is sanwal and my age is {}\".format(age))"
   ]
  },
  {
   "cell_type": "code",
   "execution_count": 81,
   "id": "958f64d7",
   "metadata": {},
   "outputs": [
    {
     "name": "stdout",
     "output_type": "stream",
     "text": [
      "I want 33 pieces of items 567 for 46.94 dollar\n"
     ]
    }
   ],
   "source": [
    "quantity=33\n",
    "items=567\n",
    "price=46.94\n",
    "my_order=\"I want {} pieces of items {} for {} dollar\"\n",
    "print(my_order.format(quantity,items,price))"
   ]
  },
  {
   "cell_type": "code",
   "execution_count": 87,
   "id": "25f9b991",
   "metadata": {},
   "outputs": [],
   "source": [
    "age=25\n",
    "gender='male'"
   ]
  },
  {
   "cell_type": "code",
   "execution_count": 88,
   "id": "e9e06bef",
   "metadata": {},
   "outputs": [
    {
     "name": "stdout",
     "output_type": "stream",
     "text": [
      "You are eligble\n"
     ]
    }
   ],
   "source": [
    "if age==25 and gender=='male':\n",
    "    print(\"You are eligble\")"
   ]
  },
  {
   "cell_type": "code",
   "execution_count": 89,
   "id": "057e8322",
   "metadata": {},
   "outputs": [
    {
     "name": "stdout",
     "output_type": "stream",
     "text": [
      "You are eligble\n"
     ]
    }
   ],
   "source": [
    "if age==25 or gender=='male':\n",
    "    print(\"You are eligble\")"
   ]
  },
  {
   "cell_type": "markdown",
   "id": "e787228b",
   "metadata": {},
   "source": [
    "# Data Structure\n",
    "- List is a collection which is ordered and changeable. Allows duplicate members.\n",
    "- Tuple is a collection which is ordered and unchangeable. Allows duplicate members.\n",
    "- Set is a collection which is unordered, unchangeable*, and unindexed. No duplicate members.\n",
    "- Dictionary is a collection which is ordered** and changeable. No duplicate members.\n"
   ]
  },
  {
   "cell_type": "markdown",
   "id": "cb8fdacf",
   "metadata": {},
   "source": [
    "# Python Lists\n",
    "- Lists are used to store multiple items in a single variable.\n",
    "- Lists are created using square brackets"
   ]
  },
  {
   "cell_type": "code",
   "execution_count": 90,
   "id": "9e8d0935",
   "metadata": {},
   "outputs": [],
   "source": [
    "thislist=['apple','banana','cheery']"
   ]
  },
  {
   "cell_type": "code",
   "execution_count": 91,
   "id": "26273a0e",
   "metadata": {},
   "outputs": [
    {
     "name": "stdout",
     "output_type": "stream",
     "text": [
      "<class 'list'>\n"
     ]
    }
   ],
   "source": [
    "print(type(thislist))"
   ]
  },
  {
   "cell_type": "code",
   "execution_count": 92,
   "id": "ab40c5f7",
   "metadata": {},
   "outputs": [
    {
     "data": {
      "text/plain": [
       "3"
      ]
     },
     "execution_count": 92,
     "metadata": {},
     "output_type": "execute_result"
    }
   ],
   "source": [
    "len(thislist)"
   ]
  },
  {
   "cell_type": "code",
   "execution_count": 93,
   "id": "5831a03a",
   "metadata": {},
   "outputs": [
    {
     "data": {
      "text/plain": [
       "'app'"
      ]
     },
     "execution_count": 93,
     "metadata": {},
     "output_type": "execute_result"
    }
   ],
   "source": [
    "thislist[0][:3]"
   ]
  },
  {
   "cell_type": "code",
   "execution_count": 94,
   "id": "2bab4677",
   "metadata": {},
   "outputs": [],
   "source": [
    "lis=['apple','banana',24,True]"
   ]
  },
  {
   "cell_type": "code",
   "execution_count": 95,
   "id": "aea3e4d7",
   "metadata": {},
   "outputs": [
    {
     "data": {
      "text/plain": [
       "4"
      ]
     },
     "execution_count": 95,
     "metadata": {},
     "output_type": "execute_result"
    }
   ],
   "source": [
    "len(lis)"
   ]
  },
  {
   "cell_type": "code",
   "execution_count": 96,
   "id": "20e0e7b4",
   "metadata": {},
   "outputs": [
    {
     "data": {
      "text/plain": [
       "True"
      ]
     },
     "execution_count": 96,
     "metadata": {},
     "output_type": "execute_result"
    }
   ],
   "source": [
    "lis[-1]"
   ]
  },
  {
   "cell_type": "code",
   "execution_count": 97,
   "id": "dbeb8a6e",
   "metadata": {},
   "outputs": [],
   "source": [
    "lis.append(\"sanwal\")"
   ]
  },
  {
   "cell_type": "code",
   "execution_count": 98,
   "id": "90e4a58e",
   "metadata": {},
   "outputs": [
    {
     "data": {
      "text/plain": [
       "['apple', 'banana', 24, True, 'sanwal']"
      ]
     },
     "execution_count": 98,
     "metadata": {},
     "output_type": "execute_result"
    }
   ],
   "source": [
    "lis"
   ]
  },
  {
   "cell_type": "code",
   "execution_count": 100,
   "id": "a3e44e06",
   "metadata": {},
   "outputs": [
    {
     "data": {
      "text/plain": [
       "1"
      ]
     },
     "execution_count": 100,
     "metadata": {},
     "output_type": "execute_result"
    }
   ],
   "source": [
    "lis.count(\"apple\")"
   ]
  },
  {
   "cell_type": "code",
   "execution_count": 101,
   "id": "683b1c2c",
   "metadata": {},
   "outputs": [],
   "source": [
    "lis.append('apple')"
   ]
  },
  {
   "cell_type": "code",
   "execution_count": 102,
   "id": "6e527be7",
   "metadata": {},
   "outputs": [
    {
     "data": {
      "text/plain": [
       "['apple', 'banana', 24, True, 'sanwal', 'apple']"
      ]
     },
     "execution_count": 102,
     "metadata": {},
     "output_type": "execute_result"
    }
   ],
   "source": [
    "lis"
   ]
  },
  {
   "cell_type": "code",
   "execution_count": 103,
   "id": "78fdd0f9",
   "metadata": {},
   "outputs": [
    {
     "data": {
      "text/plain": [
       "2"
      ]
     },
     "execution_count": 103,
     "metadata": {},
     "output_type": "execute_result"
    }
   ],
   "source": [
    "lis.count('apple')"
   ]
  },
  {
   "cell_type": "code",
   "execution_count": 104,
   "id": "b922cc05",
   "metadata": {},
   "outputs": [],
   "source": [
    "lis.insert(0,\"cheery\")"
   ]
  },
  {
   "cell_type": "code",
   "execution_count": 105,
   "id": "f22b7938",
   "metadata": {},
   "outputs": [
    {
     "data": {
      "text/plain": [
       "['cheery', 'apple', 'banana', 24, True, 'sanwal', 'apple']"
      ]
     },
     "execution_count": 105,
     "metadata": {},
     "output_type": "execute_result"
    }
   ],
   "source": [
    "lis"
   ]
  },
  {
   "cell_type": "code",
   "execution_count": 110,
   "id": "624a2be2",
   "metadata": {},
   "outputs": [],
   "source": [
    "lis=['A','B','C']\n",
    "lis2=['a','b','c']"
   ]
  },
  {
   "cell_type": "code",
   "execution_count": 111,
   "id": "0ebfee32",
   "metadata": {},
   "outputs": [],
   "source": [
    "lis.extend(lis2)"
   ]
  },
  {
   "cell_type": "code",
   "execution_count": 112,
   "id": "688e6b55",
   "metadata": {},
   "outputs": [
    {
     "data": {
      "text/plain": [
       "['A', 'B', 'C', 'a', 'b', 'c']"
      ]
     },
     "execution_count": 112,
     "metadata": {},
     "output_type": "execute_result"
    }
   ],
   "source": [
    "lis"
   ]
  },
  {
   "cell_type": "code",
   "execution_count": 117,
   "id": "443fc2e8",
   "metadata": {},
   "outputs": [
    {
     "data": {
      "text/plain": [
       "['c', 'b', 'a', 'C', 'B', 'A']"
      ]
     },
     "execution_count": 117,
     "metadata": {},
     "output_type": "execute_result"
    }
   ],
   "source": [
    "lis.sort()\n",
    "lis.reverse()\n",
    "lis"
   ]
  },
  {
   "cell_type": "code",
   "execution_count": 118,
   "id": "690fa7c4",
   "metadata": {},
   "outputs": [],
   "source": [
    "lis.remove('A')"
   ]
  },
  {
   "cell_type": "code",
   "execution_count": 119,
   "id": "02243ade",
   "metadata": {},
   "outputs": [
    {
     "data": {
      "text/plain": [
       "['c', 'b', 'a', 'C', 'B']"
      ]
     },
     "execution_count": 119,
     "metadata": {},
     "output_type": "execute_result"
    }
   ],
   "source": [
    "lis"
   ]
  },
  {
   "cell_type": "code",
   "execution_count": 120,
   "id": "5b7afe32",
   "metadata": {},
   "outputs": [
    {
     "data": {
      "text/plain": [
       "'B'"
      ]
     },
     "execution_count": 120,
     "metadata": {},
     "output_type": "execute_result"
    }
   ],
   "source": [
    "lis.pop()"
   ]
  },
  {
   "cell_type": "code",
   "execution_count": 121,
   "id": "7d6472e3",
   "metadata": {},
   "outputs": [
    {
     "data": {
      "text/plain": [
       "['c', 'b', 'a', 'C']"
      ]
     },
     "execution_count": 121,
     "metadata": {},
     "output_type": "execute_result"
    }
   ],
   "source": [
    "lis"
   ]
  },
  {
   "cell_type": "code",
   "execution_count": 122,
   "id": "2e6a9aed",
   "metadata": {},
   "outputs": [
    {
     "data": {
      "text/plain": [
       "'c'"
      ]
     },
     "execution_count": 122,
     "metadata": {},
     "output_type": "execute_result"
    }
   ],
   "source": [
    "lis.pop(0)"
   ]
  },
  {
   "cell_type": "markdown",
   "id": "32dd896e",
   "metadata": {},
   "source": [
    "# Python Tuple\n",
    "- Tuples are used to store multiple items in a single variable. A tuple is a collection which is ordered and unchangeable. Tuples are written with round brackets."
   ]
  },
  {
   "cell_type": "code",
   "execution_count": 123,
   "id": "3903d290",
   "metadata": {},
   "outputs": [],
   "source": [
    "tup=('apple','banana','cheery')"
   ]
  },
  {
   "cell_type": "code",
   "execution_count": 124,
   "id": "aa960fef",
   "metadata": {},
   "outputs": [
    {
     "data": {
      "text/plain": [
       "tuple"
      ]
     },
     "execution_count": 124,
     "metadata": {},
     "output_type": "execute_result"
    }
   ],
   "source": [
    "type(tup)"
   ]
  },
  {
   "cell_type": "code",
   "execution_count": 125,
   "id": "c717c992",
   "metadata": {},
   "outputs": [
    {
     "data": {
      "text/plain": [
       "1"
      ]
     },
     "execution_count": 125,
     "metadata": {},
     "output_type": "execute_result"
    }
   ],
   "source": [
    "tup.count('apple')"
   ]
  },
  {
   "cell_type": "code",
   "execution_count": 128,
   "id": "f7d03e05",
   "metadata": {},
   "outputs": [
    {
     "ename": "TypeError",
     "evalue": "'tuple' object does not support item assignment",
     "output_type": "error",
     "traceback": [
      "\u001b[1;31m---------------------------------------------------------------------------\u001b[0m",
      "\u001b[1;31mTypeError\u001b[0m                                 Traceback (most recent call last)",
      "Input \u001b[1;32mIn [128]\u001b[0m, in \u001b[0;36m<cell line: 1>\u001b[1;34m()\u001b[0m\n\u001b[1;32m----> 1\u001b[0m tup[\u001b[38;5;241m1\u001b[39m]\u001b[38;5;241m=\u001b[39m\u001b[38;5;124m'\u001b[39m\u001b[38;5;124mmango\u001b[39m\u001b[38;5;124m'\u001b[39m\n",
      "\u001b[1;31mTypeError\u001b[0m: 'tuple' object does not support item assignment"
     ]
    }
   ],
   "source": [
    "tup[1]='mango'"
   ]
  },
  {
   "cell_type": "code",
   "execution_count": 129,
   "id": "5775f248",
   "metadata": {},
   "outputs": [],
   "source": [
    "li=list(tup)\n",
    "li[0]='mango'"
   ]
  },
  {
   "cell_type": "code",
   "execution_count": 132,
   "id": "0d099f6b",
   "metadata": {},
   "outputs": [],
   "source": [
    "tup=tuple(li)"
   ]
  },
  {
   "cell_type": "code",
   "execution_count": 134,
   "id": "fd4150b0",
   "metadata": {},
   "outputs": [
    {
     "data": {
      "text/plain": [
       "tuple"
      ]
     },
     "execution_count": 134,
     "metadata": {},
     "output_type": "execute_result"
    }
   ],
   "source": [
    "type(tup)"
   ]
  },
  {
   "cell_type": "code",
   "execution_count": 135,
   "id": "ddc1043a",
   "metadata": {},
   "outputs": [],
   "source": [
    "tup1=('A','B','C')\n",
    "tup2=(1,2,3)"
   ]
  },
  {
   "cell_type": "code",
   "execution_count": 136,
   "id": "c8e09162",
   "metadata": {},
   "outputs": [
    {
     "data": {
      "text/plain": [
       "('A', 'B', 'C', 1, 2, 3)"
      ]
     },
     "execution_count": 136,
     "metadata": {},
     "output_type": "execute_result"
    }
   ],
   "source": [
    "tup1+tup2"
   ]
  },
  {
   "cell_type": "markdown",
   "id": "250df013",
   "metadata": {},
   "source": [
    "# Python Sets\n",
    "- Sets are used to store multiple items in a single variable.\n",
    "- Sets are written with curly brackets.\n",
    "- Set items are unordered, unchangeable, and do not allow duplicate values.\n",
    "- Set items can appear in a different order every time you use them, and cannot be referred to by index or key.\n",
    "- Set items are unchangeable, meaning that we cannot change the items after the set has been created.\n",
    "- Sets cannot have two items with the same value."
   ]
  },
  {
   "cell_type": "code",
   "execution_count": 137,
   "id": "05da237d",
   "metadata": {},
   "outputs": [],
   "source": [
    "thisset={'apple','mango','cheery'}"
   ]
  },
  {
   "cell_type": "code",
   "execution_count": 138,
   "id": "9f757416",
   "metadata": {},
   "outputs": [
    {
     "data": {
      "text/plain": [
       "set"
      ]
     },
     "execution_count": 138,
     "metadata": {},
     "output_type": "execute_result"
    }
   ],
   "source": [
    "type(thisset)"
   ]
  },
  {
   "cell_type": "code",
   "execution_count": 139,
   "id": "c22a1768",
   "metadata": {},
   "outputs": [],
   "source": [
    "thisset.add(\"banana\")"
   ]
  },
  {
   "cell_type": "code",
   "execution_count": 140,
   "id": "96a3e550",
   "metadata": {},
   "outputs": [
    {
     "data": {
      "text/plain": [
       "{'apple', 'banana', 'cheery', 'mango'}"
      ]
     },
     "execution_count": 140,
     "metadata": {},
     "output_type": "execute_result"
    }
   ],
   "source": [
    "thisset"
   ]
  },
  {
   "cell_type": "code",
   "execution_count": 141,
   "id": "ad35438f",
   "metadata": {},
   "outputs": [],
   "source": [
    "thisset.add('apple')"
   ]
  },
  {
   "cell_type": "code",
   "execution_count": 142,
   "id": "c2025cac",
   "metadata": {},
   "outputs": [
    {
     "data": {
      "text/plain": [
       "{'apple', 'banana', 'cheery', 'mango'}"
      ]
     },
     "execution_count": 142,
     "metadata": {},
     "output_type": "execute_result"
    }
   ],
   "source": [
    "thisset"
   ]
  },
  {
   "cell_type": "code",
   "execution_count": 144,
   "id": "7a8a49d9",
   "metadata": {},
   "outputs": [],
   "source": [
    "thisset.remove('apple')"
   ]
  },
  {
   "cell_type": "code",
   "execution_count": 145,
   "id": "8df3fb44",
   "metadata": {},
   "outputs": [
    {
     "data": {
      "text/plain": [
       "{'banana', 'cheery', 'mango'}"
      ]
     },
     "execution_count": 145,
     "metadata": {},
     "output_type": "execute_result"
    }
   ],
   "source": [
    "thisset"
   ]
  },
  {
   "cell_type": "code",
   "execution_count": 146,
   "id": "fd126e0c",
   "metadata": {},
   "outputs": [
    {
     "name": "stdout",
     "output_type": "stream",
     "text": [
      "mango\n",
      "cheery\n",
      "banana\n"
     ]
    }
   ],
   "source": [
    "for i in thisset:\n",
    "    print(i)"
   ]
  },
  {
   "cell_type": "code",
   "execution_count": 149,
   "id": "f9b0b207",
   "metadata": {},
   "outputs": [],
   "source": [
    "thisset.discard('cheery')"
   ]
  },
  {
   "cell_type": "code",
   "execution_count": 150,
   "id": "56590d46",
   "metadata": {},
   "outputs": [
    {
     "ename": "KeyError",
     "evalue": "'cheery'",
     "output_type": "error",
     "traceback": [
      "\u001b[1;31m---------------------------------------------------------------------------\u001b[0m",
      "\u001b[1;31mKeyError\u001b[0m                                  Traceback (most recent call last)",
      "Input \u001b[1;32mIn [150]\u001b[0m, in \u001b[0;36m<cell line: 1>\u001b[1;34m()\u001b[0m\n\u001b[1;32m----> 1\u001b[0m \u001b[43mthisset\u001b[49m\u001b[38;5;241;43m.\u001b[39;49m\u001b[43mremove\u001b[49m\u001b[43m(\u001b[49m\u001b[38;5;124;43m'\u001b[39;49m\u001b[38;5;124;43mcheery\u001b[39;49m\u001b[38;5;124;43m'\u001b[39;49m\u001b[43m)\u001b[49m\n",
      "\u001b[1;31mKeyError\u001b[0m: 'cheery'"
     ]
    }
   ],
   "source": [
    "thisset.remove('cheery')"
   ]
  },
  {
   "cell_type": "code",
   "execution_count": 152,
   "id": "6ab3be6b",
   "metadata": {},
   "outputs": [],
   "source": [
    "thisset.add(\"apple\")"
   ]
  },
  {
   "cell_type": "code",
   "execution_count": 153,
   "id": "08a28178",
   "metadata": {},
   "outputs": [
    {
     "data": {
      "text/plain": [
       "{'apple', 'banana', 'mango'}"
      ]
     },
     "execution_count": 153,
     "metadata": {},
     "output_type": "execute_result"
    }
   ],
   "source": [
    "thisset"
   ]
  },
  {
   "cell_type": "code",
   "execution_count": 154,
   "id": "e5656ad6",
   "metadata": {},
   "outputs": [
    {
     "data": {
      "text/plain": [
       "'banana'"
      ]
     },
     "execution_count": 154,
     "metadata": {},
     "output_type": "execute_result"
    }
   ],
   "source": [
    "thisset.pop()"
   ]
  },
  {
   "cell_type": "code",
   "execution_count": 158,
   "id": "148f3e9a",
   "metadata": {},
   "outputs": [
    {
     "ename": "KeyError",
     "evalue": "'pop from an empty set'",
     "output_type": "error",
     "traceback": [
      "\u001b[1;31m---------------------------------------------------------------------------\u001b[0m",
      "\u001b[1;31mKeyError\u001b[0m                                  Traceback (most recent call last)",
      "Input \u001b[1;32mIn [158]\u001b[0m, in \u001b[0;36m<cell line: 1>\u001b[1;34m()\u001b[0m\n\u001b[1;32m----> 1\u001b[0m \u001b[43mthisset\u001b[49m\u001b[38;5;241;43m.\u001b[39;49m\u001b[43mpop\u001b[49m\u001b[43m(\u001b[49m\u001b[43m)\u001b[49m\n",
      "\u001b[1;31mKeyError\u001b[0m: 'pop from an empty set'"
     ]
    }
   ],
   "source": [
    "thisset.pop()"
   ]
  },
  {
   "cell_type": "code",
   "execution_count": 159,
   "id": "ab30a20d",
   "metadata": {},
   "outputs": [],
   "source": [
    "set1={'A','B','C'}\n",
    "set2={1,2,3,\"A\",'c'}\n",
    "set3=set1.union(set2)"
   ]
  },
  {
   "cell_type": "code",
   "execution_count": 160,
   "id": "13b08f31",
   "metadata": {},
   "outputs": [
    {
     "data": {
      "text/plain": [
       "{1, 2, 3, 'A', 'B', 'C', 'c'}"
      ]
     },
     "execution_count": 160,
     "metadata": {},
     "output_type": "execute_result"
    }
   ],
   "source": [
    "set3"
   ]
  },
  {
   "cell_type": "code",
   "execution_count": 162,
   "id": "6d99e369",
   "metadata": {},
   "outputs": [
    {
     "data": {
      "text/plain": [
       "{'A'}"
      ]
     },
     "execution_count": 162,
     "metadata": {},
     "output_type": "execute_result"
    }
   ],
   "source": [
    "set3=set1.intersection(set2)\n",
    "set3"
   ]
  },
  {
   "cell_type": "markdown",
   "id": "469f5964",
   "metadata": {},
   "source": [
    "# Python Dictionary\n"
   ]
  },
  {
   "cell_type": "code",
   "execution_count": 163,
   "id": "10a7acf6",
   "metadata": {},
   "outputs": [],
   "source": [
    "thisdic={\n",
    "    \"carname\":\"honda\",\n",
    "    \"model\":2018,\n",
    "    \"enginetype\":'diseal'\n",
    "}"
   ]
  },
  {
   "cell_type": "code",
   "execution_count": 164,
   "id": "be8f7f38",
   "metadata": {},
   "outputs": [
    {
     "data": {
      "text/plain": [
       "dict"
      ]
     },
     "execution_count": 164,
     "metadata": {},
     "output_type": "execute_result"
    }
   ],
   "source": [
    "type(thisdic)"
   ]
  },
  {
   "cell_type": "code",
   "execution_count": 165,
   "id": "fa90d1ad",
   "metadata": {},
   "outputs": [
    {
     "data": {
      "text/plain": [
       "dict_keys(['carname', 'model', 'enginetype'])"
      ]
     },
     "execution_count": 165,
     "metadata": {},
     "output_type": "execute_result"
    }
   ],
   "source": [
    "thisdic.keys()"
   ]
  },
  {
   "cell_type": "code",
   "execution_count": 168,
   "id": "8564c791",
   "metadata": {},
   "outputs": [],
   "source": [
    "thisdic[\"selfdrive\"]=\"yes\""
   ]
  },
  {
   "cell_type": "code",
   "execution_count": 169,
   "id": "01726a3f",
   "metadata": {},
   "outputs": [
    {
     "data": {
      "text/plain": [
       "{'carname': 'honda', 'model': 2018, 'enginetype': 'diseal', 'selfdrive': 'yes'}"
      ]
     },
     "execution_count": 169,
     "metadata": {},
     "output_type": "execute_result"
    }
   ],
   "source": [
    "thisdic"
   ]
  },
  {
   "cell_type": "code",
   "execution_count": 173,
   "id": "ab4f2432",
   "metadata": {},
   "outputs": [
    {
     "data": {
      "text/plain": [
       "2018"
      ]
     },
     "execution_count": 173,
     "metadata": {},
     "output_type": "execute_result"
    }
   ],
   "source": [
    "thisdic.get('model')"
   ]
  },
  {
   "cell_type": "code",
   "execution_count": 175,
   "id": "5f85ed87",
   "metadata": {},
   "outputs": [
    {
     "data": {
      "text/plain": [
       "dict_items"
      ]
     },
     "execution_count": 175,
     "metadata": {},
     "output_type": "execute_result"
    }
   ],
   "source": [
    "type(thisdic.items())"
   ]
  },
  {
   "cell_type": "code",
   "execution_count": null,
   "id": "9c764449",
   "metadata": {},
   "outputs": [],
   "source": []
  }
 ],
 "metadata": {
  "kernelspec": {
   "display_name": "Python 3 (ipykernel)",
   "language": "python",
   "name": "python3"
  },
  "language_info": {
   "codemirror_mode": {
    "name": "ipython",
    "version": 3
   },
   "file_extension": ".py",
   "mimetype": "text/x-python",
   "name": "python",
   "nbconvert_exporter": "python",
   "pygments_lexer": "ipython3",
   "version": "3.9.12"
  }
 },
 "nbformat": 4,
 "nbformat_minor": 5
}
