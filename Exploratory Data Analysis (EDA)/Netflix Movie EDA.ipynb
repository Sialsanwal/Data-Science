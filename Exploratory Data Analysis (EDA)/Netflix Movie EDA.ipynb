{
 "cells": [
  {
   "cell_type": "markdown",
   "id": "d7ea940f",
   "metadata": {},
   "source": [
    "# Import Libraries"
   ]
  },
  {
   "cell_type": "code",
   "execution_count": 1,
   "id": "737bd2d2",
   "metadata": {},
   "outputs": [
    {
     "data": {
      "text/html": [
       "        <script type=\"text/javascript\">\n",
       "        window.PlotlyConfig = {MathJaxConfig: 'local'};\n",
       "        if (window.MathJax) {MathJax.Hub.Config({SVG: {font: \"STIX-Web\"}});}\n",
       "        if (typeof require !== 'undefined') {\n",
       "        require.undef(\"plotly\");\n",
       "        requirejs.config({\n",
       "            paths: {\n",
       "                'plotly': ['https://cdn.plot.ly/plotly-2.9.0.min']\n",
       "            }\n",
       "        });\n",
       "        require(['plotly'], function(Plotly) {\n",
       "            window._Plotly = Plotly;\n",
       "        });\n",
       "        }\n",
       "        </script>\n",
       "        "
      ]
     },
     "metadata": {},
     "output_type": "display_data"
    },
    {
     "name": "stdout",
     "output_type": "stream",
     "text": [
      "All Libraries is Import\n"
     ]
    }
   ],
   "source": [
    "import numpy as np\n",
    "import pandas as pd\n",
    "import seaborn as sns\n",
    "import matplotlib.pyplot as plt\n",
    "import plotly.graph_objs as go\n",
    "import plotly.offline as py\n",
    "py.init_notebook_mode(connected=True)\n",
    "import plotly.tools as tls\n",
    "import plotly.figure_factory as ff\n",
    "\n",
    "from datetime import datetime\n",
    "\n",
    "import warnings\n",
    "warnings.filterwarnings(\"ignore\")\n",
    "print(\"All Libraries is Import\")"
   ]
  },
  {
   "cell_type": "code",
   "execution_count": 2,
   "id": "18c1bc5c",
   "metadata": {},
   "outputs": [],
   "source": [
    "data=pd.read_csv('Data Sets/netflix_titles.csv')"
   ]
  },
  {
   "cell_type": "code",
   "execution_count": 3,
   "id": "0a3c6692",
   "metadata": {},
   "outputs": [
    {
     "data": {
      "text/html": [
       "<div>\n",
       "<style scoped>\n",
       "    .dataframe tbody tr th:only-of-type {\n",
       "        vertical-align: middle;\n",
       "    }\n",
       "\n",
       "    .dataframe tbody tr th {\n",
       "        vertical-align: top;\n",
       "    }\n",
       "\n",
       "    .dataframe thead th {\n",
       "        text-align: right;\n",
       "    }\n",
       "</style>\n",
       "<table border=\"1\" class=\"dataframe\">\n",
       "  <thead>\n",
       "    <tr style=\"text-align: right;\">\n",
       "      <th></th>\n",
       "      <th>show_id</th>\n",
       "      <th>type</th>\n",
       "      <th>title</th>\n",
       "      <th>director</th>\n",
       "      <th>cast</th>\n",
       "      <th>country</th>\n",
       "      <th>date_added</th>\n",
       "      <th>release_year</th>\n",
       "      <th>rating</th>\n",
       "      <th>duration</th>\n",
       "      <th>listed_in</th>\n",
       "      <th>description</th>\n",
       "    </tr>\n",
       "  </thead>\n",
       "  <tbody>\n",
       "    <tr>\n",
       "      <th>0</th>\n",
       "      <td>s1</td>\n",
       "      <td>Movie</td>\n",
       "      <td>Dick Johnson Is Dead</td>\n",
       "      <td>Kirsten Johnson</td>\n",
       "      <td>NaN</td>\n",
       "      <td>United States</td>\n",
       "      <td>September 25, 2021</td>\n",
       "      <td>2020</td>\n",
       "      <td>PG-13</td>\n",
       "      <td>90 min</td>\n",
       "      <td>Documentaries</td>\n",
       "      <td>As her father nears the end of his life, filmm...</td>\n",
       "    </tr>\n",
       "    <tr>\n",
       "      <th>1</th>\n",
       "      <td>s2</td>\n",
       "      <td>TV Show</td>\n",
       "      <td>Blood &amp; Water</td>\n",
       "      <td>NaN</td>\n",
       "      <td>Ama Qamata, Khosi Ngema, Gail Mabalane, Thaban...</td>\n",
       "      <td>South Africa</td>\n",
       "      <td>September 24, 2021</td>\n",
       "      <td>2021</td>\n",
       "      <td>TV-MA</td>\n",
       "      <td>2 Seasons</td>\n",
       "      <td>International TV Shows, TV Dramas, TV Mysteries</td>\n",
       "      <td>After crossing paths at a party, a Cape Town t...</td>\n",
       "    </tr>\n",
       "    <tr>\n",
       "      <th>2</th>\n",
       "      <td>s3</td>\n",
       "      <td>TV Show</td>\n",
       "      <td>Ganglands</td>\n",
       "      <td>Julien Leclercq</td>\n",
       "      <td>Sami Bouajila, Tracy Gotoas, Samuel Jouy, Nabi...</td>\n",
       "      <td>NaN</td>\n",
       "      <td>September 24, 2021</td>\n",
       "      <td>2021</td>\n",
       "      <td>TV-MA</td>\n",
       "      <td>1 Season</td>\n",
       "      <td>Crime TV Shows, International TV Shows, TV Act...</td>\n",
       "      <td>To protect his family from a powerful drug lor...</td>\n",
       "    </tr>\n",
       "    <tr>\n",
       "      <th>3</th>\n",
       "      <td>s4</td>\n",
       "      <td>TV Show</td>\n",
       "      <td>Jailbirds New Orleans</td>\n",
       "      <td>NaN</td>\n",
       "      <td>NaN</td>\n",
       "      <td>NaN</td>\n",
       "      <td>September 24, 2021</td>\n",
       "      <td>2021</td>\n",
       "      <td>TV-MA</td>\n",
       "      <td>1 Season</td>\n",
       "      <td>Docuseries, Reality TV</td>\n",
       "      <td>Feuds, flirtations and toilet talk go down amo...</td>\n",
       "    </tr>\n",
       "    <tr>\n",
       "      <th>4</th>\n",
       "      <td>s5</td>\n",
       "      <td>TV Show</td>\n",
       "      <td>Kota Factory</td>\n",
       "      <td>NaN</td>\n",
       "      <td>Mayur More, Jitendra Kumar, Ranjan Raj, Alam K...</td>\n",
       "      <td>India</td>\n",
       "      <td>September 24, 2021</td>\n",
       "      <td>2021</td>\n",
       "      <td>TV-MA</td>\n",
       "      <td>2 Seasons</td>\n",
       "      <td>International TV Shows, Romantic TV Shows, TV ...</td>\n",
       "      <td>In a city of coaching centers known to train I...</td>\n",
       "    </tr>\n",
       "  </tbody>\n",
       "</table>\n",
       "</div>"
      ],
      "text/plain": [
       "  show_id     type                  title         director  \\\n",
       "0      s1    Movie   Dick Johnson Is Dead  Kirsten Johnson   \n",
       "1      s2  TV Show          Blood & Water              NaN   \n",
       "2      s3  TV Show              Ganglands  Julien Leclercq   \n",
       "3      s4  TV Show  Jailbirds New Orleans              NaN   \n",
       "4      s5  TV Show           Kota Factory              NaN   \n",
       "\n",
       "                                                cast        country  \\\n",
       "0                                                NaN  United States   \n",
       "1  Ama Qamata, Khosi Ngema, Gail Mabalane, Thaban...   South Africa   \n",
       "2  Sami Bouajila, Tracy Gotoas, Samuel Jouy, Nabi...            NaN   \n",
       "3                                                NaN            NaN   \n",
       "4  Mayur More, Jitendra Kumar, Ranjan Raj, Alam K...          India   \n",
       "\n",
       "           date_added  release_year rating   duration  \\\n",
       "0  September 25, 2021          2020  PG-13     90 min   \n",
       "1  September 24, 2021          2021  TV-MA  2 Seasons   \n",
       "2  September 24, 2021          2021  TV-MA   1 Season   \n",
       "3  September 24, 2021          2021  TV-MA   1 Season   \n",
       "4  September 24, 2021          2021  TV-MA  2 Seasons   \n",
       "\n",
       "                                           listed_in  \\\n",
       "0                                      Documentaries   \n",
       "1    International TV Shows, TV Dramas, TV Mysteries   \n",
       "2  Crime TV Shows, International TV Shows, TV Act...   \n",
       "3                             Docuseries, Reality TV   \n",
       "4  International TV Shows, Romantic TV Shows, TV ...   \n",
       "\n",
       "                                         description  \n",
       "0  As her father nears the end of his life, filmm...  \n",
       "1  After crossing paths at a party, a Cape Town t...  \n",
       "2  To protect his family from a powerful drug lor...  \n",
       "3  Feuds, flirtations and toilet talk go down amo...  \n",
       "4  In a city of coaching centers known to train I...  "
      ]
     },
     "execution_count": 3,
     "metadata": {},
     "output_type": "execute_result"
    }
   ],
   "source": [
    "data.head()"
   ]
  },
  {
   "cell_type": "code",
   "execution_count": 4,
   "id": "53d3464c",
   "metadata": {},
   "outputs": [
    {
     "data": {
      "text/plain": [
       "(8807, 12)"
      ]
     },
     "execution_count": 4,
     "metadata": {},
     "output_type": "execute_result"
    }
   ],
   "source": [
    "data.shape"
   ]
  },
  {
   "cell_type": "markdown",
   "id": "e5eb976a",
   "metadata": {},
   "source": [
    "**Observation**\n",
    "- In our datasets there is 8807 Rows and 12 Columns"
   ]
  },
  {
   "cell_type": "code",
   "execution_count": 5,
   "id": "8879e7f3",
   "metadata": {},
   "outputs": [
    {
     "name": "stdout",
     "output_type": "stream",
     "text": [
      "<class 'pandas.core.frame.DataFrame'>\n",
      "RangeIndex: 8807 entries, 0 to 8806\n",
      "Data columns (total 12 columns):\n",
      " #   Column        Non-Null Count  Dtype \n",
      "---  ------        --------------  ----- \n",
      " 0   show_id       8807 non-null   object\n",
      " 1   type          8807 non-null   object\n",
      " 2   title         8807 non-null   object\n",
      " 3   director      6173 non-null   object\n",
      " 4   cast          7982 non-null   object\n",
      " 5   country       7976 non-null   object\n",
      " 6   date_added    8797 non-null   object\n",
      " 7   release_year  8807 non-null   int64 \n",
      " 8   rating        8803 non-null   object\n",
      " 9   duration      8804 non-null   object\n",
      " 10  listed_in     8807 non-null   object\n",
      " 11  description   8807 non-null   object\n",
      "dtypes: int64(1), object(11)\n",
      "memory usage: 825.8+ KB\n"
     ]
    }
   ],
   "source": [
    "data.info()"
   ]
  },
  {
   "cell_type": "markdown",
   "id": "630e1b97",
   "metadata": {},
   "source": [
    "**Observation**\n",
    "- there are 12 columns in dataset\n",
    "- In our dataset only one columns is interger "
   ]
  },
  {
   "cell_type": "code",
   "execution_count": 6,
   "id": "86555cdc",
   "metadata": {},
   "outputs": [
    {
     "data": {
      "text/plain": [
       "director        2634\n",
       "country          831\n",
       "cast             825\n",
       "date_added        10\n",
       "rating             4\n",
       "duration           3\n",
       "show_id            0\n",
       "type               0\n",
       "title              0\n",
       "release_year       0\n",
       "listed_in          0\n",
       "description        0\n",
       "dtype: int64"
      ]
     },
     "execution_count": 6,
     "metadata": {},
     "output_type": "execute_result"
    }
   ],
   "source": [
    "data.isnull().sum().sort_values(ascending=False)"
   ]
  },
  {
   "cell_type": "markdown",
   "id": "fd1ce98a",
   "metadata": {},
   "source": [
    "**Observation**\n",
    "- In our dataset 6 columns can contain null value\n",
    "- The Director columns contains higher number of Nans value as compare to other"
   ]
  },
  {
   "cell_type": "code",
   "execution_count": 7,
   "id": "a71a3596",
   "metadata": {},
   "outputs": [
    {
     "data": {
      "text/plain": [
       "show_id          0.0\n",
       "type             0.0\n",
       "title            0.0\n",
       "director        30.0\n",
       "cast             9.0\n",
       "country          9.0\n",
       "date_added       0.0\n",
       "release_year     0.0\n",
       "rating           0.0\n",
       "duration         0.0\n",
       "listed_in        0.0\n",
       "description      0.0\n",
       "dtype: float64"
      ]
     },
     "execution_count": 7,
     "metadata": {},
     "output_type": "execute_result"
    }
   ],
   "source": [
    "round(data.isnull().mean()*100,0)"
   ]
  },
  {
   "cell_type": "markdown",
   "id": "6dfb4c04",
   "metadata": {},
   "source": [
    "**Observation**\n",
    "- In Director columns 30% contain Nans value\n",
    "- In Columns cast and country contains 9% Nans value"
   ]
  },
  {
   "cell_type": "code",
   "execution_count": 8,
   "id": "45cad812",
   "metadata": {},
   "outputs": [
    {
     "data": {
      "text/plain": [
       "show_id         object\n",
       "type            object\n",
       "title           object\n",
       "director        object\n",
       "cast            object\n",
       "country         object\n",
       "date_added      object\n",
       "release_year     int64\n",
       "rating          object\n",
       "duration        object\n",
       "listed_in       object\n",
       "description     object\n",
       "dtype: object"
      ]
     },
     "execution_count": 8,
     "metadata": {},
     "output_type": "execute_result"
    }
   ],
   "source": [
    "data.dtypes"
   ]
  },
  {
   "cell_type": "markdown",
   "id": "1d9811c9",
   "metadata": {},
   "source": [
    "# Data Cleaning"
   ]
  },
  {
   "cell_type": "code",
   "execution_count": 9,
   "id": "4677b249",
   "metadata": {},
   "outputs": [],
   "source": [
    "data_clean=data.copy()"
   ]
  },
  {
   "cell_type": "code",
   "execution_count": 10,
   "id": "03994cbe",
   "metadata": {},
   "outputs": [
    {
     "data": {
      "text/plain": [
       "2634"
      ]
     },
     "execution_count": 10,
     "metadata": {},
     "output_type": "execute_result"
    }
   ],
   "source": [
    "data_clean.director.isnull().sum()"
   ]
  },
  {
   "cell_type": "code",
   "execution_count": 11,
   "id": "2a5b0a6f",
   "metadata": {},
   "outputs": [],
   "source": [
    "fill_list=data_clean['director'].dropna().tolist()\n",
    "data_clean['director']=data_clean['director'].fillna(pd.Series(np.random.choice(fill_list,size=len(data.index))))"
   ]
  },
  {
   "cell_type": "code",
   "execution_count": 12,
   "id": "4a0e2be0",
   "metadata": {},
   "outputs": [
    {
     "data": {
      "text/plain": [
       "0"
      ]
     },
     "execution_count": 12,
     "metadata": {},
     "output_type": "execute_result"
    }
   ],
   "source": [
    "data_clean.director.isnull().sum()"
   ]
  },
  {
   "cell_type": "markdown",
   "id": "0cd09100",
   "metadata": {},
   "source": [
    "**Observation**\n",
    "- After cleaning there is no Nans value in **Director** columns we randoms fill the value"
   ]
  },
  {
   "cell_type": "code",
   "execution_count": 13,
   "id": "f14ec94b",
   "metadata": {},
   "outputs": [
    {
     "data": {
      "text/plain": [
       "825"
      ]
     },
     "execution_count": 13,
     "metadata": {},
     "output_type": "execute_result"
    }
   ],
   "source": [
    "data_clean.cast.isnull().sum()"
   ]
  },
  {
   "cell_type": "code",
   "execution_count": 14,
   "id": "80a9fd71",
   "metadata": {},
   "outputs": [],
   "source": [
    "fill_list=data_clean['cast'].dropna().tolist()\n",
    "data_clean['cast']=data_clean['cast'].fillna(pd.Series(np.random.choice(fill_list, size=len(data.index))))"
   ]
  },
  {
   "cell_type": "code",
   "execution_count": 15,
   "id": "75c6c3c1",
   "metadata": {},
   "outputs": [
    {
     "data": {
      "text/plain": [
       "0"
      ]
     },
     "execution_count": 15,
     "metadata": {},
     "output_type": "execute_result"
    }
   ],
   "source": [
    "data_clean.cast.isnull().sum()"
   ]
  },
  {
   "cell_type": "markdown",
   "id": "b128c073",
   "metadata": {},
   "source": [
    "**Observation**\n",
    "- After cleaning there is no Nans value in **Cast** columns we randoms fill the value"
   ]
  },
  {
   "cell_type": "code",
   "execution_count": 16,
   "id": "59ef3cf8",
   "metadata": {},
   "outputs": [
    {
     "data": {
      "text/plain": [
       "831"
      ]
     },
     "execution_count": 16,
     "metadata": {},
     "output_type": "execute_result"
    }
   ],
   "source": [
    "data_clean.country.isnull().sum()"
   ]
  },
  {
   "cell_type": "code",
   "execution_count": 17,
   "id": "8faf2580",
   "metadata": {},
   "outputs": [],
   "source": [
    "fill_list = data_clean['country'].dropna().tolist()\n",
    "data_clean['country'] = data_clean['country'].fillna(pd.Series(np.random.choice(fill_list , size = len(data.index))))"
   ]
  },
  {
   "cell_type": "code",
   "execution_count": 18,
   "id": "886dc23d",
   "metadata": {},
   "outputs": [
    {
     "data": {
      "text/plain": [
       "0"
      ]
     },
     "execution_count": 18,
     "metadata": {},
     "output_type": "execute_result"
    }
   ],
   "source": [
    "data_clean.country.isnull().sum()"
   ]
  },
  {
   "cell_type": "markdown",
   "id": "cf579efb",
   "metadata": {},
   "source": [
    "**Observation**\n",
    "- After cleaning there is no Nans value in **Country** columns we randoms fill the value"
   ]
  },
  {
   "cell_type": "code",
   "execution_count": 19,
   "id": "c16d78d4",
   "metadata": {},
   "outputs": [
    {
     "data": {
      "text/plain": [
       "10"
      ]
     },
     "execution_count": 19,
     "metadata": {},
     "output_type": "execute_result"
    }
   ],
   "source": [
    "data_clean.date_added.isnull().sum()"
   ]
  },
  {
   "cell_type": "code",
   "execution_count": 20,
   "id": "e4c043ed",
   "metadata": {},
   "outputs": [],
   "source": [
    "data_clean['date_added']=data_clean['date_added'].fillna(method='ffill')"
   ]
  },
  {
   "cell_type": "code",
   "execution_count": 21,
   "id": "7c4b7622",
   "metadata": {},
   "outputs": [
    {
     "data": {
      "text/plain": [
       "0"
      ]
     },
     "execution_count": 21,
     "metadata": {},
     "output_type": "execute_result"
    }
   ],
   "source": [
    "data_clean.date_added.isnull().sum()"
   ]
  },
  {
   "cell_type": "markdown",
   "id": "63217f5b",
   "metadata": {},
   "source": [
    "**Observation**\n",
    "- After cleaning there is no Nans value in **Data_added** columns we randoms fill the value"
   ]
  },
  {
   "cell_type": "code",
   "execution_count": 22,
   "id": "23fc2967",
   "metadata": {},
   "outputs": [
    {
     "data": {
      "text/plain": [
       "4"
      ]
     },
     "execution_count": 22,
     "metadata": {},
     "output_type": "execute_result"
    }
   ],
   "source": [
    "data_clean.rating.isnull().sum()"
   ]
  },
  {
   "cell_type": "code",
   "execution_count": 23,
   "id": "2a05d773",
   "metadata": {},
   "outputs": [],
   "source": [
    "data_clean['rating'].replace(to_replace=np.nan, value=\"Not_rating\",inplace=True)"
   ]
  },
  {
   "cell_type": "code",
   "execution_count": 24,
   "id": "36cbc8a8",
   "metadata": {},
   "outputs": [
    {
     "data": {
      "text/plain": [
       "0"
      ]
     },
     "execution_count": 24,
     "metadata": {},
     "output_type": "execute_result"
    }
   ],
   "source": [
    "data_clean.rating.isnull().sum()"
   ]
  },
  {
   "cell_type": "markdown",
   "id": "2b8d0f49",
   "metadata": {},
   "source": [
    "**Observation**\n",
    "- After cleaning there is no Nans value in **rating** columns we randoms fill the value"
   ]
  },
  {
   "cell_type": "code",
   "execution_count": 25,
   "id": "63d2ad4d",
   "metadata": {},
   "outputs": [
    {
     "data": {
      "text/plain": [
       "3"
      ]
     },
     "execution_count": 25,
     "metadata": {},
     "output_type": "execute_result"
    }
   ],
   "source": [
    "data_clean['duration'].isnull().sum()\n"
   ]
  },
  {
   "cell_type": "code",
   "execution_count": 26,
   "id": "f51d63a4",
   "metadata": {},
   "outputs": [],
   "source": [
    "data_clean['duration']= data_clean['duration'].fillna(method=\"ffill\")\n"
   ]
  },
  {
   "cell_type": "code",
   "execution_count": 27,
   "id": "7028ac7f",
   "metadata": {},
   "outputs": [
    {
     "data": {
      "text/plain": [
       "0"
      ]
     },
     "execution_count": 27,
     "metadata": {},
     "output_type": "execute_result"
    }
   ],
   "source": [
    "data_clean['duration'].isnull().sum()\n"
   ]
  },
  {
   "cell_type": "markdown",
   "id": "7e5a78c6",
   "metadata": {},
   "source": [
    "**Observation**\n",
    "- After cleaning there is no Nans value in **duration** columns we randoms fill the value"
   ]
  },
  {
   "cell_type": "code",
   "execution_count": 28,
   "id": "3d9daa58",
   "metadata": {},
   "outputs": [
    {
     "data": {
      "text/plain": [
       "show_id         0\n",
       "type            0\n",
       "title           0\n",
       "director        0\n",
       "cast            0\n",
       "country         0\n",
       "date_added      0\n",
       "release_year    0\n",
       "rating          0\n",
       "duration        0\n",
       "listed_in       0\n",
       "description     0\n",
       "dtype: int64"
      ]
     },
     "execution_count": 28,
     "metadata": {},
     "output_type": "execute_result"
    }
   ],
   "source": [
    "data_clean.isnull().sum()"
   ]
  },
  {
   "cell_type": "markdown",
   "id": "43d8b479",
   "metadata": {},
   "source": [
    "**Observation**\n",
    "- So Now, our dataset is **100% Clean**"
   ]
  },
  {
   "cell_type": "markdown",
   "id": "38e3d044",
   "metadata": {},
   "source": [
    "# Data Encoding"
   ]
  },
  {
   "cell_type": "code",
   "execution_count": 29,
   "id": "44485453",
   "metadata": {},
   "outputs": [],
   "source": [
    "data_encode=data_clean.copy()"
   ]
  },
  {
   "cell_type": "code",
   "execution_count": 30,
   "id": "84f5fd8f",
   "metadata": {},
   "outputs": [],
   "source": [
    "data_encode['date_added']=pd.to_datetime(data_encode['date_added'])\n",
    "data_encode['year_added']=pd.DatetimeIndex(data_encode['date_added']).year\n",
    "data_encode['month_added'] = data_encode['date_added'].dt.month"
   ]
  },
  {
   "cell_type": "code",
   "execution_count": 31,
   "id": "51231300",
   "metadata": {},
   "outputs": [],
   "source": [
    "data_encode['year_added']=data_encode['year_added'].astype(int)\n",
    "data_encode['month_added']=data_encode['month_added'].astype(int)"
   ]
  },
  {
   "cell_type": "code",
   "execution_count": 32,
   "id": "6716e156",
   "metadata": {},
   "outputs": [
    {
     "name": "stdout",
     "output_type": "stream",
     "text": [
      "<class 'pandas.core.frame.DataFrame'>\n",
      "RangeIndex: 8807 entries, 0 to 8806\n",
      "Data columns (total 14 columns):\n",
      " #   Column        Non-Null Count  Dtype         \n",
      "---  ------        --------------  -----         \n",
      " 0   show_id       8807 non-null   object        \n",
      " 1   type          8807 non-null   object        \n",
      " 2   title         8807 non-null   object        \n",
      " 3   director      8807 non-null   object        \n",
      " 4   cast          8807 non-null   object        \n",
      " 5   country       8807 non-null   object        \n",
      " 6   date_added    8807 non-null   datetime64[ns]\n",
      " 7   release_year  8807 non-null   int64         \n",
      " 8   rating        8807 non-null   object        \n",
      " 9   duration      8807 non-null   object        \n",
      " 10  listed_in     8807 non-null   object        \n",
      " 11  description   8807 non-null   object        \n",
      " 12  year_added    8807 non-null   int32         \n",
      " 13  month_added   8807 non-null   int32         \n",
      "dtypes: datetime64[ns](1), int32(2), int64(1), object(10)\n",
      "memory usage: 894.6+ KB\n"
     ]
    }
   ],
   "source": [
    "data_encode.info()"
   ]
  },
  {
   "cell_type": "markdown",
   "id": "15744f25",
   "metadata": {},
   "source": [
    "# EDA"
   ]
  },
  {
   "cell_type": "code",
   "execution_count": 33,
   "id": "48088226",
   "metadata": {},
   "outputs": [],
   "source": [
    "eda=data_encode.copy()"
   ]
  },
  {
   "cell_type": "code",
   "execution_count": 34,
   "id": "9ccd83e7",
   "metadata": {},
   "outputs": [
    {
     "data": {
      "text/plain": [
       "Movie      6131\n",
       "TV Show    2676\n",
       "Name: type, dtype: int64"
      ]
     },
     "execution_count": 34,
     "metadata": {},
     "output_type": "execute_result"
    }
   ],
   "source": [
    "eda['type'].value_counts()"
   ]
  },
  {
   "cell_type": "code",
   "execution_count": 64,
   "id": "31174593",
   "metadata": {},
   "outputs": [
    {
     "data": {
      "text/plain": [
       "<matplotlib.legend.Legend at 0x16e47bff4f0>"
      ]
     },
     "execution_count": 64,
     "metadata": {},
     "output_type": "execute_result"
    },
    {
     "data": {
      "image/png": "[encoded data removed]",
      "text/plain": [
       "<Figure size 864x432 with 2 Axes>"
      ]
     },
     "metadata": {},
     "output_type": "display_data"
    }
   ],
   "source": [
    "plt.figure(figsize=(12,6))\n",
    "plt.subplot(1,2,1)\n",
    "sns.countplot(data=eda,x=eda['type'])\n",
    "plt.title(\"Movie & TV SHOW\")\n",
    "\n",
    "plt.subplot(1,2,2)\n",
    "eda['type'].value_counts().plot(kind='pie',autopct='%.1f%%')\n",
    "plt.title(\"Movie & TV SHOW\")\n",
    "plt.legend()"
   ]
  },
  {
   "cell_type": "markdown",
   "id": "564da960",
   "metadata": {},
   "source": [
    "**Observation**\n",
    "- The Movie is About 70%\n",
    "- The Tv Show is About 30%"
   ]
  },
  {
   "cell_type": "code",
   "execution_count": 36,
   "id": "d882e7e2",
   "metadata": {},
   "outputs": [
    {
     "data": {
      "text/plain": [
       "Text(0.5, 1.0, 'Which years has more movie and TV shows Relased')"
      ]
     },
     "execution_count": 36,
     "metadata": {},
     "output_type": "execute_result"
    },
    {
     "data": {
      "image/png": "[encoded data removed]",
      "text/plain": [
       "<Figure size 864x432 with 1 Axes>"
      ]
     },
     "metadata": {
      "needs_background": "light"
     },
     "output_type": "display_data"
    },
    {
     "data": {
      "image/png": "[encoded data removed]",
      "text/plain": [
       "<Figure size 864x432 with 1 Axes>"
      ]
     },
     "metadata": {
      "needs_background": "light"
     },
     "output_type": "display_data"
    }
   ],
   "source": [
    "plt.figure(figsize=(12,6))\n",
    "sns.countplot(data=eda,x=eda['year_added'],hue=eda['type'],palette='mako'\n",
    "              ,order=eda['year_added'].value_counts().index[0:10])\n",
    "plt.title(\"Which year has more movie and TV show are added\",fontsize=20)\n",
    "\n",
    "plt.figure(figsize=(12,6))\n",
    "sns.countplot(data=eda,x=eda['release_year'],hue=eda['type'],\n",
    "              order=eda['release_year'].value_counts().index[0:10],palette='mako')\n",
    "plt.title(\"Which years has more movie and TV shows Relased\",fontsize=20)"
   ]
  },
  {
   "cell_type": "markdown",
   "id": "96f061f9",
   "metadata": {},
   "source": [
    "**Observation**\n",
    "- In 2019 both Movie and Tv Show are added more\n",
    "- In 2018 both Movie and Tv Show are relased more"
   ]
  },
  {
   "cell_type": "code",
   "execution_count": 75,
   "id": "28886844",
   "metadata": {},
   "outputs": [
    {
     "data": {
      "text/plain": [
       "Text(0.5, 1.0, 'Top 10 Directors Name')"
      ]
     },
     "execution_count": 75,
     "metadata": {},
     "output_type": "execute_result"
    },
    {
     "data": {
      "image/png": "[encoded data removed]",
      "text/plain": [
       "<Figure size 1440x720 with 1 Axes>"
      ]
     },
     "metadata": {},
     "output_type": "display_data"
    }
   ],
   "source": [
    "plt.figure(figsize=(20 ,10 ))\n",
    "sns.countplot(data = eda , x =eda['director'] ,order=eda['director'].value_counts().index[0:10])\n",
    "plt.title(\"Top 10 Directors Name\",fontsize=20)"
   ]
  },
  {
   "cell_type": "markdown",
   "id": "3c2f47fe",
   "metadata": {},
   "source": [
    "**Observation**\n",
    "- In Top_Ten_Director the **Rajiv Chailka** produced more number of movie"
   ]
  },
  {
   "cell_type": "code",
   "execution_count": 38,
   "id": "8924b1e1",
   "metadata": {},
   "outputs": [],
   "source": [
    "top_ten_director=eda['director'].value_counts().index[0:10]"
   ]
  },
  {
   "cell_type": "code",
   "execution_count": 39,
   "id": "8b047031",
   "metadata": {},
   "outputs": [
    {
     "data": {
      "text/plain": [
       "Text(0.5, 1.0, 'Which country has more Movies and TV shows')"
      ]
     },
     "execution_count": 39,
     "metadata": {},
     "output_type": "execute_result"
    },
    {
     "data": {
      "image/png": "[encoded data removed]",
      "text/plain": [
       "<Figure size 864x432 with 1 Axes>"
      ]
     },
     "metadata": {
      "needs_background": "light"
     },
     "output_type": "display_data"
    }
   ],
   "source": [
    "plt.figure(figsize=(12,6))\n",
    "sns.countplot(data=eda,x=eda['country'],hue=eda['type'],order=eda['country'].value_counts().index[0:10])\n",
    "plt.title(\"Which country has more Movies and TV shows\",fontsize=20)"
   ]
  },
  {
   "cell_type": "markdown",
   "id": "b3893514",
   "metadata": {},
   "source": [
    "**Observation**\n",
    "- The country which maximum number of Movie and TV Show is **United States**"
   ]
  },
  {
   "cell_type": "code",
   "execution_count": 40,
   "id": "a7abfbc5",
   "metadata": {},
   "outputs": [
    {
     "data": {
      "text/plain": [
       "Text(0.5, 1.0, 'Which Month  has more Movies and TV shows Added')"
      ]
     },
     "execution_count": 40,
     "metadata": {},
     "output_type": "execute_result"
    },
    {
     "data": {
      "image/png": "[encoded data removed]",
      "text/plain": [
       "<Figure size 864x432 with 1 Axes>"
      ]
     },
     "metadata": {
      "needs_background": "light"
     },
     "output_type": "display_data"
    }
   ],
   "source": [
    "plt.figure(figsize=(12,6))\n",
    "sns.countplot(data=eda,x=eda['month_added'],hue=eda['type'],order=eda['month_added'].value_counts().index[0:10])\n",
    "plt.title(\"Which Month  has more Movies and TV shows Added\",fontsize=20)"
   ]
  },
  {
   "cell_type": "markdown",
   "id": "0999e5a2",
   "metadata": {},
   "source": [
    "**Observation**\n",
    "- Maximum movie added in **July Month** and maximum TV Show is added in **July & Dec**\n",
    "- Minimum movie added in **June Month** and minimum TV Show is added in **January**\n"
   ]
  },
  {
   "cell_type": "code",
   "execution_count": 77,
   "id": "4bdea680",
   "metadata": {},
   "outputs": [
    {
     "data": {
      "text/plain": [
       "Text(0.5, 1.0, 'Rating')"
      ]
     },
     "execution_count": 77,
     "metadata": {},
     "output_type": "execute_result"
    },
    {
     "data": {
      "image/png": "[encoded data removed]",
      "text/plain": [
       "<Figure size 864x432 with 1 Axes>"
      ]
     },
     "metadata": {},
     "output_type": "display_data"
    }
   ],
   "source": [
    "plt.figure(figsize = (12,6))\n",
    "sns.countplot(x=eda['rating'],data = eda,palette='mako')\n",
    "plt.title(\"Rating\",fontsize=20)"
   ]
  },
  {
   "cell_type": "markdown",
   "id": "54a1bad6",
   "metadata": {},
   "source": [
    "**Observation**\n",
    "- The maximum rating is **TV-MA**"
   ]
  },
  {
   "cell_type": "code",
   "execution_count": 42,
   "id": "91b9bc42",
   "metadata": {},
   "outputs": [
    {
     "data": {
      "text/plain": [
       "Text(0.5, 1.0, 'The Rating of Movie and TV-Shows')"
      ]
     },
     "execution_count": 42,
     "metadata": {},
     "output_type": "execute_result"
    },
    {
     "data": {
      "image/png": "[encoded data removed]",
      "text/plain": [
       "<Figure size 864x432 with 1 Axes>"
      ]
     },
     "metadata": {
      "needs_background": "light"
     },
     "output_type": "display_data"
    }
   ],
   "source": [
    "plt.figure(figsize=(12,6))\n",
    "sns.countplot(data=eda,x='rating',hue='type')\n",
    "plt.title(\"The Rating of Movie and TV-Shows\",fontsize=20)"
   ]
  },
  {
   "cell_type": "markdown",
   "id": "2f415ba3",
   "metadata": {},
   "source": [
    "**Observation**\n",
    "- The heighest rating of movie is: **TV-MA**\n",
    "- The minimum rating of movie is :**G**\n",
    "- The heighest rating of TV-Shows is:**TV-MA**\n",
    "- The minimum rating of TV-Shows is:**TV-G**"
   ]
  },
  {
   "cell_type": "code",
   "execution_count": 43,
   "id": "7198be0a",
   "metadata": {},
   "outputs": [
    {
     "data": {
      "text/plain": [
       "<AxesSubplot:xlabel='rating', ylabel='count'>"
      ]
     },
     "execution_count": 43,
     "metadata": {},
     "output_type": "execute_result"
    },
    {
     "data": {
      "image/png": "[encoded data removed]",
      "text/plain": [
       "<Figure size 1008x648 with 1 Axes>"
      ]
     },
     "metadata": {
      "needs_background": "light"
     },
     "output_type": "display_data"
    }
   ],
   "source": [
    "plt.figure(figsize=(14 ,9 ))\n",
    "sns.set(style='darkgrid')\n",
    "sns.countplot(data = eda , x = eda['rating'] ,hue=eda['year_added'],palette='Accent' ,order=eda['rating'].value_counts().index[0:14])"
   ]
  },
  {
   "cell_type": "markdown",
   "id": "7559cc27",
   "metadata": {},
   "source": [
    "**Conclusion**\n",
    "-  The Movie ratio is **70%**\n",
    "-  **2018** years has more movie and TV shows Relased\n",
    "-  **2019** year has more movie and TV show are added\n",
    "-  In Top_Ten_Director the **Rajiv Chailka** produced more number of movie\n",
    "-  **United States** country has more Movies and TV shows\n",
    "-  Maximum movie added in **July Month** and maximum TV Show is added in **July & Dec**\n",
    "-  Minimum movie added in **June Month** and minimum TV Show is added in **January**\n",
    "-  The heighest rating of movie is: **TV-MA**\n",
    "-  The minimum rating of movie is :**G**\n",
    "-  The heighest rating of TV-Shows is:**TV-MA**\n",
    "-  The minimum rating of TV-Shows is:**TV-G**"
   ]
  },
  {
   "cell_type": "code",
   "execution_count": null,
   "id": "e15cd86e",
   "metadata": {},
   "outputs": [],
   "source": []
  }
 ],
 "metadata": {
  "kernelspec": {
   "display_name": "Python 3 (ipykernel)",
   "language": "python",
   "name": "python3"
  },
  "language_info": {
   "codemirror_mode": {
    "name": "ipython",
    "version": 3
   },
   "file_extension": ".py",
   "mimetype": "text/x-python",
   "name": "python",
   "nbconvert_exporter": "python",
   "pygments_lexer": "ipython3",
   "version": "3.9.12"
  }
 },
 "nbformat": 4,
 "nbformat_minor": 5
}
