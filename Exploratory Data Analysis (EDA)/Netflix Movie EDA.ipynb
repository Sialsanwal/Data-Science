{
 "cells": [
  {
   "cell_type": "markdown",
   "id": "2e4c499a",
   "metadata": {},
   "source": [
    "# Import Libraries"
   ]
  },
  {
   "cell_type": "code",
   "execution_count": 2,
   "id": "0c09b470",
   "metadata": {},
   "outputs": [
    {
     "data": {
      "text/html": [
       "        <script type=\"text/javascript\">\n",
       "        window.PlotlyConfig = {MathJaxConfig: 'local'};\n",
       "        if (window.MathJax) {MathJax.Hub.Config({SVG: {font: \"STIX-Web\"}});}\n",
       "        if (typeof require !== 'undefined') {\n",
       "        require.undef(\"plotly\");\n",
       "        requirejs.config({\n",
       "            paths: {\n",
       "                'plotly': ['https://cdn.plot.ly/plotly-2.9.0.min']\n",
       "            }\n",
       "        });\n",
       "        require(['plotly'], function(Plotly) {\n",
       "            window._Plotly = Plotly;\n",
       "        });\n",
       "        }\n",
       "        </script>\n",
       "        "
      ]
     },
     "metadata": {},
     "output_type": "display_data"
    },
    {
     "name": "stdout",
     "output_type": "stream",
     "text": [
      "All Libraries is Import\n"
     ]
    }
   ],
   "source": [
    "import numpy as np\n",
    "import pandas as pd\n",
    "import seaborn as sns\n",
    "import matplotlib.pyplot as plt\n",
    "import plotly.graph_objs as go\n",
    "import plotly.offline as py\n",
    "py.init_notebook_mode(connected=True)\n",
    "import plotly.tools as tls\n",
    "import plotly.figure_factory as ff\n",
    "\n",
    "from datetime import datetime\n",
    "\n",
    "import warnings\n",
    "warnings.filterwarnings(\"ignore\")\n",
    "print(\"All Libraries is Import\")"
   ]
  },
  {
   "cell_type": "code",
   "execution_count": 3,
   "id": "0591393e",
   "metadata": {},
   "outputs": [],
   "source": [
    "data=pd.read_csv('Data Sets/netflix_titles.csv')"
   ]
  },
  {
   "cell_type": "code",
   "execution_count": 4,
   "id": "5d826dcb",
   "metadata": {},
   "outputs": [
    {
     "data": {
      "text/html": [
       "<div>\n",
       "<style scoped>\n",
       "    .dataframe tbody tr th:only-of-type {\n",
       "        vertical-align: middle;\n",
       "    }\n",
       "\n",
       "    .dataframe tbody tr th {\n",
       "        vertical-align: top;\n",
       "    }\n",
       "\n",
       "    .dataframe thead th {\n",
       "        text-align: right;\n",
       "    }\n",
       "</style>\n",
       "<table border=\"1\" class=\"dataframe\">\n",
       "  <thead>\n",
       "    <tr style=\"text-align: right;\">\n",
       "      <th></th>\n",
       "      <th>show_id</th>\n",
       "      <th>type</th>\n",
       "      <th>title</th>\n",
       "      <th>director</th>\n",
       "      <th>cast</th>\n",
       "      <th>country</th>\n",
       "      <th>date_added</th>\n",
       "      <th>release_year</th>\n",
       "      <th>rating</th>\n",
       "      <th>duration</th>\n",
       "      <th>listed_in</th>\n",
       "      <th>description</th>\n",
       "    </tr>\n",
       "  </thead>\n",
       "  <tbody>\n",
       "    <tr>\n",
       "      <th>0</th>\n",
       "      <td>s1</td>\n",
       "      <td>Movie</td>\n",
       "      <td>Dick Johnson Is Dead</td>\n",
       "      <td>Kirsten Johnson</td>\n",
       "      <td>NaN</td>\n",
       "      <td>United States</td>\n",
       "      <td>September 25, 2021</td>\n",
       "      <td>2020</td>\n",
       "      <td>PG-13</td>\n",
       "      <td>90 min</td>\n",
       "      <td>Documentaries</td>\n",
       "      <td>As her father nears the end of his life, filmm...</td>\n",
       "    </tr>\n",
       "    <tr>\n",
       "      <th>1</th>\n",
       "      <td>s2</td>\n",
       "      <td>TV Show</td>\n",
       "      <td>Blood &amp; Water</td>\n",
       "      <td>NaN</td>\n",
       "      <td>Ama Qamata, Khosi Ngema, Gail Mabalane, Thaban...</td>\n",
       "      <td>South Africa</td>\n",
       "      <td>September 24, 2021</td>\n",
       "      <td>2021</td>\n",
       "      <td>TV-MA</td>\n",
       "      <td>2 Seasons</td>\n",
       "      <td>International TV Shows, TV Dramas, TV Mysteries</td>\n",
       "      <td>After crossing paths at a party, a Cape Town t...</td>\n",
       "    </tr>\n",
       "    <tr>\n",
       "      <th>2</th>\n",
       "      <td>s3</td>\n",
       "      <td>TV Show</td>\n",
       "      <td>Ganglands</td>\n",
       "      <td>Julien Leclercq</td>\n",
       "      <td>Sami Bouajila, Tracy Gotoas, Samuel Jouy, Nabi...</td>\n",
       "      <td>NaN</td>\n",
       "      <td>September 24, 2021</td>\n",
       "      <td>2021</td>\n",
       "      <td>TV-MA</td>\n",
       "      <td>1 Season</td>\n",
       "      <td>Crime TV Shows, International TV Shows, TV Act...</td>\n",
       "      <td>To protect his family from a powerful drug lor...</td>\n",
       "    </tr>\n",
       "    <tr>\n",
       "      <th>3</th>\n",
       "      <td>s4</td>\n",
       "      <td>TV Show</td>\n",
       "      <td>Jailbirds New Orleans</td>\n",
       "      <td>NaN</td>\n",
       "      <td>NaN</td>\n",
       "      <td>NaN</td>\n",
       "      <td>September 24, 2021</td>\n",
       "      <td>2021</td>\n",
       "      <td>TV-MA</td>\n",
       "      <td>1 Season</td>\n",
       "      <td>Docuseries, Reality TV</td>\n",
       "      <td>Feuds, flirtations and toilet talk go down amo...</td>\n",
       "    </tr>\n",
       "    <tr>\n",
       "      <th>4</th>\n",
       "      <td>s5</td>\n",
       "      <td>TV Show</td>\n",
       "      <td>Kota Factory</td>\n",
       "      <td>NaN</td>\n",
       "      <td>Mayur More, Jitendra Kumar, Ranjan Raj, Alam K...</td>\n",
       "      <td>India</td>\n",
       "      <td>September 24, 2021</td>\n",
       "      <td>2021</td>\n",
       "      <td>TV-MA</td>\n",
       "      <td>2 Seasons</td>\n",
       "      <td>International TV Shows, Romantic TV Shows, TV ...</td>\n",
       "      <td>In a city of coaching centers known to train I...</td>\n",
       "    </tr>\n",
       "  </tbody>\n",
       "</table>\n",
       "</div>"
      ],
      "text/plain": [
       "  show_id     type                  title         director  \\\n",
       "0      s1    Movie   Dick Johnson Is Dead  Kirsten Johnson   \n",
       "1      s2  TV Show          Blood & Water              NaN   \n",
       "2      s3  TV Show              Ganglands  Julien Leclercq   \n",
       "3      s4  TV Show  Jailbirds New Orleans              NaN   \n",
       "4      s5  TV Show           Kota Factory              NaN   \n",
       "\n",
       "                                                cast        country  \\\n",
       "0                                                NaN  United States   \n",
       "1  Ama Qamata, Khosi Ngema, Gail Mabalane, Thaban...   South Africa   \n",
       "2  Sami Bouajila, Tracy Gotoas, Samuel Jouy, Nabi...            NaN   \n",
       "3                                                NaN            NaN   \n",
       "4  Mayur More, Jitendra Kumar, Ranjan Raj, Alam K...          India   \n",
       "\n",
       "           date_added  release_year rating   duration  \\\n",
       "0  September 25, 2021          2020  PG-13     90 min   \n",
       "1  September 24, 2021          2021  TV-MA  2 Seasons   \n",
       "2  September 24, 2021          2021  TV-MA   1 Season   \n",
       "3  September 24, 2021          2021  TV-MA   1 Season   \n",
       "4  September 24, 2021          2021  TV-MA  2 Seasons   \n",
       "\n",
       "                                           listed_in  \\\n",
       "0                                      Documentaries   \n",
       "1    International TV Shows, TV Dramas, TV Mysteries   \n",
       "2  Crime TV Shows, International TV Shows, TV Act...   \n",
       "3                             Docuseries, Reality TV   \n",
       "4  International TV Shows, Romantic TV Shows, TV ...   \n",
       "\n",
       "                                         description  \n",
       "0  As her father nears the end of his life, filmm...  \n",
       "1  After crossing paths at a party, a Cape Town t...  \n",
       "2  To protect his family from a powerful drug lor...  \n",
       "3  Feuds, flirtations and toilet talk go down amo...  \n",
       "4  In a city of coaching centers known to train I...  "
      ]
     },
     "execution_count": 4,
     "metadata": {},
     "output_type": "execute_result"
    }
   ],
   "source": [
    "data.head()"
   ]
  },
  {
   "cell_type": "code",
   "execution_count": 5,
   "id": "8f3ee802",
   "metadata": {},
   "outputs": [
    {
     "data": {
      "text/plain": [
       "(8807, 12)"
      ]
     },
     "execution_count": 5,
     "metadata": {},
     "output_type": "execute_result"
    }
   ],
   "source": [
    "data.shape"
   ]
  },
  {
   "cell_type": "markdown",
   "id": "7bebcc62",
   "metadata": {},
   "source": [
    "**Observation**\n",
    "- In our datasets there is 8807 Rows and 12 Columns"
   ]
  },
  {
   "cell_type": "code",
   "execution_count": 6,
   "id": "20430c3a",
   "metadata": {},
   "outputs": [
    {
     "name": "stdout",
     "output_type": "stream",
     "text": [
      "<class 'pandas.core.frame.DataFrame'>\n",
      "RangeIndex: 8807 entries, 0 to 8806\n",
      "Data columns (total 12 columns):\n",
      " #   Column        Non-Null Count  Dtype \n",
      "---  ------        --------------  ----- \n",
      " 0   show_id       8807 non-null   object\n",
      " 1   type          8807 non-null   object\n",
      " 2   title         8807 non-null   object\n",
      " 3   director      6173 non-null   object\n",
      " 4   cast          7982 non-null   object\n",
      " 5   country       7976 non-null   object\n",
      " 6   date_added    8797 non-null   object\n",
      " 7   release_year  8807 non-null   int64 \n",
      " 8   rating        8803 non-null   object\n",
      " 9   duration      8804 non-null   object\n",
      " 10  listed_in     8807 non-null   object\n",
      " 11  description   8807 non-null   object\n",
      "dtypes: int64(1), object(11)\n",
      "memory usage: 825.8+ KB\n"
     ]
    }
   ],
   "source": [
    "data.info()"
   ]
  },
  {
   "cell_type": "markdown",
   "id": "bff44c05",
   "metadata": {},
   "source": [
    "**Observation**\n",
    "- there are 12 columns in dataset\n",
    "- In our dataset only one columns is interger "
   ]
  },
  {
   "cell_type": "code",
   "execution_count": 42,
   "id": "6c616f75",
   "metadata": {},
   "outputs": [
    {
     "data": {
      "text/plain": [
       "director        2634\n",
       "country          831\n",
       "cast             825\n",
       "date_added        10\n",
       "rating             4\n",
       "duration           3\n",
       "show_id            0\n",
       "type               0\n",
       "title              0\n",
       "release_year       0\n",
       "listed_in          0\n",
       "description        0\n",
       "dtype: int64"
      ]
     },
     "execution_count": 42,
     "metadata": {},
     "output_type": "execute_result"
    }
   ],
   "source": [
    "data.isnull().sum().sort_values(ascending=False)"
   ]
  },
  {
   "cell_type": "markdown",
   "id": "e1e38fde",
   "metadata": {},
   "source": [
    "**Observation**\n",
    "- In our dataset 6 columns can contain null value\n",
    "- The Director columns contains higher number of Nans value as compare to other"
   ]
  },
  {
   "cell_type": "code",
   "execution_count": 20,
   "id": "59dd0506",
   "metadata": {},
   "outputs": [
    {
     "data": {
      "text/plain": [
       "show_id          0.0\n",
       "type             0.0\n",
       "title            0.0\n",
       "director        30.0\n",
       "cast             9.0\n",
       "country          9.0\n",
       "date_added       0.0\n",
       "release_year     0.0\n",
       "rating           0.0\n",
       "duration         0.0\n",
       "listed_in        0.0\n",
       "description      0.0\n",
       "dtype: float64"
      ]
     },
     "execution_count": 20,
     "metadata": {},
     "output_type": "execute_result"
    }
   ],
   "source": [
    "round(data.isnull().mean()*100,0)"
   ]
  },
  {
   "cell_type": "markdown",
   "id": "35eb75fc",
   "metadata": {},
   "source": [
    "**Observation**\n",
    "- In Director columns 30% contain Nans value\n",
    "- In Columns cast and country contains 9% Nans value"
   ]
  },
  {
   "cell_type": "code",
   "execution_count": 22,
   "id": "585f6052",
   "metadata": {},
   "outputs": [
    {
     "data": {
      "text/plain": [
       "show_id         object\n",
       "type            object\n",
       "title           object\n",
       "director        object\n",
       "cast            object\n",
       "country         object\n",
       "date_added      object\n",
       "release_year     int64\n",
       "rating          object\n",
       "duration        object\n",
       "listed_in       object\n",
       "description     object\n",
       "dtype: object"
      ]
     },
     "execution_count": 22,
     "metadata": {},
     "output_type": "execute_result"
    }
   ],
   "source": [
    "data.dtypes"
   ]
  },
  {
   "cell_type": "markdown",
   "id": "1e731451",
   "metadata": {},
   "source": [
    "# Data Cleaning"
   ]
  },
  {
   "cell_type": "code",
   "execution_count": 35,
   "id": "ffc6b4db",
   "metadata": {},
   "outputs": [],
   "source": [
    "data_clean=data.copy()"
   ]
  },
  {
   "cell_type": "code",
   "execution_count": 36,
   "id": "a0eff78b",
   "metadata": {},
   "outputs": [
    {
     "data": {
      "text/plain": [
       "2634"
      ]
     },
     "execution_count": 36,
     "metadata": {},
     "output_type": "execute_result"
    }
   ],
   "source": [
    "data_clean.director.isnull().sum()"
   ]
  },
  {
   "cell_type": "code",
   "execution_count": 37,
   "id": "85043101",
   "metadata": {},
   "outputs": [],
   "source": [
    "fill_list=data_clean['director'].dropna().tolist()\n",
    "data_clean['director']=data_clean['director'].fillna(pd.Series(np.random.choice(fill_list,size=len(data.index))))"
   ]
  },
  {
   "cell_type": "code",
   "execution_count": 40,
   "id": "f01a66f8",
   "metadata": {},
   "outputs": [
    {
     "data": {
      "text/plain": [
       "0"
      ]
     },
     "execution_count": 40,
     "metadata": {},
     "output_type": "execute_result"
    }
   ],
   "source": [
    "data_clean.director.isnull().sum()"
   ]
  },
  {
   "cell_type": "markdown",
   "id": "457324b9",
   "metadata": {},
   "source": [
    "**Observation**\n",
    "- After cleaning there is no Nans value in **Director** columns we randoms fill the value"
   ]
  },
  {
   "cell_type": "code",
   "execution_count": 43,
   "id": "b5cfdacb",
   "metadata": {},
   "outputs": [
    {
     "data": {
      "text/plain": [
       "825"
      ]
     },
     "execution_count": 43,
     "metadata": {},
     "output_type": "execute_result"
    }
   ],
   "source": [
    "data_clean.cast.isnull().sum()"
   ]
  },
  {
   "cell_type": "code",
   "execution_count": 44,
   "id": "91d1df14",
   "metadata": {},
   "outputs": [],
   "source": [
    "fill_list=data_clean['cast'].dropna().tolist()\n",
    "data_clean['cast']=data_clean['cast'].fillna(pd.Series(np.random.choice(fill_list, size=len(data.index))))"
   ]
  },
  {
   "cell_type": "code",
   "execution_count": 46,
   "id": "4c1b259c",
   "metadata": {},
   "outputs": [
    {
     "data": {
      "text/plain": [
       "0"
      ]
     },
     "execution_count": 46,
     "metadata": {},
     "output_type": "execute_result"
    }
   ],
   "source": [
    "data_clean.cast.isnull().sum()"
   ]
  },
  {
   "cell_type": "markdown",
   "id": "c454a637",
   "metadata": {},
   "source": [
    "**Observation**\n",
    "- After cleaning there is no Nans value in **Cast** columns we randoms fill the value"
   ]
  },
  {
   "cell_type": "code",
   "execution_count": 47,
   "id": "cc975849",
   "metadata": {},
   "outputs": [
    {
     "data": {
      "text/plain": [
       "831"
      ]
     },
     "execution_count": 47,
     "metadata": {},
     "output_type": "execute_result"
    }
   ],
   "source": [
    "data_clean.country.isnull().sum()"
   ]
  },
  {
   "cell_type": "code",
   "execution_count": 48,
   "id": "d47b3f48",
   "metadata": {},
   "outputs": [],
   "source": [
    "fill_list = data_clean['country'].dropna().tolist()\n",
    "data_clean['country'] = data_clean['country'].fillna(pd.Series(np.random.choice(fill_list , size = len(data.index))))"
   ]
  },
  {
   "cell_type": "code",
   "execution_count": 50,
   "id": "1d115418",
   "metadata": {},
   "outputs": [
    {
     "data": {
      "text/plain": [
       "0"
      ]
     },
     "execution_count": 50,
     "metadata": {},
     "output_type": "execute_result"
    }
   ],
   "source": [
    "data_clean.country.isnull().sum()"
   ]
  },
  {
   "cell_type": "markdown",
   "id": "183d2b0a",
   "metadata": {},
   "source": [
    "**Observation**\n",
    "- After cleaning there is no Nans value in **Country** columns we randoms fill the value"
   ]
  },
  {
   "cell_type": "code",
   "execution_count": 51,
   "id": "29c7e6de",
   "metadata": {},
   "outputs": [
    {
     "data": {
      "text/plain": [
       "10"
      ]
     },
     "execution_count": 51,
     "metadata": {},
     "output_type": "execute_result"
    }
   ],
   "source": [
    "data_clean.date_added.isnull().sum()"
   ]
  },
  {
   "cell_type": "code",
   "execution_count": 52,
   "id": "e4bae42f",
   "metadata": {},
   "outputs": [],
   "source": [
    "data_clean['date_added']=data_clean['date_added'].fillna(method='ffill')"
   ]
  },
  {
   "cell_type": "code",
   "execution_count": 53,
   "id": "b032b517",
   "metadata": {},
   "outputs": [
    {
     "data": {
      "text/plain": [
       "0"
      ]
     },
     "execution_count": 53,
     "metadata": {},
     "output_type": "execute_result"
    }
   ],
   "source": [
    "data_clean.date_added.isnull().sum()"
   ]
  },
  {
   "cell_type": "markdown",
   "id": "26d5d830",
   "metadata": {},
   "source": [
    "**Observation**\n",
    "- After cleaning there is no Nans value in **Data_added** columns we randoms fill the value"
   ]
  },
  {
   "cell_type": "code",
   "execution_count": 55,
   "id": "cdf48528",
   "metadata": {},
   "outputs": [
    {
     "data": {
      "text/plain": [
       "4"
      ]
     },
     "execution_count": 55,
     "metadata": {},
     "output_type": "execute_result"
    }
   ],
   "source": [
    "data_clean.rating.isnull().sum()"
   ]
  },
  {
   "cell_type": "code",
   "execution_count": 58,
   "id": "b9dd5bbc",
   "metadata": {},
   "outputs": [],
   "source": [
    "data_clean['rating'].replace(to_replace=np.nan, value=\"Not_rating\",inplace=True)"
   ]
  },
  {
   "cell_type": "code",
   "execution_count": 59,
   "id": "0e4c20ac",
   "metadata": {},
   "outputs": [
    {
     "data": {
      "text/plain": [
       "0"
      ]
     },
     "execution_count": 59,
     "metadata": {},
     "output_type": "execute_result"
    }
   ],
   "source": [
    "data_clean.rating.isnull().sum()"
   ]
  },
  {
   "cell_type": "markdown",
   "id": "5f3e3f09",
   "metadata": {},
   "source": [
    "**Observation**\n",
    "- After cleaning there is no Nans value in **rating** columns we randoms fill the value"
   ]
  },
  {
   "cell_type": "code",
   "execution_count": 62,
   "id": "fcaf96e6",
   "metadata": {},
   "outputs": [
    {
     "data": {
      "text/plain": [
       "3"
      ]
     },
     "execution_count": 62,
     "metadata": {},
     "output_type": "execute_result"
    }
   ],
   "source": [
    "data_clean['duration'].isnull().sum()\n"
   ]
  },
  {
   "cell_type": "code",
   "execution_count": 63,
   "id": "7ff2d221",
   "metadata": {},
   "outputs": [],
   "source": [
    "data_clean['duration']= data_clean['duration'].fillna(method=\"ffill\")\n"
   ]
  },
  {
   "cell_type": "code",
   "execution_count": 64,
   "id": "b12ab897",
   "metadata": {},
   "outputs": [
    {
     "data": {
      "text/plain": [
       "0"
      ]
     },
     "execution_count": 64,
     "metadata": {},
     "output_type": "execute_result"
    }
   ],
   "source": [
    "data_clean['duration'].isnull().sum()\n"
   ]
  },
  {
   "cell_type": "markdown",
   "id": "5a855d1c",
   "metadata": {},
   "source": [
    "**Observation**\n",
    "- After cleaning there is no Nans value in **duration** columns we randoms fill the value"
   ]
  },
  {
   "cell_type": "code",
   "execution_count": 65,
   "id": "edbfeba1",
   "metadata": {},
   "outputs": [
    {
     "data": {
      "text/plain": [
       "show_id         0\n",
       "type            0\n",
       "title           0\n",
       "director        0\n",
       "cast            0\n",
       "country         0\n",
       "date_added      0\n",
       "release_year    0\n",
       "rating          0\n",
       "duration        0\n",
       "listed_in       0\n",
       "description     0\n",
       "dtype: int64"
      ]
     },
     "execution_count": 65,
     "metadata": {},
     "output_type": "execute_result"
    }
   ],
   "source": [
    "data_clean.isnull().sum()"
   ]
  },
  {
   "cell_type": "markdown",
   "id": "71a862ad",
   "metadata": {},
   "source": [
    "**Observation**\n",
    "- So Now, our dataset is **100% Clean**"
   ]
  },
  {
   "cell_type": "markdown",
   "id": "c3cd8949",
   "metadata": {},
   "source": [
    "# Data Encoding"
   ]
  },
  {
   "cell_type": "code",
   "execution_count": 66,
   "id": "ef8eeda8",
   "metadata": {},
   "outputs": [],
   "source": [
    "data_encode=data_clean.copy()"
   ]
  },
  {
   "cell_type": "code",
   "execution_count": 76,
   "id": "8f6b92f8",
   "metadata": {},
   "outputs": [],
   "source": [
    "data_encode['date_added']=pd.to_datetime(data_encode['date_added'])\n",
    "data_encode['year_added']=pd.DatetimeIndex(data_encode['date_added']).year\n",
    "data_encode['month_added'] = data_encode['date_added'].dt.month"
   ]
  },
  {
   "cell_type": "code",
   "execution_count": 78,
   "id": "3aaa7092",
   "metadata": {},
   "outputs": [],
   "source": [
    "data_encode['year_added']=data_encode['year_added'].astype(int)\n",
    "data_encode['month_added']=data_encode['month_added'].astype(int)"
   ]
  },
  {
   "cell_type": "code",
   "execution_count": 79,
   "id": "a17fa2c1",
   "metadata": {},
   "outputs": [
    {
     "name": "stdout",
     "output_type": "stream",
     "text": [
      "<class 'pandas.core.frame.DataFrame'>\n",
      "RangeIndex: 8807 entries, 0 to 8806\n",
      "Data columns (total 14 columns):\n",
      " #   Column        Non-Null Count  Dtype         \n",
      "---  ------        --------------  -----         \n",
      " 0   show_id       8807 non-null   object        \n",
      " 1   type          8807 non-null   object        \n",
      " 2   title         8807 non-null   object        \n",
      " 3   director      8807 non-null   object        \n",
      " 4   cast          8807 non-null   object        \n",
      " 5   country       8807 non-null   object        \n",
      " 6   date_added    8807 non-null   datetime64[ns]\n",
      " 7   release_year  8807 non-null   int64         \n",
      " 8   rating        8807 non-null   object        \n",
      " 9   duration      8807 non-null   object        \n",
      " 10  listed_in     8807 non-null   object        \n",
      " 11  description   8807 non-null   object        \n",
      " 12  year_added    8807 non-null   int32         \n",
      " 13  month_added   8807 non-null   int32         \n",
      "dtypes: datetime64[ns](1), int32(2), int64(1), object(10)\n",
      "memory usage: 894.6+ KB\n"
     ]
    }
   ],
   "source": [
    "data_encode.info()"
   ]
  },
  {
   "cell_type": "markdown",
   "id": "4a6679f4",
   "metadata": {},
   "source": [
    "# EDA"
   ]
  },
  {
   "cell_type": "code",
   "execution_count": 81,
   "id": "77267c80",
   "metadata": {},
   "outputs": [],
   "source": [
    "eda=data_encode.copy()"
   ]
  },
  {
   "cell_type": "code",
   "execution_count": 82,
   "id": "1b49fca8",
   "metadata": {},
   "outputs": [
    {
     "data": {
      "text/plain": [
       "Movie      6131\n",
       "TV Show    2676\n",
       "Name: type, dtype: int64"
      ]
     },
     "execution_count": 82,
     "metadata": {},
     "output_type": "execute_result"
    }
   ],
   "source": [
    "eda['type'].value_counts()"
   ]
  },
  {
   "cell_type": "code",
   "execution_count": 90,
   "id": "88b4e6e2",
   "metadata": {},
   "outputs": [
    {
     "name": "stdout",
     "output_type": "stream",
     "text": [
      "\n"
     ]
    },
    {
     "data": {
      "text/plain": [
       "Text(0.5, 1.0, 'Type')"
      ]
     },
     "execution_count": 90,
     "metadata": {},
     "output_type": "execute_result"
    },
    {
     "data": {
      "image/png": "[encoded data removed]",
      "text/plain": [
       "<Figure size 432x288 with 1 Axes>"
      ]
     },
     "metadata": {
      "needs_background": "light"
     },
     "output_type": "display_data"
    },
    {
     "data": {
      "image/png": "[encoded data removed]",
      "text/plain": [
       "<Figure size 360x360 with 1 Axes>"
      ]
     },
     "metadata": {},
     "output_type": "display_data"
    }
   ],
   "source": [
    "sns.countplot(data=eda,x=eda['type'])\n",
    "fig=plt.figure(figsize=(5,5))\n",
    "print('')\n",
    "eda['type'].value_counts().plot(kind='pie',autopct='%.1f%%')\n",
    "plt.title(\"Type\")"
   ]
  },
  {
   "cell_type": "markdown",
   "id": "65fab2b5",
   "metadata": {},
   "source": [
    "**Observation**\n",
    "- The Movie is About 70%\n",
    "- The Tv Show is About 30%"
   ]
  },
  {
   "cell_type": "code",
   "execution_count": 120,
   "id": "c6f5b05b",
   "metadata": {},
   "outputs": [
    {
     "data": {
      "text/plain": [
       "Text(0.5, 1.0, 'Which years has more movie and TV shows Relased')"
      ]
     },
     "execution_count": 120,
     "metadata": {},
     "output_type": "execute_result"
    },
    {
     "data": {
      "image/png": "[encoded data removed]",
      "text/plain": [
       "<Figure size 864x432 with 1 Axes>"
      ]
     },
     "metadata": {},
     "output_type": "display_data"
    },
    {
     "data": {
      "image/png": "[encoded data removed]",
      "text/plain": [
       "<Figure size 864x432 with 1 Axes>"
      ]
     },
     "metadata": {},
     "output_type": "display_data"
    }
   ],
   "source": [
    "plt.figure(figsize=(12,6))\n",
    "sns.countplot(data=eda,x=eda['year_added'],hue=eda['type'],palette='mako'\n",
    "              ,order=eda['year_added'].value_counts().index[0:10])\n",
    "plt.title(\"Which year has more movie and TV show are added\",fontsize=20)\n",
    "\n",
    "plt.figure(figsize=(12,6))\n",
    "sns.countplot(data=eda,x=eda['release_year'],hue=eda['type'],\n",
    "              order=eda['release_year'].value_counts().index[0:10],palette='mako')\n",
    "plt.title(\"Which years has more movie and TV shows Relased\",fontsize=20)"
   ]
  },
  {
   "cell_type": "markdown",
   "id": "1e8769a0",
   "metadata": {},
   "source": [
    "**Observation**\n",
    "- In 2019 both Movie and Tv Show are added more\n",
    "- In 2018 both Movie and Tv Show are relased more"
   ]
  },
  {
   "cell_type": "code",
   "execution_count": 126,
   "id": "0ab90e22",
   "metadata": {},
   "outputs": [
    {
     "data": {
      "text/plain": [
       "<AxesSubplot:xlabel='director', ylabel='count'>"
      ]
     },
     "execution_count": 126,
     "metadata": {},
     "output_type": "execute_result"
    },
    {
     "data": {
      "image/png": "[encoded data removed]",
      "text/plain": [
       "<Figure size 1440x720 with 1 Axes>"
      ]
     },
     "metadata": {},
     "output_type": "display_data"
    }
   ],
   "source": [
    "plt.figure(figsize=(20 ,10 ))\n",
    "sns.countplot(data = eda , x =eda['director'] ,order=eda['director'].value_counts().index[0:10])"
   ]
  },
  {
   "cell_type": "markdown",
   "id": "804b9644",
   "metadata": {},
   "source": [
    "**Observation**\n",
    "- In Top_Ten_Director the **Rajiv Chailka** produced more number of movie"
   ]
  },
  {
   "cell_type": "code",
   "execution_count": 132,
   "id": "8bc9c3d5",
   "metadata": {},
   "outputs": [],
   "source": [
    "top_ten_director=eda['director'].value_counts().index[0:10]"
   ]
  },
  {
   "cell_type": "code",
   "execution_count": 140,
   "id": "37453285",
   "metadata": {},
   "outputs": [
    {
     "data": {
      "text/plain": [
       "Text(0.5, 1.0, 'Which country has more Movies and TV shows')"
      ]
     },
     "execution_count": 140,
     "metadata": {},
     "output_type": "execute_result"
    },
    {
     "data": {
      "image/png": "[encoded data removed]",
      "text/plain": [
       "<Figure size 864x432 with 1 Axes>"
      ]
     },
     "metadata": {},
     "output_type": "display_data"
    }
   ],
   "source": [
    "plt.figure(figsize=(12,6))\n",
    "sns.countplot(data=eda,x=eda['country'],hue=eda['type'],order=eda['country'].value_counts().index[0:10])\n",
    "plt.title(\"Which country has more Movies and TV shows\",fontsize=20)"
   ]
  },
  {
   "cell_type": "markdown",
   "id": "50c1547a",
   "metadata": {},
   "source": [
    "**Observation**\n",
    "- The country which maximum number of Movie and TV Show is **United States**"
   ]
  },
  {
   "cell_type": "code",
   "execution_count": 150,
   "id": "6e61d484",
   "metadata": {},
   "outputs": [
    {
     "data": {
      "text/plain": [
       "Text(0.5, 1.0, 'Which Month  has more Movies and TV shows Added')"
      ]
     },
     "execution_count": 150,
     "metadata": {},
     "output_type": "execute_result"
    },
    {
     "data": {
      "image/png": "[encoded data removed]",
      "text/plain": [
       "<Figure size 864x432 with 1 Axes>"
      ]
     },
     "metadata": {},
     "output_type": "display_data"
    }
   ],
   "source": [
    "plt.figure(figsize=(12,6))\n",
    "sns.countplot(data=eda,x=eda['month_added'],hue=eda['type'],order=eda['month_added'].value_counts().index[0:10])\n",
    "plt.title(\"Which Month  has more Movies and TV shows Added\",fontsize=20)"
   ]
  },
  {
   "cell_type": "markdown",
   "id": "ede5f24e",
   "metadata": {},
   "source": [
    "**Observation**\n",
    "- Maximum movie added in **July Month** and maximum TV Show is added in **July & Dec**\n",
    "- Minimum movie added in **June Month** and minimum TV Show is added in **January**\n"
   ]
  },
  {
   "cell_type": "code",
   "execution_count": 151,
   "id": "cb3e7342",
   "metadata": {},
   "outputs": [
    {
     "data": {
      "text/plain": [
       "<AxesSubplot:xlabel='rating', ylabel='count'>"
      ]
     },
     "execution_count": 151,
     "metadata": {},
     "output_type": "execute_result"
    },
    {
     "data": {
      "image/png": "[encoded data removed]",
      "text/plain": [
       "<Figure size 1152x576 with 1 Axes>"
      ]
     },
     "metadata": {},
     "output_type": "display_data"
    }
   ],
   "source": [
    "plt.figure(figsize = (16,8))\n",
    "sns.countplot(x=eda['rating'],data = eda,palette='mako')"
   ]
  },
  {
   "cell_type": "markdown",
   "id": "7d4f2c78",
   "metadata": {},
   "source": [
    "**Observation**\n",
    "- The maximum rating is **TV-MA**"
   ]
  },
  {
   "cell_type": "code",
   "execution_count": 153,
   "id": "145a63c5",
   "metadata": {},
   "outputs": [
    {
     "data": {
      "text/plain": [
       "Text(0.5, 1.0, 'The Rating of Movie and TV-Shows')"
      ]
     },
     "execution_count": 153,
     "metadata": {},
     "output_type": "execute_result"
    },
    {
     "data": {
      "image/png": "[encoded data removed]",
      "text/plain": [
       "<Figure size 864x432 with 1 Axes>"
      ]
     },
     "metadata": {},
     "output_type": "display_data"
    }
   ],
   "source": [
    "plt.figure(figsize=(12,6))\n",
    "sns.countplot(data=eda,x='rating',hue='type')\n",
    "plt.title(\"The Rating of Movie and TV-Shows\",fontsize=20)"
   ]
  },
  {
   "cell_type": "code",
   "execution_count": null,
   "id": "efcf5c2d",
   "metadata": {},
   "outputs": [],
   "source": [
    "**Observation**\n",
    "- The heighest rating of movie is: **TV-MA**\n",
    "- The minimum rating of movie is :**G**\n",
    "- The heighest rating of TV-Shows is:**"
   ]
  }
 ],
 "metadata": {
  "kernelspec": {
   "display_name": "Python 3 (ipykernel)",
   "language": "python",
   "name": "python3"
  },
  "language_info": {
   "codemirror_mode": {
    "name": "ipython",
    "version": 3
   },
   "file_extension": ".py",
   "mimetype": "text/x-python",
   "name": "python",
   "nbconvert_exporter": "python",
   "pygments_lexer": "ipython3",
   "version": "3.9.12"
  }
 },
 "nbformat": 4,
 "nbformat_minor": 5
}
