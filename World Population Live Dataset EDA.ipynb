{
 "cells": [
  {
   "cell_type": "code",
   "execution_count": 2,
   "id": "7e62620e",
   "metadata": {},
   "outputs": [],
   "source": [
    "import numpy as np \n",
    "import pandas as pd \n",
    "import matplotlib.pyplot as plt\n",
    "import seaborn as sns"
   ]
  },
  {
   "cell_type": "code",
   "execution_count": 3,
   "id": "018f6300",
   "metadata": {},
   "outputs": [
    {
     "data": {
      "text/html": [
       "<div>\n",
       "<style scoped>\n",
       "    .dataframe tbody tr th:only-of-type {\n",
       "        vertical-align: middle;\n",
       "    }\n",
       "\n",
       "    .dataframe tbody tr th {\n",
       "        vertical-align: top;\n",
       "    }\n",
       "\n",
       "    .dataframe thead th {\n",
       "        text-align: right;\n",
       "    }\n",
       "</style>\n",
       "<table border=\"1\" class=\"dataframe\">\n",
       "  <thead>\n",
       "    <tr style=\"text-align: right;\">\n",
       "      <th></th>\n",
       "      <th>CCA3</th>\n",
       "      <th>Name</th>\n",
       "      <th>2022</th>\n",
       "      <th>2020</th>\n",
       "      <th>2015</th>\n",
       "      <th>2010</th>\n",
       "      <th>2000</th>\n",
       "      <th>1990</th>\n",
       "      <th>1980</th>\n",
       "      <th>1970</th>\n",
       "      <th>Area (km²)</th>\n",
       "      <th>Density (per km²)</th>\n",
       "      <th>GrowthRate</th>\n",
       "      <th>World Population Percentage</th>\n",
       "      <th>Rank</th>\n",
       "    </tr>\n",
       "  </thead>\n",
       "  <tbody>\n",
       "    <tr>\n",
       "      <th>0</th>\n",
       "      <td>CN</td>\n",
       "      <td>China</td>\n",
       "      <td>1425887</td>\n",
       "      <td>1424930</td>\n",
       "      <td>1393715</td>\n",
       "      <td>1348191</td>\n",
       "      <td>1264099</td>\n",
       "      <td>1153704</td>\n",
       "      <td>982372</td>\n",
       "      <td>822534</td>\n",
       "      <td>9706961</td>\n",
       "      <td>146.8933</td>\n",
       "      <td>1.00</td>\n",
       "      <td>17.88%</td>\n",
       "      <td>1</td>\n",
       "    </tr>\n",
       "    <tr>\n",
       "      <th>1</th>\n",
       "      <td>IN</td>\n",
       "      <td>India</td>\n",
       "      <td>1417173</td>\n",
       "      <td>1396387</td>\n",
       "      <td>1322867</td>\n",
       "      <td>1240614</td>\n",
       "      <td>1059634</td>\n",
       "      <td>870452</td>\n",
       "      <td>696828</td>\n",
       "      <td>557501</td>\n",
       "      <td>3287590</td>\n",
       "      <td>431.0675</td>\n",
       "      <td>1.01</td>\n",
       "      <td>17.77%</td>\n",
       "      <td>2</td>\n",
       "    </tr>\n",
       "    <tr>\n",
       "      <th>2</th>\n",
       "      <td>US</td>\n",
       "      <td>United States</td>\n",
       "      <td>338290</td>\n",
       "      <td>335942</td>\n",
       "      <td>324608</td>\n",
       "      <td>311183</td>\n",
       "      <td>282399</td>\n",
       "      <td>248084</td>\n",
       "      <td>223140</td>\n",
       "      <td>200328</td>\n",
       "      <td>9372610</td>\n",
       "      <td>36.0935</td>\n",
       "      <td>1.00</td>\n",
       "      <td>4.24%</td>\n",
       "      <td>3</td>\n",
       "    </tr>\n",
       "    <tr>\n",
       "      <th>3</th>\n",
       "      <td>ID</td>\n",
       "      <td>Indonesia</td>\n",
       "      <td>275501</td>\n",
       "      <td>271858</td>\n",
       "      <td>259092</td>\n",
       "      <td>244016</td>\n",
       "      <td>214072</td>\n",
       "      <td>182160</td>\n",
       "      <td>148177</td>\n",
       "      <td>115228</td>\n",
       "      <td>1904569</td>\n",
       "      <td>144.6529</td>\n",
       "      <td>1.01</td>\n",
       "      <td>3.45%</td>\n",
       "      <td>4</td>\n",
       "    </tr>\n",
       "    <tr>\n",
       "      <th>4</th>\n",
       "      <td>PK</td>\n",
       "      <td>Pakistan</td>\n",
       "      <td>235825</td>\n",
       "      <td>227197</td>\n",
       "      <td>210969</td>\n",
       "      <td>194454</td>\n",
       "      <td>154370</td>\n",
       "      <td>115414</td>\n",
       "      <td>80624</td>\n",
       "      <td>59291</td>\n",
       "      <td>881912</td>\n",
       "      <td>267.4018</td>\n",
       "      <td>1.02</td>\n",
       "      <td>2.96%</td>\n",
       "      <td>5</td>\n",
       "    </tr>\n",
       "  </tbody>\n",
       "</table>\n",
       "</div>"
      ],
      "text/plain": [
       "  CCA3           Name     2022     2020     2015     2010     2000     1990  \\\n",
       "0   CN          China  1425887  1424930  1393715  1348191  1264099  1153704   \n",
       "1   IN          India  1417173  1396387  1322867  1240614  1059634   870452   \n",
       "2   US  United States   338290   335942   324608   311183   282399   248084   \n",
       "3   ID      Indonesia   275501   271858   259092   244016   214072   182160   \n",
       "4   PK       Pakistan   235825   227197   210969   194454   154370   115414   \n",
       "\n",
       "     1980    1970  Area (km²)  Density (per km²)  GrowthRate  \\\n",
       "0  982372  822534     9706961           146.8933        1.00   \n",
       "1  696828  557501     3287590           431.0675        1.01   \n",
       "2  223140  200328     9372610            36.0935        1.00   \n",
       "3  148177  115228     1904569           144.6529        1.01   \n",
       "4   80624   59291      881912           267.4018        1.02   \n",
       "\n",
       "  World Population Percentage  Rank  \n",
       "0                      17.88%     1  \n",
       "1                      17.77%     2  \n",
       "2                       4.24%     3  \n",
       "3                       3.45%     4  \n",
       "4                       2.96%     5  "
      ]
     },
     "execution_count": 3,
     "metadata": {},
     "output_type": "execute_result"
    }
   ],
   "source": [
    "df=pd.read_csv('World Population Live Dataset.csv')\n",
    "df.head()"
   ]
  },
  {
   "cell_type": "code",
   "execution_count": 4,
   "id": "0571cc14",
   "metadata": {},
   "outputs": [
    {
     "data": {
      "text/plain": [
       "(234, 15)"
      ]
     },
     "execution_count": 4,
     "metadata": {},
     "output_type": "execute_result"
    }
   ],
   "source": [
    "df.shape"
   ]
  },
  {
   "cell_type": "code",
   "execution_count": 5,
   "id": "e1395cd3",
   "metadata": {},
   "outputs": [
    {
     "name": "stdout",
     "output_type": "stream",
     "text": [
      "<class 'pandas.core.frame.DataFrame'>\n",
      "RangeIndex: 234 entries, 0 to 233\n",
      "Data columns (total 15 columns):\n",
      " #   Column                       Non-Null Count  Dtype  \n",
      "---  ------                       --------------  -----  \n",
      " 0   CCA3                         233 non-null    object \n",
      " 1   Name                         234 non-null    object \n",
      " 2   2022                         234 non-null    int64  \n",
      " 3   2020                         234 non-null    int64  \n",
      " 4   2015                         234 non-null    int64  \n",
      " 5   2010                         234 non-null    int64  \n",
      " 6   2000                         234 non-null    int64  \n",
      " 7   1990                         234 non-null    int64  \n",
      " 8   1980                         234 non-null    int64  \n",
      " 9   1970                         234 non-null    int64  \n",
      " 10  Area (km²)                   234 non-null    int64  \n",
      " 11  Density (per km²)            234 non-null    float64\n",
      " 12  GrowthRate                   234 non-null    float64\n",
      " 13  World Population Percentage  234 non-null    object \n",
      " 14  Rank                         234 non-null    int64  \n",
      "dtypes: float64(2), int64(10), object(3)\n",
      "memory usage: 27.5+ KB\n"
     ]
    }
   ],
   "source": [
    "df.info()"
   ]
  },
  {
   "cell_type": "code",
   "execution_count": 8,
   "id": "bcbfb9ce",
   "metadata": {},
   "outputs": [
    {
     "ename": "TypeError",
     "evalue": "bar() missing 1 required positional argument: 'height'",
     "output_type": "error",
     "traceback": [
      "\u001b[1;31m---------------------------------------------------------------------------\u001b[0m",
      "\u001b[1;31mTypeError\u001b[0m                                 Traceback (most recent call last)",
      "Input \u001b[1;32mIn [8]\u001b[0m, in \u001b[0;36m<cell line: 1>\u001b[1;34m()\u001b[0m\n\u001b[1;32m----> 1\u001b[0m \u001b[43mplt\u001b[49m\u001b[38;5;241;43m.\u001b[39;49m\u001b[43mbar\u001b[49m\u001b[43m(\u001b[49m\u001b[43mx\u001b[49m\u001b[38;5;241;43m=\u001b[39;49m\u001b[38;5;124;43m'\u001b[39;49m\u001b[38;5;124;43mRank\u001b[39;49m\u001b[38;5;124;43m'\u001b[39;49m\u001b[43m)\u001b[49m\n",
      "\u001b[1;31mTypeError\u001b[0m: bar() missing 1 required positional argument: 'height'"
     ]
    }
   ],
   "source": [
    "plt.bar(x='Rank')"
   ]
  },
  {
   "cell_type": "code",
   "execution_count": null,
   "id": "d539b34a",
   "metadata": {},
   "outputs": [],
   "source": []
  }
 ],
 "metadata": {
  "kernelspec": {
   "display_name": "Python 3 (ipykernel)",
   "language": "python",
   "name": "python3"
  },
  "language_info": {
   "codemirror_mode": {
    "name": "ipython",
    "version": 3
   },
   "file_extension": ".py",
   "mimetype": "text/x-python",
   "name": "python",
   "nbconvert_exporter": "python",
   "pygments_lexer": "ipython3",
   "version": "3.9.12"
  }
 },
 "nbformat": 4,
 "nbformat_minor": 5
}
