{
 "cells": [
  {
   "cell_type": "markdown",
   "id": "52c68329",
   "metadata": {},
   "source": [
    "# What is Python?\n",
    "- Python is a general-purpose programming language that is becoming ever more popular for data science. Companies worldwide use Python to harvest insights from their data and gain a competitive edge. Python is easy to learn as it has a syntax that is very human-interpretable.\n",
    "\n",
    "\n",
    "To check if you have python installed on a Windows, Linux, or Mac, type:\n",
    "\n",
    "python --version"
   ]
  },
  {
   "cell_type": "markdown",
   "id": "2643aeec",
   "metadata": {},
   "source": [
    "# First Python Program"
   ]
  },
  {
   "cell_type": "code",
   "execution_count": 3,
   "id": "0185c9cf",
   "metadata": {},
   "outputs": [
    {
     "name": "stdout",
     "output_type": "stream",
     "text": [
      "Hello World\n"
     ]
    }
   ],
   "source": [
    "print(\"Hello World\")"
   ]
  },
  {
   "cell_type": "markdown",
   "id": "a503f237",
   "metadata": {},
   "source": [
    "# Python Variables"
   ]
  },
  {
   "cell_type": "code",
   "execution_count": 4,
   "id": "b12fb72d",
   "metadata": {},
   "outputs": [],
   "source": [
    "x=5\n",
    "y=\"sanwal\""
   ]
  },
  {
   "cell_type": "code",
   "execution_count": 5,
   "id": "8c6d53a1",
   "metadata": {},
   "outputs": [
    {
     "name": "stdout",
     "output_type": "stream",
     "text": [
      "5 sanwal\n"
     ]
    }
   ],
   "source": [
    "print(x,y)"
   ]
  },
  {
   "cell_type": "code",
   "execution_count": 6,
   "id": "17c43fa2",
   "metadata": {},
   "outputs": [
    {
     "name": "stdout",
     "output_type": "stream",
     "text": [
      "sanwalsanwalsanwalsanwalsanwal\n"
     ]
    }
   ],
   "source": [
    "print(x*y)"
   ]
  },
  {
   "cell_type": "markdown",
   "id": "b00983c3",
   "metadata": {},
   "source": [
    "# Casting"
   ]
  },
  {
   "cell_type": "code",
   "execution_count": 7,
   "id": "0c16d87d",
   "metadata": {},
   "outputs": [],
   "source": [
    "x=str(3)\n",
    "y=float(3)\n",
    "z=int(3)"
   ]
  },
  {
   "cell_type": "code",
   "execution_count": 8,
   "id": "2ce5566e",
   "metadata": {},
   "outputs": [
    {
     "name": "stdout",
     "output_type": "stream",
     "text": [
      "3 3.0 3\n"
     ]
    }
   ],
   "source": [
    "print(x,y,z)"
   ]
  },
  {
   "cell_type": "code",
   "execution_count": 9,
   "id": "3d0b0e7f",
   "metadata": {},
   "outputs": [
    {
     "data": {
      "text/plain": [
       "str"
      ]
     },
     "execution_count": 9,
     "metadata": {},
     "output_type": "execute_result"
    }
   ],
   "source": [
    "type(x)"
   ]
  },
  {
   "cell_type": "markdown",
   "id": "dff46cd6",
   "metadata": {},
   "source": [
    "# Variable Names\n",
    "A variable can have a short name (like x and y) or a more descriptive name (age, carname, total_volume). \n",
    "Rules for Python variables:\n",
    "\n",
    "- A variable name must start with a letter or the underscore character\n",
    "- A variable name cannot start with a number\n",
    "- A variable name can only contain alpha-numeric characters and underscores (A-z, 0-9, and _ )\n",
    "- Variable names are case-sensitive (age, Age and AGE are three different variables)\n"
   ]
  },
  {
   "cell_type": "code",
   "execution_count": 16,
   "id": "81112b65",
   "metadata": {},
   "outputs": [],
   "source": [
    "_age=5"
   ]
  },
  {
   "cell_type": "code",
   "execution_count": 17,
   "id": "476d73c3",
   "metadata": {},
   "outputs": [],
   "source": [
    "age=5"
   ]
  },
  {
   "cell_type": "code",
   "execution_count": 19,
   "id": "0b56f55e",
   "metadata": {},
   "outputs": [
    {
     "ename": "SyntaxError",
     "evalue": "cannot assign to operator (4223731995.py, line 1)",
     "output_type": "error",
     "traceback": [
      "\u001b[1;36m  Input \u001b[1;32mIn [19]\u001b[1;36m\u001b[0m\n\u001b[1;33m    my-var=5\u001b[0m\n\u001b[1;37m    ^\u001b[0m\n\u001b[1;31mSyntaxError\u001b[0m\u001b[1;31m:\u001b[0m cannot assign to operator\n"
     ]
    }
   ],
   "source": [
    "my-var=5"
   ]
  },
  {
   "cell_type": "markdown",
   "id": "267dede5",
   "metadata": {},
   "source": [
    "# Many Values to Multiple Variables"
   ]
  },
  {
   "cell_type": "code",
   "execution_count": 20,
   "id": "0384ab3a",
   "metadata": {},
   "outputs": [],
   "source": [
    "x,y,z='orange','mango','banana'"
   ]
  },
  {
   "cell_type": "code",
   "execution_count": 21,
   "id": "27dcfce9",
   "metadata": {},
   "outputs": [
    {
     "name": "stdout",
     "output_type": "stream",
     "text": [
      "orange\n"
     ]
    }
   ],
   "source": [
    "print(x)"
   ]
  },
  {
   "cell_type": "code",
   "execution_count": 22,
   "id": "745dfdc2",
   "metadata": {},
   "outputs": [
    {
     "name": "stdout",
     "output_type": "stream",
     "text": [
      "mango\n"
     ]
    }
   ],
   "source": [
    "print(y)"
   ]
  },
  {
   "cell_type": "code",
   "execution_count": 23,
   "id": "719a72cc",
   "metadata": {},
   "outputs": [
    {
     "name": "stdout",
     "output_type": "stream",
     "text": [
      "banana\n"
     ]
    }
   ],
   "source": [
    "print(z)"
   ]
  },
  {
   "cell_type": "markdown",
   "id": "eef1a376",
   "metadata": {},
   "source": [
    "# One Value to Multiple Variables"
   ]
  },
  {
   "cell_type": "code",
   "execution_count": 24,
   "id": "69e74343",
   "metadata": {},
   "outputs": [],
   "source": [
    "x=y=z='orange'"
   ]
  },
  {
   "cell_type": "code",
   "execution_count": 25,
   "id": "7cfc4422",
   "metadata": {},
   "outputs": [
    {
     "name": "stdout",
     "output_type": "stream",
     "text": [
      "orange\n"
     ]
    }
   ],
   "source": [
    "print(x)"
   ]
  },
  {
   "cell_type": "code",
   "execution_count": 26,
   "id": "ffe10815",
   "metadata": {},
   "outputs": [
    {
     "name": "stdout",
     "output_type": "stream",
     "text": [
      "orange\n"
     ]
    }
   ],
   "source": [
    "print(y)"
   ]
  },
  {
   "cell_type": "code",
   "execution_count": 27,
   "id": "5212a03d",
   "metadata": {},
   "outputs": [
    {
     "name": "stdout",
     "output_type": "stream",
     "text": [
      "orange\n"
     ]
    }
   ],
   "source": [
    "print(z)"
   ]
  },
  {
   "cell_type": "markdown",
   "id": "efb17dec",
   "metadata": {},
   "source": [
    "# Python Numbers\n",
    "There are three numeric types in Python\n",
    "- int\n",
    "- float\n",
    "- complex"
   ]
  },
  {
   "cell_type": "markdown",
   "id": "17305ef9",
   "metadata": {},
   "source": [
    "# Int \n",
    " - Int, or integer, is a whole number, positive or negative, without decimals, of unlimited length.\n",
    "\n"
   ]
  },
  {
   "cell_type": "code",
   "execution_count": 28,
   "id": "8cd0ac25",
   "metadata": {},
   "outputs": [],
   "source": [
    "x=1\n",
    "y=342343454454564545\n",
    "z=-111292324"
   ]
  },
  {
   "cell_type": "code",
   "execution_count": 29,
   "id": "ed4aec32",
   "metadata": {},
   "outputs": [
    {
     "name": "stdout",
     "output_type": "stream",
     "text": [
      "<class 'int'>\n"
     ]
    }
   ],
   "source": [
    "print(type(x))"
   ]
  },
  {
   "cell_type": "markdown",
   "id": "8692b422",
   "metadata": {},
   "source": [
    "# Float\n",
    "- Float, or \"floating point number\" is a number, positive or negative, containing one or more decimals."
   ]
  },
  {
   "cell_type": "code",
   "execution_count": 30,
   "id": "3684b4ef",
   "metadata": {},
   "outputs": [],
   "source": [
    "x=1.1\n",
    "y=-2.20\n",
    "z=34.324"
   ]
  },
  {
   "cell_type": "code",
   "execution_count": 31,
   "id": "913d73ff",
   "metadata": {},
   "outputs": [
    {
     "name": "stdout",
     "output_type": "stream",
     "text": [
      "<class 'float'>\n"
     ]
    }
   ],
   "source": [
    "print(type(x))"
   ]
  },
  {
   "cell_type": "markdown",
   "id": "ccdea179",
   "metadata": {},
   "source": [
    "# Complex\n",
    "- Complex numbers are written with a \"j\" as the imaginary part:"
   ]
  },
  {
   "cell_type": "code",
   "execution_count": 32,
   "id": "fa54d9d6",
   "metadata": {},
   "outputs": [
    {
     "name": "stdout",
     "output_type": "stream",
     "text": [
      "<class 'complex'>\n"
     ]
    }
   ],
   "source": [
    "x=5-3j\n",
    "print(type(x))"
   ]
  },
  {
   "cell_type": "markdown",
   "id": "21025e5e",
   "metadata": {},
   "source": [
    "# Python Strings\n",
    "- Strings in python are surrounded by either single quotation marks, or double quotation marks.\n",
    "\n"
   ]
  },
  {
   "cell_type": "code",
   "execution_count": 34,
   "id": "1badc4a9",
   "metadata": {},
   "outputs": [
    {
     "name": "stdout",
     "output_type": "stream",
     "text": [
      "hello\n",
      "hello\n"
     ]
    }
   ],
   "source": [
    "print('hello')\n",
    "print(\"hello\")"
   ]
  },
  {
   "cell_type": "markdown",
   "id": "503fa106",
   "metadata": {},
   "source": [
    "# Multiline Strings\n",
    "- You can assign a multiline string to a variable by using three quotes:"
   ]
  },
  {
   "cell_type": "code",
   "execution_count": 35,
   "id": "b4641c94",
   "metadata": {},
   "outputs": [
    {
     "name": "stdout",
     "output_type": "stream",
     "text": [
      "hello my name is Sanwal khan\n",
      "I belong to faislabad.\n",
      "and i am in undergraduate\n"
     ]
    }
   ],
   "source": [
    "a='''hello my name is Sanwal khan\n",
    "I belong to faislabad.\n",
    "and i am in undergraduate'''\n",
    "print(a)"
   ]
  },
  {
   "cell_type": "code",
   "execution_count": 36,
   "id": "51086fb9",
   "metadata": {},
   "outputs": [
    {
     "data": {
      "text/plain": [
       "8"
      ]
     },
     "execution_count": 36,
     "metadata": {},
     "output_type": "execute_result"
    }
   ],
   "source": [
    "a='Pakistan'\n",
    "len(a)"
   ]
  },
  {
   "cell_type": "code",
   "execution_count": 37,
   "id": "2fdd80f9",
   "metadata": {},
   "outputs": [
    {
     "data": {
      "text/plain": [
       "'Pak'"
      ]
     },
     "execution_count": 37,
     "metadata": {},
     "output_type": "execute_result"
    }
   ],
   "source": [
    "a[0:3]"
   ]
  },
  {
   "cell_type": "code",
   "execution_count": 39,
   "id": "ae0bd6ea",
   "metadata": {},
   "outputs": [
    {
     "name": "stdout",
     "output_type": "stream",
     "text": [
      "P\n",
      "a\n",
      "k\n",
      "i\n",
      "s\n",
      "t\n",
      "a\n",
      "n\n"
     ]
    }
   ],
   "source": [
    "for i in a:\n",
    "    print(i,end='\\n')"
   ]
  },
  {
   "cell_type": "code",
   "execution_count": null,
   "id": "5a29e41b",
   "metadata": {},
   "outputs": [],
   "source": []
  }
 ],
 "metadata": {
  "kernelspec": {
   "display_name": "Python 3 (ipykernel)",
   "language": "python",
   "name": "python3"
  },
  "language_info": {
   "codemirror_mode": {
    "name": "ipython",
    "version": 3
   },
   "file_extension": ".py",
   "mimetype": "text/x-python",
   "name": "python",
   "nbconvert_exporter": "python",
   "pygments_lexer": "ipython3",
   "version": "3.9.12"
  }
 },
 "nbformat": 4,
 "nbformat_minor": 5
}
