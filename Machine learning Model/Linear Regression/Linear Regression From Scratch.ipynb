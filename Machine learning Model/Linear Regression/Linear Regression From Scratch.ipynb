{
 "cells": [
  {
   "cell_type": "code",
   "execution_count": 1,
   "id": "f0326566",
   "metadata": {},
   "outputs": [],
   "source": [
    "import pandas as pd\n",
    "import numpy as np\n",
    "from matplotlib import pyplot as plt\n",
    "import seaborn as sns\n"
   ]
  },
  {
   "cell_type": "code",
   "execution_count": 6,
   "id": "ada373e9",
   "metadata": {},
   "outputs": [],
   "source": [
    "#generate some random data\n",
    "np.random.seed(0)\n",
    "X=2.5*np.random.randn(100)+1.5\n",
    "res=0.5*np.random.randn(100)\n",
    "y=2+0.3*X+res"
   ]
  },
  {
   "cell_type": "code",
   "execution_count": 18,
   "id": "dbf26dc0",
   "metadata": {},
   "outputs": [],
   "source": [
    "#create pandas dataframe to store the value of X and y values\n",
    "df=pd.DataFrame({'x':X,\n",
    "                \"y\":y})"
   ]
  },
  {
   "cell_type": "code",
   "execution_count": 19,
   "id": "cb963202",
   "metadata": {},
   "outputs": [
    {
     "data": {
      "text/html": [
       "<div>\n",
       "<style scoped>\n",
       "    .dataframe tbody tr th:only-of-type {\n",
       "        vertical-align: middle;\n",
       "    }\n",
       "\n",
       "    .dataframe tbody tr th {\n",
       "        vertical-align: top;\n",
       "    }\n",
       "\n",
       "    .dataframe thead th {\n",
       "        text-align: right;\n",
       "    }\n",
       "</style>\n",
       "<table border=\"1\" class=\"dataframe\">\n",
       "  <thead>\n",
       "    <tr style=\"text-align: right;\">\n",
       "      <th></th>\n",
       "      <th>x</th>\n",
       "      <th>y</th>\n",
       "    </tr>\n",
       "  </thead>\n",
       "  <tbody>\n",
       "    <tr>\n",
       "      <th>0</th>\n",
       "      <td>5.910131</td>\n",
       "      <td>4.714615</td>\n",
       "    </tr>\n",
       "    <tr>\n",
       "      <th>1</th>\n",
       "      <td>2.500393</td>\n",
       "      <td>2.076238</td>\n",
       "    </tr>\n",
       "    <tr>\n",
       "      <th>2</th>\n",
       "      <td>3.946845</td>\n",
       "      <td>2.548811</td>\n",
       "    </tr>\n",
       "    <tr>\n",
       "      <th>3</th>\n",
       "      <td>7.102233</td>\n",
       "      <td>4.615368</td>\n",
       "    </tr>\n",
       "    <tr>\n",
       "      <th>4</th>\n",
       "      <td>6.168895</td>\n",
       "      <td>3.264107</td>\n",
       "    </tr>\n",
       "  </tbody>\n",
       "</table>\n",
       "</div>"
      ],
      "text/plain": [
       "          x         y\n",
       "0  5.910131  4.714615\n",
       "1  2.500393  2.076238\n",
       "2  3.946845  2.548811\n",
       "3  7.102233  4.615368\n",
       "4  6.168895  3.264107"
      ]
     },
     "execution_count": 19,
     "metadata": {},
     "output_type": "execute_result"
    }
   ],
   "source": [
    "#show first five line of dataframe\n",
    "df.head()"
   ]
  },
  {
   "cell_type": "code",
   "execution_count": 20,
   "id": "cab0d882",
   "metadata": {},
   "outputs": [
    {
     "data": {
      "image/png": "[encoded data removed]",
      "text/plain": [
       "<Figure size 864x432 with 1 Axes>"
      ]
     },
     "metadata": {
      "needs_background": "light"
     },
     "output_type": "display_data"
    }
   ],
   "source": [
    "#plot regression against the actual data\n",
    "plt.figure(figsize=(12,6))\n",
    "plt.plot(X,y,'ro')# scatter plot of the actual data\n",
    "plt.title(\"Actual Data\")\n",
    "plt.xlabel(\"X\")\n",
    "plt.ylabel('Y')\n",
    "plt.show()"
   ]
  },
  {
   "cell_type": "markdown",
   "id": "04a7a1ce",
   "metadata": {},
   "source": [
    "To estimate y using the OLS method, we need to calculate xmean and ymean, the covariance of X and y (xycov), and the variance of X (xvar) before we can determine the values for alpha and beta."
   ]
  },
  {
   "cell_type": "code",
   "execution_count": 28,
   "id": "7c92fedd",
   "metadata": {},
   "outputs": [
    {
     "name": "stdout",
     "output_type": "stream",
     "text": [
      "alpha = 2.0031670124623426\n",
      "beta = 0.3229396867092763\n"
     ]
    }
   ],
   "source": [
    "#calculate the mean of X and y\n",
    "xmean=np.mean(X)\n",
    "ymean=np.mean(y)\n",
    "\n",
    "# Calculate the terms needed for the numator and denominator of beta\n",
    "df['xycov'] = (df['x'] - xmean) * (df['y'] - ymean)\n",
    "df['xvar'] = (df['x'] - xmean)**2\n",
    "\n",
    "# Calculate beta and alpha\n",
    "beta = df['xycov'].sum() / df['xvar'].sum()\n",
    "alpha = ymean - (beta * xmean)\n",
    "print(f'alpha = {alpha}')\n",
    "print(f'beta = {beta}')\n"
   ]
  },
  {
   "cell_type": "markdown",
   "id": "f49ff4a1",
   "metadata": {},
   "source": [
    "Great, we now have an estimate for alpha and beta! Our model can be written as Yₑ = 2.003 + 0.323*X, and we can make predictions:\n",
    "\n"
   ]
  },
  {
   "cell_type": "code",
   "execution_count": 29,
   "id": "dbbd4eca",
   "metadata": {},
   "outputs": [],
   "source": [
    "ypred = alpha + beta * X\n"
   ]
  },
  {
   "cell_type": "code",
   "execution_count": 30,
   "id": "fb3526b7",
   "metadata": {},
   "outputs": [
    {
     "data": {
      "text/plain": [
       "array([3.91178282, 2.81064315, 3.27775989, 4.29675991, 3.99534802,\n",
       "       1.69857201, 3.25462968, 2.36537842, 2.40424288, 2.81907292,\n",
       "       2.60387001, 3.66168312, 3.10199975, 2.58581077, 2.84592918,\n",
       "       2.75696825, 3.69382011, 2.32194218, 2.74033151, 1.79802302,\n",
       "       0.42642221, 3.015275  , 3.18547843, 1.88839019, 4.32006116,\n",
       "       1.31339555, 2.52451965, 2.33645381, 3.72506464, 3.67386219,\n",
       "       2.61267323, 2.79288576, 1.77082341, 0.88838207, 2.20668994,\n",
       "       2.61380476, 3.48085076, 3.45831697, 2.17486854, 2.24351265,\n",
       "       1.64102813, 1.34112617, 1.11002064, 4.06253353, 2.07610925,\n",
       "       2.1338976 , 1.47613319, 3.11528277, 1.18459738, 2.31582084,\n",
       "       1.76462232, 2.79994197, 2.07517841, 1.53439407, 2.46482364,\n",
       "       2.83338994, 2.54127917, 2.73177699, 1.9754571 , 2.19471775,\n",
       "       1.94466613, 2.19729158, 1.83108353, 1.09386364, 2.6308214 ,\n",
       "       2.16319902, 1.17143718, 2.86120343, 1.75506992, 2.52951462,\n",
       "       3.07620724, 2.59171079, 3.40747079, 1.49064088, 2.81240675,\n",
       "       1.93469565, 1.78453915, 2.02024272, 2.23604485, 2.53292159,\n",
       "       1.54689373, 3.2148581 , 2.86352875, 1.24729141, 3.68911579,\n",
       "       4.01822118, 3.43926331, 2.34231437, 1.62310525, 3.33888732,\n",
       "       2.16207195, 3.47451661, 2.65572718, 3.2760653 , 2.77528867,\n",
       "       3.05802784, 2.49605373, 3.92939769, 2.59003892, 2.81212234])"
      ]
     },
     "execution_count": 30,
     "metadata": {},
     "output_type": "execute_result"
    }
   ],
   "source": [
    "ypred"
   ]
  },
  {
   "cell_type": "code",
   "execution_count": 31,
   "id": "aeb1330e",
   "metadata": {},
   "outputs": [
    {
     "data": {
      "image/png": "[encoded data removed]",
      "text/plain": [
       "<Figure size 864x432 with 1 Axes>"
      ]
     },
     "metadata": {
      "needs_background": "light"
     },
     "output_type": "display_data"
    }
   ],
   "source": [
    "#plot regression against the actual data\n",
    "plt.figure(figsize=(12,6))\n",
    "plt.plot(X,ypred) #regression line\n",
    "plt.plot(X,y,'ro')# scatter plot showing actual data\n",
    "plt.title(\"Actual VS Predicated\")\n",
    "plt.xlabel('X')\n",
    "plt.ylabel('y')\n",
    "plt.show()"
   ]
  },
  {
   "cell_type": "markdown",
   "id": "1cf610b4",
   "metadata": {},
   "source": [
    "The blue line is our line of best fit, Yₑ = 2.003 + 0.323 X. We can see from this graph that there is a positive linear relationship between X and y. Using our model, we can predict y from any values of X!\n",
    "\n",
    "For example, if we had a value X = 10, we can predict that:\n",
    "\n",
    "Yₑ = 2.003 + 0.323 (10) = 5.233."
   ]
  },
  {
   "cell_type": "markdown",
   "id": "e01b7563",
   "metadata": {},
   "source": [
    "# Linear Regression with scikit-learn"
   ]
  },
  {
   "cell_type": "code",
   "execution_count": 32,
   "id": "586d3c8c",
   "metadata": {},
   "outputs": [],
   "source": [
    "from sklearn.linear_model import LinearRegression\n"
   ]
  },
  {
   "cell_type": "code",
   "execution_count": 33,
   "id": "682bf1f4",
   "metadata": {},
   "outputs": [
    {
     "data": {
      "text/html": [
       "<div>\n",
       "<style scoped>\n",
       "    .dataframe tbody tr th:only-of-type {\n",
       "        vertical-align: middle;\n",
       "    }\n",
       "\n",
       "    .dataframe tbody tr th {\n",
       "        vertical-align: top;\n",
       "    }\n",
       "\n",
       "    .dataframe thead th {\n",
       "        text-align: right;\n",
       "    }\n",
       "</style>\n",
       "<table border=\"1\" class=\"dataframe\">\n",
       "  <thead>\n",
       "    <tr style=\"text-align: right;\">\n",
       "      <th></th>\n",
       "      <th>x</th>\n",
       "      <th>y</th>\n",
       "      <th>xycov</th>\n",
       "      <th>xvar</th>\n",
       "    </tr>\n",
       "  </thead>\n",
       "  <tbody>\n",
       "    <tr>\n",
       "      <th>0</th>\n",
       "      <td>5.910131</td>\n",
       "      <td>4.714615</td>\n",
       "      <td>9.282815</td>\n",
       "      <td>18.152805</td>\n",
       "    </tr>\n",
       "    <tr>\n",
       "      <th>1</th>\n",
       "      <td>2.500393</td>\n",
       "      <td>2.076238</td>\n",
       "      <td>-0.391082</td>\n",
       "      <td>0.723985</td>\n",
       "    </tr>\n",
       "    <tr>\n",
       "      <th>2</th>\n",
       "      <td>3.946845</td>\n",
       "      <td>2.548811</td>\n",
       "      <td>0.029747</td>\n",
       "      <td>5.277702</td>\n",
       "    </tr>\n",
       "    <tr>\n",
       "      <th>3</th>\n",
       "      <td>7.102233</td>\n",
       "      <td>4.615368</td>\n",
       "      <td>11.338948</td>\n",
       "      <td>29.732079</td>\n",
       "    </tr>\n",
       "    <tr>\n",
       "      <th>4</th>\n",
       "      <td>6.168895</td>\n",
       "      <td>3.264107</td>\n",
       "      <td>3.291209</td>\n",
       "      <td>20.424750</td>\n",
       "    </tr>\n",
       "    <tr>\n",
       "      <th>...</th>\n",
       "      <td>...</td>\n",
       "      <td>...</td>\n",
       "      <td>...</td>\n",
       "      <td>...</td>\n",
       "    </tr>\n",
       "    <tr>\n",
       "      <th>95</th>\n",
       "      <td>3.266433</td>\n",
       "      <td>2.894157</td>\n",
       "      <td>0.579331</td>\n",
       "      <td>2.614407</td>\n",
       "    </tr>\n",
       "    <tr>\n",
       "      <th>96</th>\n",
       "      <td>1.526250</td>\n",
       "      <td>2.843770</td>\n",
       "      <td>-0.037956</td>\n",
       "      <td>0.015195</td>\n",
       "    </tr>\n",
       "    <tr>\n",
       "      <th>97</th>\n",
       "      <td>5.964676</td>\n",
       "      <td>4.201155</td>\n",
       "      <td>7.185997</td>\n",
       "      <td>18.620573</td>\n",
       "    </tr>\n",
       "    <tr>\n",
       "      <th>98</th>\n",
       "      <td>1.817280</td>\n",
       "      <td>3.626802</td>\n",
       "      <td>0.183016</td>\n",
       "      <td>0.028143</td>\n",
       "    </tr>\n",
       "    <tr>\n",
       "      <th>99</th>\n",
       "      <td>2.504973</td>\n",
       "      <td>3.419756</td>\n",
       "      <td>0.756130</td>\n",
       "      <td>0.731800</td>\n",
       "    </tr>\n",
       "  </tbody>\n",
       "</table>\n",
       "<p>100 rows × 4 columns</p>\n",
       "</div>"
      ],
      "text/plain": [
       "           x         y      xycov       xvar\n",
       "0   5.910131  4.714615   9.282815  18.152805\n",
       "1   2.500393  2.076238  -0.391082   0.723985\n",
       "2   3.946845  2.548811   0.029747   5.277702\n",
       "3   7.102233  4.615368  11.338948  29.732079\n",
       "4   6.168895  3.264107   3.291209  20.424750\n",
       "..       ...       ...        ...        ...\n",
       "95  3.266433  2.894157   0.579331   2.614407\n",
       "96  1.526250  2.843770  -0.037956   0.015195\n",
       "97  5.964676  4.201155   7.185997  18.620573\n",
       "98  1.817280  3.626802   0.183016   0.028143\n",
       "99  2.504973  3.419756   0.756130   0.731800\n",
       "\n",
       "[100 rows x 4 columns]"
      ]
     },
     "execution_count": 33,
     "metadata": {},
     "output_type": "execute_result"
    }
   ],
   "source": [
    "df"
   ]
  },
  {
   "cell_type": "code",
   "execution_count": 35,
   "id": "47699d36",
   "metadata": {},
   "outputs": [],
   "source": [
    "x=df[['x']].values\n",
    "y=df[['y']].values"
   ]
  },
  {
   "cell_type": "code",
   "execution_count": 38,
   "id": "012c08e6",
   "metadata": {},
   "outputs": [],
   "source": [
    "model=LinearRegression()"
   ]
  },
  {
   "cell_type": "code",
   "execution_count": 39,
   "id": "169d3c74",
   "metadata": {},
   "outputs": [
    {
     "data": {
      "text/plain": [
       "LinearRegression()"
      ]
     },
     "execution_count": 39,
     "metadata": {},
     "output_type": "execute_result"
    }
   ],
   "source": [
    "model.fit(x,y)"
   ]
  },
  {
   "cell_type": "code",
   "execution_count": 40,
   "id": "8bb98faf",
   "metadata": {},
   "outputs": [
    {
     "name": "stdout",
     "output_type": "stream",
     "text": [
      "Alpha:[2.00316701]\n",
      "Betas:[[0.32293969]]\n"
     ]
    }
   ],
   "source": [
    "print('Alpha:{}'.format(model.intercept_))\n",
    "print(\"Betas:{}\".format(model.coef_))"
   ]
  },
  {
   "cell_type": "code",
   "execution_count": 41,
   "id": "ab11dde5",
   "metadata": {},
   "outputs": [],
   "source": [
    "y_pred=model.predict(x)"
   ]
  },
  {
   "cell_type": "code",
   "execution_count": null,
   "id": "88ec1e47",
   "metadata": {},
   "outputs": [],
   "source": [
    "#plot regression against the actual data\n",
    "plt.figure(figsize=(12,6))\n",
    "plt.plot(x,ypred)\n",
    "plt.plot(x,y)"
   ]
  }
 ],
 "metadata": {
  "kernelspec": {
   "display_name": "Python 3 (ipykernel)",
   "language": "python",
   "name": "python3"
  },
  "language_info": {
   "codemirror_mode": {
    "name": "ipython",
    "version": 3
   },
   "file_extension": ".py",
   "mimetype": "text/x-python",
   "name": "python",
   "nbconvert_exporter": "python",
   "pygments_lexer": "ipython3",
   "version": "3.9.12"
  }
 },
 "nbformat": 4,
 "nbformat_minor": 5
}
