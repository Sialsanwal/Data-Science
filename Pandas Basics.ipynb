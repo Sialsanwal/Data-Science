{
 "cells": [
  {
   "cell_type": "markdown",
   "id": "6274a881",
   "metadata": {},
   "source": [
    "# Import Library"
   ]
  },
  {
   "cell_type": "code",
   "execution_count": 81,
   "id": "46af9b5e",
   "metadata": {},
   "outputs": [],
   "source": [
    "import pandas as pd"
   ]
  },
  {
   "cell_type": "markdown",
   "id": "e026b679",
   "metadata": {},
   "source": [
    "# Getting Started"
   ]
  },
  {
   "cell_type": "markdown",
   "id": "010fdf24",
   "metadata": {},
   "source": [
    "The primary two components of pandas are the Series and DataFrame.\n",
    "\n",
    "A Series is essentially a column, and a DataFrame is a multi-dimensional table made up of a collection of Series."
   ]
  },
  {
   "cell_type": "markdown",
   "id": "7411c3cd",
   "metadata": {},
   "source": [
    "![alt text](https://storage.googleapis.com/lds-media/images/series-and-dataframe.width-1200.png \"Title\")"
   ]
  },
  {
   "cell_type": "markdown",
   "id": "5d72186b",
   "metadata": {},
   "source": [
    "---"
   ]
  },
  {
   "cell_type": "markdown",
   "id": "642b473c",
   "metadata": {},
   "source": [
    "# 1. What is a Series?"
   ]
  },
  {
   "cell_type": "markdown",
   "id": "00630b92",
   "metadata": {},
   "source": [
    "A Pandas Series is like a column in a table.\n",
    "\n",
    "It is a one-dimensional array holding data of any type."
   ]
  },
  {
   "cell_type": "code",
   "execution_count": 82,
   "id": "360ea56a",
   "metadata": {},
   "outputs": [
    {
     "name": "stdout",
     "output_type": "stream",
     "text": [
      "0    1\n",
      "1    7\n",
      "2    2\n",
      "dtype: int64\n"
     ]
    }
   ],
   "source": [
    "a = [1, 7, 2]\n",
    "\n",
    "myvar = pd.Series(a)\n",
    "\n",
    "print(myvar)"
   ]
  },
  {
   "cell_type": "code",
   "execution_count": 83,
   "id": "fa2c77ee",
   "metadata": {},
   "outputs": [
    {
     "data": {
      "text/plain": [
       "pandas.core.series.Series"
      ]
     },
     "execution_count": 83,
     "metadata": {},
     "output_type": "execute_result"
    }
   ],
   "source": [
    "type(myvar)"
   ]
  },
  {
   "cell_type": "markdown",
   "id": "0ed4adc8",
   "metadata": {},
   "source": [
    "## 1.1. Labels"
   ]
  },
  {
   "cell_type": "markdown",
   "id": "d61320d1",
   "metadata": {},
   "source": [
    "If nothing else is specified, the values are labeled with their index number. First value has index 0, second value has index 1 etc.\n",
    "\n",
    "This label can be used to access a specified value."
   ]
  },
  {
   "cell_type": "code",
   "execution_count": 84,
   "id": "59be32de",
   "metadata": {},
   "outputs": [
    {
     "name": "stdout",
     "output_type": "stream",
     "text": [
      "7\n"
     ]
    }
   ],
   "source": [
    "print(myvar[1])"
   ]
  },
  {
   "cell_type": "markdown",
   "id": "25146784",
   "metadata": {},
   "source": [
    "## 1.2. Create Labels"
   ]
  },
  {
   "cell_type": "markdown",
   "id": "025c2b95",
   "metadata": {},
   "source": [
    "With the index argument, you can name your own labels."
   ]
  },
  {
   "cell_type": "code",
   "execution_count": 85,
   "id": "ccf1e8f8",
   "metadata": {},
   "outputs": [
    {
     "name": "stdout",
     "output_type": "stream",
     "text": [
      "x    1\n",
      "y    7\n",
      "z    2\n",
      "dtype: int64\n"
     ]
    }
   ],
   "source": [
    "a = [1, 7, 2]\n",
    "\n",
    "myvar = pd.Series(a, index = [\"x\", \"y\", \"z\"])\n",
    "\n",
    "print(myvar)"
   ]
  },
  {
   "cell_type": "code",
   "execution_count": 86,
   "id": "85424333",
   "metadata": {},
   "outputs": [
    {
     "name": "stdout",
     "output_type": "stream",
     "text": [
      "7\n"
     ]
    }
   ],
   "source": [
    "print(myvar[\"y\"])"
   ]
  },
  {
   "cell_type": "markdown",
   "id": "2620d4e3",
   "metadata": {},
   "source": [
    "## 1.3. Key/Value Objects as Series"
   ]
  },
  {
   "cell_type": "markdown",
   "id": "88174f8f",
   "metadata": {},
   "source": [
    "You can also use a key/value object, like a dictionary, when creating a Series."
   ]
  },
  {
   "cell_type": "code",
   "execution_count": 87,
   "id": "b13d97dc",
   "metadata": {},
   "outputs": [
    {
     "name": "stdout",
     "output_type": "stream",
     "text": [
      "day1    420\n",
      "day2    380\n",
      "day3    390\n",
      "dtype: int64\n"
     ]
    }
   ],
   "source": [
    "calories = {\"day1\": 420, \"day2\": 380, \"day3\": 390}\n",
    "\n",
    "myvar = pd.Series(calories)\n",
    "\n",
    "print(myvar)"
   ]
  },
  {
   "cell_type": "markdown",
   "id": "6abc1e01",
   "metadata": {},
   "source": [
    "---"
   ]
  },
  {
   "cell_type": "markdown",
   "id": "82088e6b",
   "metadata": {},
   "source": [
    "# 2. What is a DataFrame?"
   ]
  },
  {
   "cell_type": "markdown",
   "id": "7a76c6b9",
   "metadata": {},
   "source": [
    "A Pandas DataFrame is a 2 dimensional data structure, like a 2 dimensional array, or a table with rows and columns."
   ]
  },
  {
   "cell_type": "code",
   "execution_count": 88,
   "id": "ec382430",
   "metadata": {},
   "outputs": [
    {
     "name": "stdout",
     "output_type": "stream",
     "text": [
      "   calories  duration\n",
      "0       420        50\n",
      "1       380        40\n",
      "2       390        45\n"
     ]
    }
   ],
   "source": [
    "data = {\n",
    "  \"calories\": [420, 380, 390],\n",
    "  \"duration\": [50, 40, 45]\n",
    "}\n",
    "\n",
    "#load data into a DataFrame object:\n",
    "df = pd.DataFrame(data)\n",
    "\n",
    "print(df) "
   ]
  },
  {
   "cell_type": "code",
   "execution_count": 89,
   "id": "5d84a005",
   "metadata": {},
   "outputs": [
    {
     "data": {
      "text/html": [
       "<div>\n",
       "<style scoped>\n",
       "    .dataframe tbody tr th:only-of-type {\n",
       "        vertical-align: middle;\n",
       "    }\n",
       "\n",
       "    .dataframe tbody tr th {\n",
       "        vertical-align: top;\n",
       "    }\n",
       "\n",
       "    .dataframe thead th {\n",
       "        text-align: right;\n",
       "    }\n",
       "</style>\n",
       "<table border=\"1\" class=\"dataframe\">\n",
       "  <thead>\n",
       "    <tr style=\"text-align: right;\">\n",
       "      <th></th>\n",
       "      <th>calories</th>\n",
       "      <th>duration</th>\n",
       "    </tr>\n",
       "  </thead>\n",
       "  <tbody>\n",
       "    <tr>\n",
       "      <th>0</th>\n",
       "      <td>420</td>\n",
       "      <td>50</td>\n",
       "    </tr>\n",
       "    <tr>\n",
       "      <th>1</th>\n",
       "      <td>380</td>\n",
       "      <td>40</td>\n",
       "    </tr>\n",
       "    <tr>\n",
       "      <th>2</th>\n",
       "      <td>390</td>\n",
       "      <td>45</td>\n",
       "    </tr>\n",
       "  </tbody>\n",
       "</table>\n",
       "</div>"
      ],
      "text/plain": [
       "   calories  duration\n",
       "0       420        50\n",
       "1       380        40\n",
       "2       390        45"
      ]
     },
     "execution_count": 89,
     "metadata": {},
     "output_type": "execute_result"
    }
   ],
   "source": [
    "df"
   ]
  },
  {
   "cell_type": "markdown",
   "id": "866c80a9",
   "metadata": {},
   "source": [
    "## 2.1. Locate Row"
   ]
  },
  {
   "cell_type": "markdown",
   "id": "4251fa17",
   "metadata": {},
   "source": [
    "As you can see from the result above, the DataFrame is like a table with rows and columns.\n",
    "\n",
    "Pandas use the **loc** attribute to return one or more specified row(s)"
   ]
  },
  {
   "cell_type": "code",
   "execution_count": 90,
   "id": "d0073c46",
   "metadata": {},
   "outputs": [
    {
     "name": "stdout",
     "output_type": "stream",
     "text": [
      "calories    420\n",
      "duration     50\n",
      "Name: 0, dtype: int64\n"
     ]
    }
   ],
   "source": [
    "# Return row 0:\n",
    "\n",
    "print(df.loc[0])"
   ]
  },
  {
   "cell_type": "code",
   "execution_count": 91,
   "id": "d32ec8d5",
   "metadata": {},
   "outputs": [
    {
     "name": "stdout",
     "output_type": "stream",
     "text": [
      "   calories  duration\n",
      "0       420        50\n",
      "2       390        45\n"
     ]
    }
   ],
   "source": [
    "#use a list of indexes:\n",
    "print(df.loc[[0, 2]])"
   ]
  },
  {
   "cell_type": "markdown",
   "id": "40dc5a1b",
   "metadata": {},
   "source": [
    "## 2.2. Named Indexes"
   ]
  },
  {
   "cell_type": "markdown",
   "id": "468a3063",
   "metadata": {},
   "source": [
    "With the **index** argument, you can name your own indexes."
   ]
  },
  {
   "cell_type": "code",
   "execution_count": 92,
   "id": "37f4f0de",
   "metadata": {},
   "outputs": [
    {
     "name": "stdout",
     "output_type": "stream",
     "text": [
      "      calories  duration\n",
      "day1       420        50\n",
      "day2       380        40\n",
      "day3       390        45\n"
     ]
    }
   ],
   "source": [
    "data = {\n",
    "  \"calories\": [420, 380, 390],\n",
    "  \"duration\": [50, 40, 45]\n",
    "}\n",
    "\n",
    "df = pd.DataFrame(data, index = [\"day1\", \"day2\", \"day3\"])\n",
    "\n",
    "print(df) "
   ]
  },
  {
   "cell_type": "code",
   "execution_count": 93,
   "id": "9d7ccc30",
   "metadata": {},
   "outputs": [
    {
     "data": {
      "text/html": [
       "<div>\n",
       "<style scoped>\n",
       "    .dataframe tbody tr th:only-of-type {\n",
       "        vertical-align: middle;\n",
       "    }\n",
       "\n",
       "    .dataframe tbody tr th {\n",
       "        vertical-align: top;\n",
       "    }\n",
       "\n",
       "    .dataframe thead th {\n",
       "        text-align: right;\n",
       "    }\n",
       "</style>\n",
       "<table border=\"1\" class=\"dataframe\">\n",
       "  <thead>\n",
       "    <tr style=\"text-align: right;\">\n",
       "      <th></th>\n",
       "      <th>calories</th>\n",
       "      <th>duration</th>\n",
       "    </tr>\n",
       "  </thead>\n",
       "  <tbody>\n",
       "    <tr>\n",
       "      <th>day1</th>\n",
       "      <td>420</td>\n",
       "      <td>50</td>\n",
       "    </tr>\n",
       "    <tr>\n",
       "      <th>day2</th>\n",
       "      <td>380</td>\n",
       "      <td>40</td>\n",
       "    </tr>\n",
       "    <tr>\n",
       "      <th>day3</th>\n",
       "      <td>390</td>\n",
       "      <td>45</td>\n",
       "    </tr>\n",
       "  </tbody>\n",
       "</table>\n",
       "</div>"
      ],
      "text/plain": [
       "      calories  duration\n",
       "day1       420        50\n",
       "day2       380        40\n",
       "day3       390        45"
      ]
     },
     "execution_count": 93,
     "metadata": {},
     "output_type": "execute_result"
    }
   ],
   "source": [
    "df"
   ]
  },
  {
   "cell_type": "markdown",
   "id": "1a59db46",
   "metadata": {},
   "source": [
    "## 2.3. Locate Named Indexes"
   ]
  },
  {
   "cell_type": "markdown",
   "id": "82ee7e4c",
   "metadata": {},
   "source": [
    "Use the named index in the **loc** attribute to return the specified row(s)."
   ]
  },
  {
   "cell_type": "code",
   "execution_count": 94,
   "id": "1f6f314b",
   "metadata": {},
   "outputs": [
    {
     "name": "stdout",
     "output_type": "stream",
     "text": [
      "calories    380\n",
      "duration     40\n",
      "Name: day2, dtype: int64\n"
     ]
    }
   ],
   "source": [
    "#refer to the named index:\n",
    "print(df.loc[\"day2\"])"
   ]
  },
  {
   "cell_type": "code",
   "execution_count": 95,
   "id": "e5b3e8e3",
   "metadata": {},
   "outputs": [
    {
     "name": "stdout",
     "output_type": "stream",
     "text": [
      "calories    380\n",
      "duration     40\n",
      "Name: day2, dtype: int64\n"
     ]
    }
   ],
   "source": [
    "#refer to the named index:\n",
    "print(df.iloc[1])"
   ]
  },
  {
   "cell_type": "markdown",
   "id": "debf4510",
   "metadata": {},
   "source": [
    "---"
   ]
  },
  {
   "cell_type": "markdown",
   "id": "817b0376",
   "metadata": {},
   "source": [
    "# 3. Load Files Into a DataFrame"
   ]
  },
  {
   "cell_type": "markdown",
   "id": "77315b08",
   "metadata": {},
   "source": [
    "If your data sets are stored in a file, Pandas can load them into a DataFrame."
   ]
  },
  {
   "cell_type": "markdown",
   "id": "66e3ccee",
   "metadata": {},
   "source": [
    "## 3.1. Read CSV"
   ]
  },
  {
   "cell_type": "markdown",
   "id": "b3db36f6",
   "metadata": {},
   "source": [
    "A simple way to store big data sets is to use CSV files (comma separated files).\n",
    "\n",
    "CSV files contains plain text and is a well know format that can be read by everyone including Pandas."
   ]
  },
  {
   "cell_type": "code",
   "execution_count": 96,
   "id": "5b08394e",
   "metadata": {},
   "outputs": [
    {
     "name": "stdout",
     "output_type": "stream",
     "text": [
      "     Duration  Pulse  Maxpulse  Calories     Time\n",
      "0          60    110       130     409.1  Morning\n",
      "1          60    117       145     479.0  Morning\n",
      "2          60    103       135     340.0  Morning\n",
      "3          45    109       175     282.4  Morning\n",
      "4          45    117       148     406.0  Morning\n",
      "..        ...    ...       ...       ...      ...\n",
      "164        60    105       140     290.8  Morning\n",
      "165        60    110       145     300.0  Morning\n",
      "166        60    115       145     310.2  Morning\n",
      "167        75    120       150     320.4  Morning\n",
      "168        75    125       150     330.4  Morning\n",
      "\n",
      "[169 rows x 5 columns]\n"
     ]
    }
   ],
   "source": [
    "df = pd.read_csv('data.csv')\n",
    "\n",
    "print(df) "
   ]
  },
  {
   "cell_type": "markdown",
   "id": "2b60af36",
   "metadata": {},
   "source": [
    "**Tip:** use to_string() to print the entire DataFrame."
   ]
  },
  {
   "cell_type": "code",
   "execution_count": 97,
   "id": "1b14e336",
   "metadata": {},
   "outputs": [
    {
     "name": "stdout",
     "output_type": "stream",
     "text": [
      "     Duration  Pulse  Maxpulse  Calories     Time\n",
      "0          60    110       130     409.1  Morning\n",
      "1          60    117       145     479.0  Morning\n",
      "2          60    103       135     340.0  Morning\n",
      "3          45    109       175     282.4  Morning\n",
      "4          45    117       148     406.0  Morning\n",
      "5          60    102       127     300.0  Morning\n",
      "6          60    110       136     374.0  Evening\n",
      "7          45    104       134     253.3  Morning\n",
      "8          30    109       133     195.1  Morning\n",
      "9          60     98       124     269.0  Morning\n",
      "10         60    103       147     329.3  Morning\n",
      "11         60    100       120     250.7  Morning\n",
      "12         60    106       128     345.3  Morning\n",
      "13         60    104       132     379.3  Morning\n",
      "14         60     98       123     275.0  Morning\n",
      "15         60     98       120     215.2  Morning\n",
      "16         60    100       120     300.0  Morning\n",
      "17         45     90       112       NaN  Morning\n",
      "18         60    103       123     323.0  Morning\n",
      "19         45     97       125     243.0  Evening\n",
      "20         60    108       131     364.2  Morning\n",
      "21         45    100       119     282.0  Morning\n",
      "22         60    130       101     300.0  Morning\n",
      "23         45    105       132     246.0  Morning\n",
      "24         60    102       126     334.5  Morning\n",
      "25         60    100       120     250.0  Morning\n",
      "26         60     92       118     241.0  Morning\n",
      "27         60    103       132       NaN  Morning\n",
      "28         60    100       132     280.0  Morning\n",
      "29         60    102       129     380.3  Morning\n",
      "30         60     92       115     243.0  Morning\n",
      "31         45     90       112     180.1  Morning\n",
      "32         60    101       124     299.0  Morning\n",
      "33         60     93       113     223.0  Morning\n",
      "34         60    107       136     361.0  Morning\n",
      "35         60    114       140     415.0  Morning\n",
      "36         60    102       127     300.0  Morning\n",
      "37         60    100       120     300.0  Morning\n",
      "38         60    100       120     300.0  Evening\n",
      "39         45    104       129     266.0  Morning\n",
      "40         45     90       112     180.1  Morning\n",
      "41         60     98       126     286.0  Morning\n",
      "42         60    100       122     329.4  Morning\n",
      "43         60    111       138     400.0  Morning\n",
      "44         60    111       131     397.0  Morning\n",
      "45         60     99       119     273.0  Morning\n",
      "46         60    109       153     387.6  Morning\n",
      "47         45    111       136     300.0  Evening\n",
      "48         45    108       129     298.0  Morning\n",
      "49         60    111       139     397.6  Morning\n",
      "50         60    107       136     380.2  Morning\n",
      "51         80    123       146     643.1  Morning\n",
      "52         60    106       130     263.0  Morning\n",
      "53         60    118       151     486.0  Morning\n",
      "54         30    136       175     238.0  Evening\n",
      "55         60    121       146     450.7  Morning\n",
      "56         60    118       121     413.0  Morning\n",
      "57         45    115       144     305.0  Morning\n",
      "58         20    153       172     226.4  Morning\n",
      "59         45    123       152     321.0  Morning\n",
      "60        210    108       160    1376.0  Morning\n",
      "61        160    110       137    1034.4  Morning\n",
      "62        160    109       135     853.0  Morning\n",
      "63         45    118       141     341.0  Morning\n",
      "64         20    110       130     131.4  Morning\n",
      "65        180     90       130     800.4  Morning\n",
      "66        150    105       135     873.4  Morning\n",
      "67        150    107       130     816.0  Morning\n",
      "68         20    106       136     110.4  Morning\n",
      "69        300    108       143    1500.2  Morning\n",
      "70        150     97       129    1115.0  Evening\n",
      "71         60    109       153     387.6  Morning\n",
      "72         90    100       127     700.0  Morning\n",
      "73        150     97       127     953.2  Morning\n",
      "74         45    114       146     304.0  Morning\n",
      "75         90     98       125     563.2  Morning\n",
      "76         45    105       134     251.0  Morning\n",
      "77         45    110       141     300.0  Morning\n",
      "78        120    100       130     500.4  Morning\n",
      "79        270    100       131    1729.0  Morning\n",
      "80         30    159       182     319.2  Morning\n",
      "81         45    149       169     344.0  Morning\n",
      "82         30    103       139     151.1  Morning\n",
      "83        120    100       130     500.0  Morning\n",
      "84         45    100       120     225.3  Morning\n",
      "85         30    151       170     300.0  Morning\n",
      "86         45    102       136     234.0  Morning\n",
      "87        120    100       157    1000.1  Morning\n",
      "88         45    129       103     242.0  Morning\n",
      "89         20     83       107      50.3  Morning\n",
      "90        180    101       127     600.1  Morning\n",
      "91         45    107       137       NaN  Morning\n",
      "92         30     90       107     105.3  Morning\n",
      "93         15     80       100      50.5  Morning\n",
      "94         20    150       171     127.4  Morning\n",
      "95         20    151       168     229.4  Morning\n",
      "96         30     95       128     128.2  Morning\n",
      "97         25    152       168     244.2  Morning\n",
      "98         30    109       131     188.2  Morning\n",
      "99         90     93       124     604.1  Morning\n",
      "100        20     95       112      77.7  Morning\n",
      "101        90     90       110     500.0  Morning\n",
      "102        90     90       100     500.0  Morning\n",
      "103        90     90       100     500.4  Morning\n",
      "104        30     92       108      92.7  Morning\n",
      "105        30     93       128     124.0  Morning\n",
      "106       180     90       120     800.3  Morning\n",
      "107        30     90       120      86.2  Morning\n",
      "108        90     90       120     500.3  Morning\n",
      "109       210    137       184    1860.4  Morning\n",
      "110        60    102       124     325.2  Morning\n",
      "111        45    107       124     275.0  Morning\n",
      "112        15    124       139     124.2  Morning\n",
      "113        45    100       120     225.3  Morning\n",
      "114        60    108       131     367.6  Morning\n",
      "115        60    108       151     351.7  Morning\n",
      "116        60    116       141     443.0  Morning\n",
      "117        60     97       122     277.4  Morning\n",
      "118        60    105       125       NaN  Morning\n",
      "119        60    103       124     332.7  Morning\n",
      "120        30    112       137     193.9  Morning\n",
      "121        45    100       120     100.7  Morning\n",
      "122        60    119       169     336.7  Morning\n",
      "123        60    107       127     344.9  Morning\n",
      "124        60    111       151     368.5  Morning\n",
      "125        60     98       122     271.0  Morning\n",
      "126        60     97       124     275.3  Morning\n",
      "127        60    109       127     382.0  Morning\n",
      "128        90     99       125     466.4  Morning\n",
      "129        60    114       151     384.0  Morning\n",
      "130        60    104       134     342.5  Morning\n",
      "131        60    107       138     357.5  Morning\n",
      "132        60    103       133     335.0  Morning\n",
      "133        60    106       132     327.5  Morning\n",
      "134        60    103       136     339.0  Morning\n",
      "135        20    136       156     189.0  Morning\n",
      "136        45    117       143     317.7  Morning\n",
      "137        45    115       137     318.0  Morning\n",
      "138        45    113       138     308.0  Morning\n",
      "139        20    141       162     222.4  Morning\n",
      "140        60    108       135     390.0  Morning\n",
      "141        60     97       127       NaN  Morning\n",
      "142        45    100       120     250.4  Morning\n",
      "143        45    122       149     335.4  Morning\n",
      "144        60    136       170     470.2  Morning\n",
      "145        45    106       126     270.8  Morning\n",
      "146        60    107       136     400.0  Morning\n",
      "147        60    112       146     361.9  Morning\n",
      "148        30    103       127     185.0  Morning\n",
      "149        60    110       150     409.4  Morning\n",
      "150        60    106       134     343.0  Morning\n",
      "151        60    109       129     353.2  Morning\n",
      "152        60    109       138     374.0  Morning\n",
      "153        30    150       167     275.8  Morning\n",
      "154        60    105       128     328.0  Morning\n",
      "155        60    111       151     368.5  Morning\n",
      "156        60     97       131     270.4  Morning\n",
      "157        60    100       120     270.4  Morning\n",
      "158        60    114       150     382.8  Morning\n",
      "159        30     80       120     240.9  Morning\n",
      "160        30     85       120     250.4  Morning\n",
      "161        45     90       130     260.4  Morning\n",
      "162        45     95       130     270.0  Morning\n",
      "163        45    100       140     280.9  Morning\n",
      "164        60    105       140     290.8  Morning\n",
      "165        60    110       145     300.0  Morning\n",
      "166        60    115       145     310.2  Morning\n",
      "167        75    120       150     320.4  Morning\n",
      "168        75    125       150     330.4  Morning\n"
     ]
    }
   ],
   "source": [
    "print(df.to_string())"
   ]
  },
  {
   "cell_type": "markdown",
   "id": "90a69f14",
   "metadata": {},
   "source": [
    "## 3.2. Read Excel"
   ]
  },
  {
   "cell_type": "markdown",
   "id": "446817cb",
   "metadata": {},
   "source": [
    "To read excel file we need to install a engine **openpyxl**. Without this we cannot read an excel file."
   ]
  },
  {
   "cell_type": "code",
   "execution_count": 98,
   "id": "6dc22bbb",
   "metadata": {},
   "outputs": [
    {
     "name": "stdout",
     "output_type": "stream",
     "text": [
      "Requirement already satisfied: openpyxl in /home/waheedabbas/Environments/cenv/lib/python3.10/site-packages (3.0.10)\r\n",
      "Requirement already satisfied: et-xmlfile in /home/waheedabbas/Environments/cenv/lib/python3.10/site-packages (from openpyxl) (1.1.0)\r\n"
     ]
    }
   ],
   "source": [
    "!pip install openpyxl"
   ]
  },
  {
   "cell_type": "code",
   "execution_count": 99,
   "id": "2ad38794",
   "metadata": {},
   "outputs": [],
   "source": [
    "df = pd.read_excel('data.xlsx')"
   ]
  },
  {
   "cell_type": "code",
   "execution_count": 100,
   "id": "01705ab1",
   "metadata": {},
   "outputs": [
    {
     "name": "stdout",
     "output_type": "stream",
     "text": [
      "     Duration  Pulse  Maxpulse  Calories\n",
      "0          60    110       130     409.1\n",
      "1          60    117       145     479.0\n",
      "2          60    103       135     340.0\n",
      "3          45    109       175     282.4\n",
      "4          45    117       148     406.0\n",
      "..        ...    ...       ...       ...\n",
      "164        60    105       140     290.8\n",
      "165        60    110       145     300.0\n",
      "166        60    115       145     310.2\n",
      "167        75    120       150     320.4\n",
      "168        75    125       150     330.4\n",
      "\n",
      "[169 rows x 4 columns]\n"
     ]
    }
   ],
   "source": [
    "print(df)"
   ]
  },
  {
   "cell_type": "markdown",
   "id": "384ea5ac",
   "metadata": {},
   "source": [
    "## 3.3. Read Json"
   ]
  },
  {
   "cell_type": "markdown",
   "id": "5764854f",
   "metadata": {},
   "source": [
    "Big data sets are often stored, or extracted as JSON.\n",
    "\n",
    "JSON is plain text, but has the format of an object, and is well known in the world of programming, including Pandas."
   ]
  },
  {
   "cell_type": "code",
   "execution_count": 101,
   "id": "1cae5dbd",
   "metadata": {},
   "outputs": [
    {
     "name": "stdout",
     "output_type": "stream",
     "text": [
      "     Duration  Pulse  Maxpulse  Calories\n",
      "0          60    110       130     409.1\n",
      "1          60    117       145     479.0\n",
      "2          60    103       135     340.0\n",
      "3          45    109       175     282.4\n",
      "4          45    117       148     406.0\n",
      "5          60    102       127     300.5\n",
      "6          60    110       136     374.0\n",
      "7          45    104       134     253.3\n",
      "8          30    109       133     195.1\n",
      "9          60     98       124     269.0\n",
      "10         60    103       147     329.3\n",
      "11         60    100       120     250.7\n",
      "12         60    106       128     345.3\n",
      "13         60    104       132     379.3\n",
      "14         60     98       123     275.0\n",
      "15         60     98       120     215.2\n",
      "16         60    100       120     300.0\n",
      "17         45     90       112       NaN\n",
      "18         60    103       123     323.0\n",
      "19         45     97       125     243.0\n",
      "20         60    108       131     364.2\n",
      "21         45    100       119     282.0\n",
      "22         60    130       101     300.0\n",
      "23         45    105       132     246.0\n",
      "24         60    102       126     334.5\n",
      "25         60    100       120     250.0\n",
      "26         60     92       118     241.0\n",
      "27         60    103       132       NaN\n",
      "28         60    100       132     280.0\n",
      "29         60    102       129     380.3\n",
      "30         60     92       115     243.0\n",
      "31         45     90       112     180.1\n",
      "32         60    101       124     299.0\n",
      "33         60     93       113     223.0\n",
      "34         60    107       136     361.0\n",
      "35         60    114       140     415.0\n",
      "36         60    102       127     300.5\n",
      "37         60    100       120     300.1\n",
      "38         60    100       120     300.0\n",
      "39         45    104       129     266.0\n",
      "40         45     90       112     180.1\n",
      "41         60     98       126     286.0\n",
      "42         60    100       122     329.4\n",
      "43         60    111       138     400.0\n",
      "44         60    111       131     397.0\n",
      "45         60     99       119     273.0\n",
      "46         60    109       153     387.6\n",
      "47         45    111       136     300.0\n",
      "48         45    108       129     298.0\n",
      "49         60    111       139     397.6\n",
      "50         60    107       136     380.2\n",
      "51         80    123       146     643.1\n",
      "52         60    106       130     263.0\n",
      "53         60    118       151     486.0\n",
      "54         30    136       175     238.0\n",
      "55         60    121       146     450.7\n",
      "56         60    118       121     413.0\n",
      "57         45    115       144     305.0\n",
      "58         20    153       172     226.4\n",
      "59         45    123       152     321.0\n",
      "60        210    108       160    1376.0\n",
      "61        160    110       137    1034.4\n",
      "62        160    109       135     853.0\n",
      "63         45    118       141     341.0\n",
      "64         20    110       130     131.4\n",
      "65        180     90       130     800.4\n",
      "66        150    105       135     873.4\n",
      "67        150    107       130     816.0\n",
      "68         20    106       136     110.4\n",
      "69        300    108       143    1500.2\n",
      "70        150     97       129    1115.0\n",
      "71         60    109       153     387.6\n",
      "72         90    100       127     700.0\n",
      "73        150     97       127     953.2\n",
      "74         45    114       146     304.0\n",
      "75         90     98       125     563.2\n",
      "76         45    105       134     251.0\n",
      "77         45    110       141     300.0\n",
      "78        120    100       130     500.4\n",
      "79        270    100       131    1729.0\n",
      "80         30    159       182     319.2\n",
      "81         45    149       169     344.0\n",
      "82         30    103       139     151.1\n",
      "83        120    100       130     500.0\n",
      "84         45    100       120     225.3\n",
      "85         30    151       170     300.1\n",
      "86         45    102       136     234.0\n",
      "87        120    100       157    1000.1\n",
      "88         45    129       103     242.0\n",
      "89         20     83       107      50.3\n",
      "90        180    101       127     600.1\n",
      "91         45    107       137       NaN\n",
      "92         30     90       107     105.3\n",
      "93         15     80       100      50.5\n",
      "94         20    150       171     127.4\n",
      "95         20    151       168     229.4\n",
      "96         30     95       128     128.2\n",
      "97         25    152       168     244.2\n",
      "98         30    109       131     188.2\n",
      "99         90     93       124     604.1\n",
      "100        20     95       112      77.7\n",
      "101        90     90       110     500.0\n",
      "102        90     90       100     500.0\n",
      "103        90     90       100     500.4\n",
      "104        30     92       108      92.7\n",
      "105        30     93       128     124.0\n",
      "106       180     90       120     800.3\n",
      "107        30     90       120      86.2\n",
      "108        90     90       120     500.3\n",
      "109       210    137       184    1860.4\n",
      "110        60    102       124     325.2\n",
      "111        45    107       124     275.0\n",
      "112        15    124       139     124.2\n",
      "113        45    100       120     225.3\n",
      "114        60    108       131     367.6\n",
      "115        60    108       151     351.7\n",
      "116        60    116       141     443.0\n",
      "117        60     97       122     277.4\n",
      "118        60    105       125       NaN\n",
      "119        60    103       124     332.7\n",
      "120        30    112       137     193.9\n",
      "121        45    100       120     100.7\n",
      "122        60    119       169     336.7\n",
      "123        60    107       127     344.9\n",
      "124        60    111       151     368.5\n",
      "125        60     98       122     271.0\n",
      "126        60     97       124     275.3\n",
      "127        60    109       127     382.0\n",
      "128        90     99       125     466.4\n",
      "129        60    114       151     384.0\n",
      "130        60    104       134     342.5\n",
      "131        60    107       138     357.5\n",
      "132        60    103       133     335.0\n",
      "133        60    106       132     327.5\n",
      "134        60    103       136     339.0\n",
      "135        20    136       156     189.0\n",
      "136        45    117       143     317.7\n",
      "137        45    115       137     318.0\n",
      "138        45    113       138     308.0\n",
      "139        20    141       162     222.4\n",
      "140        60    108       135     390.0\n",
      "141        60     97       127       NaN\n",
      "142        45    100       120     250.4\n",
      "143        45    122       149     335.4\n",
      "144        60    136       170     470.2\n",
      "145        45    106       126     270.8\n",
      "146        60    107       136     400.0\n",
      "147        60    112       146     361.9\n",
      "148        30    103       127     185.0\n",
      "149        60    110       150     409.4\n",
      "150        60    106       134     343.0\n",
      "151        60    109       129     353.2\n",
      "152        60    109       138     374.0\n",
      "153        30    150       167     275.8\n",
      "154        60    105       128     328.0\n",
      "155        60    111       151     368.5\n",
      "156        60     97       131     270.4\n",
      "157        60    100       120     270.4\n",
      "158        60    114       150     382.8\n",
      "159        30     80       120     240.9\n",
      "160        30     85       120     250.4\n",
      "161        45     90       130     260.4\n",
      "162        45     95       130     270.0\n",
      "163        45    100       140     280.9\n",
      "164        60    105       140     290.8\n",
      "165        60    110       145     300.4\n",
      "166        60    115       145     310.2\n",
      "167        75    120       150     320.4\n",
      "168        75    125       150     330.4\n"
     ]
    }
   ],
   "source": [
    "df = pd.read_json('data.json')\n",
    "\n",
    "print(df.to_string()) "
   ]
  },
  {
   "cell_type": "code",
   "execution_count": 102,
   "id": "dd36ce74",
   "metadata": {},
   "outputs": [
    {
     "data": {
      "text/html": [
       "<div>\n",
       "<style scoped>\n",
       "    .dataframe tbody tr th:only-of-type {\n",
       "        vertical-align: middle;\n",
       "    }\n",
       "\n",
       "    .dataframe tbody tr th {\n",
       "        vertical-align: top;\n",
       "    }\n",
       "\n",
       "    .dataframe thead th {\n",
       "        text-align: right;\n",
       "    }\n",
       "</style>\n",
       "<table border=\"1\" class=\"dataframe\">\n",
       "  <thead>\n",
       "    <tr style=\"text-align: right;\">\n",
       "      <th></th>\n",
       "      <th>Duration</th>\n",
       "      <th>Pulse</th>\n",
       "      <th>Maxpulse</th>\n",
       "      <th>Calories</th>\n",
       "    </tr>\n",
       "  </thead>\n",
       "  <tbody>\n",
       "    <tr>\n",
       "      <th>0</th>\n",
       "      <td>60</td>\n",
       "      <td>110</td>\n",
       "      <td>130</td>\n",
       "      <td>409.1</td>\n",
       "    </tr>\n",
       "    <tr>\n",
       "      <th>1</th>\n",
       "      <td>60</td>\n",
       "      <td>117</td>\n",
       "      <td>145</td>\n",
       "      <td>479.0</td>\n",
       "    </tr>\n",
       "    <tr>\n",
       "      <th>2</th>\n",
       "      <td>60</td>\n",
       "      <td>103</td>\n",
       "      <td>135</td>\n",
       "      <td>340.0</td>\n",
       "    </tr>\n",
       "    <tr>\n",
       "      <th>3</th>\n",
       "      <td>45</td>\n",
       "      <td>109</td>\n",
       "      <td>175</td>\n",
       "      <td>282.4</td>\n",
       "    </tr>\n",
       "    <tr>\n",
       "      <th>4</th>\n",
       "      <td>45</td>\n",
       "      <td>117</td>\n",
       "      <td>148</td>\n",
       "      <td>406.0</td>\n",
       "    </tr>\n",
       "    <tr>\n",
       "      <th>...</th>\n",
       "      <td>...</td>\n",
       "      <td>...</td>\n",
       "      <td>...</td>\n",
       "      <td>...</td>\n",
       "    </tr>\n",
       "    <tr>\n",
       "      <th>164</th>\n",
       "      <td>60</td>\n",
       "      <td>105</td>\n",
       "      <td>140</td>\n",
       "      <td>290.8</td>\n",
       "    </tr>\n",
       "    <tr>\n",
       "      <th>165</th>\n",
       "      <td>60</td>\n",
       "      <td>110</td>\n",
       "      <td>145</td>\n",
       "      <td>300.4</td>\n",
       "    </tr>\n",
       "    <tr>\n",
       "      <th>166</th>\n",
       "      <td>60</td>\n",
       "      <td>115</td>\n",
       "      <td>145</td>\n",
       "      <td>310.2</td>\n",
       "    </tr>\n",
       "    <tr>\n",
       "      <th>167</th>\n",
       "      <td>75</td>\n",
       "      <td>120</td>\n",
       "      <td>150</td>\n",
       "      <td>320.4</td>\n",
       "    </tr>\n",
       "    <tr>\n",
       "      <th>168</th>\n",
       "      <td>75</td>\n",
       "      <td>125</td>\n",
       "      <td>150</td>\n",
       "      <td>330.4</td>\n",
       "    </tr>\n",
       "  </tbody>\n",
       "</table>\n",
       "<p>169 rows × 4 columns</p>\n",
       "</div>"
      ],
      "text/plain": [
       "     Duration  Pulse  Maxpulse  Calories\n",
       "0          60    110       130     409.1\n",
       "1          60    117       145     479.0\n",
       "2          60    103       135     340.0\n",
       "3          45    109       175     282.4\n",
       "4          45    117       148     406.0\n",
       "..        ...    ...       ...       ...\n",
       "164        60    105       140     290.8\n",
       "165        60    110       145     300.4\n",
       "166        60    115       145     310.2\n",
       "167        75    120       150     320.4\n",
       "168        75    125       150     330.4\n",
       "\n",
       "[169 rows x 4 columns]"
      ]
     },
     "execution_count": 102,
     "metadata": {},
     "output_type": "execute_result"
    }
   ],
   "source": [
    "df"
   ]
  },
  {
   "cell_type": "code",
   "execution_count": null,
   "id": "a53f80bf",
   "metadata": {},
   "outputs": [],
   "source": []
  },
  {
   "cell_type": "markdown",
   "id": "8be1f8b4",
   "metadata": {},
   "source": [
    "---"
   ]
  },
  {
   "cell_type": "markdown",
   "id": "44aca0ae",
   "metadata": {},
   "source": [
    "# 4. Converting back to a CSV, JSON, or SQL"
   ]
  },
  {
   "cell_type": "markdown",
   "id": "4f57c1d7",
   "metadata": {},
   "source": [
    "You can export a dataframe into many formats like CSV, JSON, Ecel or any other as per your requirement."
   ]
  },
  {
   "cell_type": "code",
   "execution_count": 103,
   "id": "c73665c3",
   "metadata": {},
   "outputs": [],
   "source": [
    "df.to_csv('converted.csv')\n",
    "df.to_excel('converted.xlsx')\n",
    "df.to_json('converted.json')"
   ]
  },
  {
   "cell_type": "markdown",
   "id": "f0699a14",
   "metadata": {},
   "source": [
    "# 5. View Data"
   ]
  },
  {
   "cell_type": "code",
   "execution_count": 104,
   "id": "378b6a2a",
   "metadata": {},
   "outputs": [],
   "source": [
    "df = pd.read_csv('data.csv')"
   ]
  },
  {
   "cell_type": "markdown",
   "id": "8af73ac0",
   "metadata": {},
   "source": [
    "## 5.1. head()"
   ]
  },
  {
   "cell_type": "markdown",
   "id": "45ba2a9b",
   "metadata": {},
   "source": [
    "See top 5 values by using **head()**"
   ]
  },
  {
   "cell_type": "code",
   "execution_count": 106,
   "id": "b74612bc",
   "metadata": {},
   "outputs": [
    {
     "data": {
      "text/html": [
       "<div>\n",
       "<style scoped>\n",
       "    .dataframe tbody tr th:only-of-type {\n",
       "        vertical-align: middle;\n",
       "    }\n",
       "\n",
       "    .dataframe tbody tr th {\n",
       "        vertical-align: top;\n",
       "    }\n",
       "\n",
       "    .dataframe thead th {\n",
       "        text-align: right;\n",
       "    }\n",
       "</style>\n",
       "<table border=\"1\" class=\"dataframe\">\n",
       "  <thead>\n",
       "    <tr style=\"text-align: right;\">\n",
       "      <th></th>\n",
       "      <th>Duration</th>\n",
       "      <th>Pulse</th>\n",
       "      <th>Maxpulse</th>\n",
       "      <th>Calories</th>\n",
       "      <th>Time</th>\n",
       "    </tr>\n",
       "  </thead>\n",
       "  <tbody>\n",
       "    <tr>\n",
       "      <th>0</th>\n",
       "      <td>60</td>\n",
       "      <td>110</td>\n",
       "      <td>130</td>\n",
       "      <td>409.1</td>\n",
       "      <td>Morning</td>\n",
       "    </tr>\n",
       "    <tr>\n",
       "      <th>1</th>\n",
       "      <td>60</td>\n",
       "      <td>117</td>\n",
       "      <td>145</td>\n",
       "      <td>479.0</td>\n",
       "      <td>Morning</td>\n",
       "    </tr>\n",
       "    <tr>\n",
       "      <th>2</th>\n",
       "      <td>60</td>\n",
       "      <td>103</td>\n",
       "      <td>135</td>\n",
       "      <td>340.0</td>\n",
       "      <td>Morning</td>\n",
       "    </tr>\n",
       "    <tr>\n",
       "      <th>3</th>\n",
       "      <td>45</td>\n",
       "      <td>109</td>\n",
       "      <td>175</td>\n",
       "      <td>282.4</td>\n",
       "      <td>Morning</td>\n",
       "    </tr>\n",
       "    <tr>\n",
       "      <th>4</th>\n",
       "      <td>45</td>\n",
       "      <td>117</td>\n",
       "      <td>148</td>\n",
       "      <td>406.0</td>\n",
       "      <td>Morning</td>\n",
       "    </tr>\n",
       "  </tbody>\n",
       "</table>\n",
       "</div>"
      ],
      "text/plain": [
       "   Duration  Pulse  Maxpulse  Calories     Time\n",
       "0        60    110       130     409.1  Morning\n",
       "1        60    117       145     479.0  Morning\n",
       "2        60    103       135     340.0  Morning\n",
       "3        45    109       175     282.4  Morning\n",
       "4        45    117       148     406.0  Morning"
      ]
     },
     "execution_count": 106,
     "metadata": {},
     "output_type": "execute_result"
    }
   ],
   "source": [
    "# By default it will show 5 from top\n",
    "df.head()"
   ]
  },
  {
   "cell_type": "code",
   "execution_count": 107,
   "id": "f3c00041",
   "metadata": {},
   "outputs": [
    {
     "data": {
      "text/html": [
       "<div>\n",
       "<style scoped>\n",
       "    .dataframe tbody tr th:only-of-type {\n",
       "        vertical-align: middle;\n",
       "    }\n",
       "\n",
       "    .dataframe tbody tr th {\n",
       "        vertical-align: top;\n",
       "    }\n",
       "\n",
       "    .dataframe thead th {\n",
       "        text-align: right;\n",
       "    }\n",
       "</style>\n",
       "<table border=\"1\" class=\"dataframe\">\n",
       "  <thead>\n",
       "    <tr style=\"text-align: right;\">\n",
       "      <th></th>\n",
       "      <th>Duration</th>\n",
       "      <th>Pulse</th>\n",
       "      <th>Maxpulse</th>\n",
       "      <th>Calories</th>\n",
       "      <th>Time</th>\n",
       "    </tr>\n",
       "  </thead>\n",
       "  <tbody>\n",
       "    <tr>\n",
       "      <th>0</th>\n",
       "      <td>60</td>\n",
       "      <td>110</td>\n",
       "      <td>130</td>\n",
       "      <td>409.1</td>\n",
       "      <td>Morning</td>\n",
       "    </tr>\n",
       "    <tr>\n",
       "      <th>1</th>\n",
       "      <td>60</td>\n",
       "      <td>117</td>\n",
       "      <td>145</td>\n",
       "      <td>479.0</td>\n",
       "      <td>Morning</td>\n",
       "    </tr>\n",
       "    <tr>\n",
       "      <th>2</th>\n",
       "      <td>60</td>\n",
       "      <td>103</td>\n",
       "      <td>135</td>\n",
       "      <td>340.0</td>\n",
       "      <td>Morning</td>\n",
       "    </tr>\n",
       "    <tr>\n",
       "      <th>3</th>\n",
       "      <td>45</td>\n",
       "      <td>109</td>\n",
       "      <td>175</td>\n",
       "      <td>282.4</td>\n",
       "      <td>Morning</td>\n",
       "    </tr>\n",
       "    <tr>\n",
       "      <th>4</th>\n",
       "      <td>45</td>\n",
       "      <td>117</td>\n",
       "      <td>148</td>\n",
       "      <td>406.0</td>\n",
       "      <td>Morning</td>\n",
       "    </tr>\n",
       "    <tr>\n",
       "      <th>5</th>\n",
       "      <td>60</td>\n",
       "      <td>102</td>\n",
       "      <td>127</td>\n",
       "      <td>300.0</td>\n",
       "      <td>Morning</td>\n",
       "    </tr>\n",
       "    <tr>\n",
       "      <th>6</th>\n",
       "      <td>60</td>\n",
       "      <td>110</td>\n",
       "      <td>136</td>\n",
       "      <td>374.0</td>\n",
       "      <td>Evening</td>\n",
       "    </tr>\n",
       "    <tr>\n",
       "      <th>7</th>\n",
       "      <td>45</td>\n",
       "      <td>104</td>\n",
       "      <td>134</td>\n",
       "      <td>253.3</td>\n",
       "      <td>Morning</td>\n",
       "    </tr>\n",
       "    <tr>\n",
       "      <th>8</th>\n",
       "      <td>30</td>\n",
       "      <td>109</td>\n",
       "      <td>133</td>\n",
       "      <td>195.1</td>\n",
       "      <td>Morning</td>\n",
       "    </tr>\n",
       "    <tr>\n",
       "      <th>9</th>\n",
       "      <td>60</td>\n",
       "      <td>98</td>\n",
       "      <td>124</td>\n",
       "      <td>269.0</td>\n",
       "      <td>Morning</td>\n",
       "    </tr>\n",
       "  </tbody>\n",
       "</table>\n",
       "</div>"
      ],
      "text/plain": [
       "   Duration  Pulse  Maxpulse  Calories     Time\n",
       "0        60    110       130     409.1  Morning\n",
       "1        60    117       145     479.0  Morning\n",
       "2        60    103       135     340.0  Morning\n",
       "3        45    109       175     282.4  Morning\n",
       "4        45    117       148     406.0  Morning\n",
       "5        60    102       127     300.0  Morning\n",
       "6        60    110       136     374.0  Evening\n",
       "7        45    104       134     253.3  Morning\n",
       "8        30    109       133     195.1  Morning\n",
       "9        60     98       124     269.0  Morning"
      ]
     },
     "execution_count": 107,
     "metadata": {},
     "output_type": "execute_result"
    }
   ],
   "source": [
    "# You can also mention any amount\n",
    "df.head(10)"
   ]
  },
  {
   "cell_type": "markdown",
   "id": "5e79e192",
   "metadata": {},
   "source": [
    "## 5.2. tail()"
   ]
  },
  {
   "cell_type": "markdown",
   "id": "a4f7cc28",
   "metadata": {},
   "source": [
    "See bottom 5 values by using **tail()**"
   ]
  },
  {
   "cell_type": "code",
   "execution_count": 108,
   "id": "308e50f4",
   "metadata": {},
   "outputs": [
    {
     "data": {
      "text/html": [
       "<div>\n",
       "<style scoped>\n",
       "    .dataframe tbody tr th:only-of-type {\n",
       "        vertical-align: middle;\n",
       "    }\n",
       "\n",
       "    .dataframe tbody tr th {\n",
       "        vertical-align: top;\n",
       "    }\n",
       "\n",
       "    .dataframe thead th {\n",
       "        text-align: right;\n",
       "    }\n",
       "</style>\n",
       "<table border=\"1\" class=\"dataframe\">\n",
       "  <thead>\n",
       "    <tr style=\"text-align: right;\">\n",
       "      <th></th>\n",
       "      <th>Duration</th>\n",
       "      <th>Pulse</th>\n",
       "      <th>Maxpulse</th>\n",
       "      <th>Calories</th>\n",
       "      <th>Time</th>\n",
       "    </tr>\n",
       "  </thead>\n",
       "  <tbody>\n",
       "    <tr>\n",
       "      <th>164</th>\n",
       "      <td>60</td>\n",
       "      <td>105</td>\n",
       "      <td>140</td>\n",
       "      <td>290.8</td>\n",
       "      <td>Morning</td>\n",
       "    </tr>\n",
       "    <tr>\n",
       "      <th>165</th>\n",
       "      <td>60</td>\n",
       "      <td>110</td>\n",
       "      <td>145</td>\n",
       "      <td>300.0</td>\n",
       "      <td>Morning</td>\n",
       "    </tr>\n",
       "    <tr>\n",
       "      <th>166</th>\n",
       "      <td>60</td>\n",
       "      <td>115</td>\n",
       "      <td>145</td>\n",
       "      <td>310.2</td>\n",
       "      <td>Morning</td>\n",
       "    </tr>\n",
       "    <tr>\n",
       "      <th>167</th>\n",
       "      <td>75</td>\n",
       "      <td>120</td>\n",
       "      <td>150</td>\n",
       "      <td>320.4</td>\n",
       "      <td>Morning</td>\n",
       "    </tr>\n",
       "    <tr>\n",
       "      <th>168</th>\n",
       "      <td>75</td>\n",
       "      <td>125</td>\n",
       "      <td>150</td>\n",
       "      <td>330.4</td>\n",
       "      <td>Morning</td>\n",
       "    </tr>\n",
       "  </tbody>\n",
       "</table>\n",
       "</div>"
      ],
      "text/plain": [
       "     Duration  Pulse  Maxpulse  Calories     Time\n",
       "164        60    105       140     290.8  Morning\n",
       "165        60    110       145     300.0  Morning\n",
       "166        60    115       145     310.2  Morning\n",
       "167        75    120       150     320.4  Morning\n",
       "168        75    125       150     330.4  Morning"
      ]
     },
     "execution_count": 108,
     "metadata": {},
     "output_type": "execute_result"
    }
   ],
   "source": [
    "# By default it will show 5 from bottom\n",
    "df.tail()"
   ]
  },
  {
   "cell_type": "code",
   "execution_count": 109,
   "id": "d74e006c",
   "metadata": {},
   "outputs": [
    {
     "data": {
      "text/html": [
       "<div>\n",
       "<style scoped>\n",
       "    .dataframe tbody tr th:only-of-type {\n",
       "        vertical-align: middle;\n",
       "    }\n",
       "\n",
       "    .dataframe tbody tr th {\n",
       "        vertical-align: top;\n",
       "    }\n",
       "\n",
       "    .dataframe thead th {\n",
       "        text-align: right;\n",
       "    }\n",
       "</style>\n",
       "<table border=\"1\" class=\"dataframe\">\n",
       "  <thead>\n",
       "    <tr style=\"text-align: right;\">\n",
       "      <th></th>\n",
       "      <th>Duration</th>\n",
       "      <th>Pulse</th>\n",
       "      <th>Maxpulse</th>\n",
       "      <th>Calories</th>\n",
       "      <th>Time</th>\n",
       "    </tr>\n",
       "  </thead>\n",
       "  <tbody>\n",
       "    <tr>\n",
       "      <th>159</th>\n",
       "      <td>30</td>\n",
       "      <td>80</td>\n",
       "      <td>120</td>\n",
       "      <td>240.9</td>\n",
       "      <td>Morning</td>\n",
       "    </tr>\n",
       "    <tr>\n",
       "      <th>160</th>\n",
       "      <td>30</td>\n",
       "      <td>85</td>\n",
       "      <td>120</td>\n",
       "      <td>250.4</td>\n",
       "      <td>Morning</td>\n",
       "    </tr>\n",
       "    <tr>\n",
       "      <th>161</th>\n",
       "      <td>45</td>\n",
       "      <td>90</td>\n",
       "      <td>130</td>\n",
       "      <td>260.4</td>\n",
       "      <td>Morning</td>\n",
       "    </tr>\n",
       "    <tr>\n",
       "      <th>162</th>\n",
       "      <td>45</td>\n",
       "      <td>95</td>\n",
       "      <td>130</td>\n",
       "      <td>270.0</td>\n",
       "      <td>Morning</td>\n",
       "    </tr>\n",
       "    <tr>\n",
       "      <th>163</th>\n",
       "      <td>45</td>\n",
       "      <td>100</td>\n",
       "      <td>140</td>\n",
       "      <td>280.9</td>\n",
       "      <td>Morning</td>\n",
       "    </tr>\n",
       "    <tr>\n",
       "      <th>164</th>\n",
       "      <td>60</td>\n",
       "      <td>105</td>\n",
       "      <td>140</td>\n",
       "      <td>290.8</td>\n",
       "      <td>Morning</td>\n",
       "    </tr>\n",
       "    <tr>\n",
       "      <th>165</th>\n",
       "      <td>60</td>\n",
       "      <td>110</td>\n",
       "      <td>145</td>\n",
       "      <td>300.0</td>\n",
       "      <td>Morning</td>\n",
       "    </tr>\n",
       "    <tr>\n",
       "      <th>166</th>\n",
       "      <td>60</td>\n",
       "      <td>115</td>\n",
       "      <td>145</td>\n",
       "      <td>310.2</td>\n",
       "      <td>Morning</td>\n",
       "    </tr>\n",
       "    <tr>\n",
       "      <th>167</th>\n",
       "      <td>75</td>\n",
       "      <td>120</td>\n",
       "      <td>150</td>\n",
       "      <td>320.4</td>\n",
       "      <td>Morning</td>\n",
       "    </tr>\n",
       "    <tr>\n",
       "      <th>168</th>\n",
       "      <td>75</td>\n",
       "      <td>125</td>\n",
       "      <td>150</td>\n",
       "      <td>330.4</td>\n",
       "      <td>Morning</td>\n",
       "    </tr>\n",
       "  </tbody>\n",
       "</table>\n",
       "</div>"
      ],
      "text/plain": [
       "     Duration  Pulse  Maxpulse  Calories     Time\n",
       "159        30     80       120     240.9  Morning\n",
       "160        30     85       120     250.4  Morning\n",
       "161        45     90       130     260.4  Morning\n",
       "162        45     95       130     270.0  Morning\n",
       "163        45    100       140     280.9  Morning\n",
       "164        60    105       140     290.8  Morning\n",
       "165        60    110       145     300.0  Morning\n",
       "166        60    115       145     310.2  Morning\n",
       "167        75    120       150     320.4  Morning\n",
       "168        75    125       150     330.4  Morning"
      ]
     },
     "execution_count": 109,
     "metadata": {},
     "output_type": "execute_result"
    }
   ],
   "source": [
    "# You can also mention any amount\n",
    "df.tail(10)"
   ]
  },
  {
   "cell_type": "markdown",
   "id": "d4b07ad0",
   "metadata": {},
   "source": [
    "## 5.3. sample()"
   ]
  },
  {
   "cell_type": "code",
   "execution_count": 110,
   "id": "32100d18",
   "metadata": {},
   "outputs": [
    {
     "data": {
      "text/html": [
       "<div>\n",
       "<style scoped>\n",
       "    .dataframe tbody tr th:only-of-type {\n",
       "        vertical-align: middle;\n",
       "    }\n",
       "\n",
       "    .dataframe tbody tr th {\n",
       "        vertical-align: top;\n",
       "    }\n",
       "\n",
       "    .dataframe thead th {\n",
       "        text-align: right;\n",
       "    }\n",
       "</style>\n",
       "<table border=\"1\" class=\"dataframe\">\n",
       "  <thead>\n",
       "    <tr style=\"text-align: right;\">\n",
       "      <th></th>\n",
       "      <th>Duration</th>\n",
       "      <th>Pulse</th>\n",
       "      <th>Maxpulse</th>\n",
       "      <th>Calories</th>\n",
       "      <th>Time</th>\n",
       "    </tr>\n",
       "  </thead>\n",
       "  <tbody>\n",
       "    <tr>\n",
       "      <th>73</th>\n",
       "      <td>150</td>\n",
       "      <td>97</td>\n",
       "      <td>127</td>\n",
       "      <td>953.2</td>\n",
       "      <td>Morning</td>\n",
       "    </tr>\n",
       "    <tr>\n",
       "      <th>92</th>\n",
       "      <td>30</td>\n",
       "      <td>90</td>\n",
       "      <td>107</td>\n",
       "      <td>105.3</td>\n",
       "      <td>Morning</td>\n",
       "    </tr>\n",
       "    <tr>\n",
       "      <th>94</th>\n",
       "      <td>20</td>\n",
       "      <td>150</td>\n",
       "      <td>171</td>\n",
       "      <td>127.4</td>\n",
       "      <td>Morning</td>\n",
       "    </tr>\n",
       "    <tr>\n",
       "      <th>14</th>\n",
       "      <td>60</td>\n",
       "      <td>98</td>\n",
       "      <td>123</td>\n",
       "      <td>275.0</td>\n",
       "      <td>Morning</td>\n",
       "    </tr>\n",
       "    <tr>\n",
       "      <th>164</th>\n",
       "      <td>60</td>\n",
       "      <td>105</td>\n",
       "      <td>140</td>\n",
       "      <td>290.8</td>\n",
       "      <td>Morning</td>\n",
       "    </tr>\n",
       "    <tr>\n",
       "      <th>...</th>\n",
       "      <td>...</td>\n",
       "      <td>...</td>\n",
       "      <td>...</td>\n",
       "      <td>...</td>\n",
       "      <td>...</td>\n",
       "    </tr>\n",
       "    <tr>\n",
       "      <th>88</th>\n",
       "      <td>45</td>\n",
       "      <td>129</td>\n",
       "      <td>103</td>\n",
       "      <td>242.0</td>\n",
       "      <td>Morning</td>\n",
       "    </tr>\n",
       "    <tr>\n",
       "      <th>30</th>\n",
       "      <td>60</td>\n",
       "      <td>92</td>\n",
       "      <td>115</td>\n",
       "      <td>243.0</td>\n",
       "      <td>Morning</td>\n",
       "    </tr>\n",
       "    <tr>\n",
       "      <th>6</th>\n",
       "      <td>60</td>\n",
       "      <td>110</td>\n",
       "      <td>136</td>\n",
       "      <td>374.0</td>\n",
       "      <td>Evening</td>\n",
       "    </tr>\n",
       "    <tr>\n",
       "      <th>123</th>\n",
       "      <td>60</td>\n",
       "      <td>107</td>\n",
       "      <td>127</td>\n",
       "      <td>344.9</td>\n",
       "      <td>Morning</td>\n",
       "    </tr>\n",
       "    <tr>\n",
       "      <th>15</th>\n",
       "      <td>60</td>\n",
       "      <td>98</td>\n",
       "      <td>120</td>\n",
       "      <td>215.2</td>\n",
       "      <td>Morning</td>\n",
       "    </tr>\n",
       "  </tbody>\n",
       "</table>\n",
       "<p>84 rows × 5 columns</p>\n",
       "</div>"
      ],
      "text/plain": [
       "     Duration  Pulse  Maxpulse  Calories     Time\n",
       "73        150     97       127     953.2  Morning\n",
       "92         30     90       107     105.3  Morning\n",
       "94         20    150       171     127.4  Morning\n",
       "14         60     98       123     275.0  Morning\n",
       "164        60    105       140     290.8  Morning\n",
       "..        ...    ...       ...       ...      ...\n",
       "88         45    129       103     242.0  Morning\n",
       "30         60     92       115     243.0  Morning\n",
       "6          60    110       136     374.0  Evening\n",
       "123        60    107       127     344.9  Morning\n",
       "15         60     98       120     215.2  Morning\n",
       "\n",
       "[84 rows x 5 columns]"
      ]
     },
     "execution_count": 110,
     "metadata": {},
     "output_type": "execute_result"
    }
   ],
   "source": [
    "df.sample(frac=0.5)"
   ]
  },
  {
   "cell_type": "markdown",
   "id": "83a9c5a8",
   "metadata": {},
   "source": [
    "---"
   ]
  },
  {
   "cell_type": "markdown",
   "id": "1e75e2fa",
   "metadata": {},
   "source": [
    "# 6. Getting info about your data"
   ]
  },
  {
   "cell_type": "markdown",
   "id": "173a5190",
   "metadata": {},
   "source": [
    "## 6.1. info()"
   ]
  },
  {
   "cell_type": "markdown",
   "id": "3ec4b1cd",
   "metadata": {},
   "source": [
    "**.info()** should be one of the very first commands you run after loading your data:"
   ]
  },
  {
   "cell_type": "code",
   "execution_count": 112,
   "id": "b44a73b8",
   "metadata": {},
   "outputs": [
    {
     "name": "stdout",
     "output_type": "stream",
     "text": [
      "<class 'pandas.core.frame.DataFrame'>\n",
      "RangeIndex: 169 entries, 0 to 168\n",
      "Data columns (total 5 columns):\n",
      " #   Column    Non-Null Count  Dtype  \n",
      "---  ------    --------------  -----  \n",
      " 0   Duration  169 non-null    int64  \n",
      " 1   Pulse     169 non-null    int64  \n",
      " 2   Maxpulse  169 non-null    int64  \n",
      " 3   Calories  164 non-null    float64\n",
      " 4   Time      169 non-null    object \n",
      "dtypes: float64(1), int64(3), object(1)\n",
      "memory usage: 6.7+ KB\n"
     ]
    }
   ],
   "source": [
    "df.info()"
   ]
  },
  {
   "cell_type": "markdown",
   "id": "08c0abc4",
   "metadata": {},
   "source": [
    "**.info()** provides the essential details about your dataset, such as the number of rows and columns, the number of non-null values, what type of data is in each column, and how much memory your DataFrame is using."
   ]
  },
  {
   "cell_type": "markdown",
   "id": "fc7d81a4",
   "metadata": {},
   "source": [
    "## 6.2. describe()"
   ]
  },
  {
   "cell_type": "markdown",
   "id": "1868d0a4",
   "metadata": {},
   "source": [
    "Descriptive statistics include those that summarize the central tendency, dispersion and shape of a dataset’s distribution, excluding NaN values.\n",
    "\n"
   ]
  },
  {
   "cell_type": "code",
   "execution_count": 114,
   "id": "6d44bda1",
   "metadata": {},
   "outputs": [
    {
     "data": {
      "text/html": [
       "<div>\n",
       "<style scoped>\n",
       "    .dataframe tbody tr th:only-of-type {\n",
       "        vertical-align: middle;\n",
       "    }\n",
       "\n",
       "    .dataframe tbody tr th {\n",
       "        vertical-align: top;\n",
       "    }\n",
       "\n",
       "    .dataframe thead th {\n",
       "        text-align: right;\n",
       "    }\n",
       "</style>\n",
       "<table border=\"1\" class=\"dataframe\">\n",
       "  <thead>\n",
       "    <tr style=\"text-align: right;\">\n",
       "      <th></th>\n",
       "      <th>Duration</th>\n",
       "      <th>Pulse</th>\n",
       "      <th>Maxpulse</th>\n",
       "      <th>Calories</th>\n",
       "    </tr>\n",
       "  </thead>\n",
       "  <tbody>\n",
       "    <tr>\n",
       "      <th>count</th>\n",
       "      <td>169.000000</td>\n",
       "      <td>169.000000</td>\n",
       "      <td>169.000000</td>\n",
       "      <td>164.000000</td>\n",
       "    </tr>\n",
       "    <tr>\n",
       "      <th>mean</th>\n",
       "      <td>63.846154</td>\n",
       "      <td>107.461538</td>\n",
       "      <td>134.047337</td>\n",
       "      <td>375.790244</td>\n",
       "    </tr>\n",
       "    <tr>\n",
       "      <th>std</th>\n",
       "      <td>42.299949</td>\n",
       "      <td>14.510259</td>\n",
       "      <td>16.450434</td>\n",
       "      <td>266.379919</td>\n",
       "    </tr>\n",
       "    <tr>\n",
       "      <th>min</th>\n",
       "      <td>15.000000</td>\n",
       "      <td>80.000000</td>\n",
       "      <td>100.000000</td>\n",
       "      <td>50.300000</td>\n",
       "    </tr>\n",
       "    <tr>\n",
       "      <th>25%</th>\n",
       "      <td>45.000000</td>\n",
       "      <td>100.000000</td>\n",
       "      <td>124.000000</td>\n",
       "      <td>250.925000</td>\n",
       "    </tr>\n",
       "    <tr>\n",
       "      <th>50%</th>\n",
       "      <td>60.000000</td>\n",
       "      <td>105.000000</td>\n",
       "      <td>131.000000</td>\n",
       "      <td>318.600000</td>\n",
       "    </tr>\n",
       "    <tr>\n",
       "      <th>75%</th>\n",
       "      <td>60.000000</td>\n",
       "      <td>111.000000</td>\n",
       "      <td>141.000000</td>\n",
       "      <td>387.600000</td>\n",
       "    </tr>\n",
       "    <tr>\n",
       "      <th>max</th>\n",
       "      <td>300.000000</td>\n",
       "      <td>159.000000</td>\n",
       "      <td>184.000000</td>\n",
       "      <td>1860.400000</td>\n",
       "    </tr>\n",
       "  </tbody>\n",
       "</table>\n",
       "</div>"
      ],
      "text/plain": [
       "         Duration       Pulse    Maxpulse     Calories\n",
       "count  169.000000  169.000000  169.000000   164.000000\n",
       "mean    63.846154  107.461538  134.047337   375.790244\n",
       "std     42.299949   14.510259   16.450434   266.379919\n",
       "min     15.000000   80.000000  100.000000    50.300000\n",
       "25%     45.000000  100.000000  124.000000   250.925000\n",
       "50%     60.000000  105.000000  131.000000   318.600000\n",
       "75%     60.000000  111.000000  141.000000   387.600000\n",
       "max    300.000000  159.000000  184.000000  1860.400000"
      ]
     },
     "execution_count": 114,
     "metadata": {},
     "output_type": "execute_result"
    }
   ],
   "source": [
    "df.describe()"
   ]
  },
  {
   "cell_type": "markdown",
   "id": "3aacf4cc",
   "metadata": {},
   "source": [
    "## 6.3. shape"
   ]
  },
  {
   "cell_type": "markdown",
   "id": "29b33f07",
   "metadata": {},
   "source": [
    "useful attribute is **.shape**, which outputs just a tuple of (rows, columns):"
   ]
  },
  {
   "cell_type": "code",
   "execution_count": 115,
   "id": "c46ea419",
   "metadata": {},
   "outputs": [
    {
     "data": {
      "text/plain": [
       "(169, 5)"
      ]
     },
     "execution_count": 115,
     "metadata": {},
     "output_type": "execute_result"
    }
   ],
   "source": [
    "df.shape"
   ]
  },
  {
   "cell_type": "markdown",
   "id": "89463220",
   "metadata": {},
   "source": [
    "Note that .shape has no parentheses and is a simple tuple of format (rows, columns). So we have **169 rows and 4 columns** in our movies DataFrame."
   ]
  },
  {
   "cell_type": "markdown",
   "id": "c0b6d90a",
   "metadata": {},
   "source": [
    "## 6.4. isnull()"
   ]
  },
  {
   "cell_type": "markdown",
   "id": "5e513135",
   "metadata": {},
   "source": [
    "**isnull()** should return you True or False for each dataframe element based on whatever it is null or not"
   ]
  },
  {
   "cell_type": "code",
   "execution_count": 116,
   "id": "ba4504c2",
   "metadata": {},
   "outputs": [
    {
     "data": {
      "text/html": [
       "<div>\n",
       "<style scoped>\n",
       "    .dataframe tbody tr th:only-of-type {\n",
       "        vertical-align: middle;\n",
       "    }\n",
       "\n",
       "    .dataframe tbody tr th {\n",
       "        vertical-align: top;\n",
       "    }\n",
       "\n",
       "    .dataframe thead th {\n",
       "        text-align: right;\n",
       "    }\n",
       "</style>\n",
       "<table border=\"1\" class=\"dataframe\">\n",
       "  <thead>\n",
       "    <tr style=\"text-align: right;\">\n",
       "      <th></th>\n",
       "      <th>Duration</th>\n",
       "      <th>Pulse</th>\n",
       "      <th>Maxpulse</th>\n",
       "      <th>Calories</th>\n",
       "      <th>Time</th>\n",
       "    </tr>\n",
       "  </thead>\n",
       "  <tbody>\n",
       "    <tr>\n",
       "      <th>0</th>\n",
       "      <td>False</td>\n",
       "      <td>False</td>\n",
       "      <td>False</td>\n",
       "      <td>False</td>\n",
       "      <td>False</td>\n",
       "    </tr>\n",
       "    <tr>\n",
       "      <th>1</th>\n",
       "      <td>False</td>\n",
       "      <td>False</td>\n",
       "      <td>False</td>\n",
       "      <td>False</td>\n",
       "      <td>False</td>\n",
       "    </tr>\n",
       "    <tr>\n",
       "      <th>2</th>\n",
       "      <td>False</td>\n",
       "      <td>False</td>\n",
       "      <td>False</td>\n",
       "      <td>False</td>\n",
       "      <td>False</td>\n",
       "    </tr>\n",
       "    <tr>\n",
       "      <th>3</th>\n",
       "      <td>False</td>\n",
       "      <td>False</td>\n",
       "      <td>False</td>\n",
       "      <td>False</td>\n",
       "      <td>False</td>\n",
       "    </tr>\n",
       "    <tr>\n",
       "      <th>4</th>\n",
       "      <td>False</td>\n",
       "      <td>False</td>\n",
       "      <td>False</td>\n",
       "      <td>False</td>\n",
       "      <td>False</td>\n",
       "    </tr>\n",
       "    <tr>\n",
       "      <th>...</th>\n",
       "      <td>...</td>\n",
       "      <td>...</td>\n",
       "      <td>...</td>\n",
       "      <td>...</td>\n",
       "      <td>...</td>\n",
       "    </tr>\n",
       "    <tr>\n",
       "      <th>164</th>\n",
       "      <td>False</td>\n",
       "      <td>False</td>\n",
       "      <td>False</td>\n",
       "      <td>False</td>\n",
       "      <td>False</td>\n",
       "    </tr>\n",
       "    <tr>\n",
       "      <th>165</th>\n",
       "      <td>False</td>\n",
       "      <td>False</td>\n",
       "      <td>False</td>\n",
       "      <td>False</td>\n",
       "      <td>False</td>\n",
       "    </tr>\n",
       "    <tr>\n",
       "      <th>166</th>\n",
       "      <td>False</td>\n",
       "      <td>False</td>\n",
       "      <td>False</td>\n",
       "      <td>False</td>\n",
       "      <td>False</td>\n",
       "    </tr>\n",
       "    <tr>\n",
       "      <th>167</th>\n",
       "      <td>False</td>\n",
       "      <td>False</td>\n",
       "      <td>False</td>\n",
       "      <td>False</td>\n",
       "      <td>False</td>\n",
       "    </tr>\n",
       "    <tr>\n",
       "      <th>168</th>\n",
       "      <td>False</td>\n",
       "      <td>False</td>\n",
       "      <td>False</td>\n",
       "      <td>False</td>\n",
       "      <td>False</td>\n",
       "    </tr>\n",
       "  </tbody>\n",
       "</table>\n",
       "<p>169 rows × 5 columns</p>\n",
       "</div>"
      ],
      "text/plain": [
       "     Duration  Pulse  Maxpulse  Calories   Time\n",
       "0       False  False     False     False  False\n",
       "1       False  False     False     False  False\n",
       "2       False  False     False     False  False\n",
       "3       False  False     False     False  False\n",
       "4       False  False     False     False  False\n",
       "..        ...    ...       ...       ...    ...\n",
       "164     False  False     False     False  False\n",
       "165     False  False     False     False  False\n",
       "166     False  False     False     False  False\n",
       "167     False  False     False     False  False\n",
       "168     False  False     False     False  False\n",
       "\n",
       "[169 rows x 5 columns]"
      ]
     },
     "execution_count": 116,
     "metadata": {},
     "output_type": "execute_result"
    }
   ],
   "source": [
    "df.isnull()"
   ]
  },
  {
   "cell_type": "code",
   "execution_count": 117,
   "id": "8ebf7582",
   "metadata": {},
   "outputs": [
    {
     "data": {
      "text/plain": [
       "Duration    0\n",
       "Pulse       0\n",
       "Maxpulse    0\n",
       "Calories    5\n",
       "Time        0\n",
       "dtype: int64"
      ]
     },
     "execution_count": 117,
     "metadata": {},
     "output_type": "execute_result"
    }
   ],
   "source": [
    "# generate summary for each column\n",
    "df.isnull().sum()"
   ]
  },
  {
   "cell_type": "markdown",
   "id": "56a50c9f",
   "metadata": {},
   "source": [
    "## 6.5. min, max, mean, median, mode, value_counts"
   ]
  },
  {
   "cell_type": "markdown",
   "id": "a5aef0b2",
   "metadata": {},
   "source": [
    "We can perform different on column on a pandas DataFrame as following:"
   ]
  },
  {
   "cell_type": "markdown",
   "id": "0de1a1fa",
   "metadata": {},
   "source": [
    "calculate min on entire df or indivual column."
   ]
  },
  {
   "cell_type": "code",
   "execution_count": 118,
   "id": "0adc6623",
   "metadata": {},
   "outputs": [
    {
     "data": {
      "text/plain": [
       "Duration         15\n",
       "Pulse            80\n",
       "Maxpulse        100\n",
       "Calories       50.3\n",
       "Time        Evening\n",
       "dtype: object"
      ]
     },
     "execution_count": 118,
     "metadata": {},
     "output_type": "execute_result"
    }
   ],
   "source": [
    "df.min()"
   ]
  },
  {
   "cell_type": "code",
   "execution_count": 119,
   "id": "44a36a46",
   "metadata": {},
   "outputs": [
    {
     "data": {
      "text/plain": [
       "50.3"
      ]
     },
     "execution_count": 119,
     "metadata": {},
     "output_type": "execute_result"
    }
   ],
   "source": [
    "df['Calories'].min()"
   ]
  },
  {
   "cell_type": "markdown",
   "id": "b34d92ca",
   "metadata": {},
   "source": [
    "calculate max on entire df or indivual column."
   ]
  },
  {
   "cell_type": "code",
   "execution_count": 120,
   "id": "408b9ef0",
   "metadata": {},
   "outputs": [
    {
     "data": {
      "text/plain": [
       "Duration        300\n",
       "Pulse           159\n",
       "Maxpulse        184\n",
       "Calories     1860.4\n",
       "Time        Morning\n",
       "dtype: object"
      ]
     },
     "execution_count": 120,
     "metadata": {},
     "output_type": "execute_result"
    }
   ],
   "source": [
    "df.max()"
   ]
  },
  {
   "cell_type": "code",
   "execution_count": 121,
   "id": "8c9b5d8e",
   "metadata": {},
   "outputs": [
    {
     "data": {
      "text/plain": [
       "1860.4"
      ]
     },
     "execution_count": 121,
     "metadata": {},
     "output_type": "execute_result"
    }
   ],
   "source": [
    "df['Calories'].max()"
   ]
  },
  {
   "cell_type": "markdown",
   "id": "be436453",
   "metadata": {},
   "source": [
    "calculate mean on entire df or indivual column."
   ]
  },
  {
   "cell_type": "code",
   "execution_count": 122,
   "id": "db3f90e0",
   "metadata": {},
   "outputs": [
    {
     "name": "stderr",
     "output_type": "stream",
     "text": [
      "/tmp/ipykernel_13446/3698961737.py:1: FutureWarning: Dropping of nuisance columns in DataFrame reductions (with 'numeric_only=None') is deprecated; in a future version this will raise TypeError.  Select only valid columns before calling the reduction.\n",
      "  df.mean()\n"
     ]
    },
    {
     "data": {
      "text/plain": [
       "Duration     63.846154\n",
       "Pulse       107.461538\n",
       "Maxpulse    134.047337\n",
       "Calories    375.790244\n",
       "dtype: float64"
      ]
     },
     "execution_count": 122,
     "metadata": {},
     "output_type": "execute_result"
    }
   ],
   "source": [
    "df.mean()"
   ]
  },
  {
   "cell_type": "code",
   "execution_count": 123,
   "id": "7eccd795",
   "metadata": {},
   "outputs": [
    {
     "data": {
      "text/plain": [
       "375.79024390243904"
      ]
     },
     "execution_count": 123,
     "metadata": {},
     "output_type": "execute_result"
    }
   ],
   "source": [
    "df['Calories'].mean()"
   ]
  },
  {
   "cell_type": "markdown",
   "id": "f8b36a98",
   "metadata": {},
   "source": [
    "calculate median on entire df or indivual column."
   ]
  },
  {
   "cell_type": "code",
   "execution_count": 124,
   "id": "9a7efb21",
   "metadata": {},
   "outputs": [
    {
     "name": "stderr",
     "output_type": "stream",
     "text": [
      "/tmp/ipykernel_13446/530051474.py:1: FutureWarning: Dropping of nuisance columns in DataFrame reductions (with 'numeric_only=None') is deprecated; in a future version this will raise TypeError.  Select only valid columns before calling the reduction.\n",
      "  df.median()\n"
     ]
    },
    {
     "data": {
      "text/plain": [
       "Duration     60.0\n",
       "Pulse       105.0\n",
       "Maxpulse    131.0\n",
       "Calories    318.6\n",
       "dtype: float64"
      ]
     },
     "execution_count": 124,
     "metadata": {},
     "output_type": "execute_result"
    }
   ],
   "source": [
    "df.median()"
   ]
  },
  {
   "cell_type": "code",
   "execution_count": 125,
   "id": "1a5f20fa",
   "metadata": {},
   "outputs": [
    {
     "data": {
      "text/plain": [
       "318.6"
      ]
     },
     "execution_count": 125,
     "metadata": {},
     "output_type": "execute_result"
    }
   ],
   "source": [
    "df['Calories'].median()"
   ]
  },
  {
   "cell_type": "markdown",
   "id": "34188eab",
   "metadata": {},
   "source": [
    "calculate mode on entire df or indivual column."
   ]
  },
  {
   "cell_type": "code",
   "execution_count": 126,
   "id": "7f7454cf",
   "metadata": {},
   "outputs": [
    {
     "data": {
      "text/html": [
       "<div>\n",
       "<style scoped>\n",
       "    .dataframe tbody tr th:only-of-type {\n",
       "        vertical-align: middle;\n",
       "    }\n",
       "\n",
       "    .dataframe tbody tr th {\n",
       "        vertical-align: top;\n",
       "    }\n",
       "\n",
       "    .dataframe thead th {\n",
       "        text-align: right;\n",
       "    }\n",
       "</style>\n",
       "<table border=\"1\" class=\"dataframe\">\n",
       "  <thead>\n",
       "    <tr style=\"text-align: right;\">\n",
       "      <th></th>\n",
       "      <th>Duration</th>\n",
       "      <th>Pulse</th>\n",
       "      <th>Maxpulse</th>\n",
       "      <th>Calories</th>\n",
       "      <th>Time</th>\n",
       "    </tr>\n",
       "  </thead>\n",
       "  <tbody>\n",
       "    <tr>\n",
       "      <th>0</th>\n",
       "      <td>60</td>\n",
       "      <td>100</td>\n",
       "      <td>120</td>\n",
       "      <td>300.0</td>\n",
       "      <td>Morning</td>\n",
       "    </tr>\n",
       "  </tbody>\n",
       "</table>\n",
       "</div>"
      ],
      "text/plain": [
       "   Duration  Pulse  Maxpulse  Calories     Time\n",
       "0        60    100       120     300.0  Morning"
      ]
     },
     "execution_count": 126,
     "metadata": {},
     "output_type": "execute_result"
    }
   ],
   "source": [
    "df.mode()"
   ]
  },
  {
   "cell_type": "code",
   "execution_count": 127,
   "id": "2fae106b",
   "metadata": {},
   "outputs": [
    {
     "data": {
      "text/plain": [
       "0    300.0\n",
       "Name: Calories, dtype: float64"
      ]
     },
     "execution_count": 127,
     "metadata": {},
     "output_type": "execute_result"
    }
   ],
   "source": [
    "df['Calories'].mode()"
   ]
  },
  {
   "cell_type": "markdown",
   "id": "230d1c0c",
   "metadata": {},
   "source": [
    "calculate counts of unique values on column."
   ]
  },
  {
   "cell_type": "code",
   "execution_count": 135,
   "id": "146ebf8c",
   "metadata": {},
   "outputs": [
    {
     "data": {
      "text/plain": [
       "array(['Morning', 'Evening'], dtype=object)"
      ]
     },
     "execution_count": 135,
     "metadata": {},
     "output_type": "execute_result"
    }
   ],
   "source": [
    "df['Time'].unique()"
   ]
  },
  {
   "cell_type": "code",
   "execution_count": 136,
   "id": "695294ce",
   "metadata": {},
   "outputs": [
    {
     "data": {
      "text/plain": [
       "2"
      ]
     },
     "execution_count": 136,
     "metadata": {},
     "output_type": "execute_result"
    }
   ],
   "source": [
    "df['Time'].nunique()"
   ]
  },
  {
   "cell_type": "code",
   "execution_count": 139,
   "id": "102f1894",
   "metadata": {},
   "outputs": [
    {
     "data": {
      "text/plain": [
       "Morning    96.449704\n",
       "Evening     3.550296\n",
       "Name: Time, dtype: float64"
      ]
     },
     "execution_count": 139,
     "metadata": {},
     "output_type": "execute_result"
    }
   ],
   "source": [
    "df['Time'].value_counts()/len(df)*100"
   ]
  },
  {
   "cell_type": "code",
   "execution_count": 142,
   "id": "1d45341a",
   "metadata": {},
   "outputs": [
    {
     "data": {
      "text/plain": [
       "Morning    96.45\n",
       "Evening     3.55\n",
       "Name: Time, dtype: float64"
      ]
     },
     "execution_count": 142,
     "metadata": {},
     "output_type": "execute_result"
    }
   ],
   "source": [
    "round(df['Time'].value_counts()/len(df)*100, 2)"
   ]
  },
  {
   "cell_type": "markdown",
   "id": "c2abaf14",
   "metadata": {},
   "source": [
    "# 7. Subsetting, Selecting and Filtering"
   ]
  },
  {
   "cell_type": "code",
   "execution_count": 143,
   "id": "2db80496",
   "metadata": {},
   "outputs": [
    {
     "data": {
      "text/plain": [
       "Index(['Duration', 'Pulse', 'Maxpulse', 'Calories', 'Time'], dtype='object')"
      ]
     },
     "execution_count": 143,
     "metadata": {},
     "output_type": "execute_result"
    }
   ],
   "source": [
    "df.columns"
   ]
  },
  {
   "cell_type": "markdown",
   "id": "ccfa0578",
   "metadata": {},
   "source": [
    "We can select specific columns by specifying the name as below:"
   ]
  },
  {
   "cell_type": "code",
   "execution_count": 148,
   "id": "f53f0541",
   "metadata": {},
   "outputs": [
    {
     "data": {
      "text/html": [
       "<div>\n",
       "<style scoped>\n",
       "    .dataframe tbody tr th:only-of-type {\n",
       "        vertical-align: middle;\n",
       "    }\n",
       "\n",
       "    .dataframe tbody tr th {\n",
       "        vertical-align: top;\n",
       "    }\n",
       "\n",
       "    .dataframe thead th {\n",
       "        text-align: right;\n",
       "    }\n",
       "</style>\n",
       "<table border=\"1\" class=\"dataframe\">\n",
       "  <thead>\n",
       "    <tr style=\"text-align: right;\">\n",
       "      <th></th>\n",
       "      <th>Duration</th>\n",
       "      <th>Maxpulse</th>\n",
       "    </tr>\n",
       "  </thead>\n",
       "  <tbody>\n",
       "    <tr>\n",
       "      <th>0</th>\n",
       "      <td>60</td>\n",
       "      <td>130</td>\n",
       "    </tr>\n",
       "    <tr>\n",
       "      <th>1</th>\n",
       "      <td>60</td>\n",
       "      <td>145</td>\n",
       "    </tr>\n",
       "    <tr>\n",
       "      <th>2</th>\n",
       "      <td>60</td>\n",
       "      <td>135</td>\n",
       "    </tr>\n",
       "    <tr>\n",
       "      <th>3</th>\n",
       "      <td>45</td>\n",
       "      <td>175</td>\n",
       "    </tr>\n",
       "    <tr>\n",
       "      <th>4</th>\n",
       "      <td>45</td>\n",
       "      <td>148</td>\n",
       "    </tr>\n",
       "    <tr>\n",
       "      <th>...</th>\n",
       "      <td>...</td>\n",
       "      <td>...</td>\n",
       "    </tr>\n",
       "    <tr>\n",
       "      <th>164</th>\n",
       "      <td>60</td>\n",
       "      <td>140</td>\n",
       "    </tr>\n",
       "    <tr>\n",
       "      <th>165</th>\n",
       "      <td>60</td>\n",
       "      <td>145</td>\n",
       "    </tr>\n",
       "    <tr>\n",
       "      <th>166</th>\n",
       "      <td>60</td>\n",
       "      <td>145</td>\n",
       "    </tr>\n",
       "    <tr>\n",
       "      <th>167</th>\n",
       "      <td>75</td>\n",
       "      <td>150</td>\n",
       "    </tr>\n",
       "    <tr>\n",
       "      <th>168</th>\n",
       "      <td>75</td>\n",
       "      <td>150</td>\n",
       "    </tr>\n",
       "  </tbody>\n",
       "</table>\n",
       "<p>169 rows × 2 columns</p>\n",
       "</div>"
      ],
      "text/plain": [
       "     Duration  Maxpulse\n",
       "0          60       130\n",
       "1          60       145\n",
       "2          60       135\n",
       "3          45       175\n",
       "4          45       148\n",
       "..        ...       ...\n",
       "164        60       140\n",
       "165        60       145\n",
       "166        60       145\n",
       "167        75       150\n",
       "168        75       150\n",
       "\n",
       "[169 rows x 2 columns]"
      ]
     },
     "execution_count": 148,
     "metadata": {},
     "output_type": "execute_result"
    }
   ],
   "source": [
    "df[['Duration', 'Maxpulse']]"
   ]
  },
  {
   "cell_type": "code",
   "execution_count": 150,
   "id": "494d03d5",
   "metadata": {},
   "outputs": [
    {
     "data": {
      "text/html": [
       "<div>\n",
       "<style scoped>\n",
       "    .dataframe tbody tr th:only-of-type {\n",
       "        vertical-align: middle;\n",
       "    }\n",
       "\n",
       "    .dataframe tbody tr th {\n",
       "        vertical-align: top;\n",
       "    }\n",
       "\n",
       "    .dataframe thead th {\n",
       "        text-align: right;\n",
       "    }\n",
       "</style>\n",
       "<table border=\"1\" class=\"dataframe\">\n",
       "  <thead>\n",
       "    <tr style=\"text-align: right;\">\n",
       "      <th></th>\n",
       "      <th>Duration</th>\n",
       "      <th>Maxpulse</th>\n",
       "    </tr>\n",
       "  </thead>\n",
       "  <tbody>\n",
       "    <tr>\n",
       "      <th>0</th>\n",
       "      <td>60</td>\n",
       "      <td>130</td>\n",
       "    </tr>\n",
       "    <tr>\n",
       "      <th>1</th>\n",
       "      <td>60</td>\n",
       "      <td>145</td>\n",
       "    </tr>\n",
       "    <tr>\n",
       "      <th>2</th>\n",
       "      <td>60</td>\n",
       "      <td>135</td>\n",
       "    </tr>\n",
       "    <tr>\n",
       "      <th>3</th>\n",
       "      <td>45</td>\n",
       "      <td>175</td>\n",
       "    </tr>\n",
       "    <tr>\n",
       "      <th>4</th>\n",
       "      <td>45</td>\n",
       "      <td>148</td>\n",
       "    </tr>\n",
       "    <tr>\n",
       "      <th>5</th>\n",
       "      <td>60</td>\n",
       "      <td>127</td>\n",
       "    </tr>\n",
       "    <tr>\n",
       "      <th>6</th>\n",
       "      <td>60</td>\n",
       "      <td>136</td>\n",
       "    </tr>\n",
       "    <tr>\n",
       "      <th>7</th>\n",
       "      <td>45</td>\n",
       "      <td>134</td>\n",
       "    </tr>\n",
       "    <tr>\n",
       "      <th>8</th>\n",
       "      <td>30</td>\n",
       "      <td>133</td>\n",
       "    </tr>\n",
       "    <tr>\n",
       "      <th>9</th>\n",
       "      <td>60</td>\n",
       "      <td>124</td>\n",
       "    </tr>\n",
       "  </tbody>\n",
       "</table>\n",
       "</div>"
      ],
      "text/plain": [
       "   Duration  Maxpulse\n",
       "0        60       130\n",
       "1        60       145\n",
       "2        60       135\n",
       "3        45       175\n",
       "4        45       148\n",
       "5        60       127\n",
       "6        60       136\n",
       "7        45       134\n",
       "8        30       133\n",
       "9        60       124"
      ]
     },
     "execution_count": 150,
     "metadata": {},
     "output_type": "execute_result"
    }
   ],
   "source": [
    "df[['Duration', 'Maxpulse']].head(10)"
   ]
  },
  {
   "cell_type": "code",
   "execution_count": 151,
   "id": "07b49b2b",
   "metadata": {},
   "outputs": [
    {
     "data": {
      "text/plain": [
       "1860.4"
      ]
     },
     "execution_count": 151,
     "metadata": {},
     "output_type": "execute_result"
    }
   ],
   "source": [
    "df['Calories'].max()"
   ]
  },
  {
   "cell_type": "markdown",
   "id": "dcdc4897",
   "metadata": {},
   "source": [
    "# 8. Data Aggregation using Group By, Pivot, and Melt"
   ]
  },
  {
   "cell_type": "code",
   "execution_count": 152,
   "id": "8f0536a0",
   "metadata": {},
   "outputs": [],
   "source": [
    "airbnb = pd.read_csv('ABNB_NYC_2019.csv')"
   ]
  },
  {
   "cell_type": "code",
   "execution_count": 154,
   "id": "fee41529",
   "metadata": {},
   "outputs": [
    {
     "data": {
      "text/html": [
       "<div>\n",
       "<style scoped>\n",
       "    .dataframe tbody tr th:only-of-type {\n",
       "        vertical-align: middle;\n",
       "    }\n",
       "\n",
       "    .dataframe tbody tr th {\n",
       "        vertical-align: top;\n",
       "    }\n",
       "\n",
       "    .dataframe thead th {\n",
       "        text-align: right;\n",
       "    }\n",
       "</style>\n",
       "<table border=\"1\" class=\"dataframe\">\n",
       "  <thead>\n",
       "    <tr style=\"text-align: right;\">\n",
       "      <th></th>\n",
       "      <th>id</th>\n",
       "      <th>host_id</th>\n",
       "      <th>latitude</th>\n",
       "      <th>longitude</th>\n",
       "      <th>price</th>\n",
       "      <th>minimum_nights</th>\n",
       "      <th>number_of_reviews</th>\n",
       "      <th>reviews_per_month</th>\n",
       "      <th>calculated_host_listings_count</th>\n",
       "      <th>availability_365</th>\n",
       "    </tr>\n",
       "    <tr>\n",
       "      <th>room_type</th>\n",
       "      <th></th>\n",
       "      <th></th>\n",
       "      <th></th>\n",
       "      <th></th>\n",
       "      <th></th>\n",
       "      <th></th>\n",
       "      <th></th>\n",
       "      <th></th>\n",
       "      <th></th>\n",
       "      <th></th>\n",
       "    </tr>\n",
       "  </thead>\n",
       "  <tbody>\n",
       "    <tr>\n",
       "      <th>Entire home/apt</th>\n",
       "      <td>1.843818e+07</td>\n",
       "      <td>6.175593e+07</td>\n",
       "      <td>40.728649</td>\n",
       "      <td>-73.960696</td>\n",
       "      <td>211.794246</td>\n",
       "      <td>8.506907</td>\n",
       "      <td>22.842418</td>\n",
       "      <td>1.306578</td>\n",
       "      <td>10.698335</td>\n",
       "      <td>111.920304</td>\n",
       "    </tr>\n",
       "    <tr>\n",
       "      <th>Private room</th>\n",
       "      <td>1.946893e+07</td>\n",
       "      <td>7.247514e+07</td>\n",
       "      <td>40.729208</td>\n",
       "      <td>-73.942924</td>\n",
       "      <td>89.780973</td>\n",
       "      <td>5.377900</td>\n",
       "      <td>24.112962</td>\n",
       "      <td>1.445209</td>\n",
       "      <td>3.227717</td>\n",
       "      <td>111.203933</td>\n",
       "    </tr>\n",
       "    <tr>\n",
       "      <th>Shared room</th>\n",
       "      <td>2.300378e+07</td>\n",
       "      <td>1.026241e+08</td>\n",
       "      <td>40.730514</td>\n",
       "      <td>-73.943343</td>\n",
       "      <td>70.127586</td>\n",
       "      <td>6.475000</td>\n",
       "      <td>16.600000</td>\n",
       "      <td>1.471726</td>\n",
       "      <td>4.662931</td>\n",
       "      <td>162.000862</td>\n",
       "    </tr>\n",
       "  </tbody>\n",
       "</table>\n",
       "</div>"
      ],
      "text/plain": [
       "                           id       host_id   latitude  longitude       price  \\\n",
       "room_type                                                                       \n",
       "Entire home/apt  1.843818e+07  6.175593e+07  40.728649 -73.960696  211.794246   \n",
       "Private room     1.946893e+07  7.247514e+07  40.729208 -73.942924   89.780973   \n",
       "Shared room      2.300378e+07  1.026241e+08  40.730514 -73.943343   70.127586   \n",
       "\n",
       "                 minimum_nights  number_of_reviews  reviews_per_month  \\\n",
       "room_type                                                               \n",
       "Entire home/apt        8.506907          22.842418           1.306578   \n",
       "Private room           5.377900          24.112962           1.445209   \n",
       "Shared room            6.475000          16.600000           1.471726   \n",
       "\n",
       "                 calculated_host_listings_count  availability_365  \n",
       "room_type                                                          \n",
       "Entire home/apt                       10.698335        111.920304  \n",
       "Private room                           3.227717        111.203933  \n",
       "Shared room                            4.662931        162.000862  "
      ]
     },
     "execution_count": 154,
     "metadata": {},
     "output_type": "execute_result"
    }
   ],
   "source": [
    "airbnb.groupby('room_type').mean()"
   ]
  },
  {
   "cell_type": "code",
   "execution_count": null,
   "id": "ce736756",
   "metadata": {},
   "outputs": [],
   "source": []
  }
 ],
 "metadata": {
  "kernelspec": {
   "display_name": "Python 3 (ipykernel)",
   "language": "python",
   "name": "python3"
  },
  "language_info": {
   "codemirror_mode": {
    "name": "ipython",
    "version": 3
   },
   "file_extension": ".py",
   "mimetype": "text/x-python",
   "name": "python",
   "nbconvert_exporter": "python",
   "pygments_lexer": "ipython3",
   "version": "3.9.12"
  }
 },
 "nbformat": 4,
 "nbformat_minor": 5
}
