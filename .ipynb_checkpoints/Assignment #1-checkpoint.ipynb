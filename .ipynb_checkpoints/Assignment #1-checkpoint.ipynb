{
 "cells": [
  {
   "cell_type": "code",
   "execution_count": null,
   "id": "cdf665cd",
   "metadata": {},
   "outputs": [],
   "source": []
  },
  {
   "cell_type": "markdown",
   "id": "cd434c17",
   "metadata": {},
   "source": [
    " - 1 Write a Python program that accepts the radius of a circle from the user and computes the area."
   ]
  },
  {
   "cell_type": "code",
   "execution_count": 2,
   "id": "a70dfd23",
   "metadata": {},
   "outputs": [
    {
     "name": "stdout",
     "output_type": "stream",
     "text": [
      "Enter the radius value of circle:3\n",
      "28.26\n"
     ]
    }
   ],
   "source": [
    "radius=int(input(\"Enter the radius value of circle:\"))\n",
    "area=3.14*radius**2\n",
    "print(area)"
   ]
  },
  {
   "cell_type": "markdown",
   "id": "c063638d",
   "metadata": {},
   "source": [
    "- 2 Write a Python program to display the first and last colors from the following list. color_list = [\"Red\",\"Green\",\"White\" ,\"Black\"]"
   ]
  },
  {
   "cell_type": "code",
   "execution_count": 10,
   "id": "58c12660",
   "metadata": {},
   "outputs": [
    {
     "name": "stdout",
     "output_type": "stream",
     "text": [
      "The first element of list is Red\n",
      "The last element of list is Black\n"
     ]
    }
   ],
   "source": [
    "color_list = [\"Red\",\"Green\",\"White\" ,\"Black\"]\n",
    "print(\"The first element of list is {}\".format(color_list[0]))\n",
    "print(\"The last element of list is {}\".format(color_list[-1]))"
   ]
  },
  {
   "cell_type": "markdown",
   "id": "ea53101c",
   "metadata": {},
   "source": [
    " - 3 Write a Python program that accepts an integer (n) and computes the value of n+nn+nnn."
   ]
  },
  {
   "cell_type": "code",
   "execution_count": 13,
   "id": "405e9aa2",
   "metadata": {},
   "outputs": [
    {
     "name": "stdout",
     "output_type": "stream",
     "text": [
      "Enter the integer:5\n",
      "155\n"
     ]
    }
   ],
   "source": [
    "user_input=int(input(\"Enter the integer:\"))\n",
    "num1=user_input\n",
    "num2=user_input*user_input\n",
    "num3=user_input*user_input*user_input\n",
    "print(num1+num2+num3)"
   ]
  },
  {
   "cell_type": "markdown",
   "id": "9a369e37",
   "metadata": {},
   "source": [
    "- 4 Write a Python program to get the difference between a given number and 17, if the number is greater than 17 return double the absolute difference."
   ]
  },
  {
   "cell_type": "code",
   "execution_count": 16,
   "id": "87624fed",
   "metadata": {},
   "outputs": [],
   "source": [
    "def numdiff():\n",
    "    a=int(input(\"Enter a number:\"))\n",
    "    d=a-17\n",
    "    if d>17:\n",
    "        s=2*d\n",
    "        return s\n",
    "    else:\n",
    "        return d"
   ]
  },
  {
   "cell_type": "code",
   "execution_count": 20,
   "id": "ffd5f2f8",
   "metadata": {},
   "outputs": [
    {
     "name": "stdout",
     "output_type": "stream",
     "text": [
      "Enter a number:2\n"
     ]
    },
    {
     "data": {
      "text/plain": [
       "-15"
      ]
     },
     "execution_count": 20,
     "metadata": {},
     "output_type": "execute_result"
    }
   ],
   "source": [
    "numdiff()"
   ]
  },
  {
   "cell_type": "markdown",
   "id": "3b239014",
   "metadata": {},
   "source": [
    " - 5 Write a Python program to calculate the sum of three given numbers, if the values are equal then return three times their sum."
   ]
  },
  {
   "cell_type": "code",
   "execution_count": 26,
   "id": "cc441f87",
   "metadata": {},
   "outputs": [],
   "source": [
    "def sum_three(x,y,z):\n",
    "    sum= x+y+z\n",
    "    if x==y==z:\n",
    "        sum=sum*3\n",
    "    return sum"
   ]
  },
  {
   "cell_type": "code",
   "execution_count": 32,
   "id": "156a70e3",
   "metadata": {},
   "outputs": [
    {
     "data": {
      "text/plain": [
       "18"
      ]
     },
     "execution_count": 32,
     "metadata": {},
     "output_type": "execute_result"
    }
   ],
   "source": [
    "sum_three(2,2,2)"
   ]
  },
  {
   "cell_type": "code",
   "execution_count": null,
   "id": "ba7654f9",
   "metadata": {},
   "outputs": [],
   "source": []
  }
 ],
 "metadata": {
  "kernelspec": {
   "display_name": "Python 3 (ipykernel)",
   "language": "python",
   "name": "python3"
  },
  "language_info": {
   "codemirror_mode": {
    "name": "ipython",
    "version": 3
   },
   "file_extension": ".py",
   "mimetype": "text/x-python",
   "name": "python",
   "nbconvert_exporter": "python",
   "pygments_lexer": "ipython3",
   "version": "3.9.12"
  }
 },
 "nbformat": 4,
 "nbformat_minor": 5
}
