{
 "cells": [
  {
   "cell_type": "markdown",
   "id": "c1b32281",
   "metadata": {},
   "source": [
    "# What is Python?\n",
    "- Python is a general-purpose programming language that is becoming ever more popular for data science. Companies worldwide use Python to harvest insights from their data and gain a competitive edge. Python is easy to learn as it has a syntax that is very human-interpretable.\n",
    "\n",
    "\n",
    "To check if you have python installed on a Windows, Linux, or Mac, type:\n",
    "\n",
    "python --version"
   ]
  },
  {
   "cell_type": "markdown",
   "id": "3c98963e",
   "metadata": {},
   "source": [
    "# First Python Program"
   ]
  },
  {
   "cell_type": "code",
   "execution_count": 3,
   "id": "08c1df9b",
   "metadata": {},
   "outputs": [
    {
     "name": "stdout",
     "output_type": "stream",
     "text": [
      "Hello World\n"
     ]
    }
   ],
   "source": [
    "print(\"Hello World\")"
   ]
  },
  {
   "cell_type": "markdown",
   "id": "18e033cd",
   "metadata": {},
   "source": [
    "# Python Variables"
   ]
  },
  {
   "cell_type": "code",
   "execution_count": 4,
   "id": "6727e397",
   "metadata": {},
   "outputs": [],
   "source": [
    "x=5\n",
    "y=\"sanwal\""
   ]
  },
  {
   "cell_type": "code",
   "execution_count": 5,
   "id": "e1ae1563",
   "metadata": {},
   "outputs": [
    {
     "name": "stdout",
     "output_type": "stream",
     "text": [
      "5 sanwal\n"
     ]
    }
   ],
   "source": [
    "print(x,y)"
   ]
  },
  {
   "cell_type": "code",
   "execution_count": 6,
   "id": "e20b69f0",
   "metadata": {},
   "outputs": [
    {
     "name": "stdout",
     "output_type": "stream",
     "text": [
      "sanwalsanwalsanwalsanwalsanwal\n"
     ]
    }
   ],
   "source": [
    "print(x*y)"
   ]
  },
  {
   "cell_type": "markdown",
   "id": "2f852f7a",
   "metadata": {},
   "source": [
    "# Casting"
   ]
  },
  {
   "cell_type": "code",
   "execution_count": 7,
   "id": "a0f5635c",
   "metadata": {},
   "outputs": [],
   "source": [
    "x=str(3)\n",
    "y=float(3)\n",
    "z=int(3)"
   ]
  },
  {
   "cell_type": "code",
   "execution_count": 8,
   "id": "9233190a",
   "metadata": {},
   "outputs": [
    {
     "name": "stdout",
     "output_type": "stream",
     "text": [
      "3 3.0 3\n"
     ]
    }
   ],
   "source": [
    "print(x,y,z)"
   ]
  },
  {
   "cell_type": "code",
   "execution_count": 9,
   "id": "e06b9777",
   "metadata": {},
   "outputs": [
    {
     "data": {
      "text/plain": [
       "str"
      ]
     },
     "execution_count": 9,
     "metadata": {},
     "output_type": "execute_result"
    }
   ],
   "source": [
    "type(x)"
   ]
  },
  {
   "cell_type": "markdown",
   "id": "d9004e6a",
   "metadata": {},
   "source": [
    "# Variable Names\n",
    "A variable can have a short name (like x and y) or a more descriptive name (age, carname, total_volume). \n",
    "Rules for Python variables:\n",
    "\n",
    "- A variable name must start with a letter or the underscore character\n",
    "- A variable name cannot start with a number\n",
    "- A variable name can only contain alpha-numeric characters and underscores (A-z, 0-9, and _ )\n",
    "- Variable names are case-sensitive (age, Age and AGE are three different variables)\n"
   ]
  },
  {
   "cell_type": "code",
   "execution_count": 16,
   "id": "81a6e4b3",
   "metadata": {},
   "outputs": [],
   "source": [
    "_age=5"
   ]
  },
  {
   "cell_type": "code",
   "execution_count": 17,
   "id": "a3402420",
   "metadata": {},
   "outputs": [],
   "source": [
    "age=5"
   ]
  },
  {
   "cell_type": "code",
   "execution_count": 19,
   "id": "8f12f3bd",
   "metadata": {},
   "outputs": [
    {
     "ename": "SyntaxError",
     "evalue": "cannot assign to operator (4223731995.py, line 1)",
     "output_type": "error",
     "traceback": [
      "\u001b[1;36m  Input \u001b[1;32mIn [19]\u001b[1;36m\u001b[0m\n\u001b[1;33m    my-var=5\u001b[0m\n\u001b[1;37m    ^\u001b[0m\n\u001b[1;31mSyntaxError\u001b[0m\u001b[1;31m:\u001b[0m cannot assign to operator\n"
     ]
    }
   ],
   "source": [
    "my-var=5"
   ]
  },
  {
   "cell_type": "markdown",
   "id": "8e407fbd",
   "metadata": {},
   "source": [
    "# Many Values to Multiple Variables"
   ]
  },
  {
   "cell_type": "code",
   "execution_count": 20,
   "id": "05fcf89e",
   "metadata": {},
   "outputs": [],
   "source": [
    "x,y,z='orange','mango','banana'"
   ]
  },
  {
   "cell_type": "code",
   "execution_count": 21,
   "id": "d1ddf937",
   "metadata": {},
   "outputs": [
    {
     "name": "stdout",
     "output_type": "stream",
     "text": [
      "orange\n"
     ]
    }
   ],
   "source": [
    "print(x)"
   ]
  },
  {
   "cell_type": "code",
   "execution_count": 22,
   "id": "c281da01",
   "metadata": {},
   "outputs": [
    {
     "name": "stdout",
     "output_type": "stream",
     "text": [
      "mango\n"
     ]
    }
   ],
   "source": [
    "print(y)"
   ]
  },
  {
   "cell_type": "code",
   "execution_count": 23,
   "id": "388afc28",
   "metadata": {},
   "outputs": [
    {
     "name": "stdout",
     "output_type": "stream",
     "text": [
      "banana\n"
     ]
    }
   ],
   "source": [
    "print(z)"
   ]
  },
  {
   "cell_type": "markdown",
   "id": "f7de07fe",
   "metadata": {},
   "source": [
    "# One Value to Multiple Variables"
   ]
  },
  {
   "cell_type": "code",
   "execution_count": 24,
   "id": "0f50172c",
   "metadata": {},
   "outputs": [],
   "source": [
    "x=y=z='orange'"
   ]
  },
  {
   "cell_type": "code",
   "execution_count": 25,
   "id": "c0a0deaa",
   "metadata": {},
   "outputs": [
    {
     "name": "stdout",
     "output_type": "stream",
     "text": [
      "orange\n"
     ]
    }
   ],
   "source": [
    "print(x)"
   ]
  },
  {
   "cell_type": "code",
   "execution_count": 26,
   "id": "53821beb",
   "metadata": {},
   "outputs": [
    {
     "name": "stdout",
     "output_type": "stream",
     "text": [
      "orange\n"
     ]
    }
   ],
   "source": [
    "print(y)"
   ]
  },
  {
   "cell_type": "code",
   "execution_count": 27,
   "id": "d1883abe",
   "metadata": {},
   "outputs": [
    {
     "name": "stdout",
     "output_type": "stream",
     "text": [
      "orange\n"
     ]
    }
   ],
   "source": [
    "print(z)"
   ]
  },
  {
   "cell_type": "markdown",
   "id": "0ecbc62b",
   "metadata": {},
   "source": [
    "# Python Numbers\n",
    "There are three numeric types in Python\n",
    "- int\n",
    "- float\n",
    "- complex"
   ]
  },
  {
   "cell_type": "markdown",
   "id": "796cd846",
   "metadata": {},
   "source": [
    "# Int \n",
    " - Int, or integer, is a whole number, positive or negative, without decimals, of unlimited length.\n",
    "\n"
   ]
  },
  {
   "cell_type": "code",
   "execution_count": 28,
   "id": "bf96d535",
   "metadata": {},
   "outputs": [],
   "source": [
    "x=1\n",
    "y=342343454454564545\n",
    "z=-111292324"
   ]
  },
  {
   "cell_type": "code",
   "execution_count": 29,
   "id": "a1fbf477",
   "metadata": {},
   "outputs": [
    {
     "name": "stdout",
     "output_type": "stream",
     "text": [
      "<class 'int'>\n"
     ]
    }
   ],
   "source": [
    "print(type(x))"
   ]
  },
  {
   "cell_type": "markdown",
   "id": "2413bbf9",
   "metadata": {},
   "source": [
    "# Float\n",
    "- Float, or \"floating point number\" is a number, positive or negative, containing one or more decimals."
   ]
  },
  {
   "cell_type": "code",
   "execution_count": 30,
   "id": "2b574af1",
   "metadata": {},
   "outputs": [],
   "source": [
    "x=1.1\n",
    "y=-2.20\n",
    "z=34.324"
   ]
  },
  {
   "cell_type": "code",
   "execution_count": 31,
   "id": "385630d8",
   "metadata": {},
   "outputs": [
    {
     "name": "stdout",
     "output_type": "stream",
     "text": [
      "<class 'float'>\n"
     ]
    }
   ],
   "source": [
    "print(type(x))"
   ]
  },
  {
   "cell_type": "markdown",
   "id": "6a477c64",
   "metadata": {},
   "source": [
    "# Complex\n",
    "- Complex numbers are written with a \"j\" as the imaginary part:"
   ]
  },
  {
   "cell_type": "code",
   "execution_count": 32,
   "id": "58453217",
   "metadata": {},
   "outputs": [
    {
     "name": "stdout",
     "output_type": "stream",
     "text": [
      "<class 'complex'>\n"
     ]
    }
   ],
   "source": [
    "x=5-3j\n",
    "print(type(x))"
   ]
  },
  {
   "cell_type": "markdown",
   "id": "f7956476",
   "metadata": {},
   "source": [
    "# Python Strings\n",
    "- Strings in python are surrounded by either single quotation marks, or double quotation marks.\n",
    "\n"
   ]
  },
  {
   "cell_type": "code",
   "execution_count": 34,
   "id": "de88f9f2",
   "metadata": {},
   "outputs": [
    {
     "name": "stdout",
     "output_type": "stream",
     "text": [
      "hello\n",
      "hello\n"
     ]
    }
   ],
   "source": [
    "print('hello')\n",
    "print(\"hello\")"
   ]
  },
  {
   "cell_type": "markdown",
   "id": "d6422836",
   "metadata": {},
   "source": [
    "# Multiline Strings\n",
    "- You can assign a multiline string to a variable by using three quotes:"
   ]
  },
  {
   "cell_type": "code",
   "execution_count": 35,
   "id": "3c8b5b12",
   "metadata": {},
   "outputs": [
    {
     "name": "stdout",
     "output_type": "stream",
     "text": [
      "hello my name is Sanwal khan\n",
      "I belong to faislabad.\n",
      "and i am in undergraduate\n"
     ]
    }
   ],
   "source": [
    "a='''hello my name is Sanwal khan\n",
    "I belong to faislabad.\n",
    "and i am in undergraduate'''\n",
    "print(a)"
   ]
  },
  {
   "cell_type": "code",
   "execution_count": 36,
   "id": "05518cc5",
   "metadata": {},
   "outputs": [
    {
     "data": {
      "text/plain": [
       "8"
      ]
     },
     "execution_count": 36,
     "metadata": {},
     "output_type": "execute_result"
    }
   ],
   "source": [
    "a='Pakistan'\n",
    "len(a)"
   ]
  },
  {
   "cell_type": "code",
   "execution_count": 37,
   "id": "29625810",
   "metadata": {},
   "outputs": [
    {
     "data": {
      "text/plain": [
       "'Pak'"
      ]
     },
     "execution_count": 37,
     "metadata": {},
     "output_type": "execute_result"
    }
   ],
   "source": [
    "a[0:3]"
   ]
  },
  {
   "cell_type": "code",
   "execution_count": 40,
   "id": "5a0492bd",
   "metadata": {},
   "outputs": [
    {
     "name": "stdout",
     "output_type": "stream",
     "text": [
      "P\ta\tk\ti\ts\tt\ta\tn\t"
     ]
    }
   ],
   "source": [
    "for i in a:\n",
    "    print(i,end='\\t')"
   ]
  },
  {
   "cell_type": "code",
   "execution_count": 41,
   "id": "dc2c7177",
   "metadata": {},
   "outputs": [
    {
     "name": "stdout",
     "output_type": "stream",
     "text": [
      "b\n",
      "a\n",
      "n\n",
      "a\n",
      "n\n",
      "a\n"
     ]
    }
   ],
   "source": [
    "for i in 'banana':\n",
    "    print(i)"
   ]
  },
  {
   "cell_type": "code",
   "execution_count": 42,
   "id": "72d3dc89",
   "metadata": {},
   "outputs": [
    {
     "data": {
      "text/plain": [
       "True"
      ]
     },
     "execution_count": 42,
     "metadata": {},
     "output_type": "execute_result"
    }
   ],
   "source": [
    "tex='my name is sanwal khan and i belonged to faisalabad'\n",
    "'sanwal' in tex"
   ]
  },
  {
   "cell_type": "markdown",
   "id": "fe0751df",
   "metadata": {},
   "source": [
    "# Check String and Check if NOT"
   ]
  },
  {
   "cell_type": "code",
   "execution_count": 43,
   "id": "e2d7bdcc",
   "metadata": {},
   "outputs": [
    {
     "name": "stdout",
     "output_type": "stream",
     "text": [
      "True\n",
      "False\n"
     ]
    }
   ],
   "source": [
    "txt='the best thing is life is school time'\n",
    "print('thing' in txt)\n",
    "print('Life' in txt)"
   ]
  },
  {
   "cell_type": "markdown",
   "id": "094670bb",
   "metadata": {},
   "source": [
    "# Slicing Strings"
   ]
  },
  {
   "cell_type": "code",
   "execution_count": 44,
   "id": "859e0a7b",
   "metadata": {},
   "outputs": [
    {
     "data": {
      "text/plain": [
       "'I am'"
      ]
     },
     "execution_count": 44,
     "metadata": {},
     "output_type": "execute_result"
    }
   ],
   "source": [
    "a='I am student of BS'\n",
    "a[0:4]"
   ]
  },
  {
   "cell_type": "code",
   "execution_count": 45,
   "id": "63e2e11a",
   "metadata": {},
   "outputs": [
    {
     "data": {
      "text/plain": [
       "'I am'"
      ]
     },
     "execution_count": 45,
     "metadata": {},
     "output_type": "execute_result"
    }
   ],
   "source": [
    "a[:4]"
   ]
  },
  {
   "cell_type": "code",
   "execution_count": 47,
   "id": "875f266e",
   "metadata": {},
   "outputs": [
    {
     "data": {
      "text/plain": [
       "'I am student of BS'"
      ]
     },
     "execution_count": 47,
     "metadata": {},
     "output_type": "execute_result"
    }
   ],
   "source": [
    "a[:]"
   ]
  },
  {
   "cell_type": "code",
   "execution_count": 48,
   "id": "3e7e142f",
   "metadata": {},
   "outputs": [
    {
     "data": {
      "text/plain": [
       "'I am student of B'"
      ]
     },
     "execution_count": 48,
     "metadata": {},
     "output_type": "execute_result"
    }
   ],
   "source": [
    "a[:-1]"
   ]
  },
  {
   "cell_type": "markdown",
   "id": "4f93e270",
   "metadata": {},
   "source": [
    "# Modify Strings"
   ]
  },
  {
   "cell_type": "code",
   "execution_count": 49,
   "id": "04b86628",
   "metadata": {},
   "outputs": [
    {
     "name": "stdout",
     "output_type": "stream",
     "text": [
      "I am student of BS\n"
     ]
    }
   ],
   "source": [
    "print(a)"
   ]
  },
  {
   "cell_type": "code",
   "execution_count": 50,
   "id": "0076a5a9",
   "metadata": {},
   "outputs": [
    {
     "data": {
      "text/plain": [
       "'I am student of bs'"
      ]
     },
     "execution_count": 50,
     "metadata": {},
     "output_type": "execute_result"
    }
   ],
   "source": [
    "a.capitalize()"
   ]
  },
  {
   "cell_type": "code",
   "execution_count": 51,
   "id": "ddca189c",
   "metadata": {},
   "outputs": [
    {
     "data": {
      "text/plain": [
       "'I Am Student Of Bs'"
      ]
     },
     "execution_count": 51,
     "metadata": {},
     "output_type": "execute_result"
    }
   ],
   "source": [
    "a.title()"
   ]
  },
  {
   "cell_type": "code",
   "execution_count": 52,
   "id": "8272ca32",
   "metadata": {},
   "outputs": [
    {
     "data": {
      "text/plain": [
       "'I AM STUDENT OF BS'"
      ]
     },
     "execution_count": 52,
     "metadata": {},
     "output_type": "execute_result"
    }
   ],
   "source": [
    "a.upper()"
   ]
  },
  {
   "cell_type": "code",
   "execution_count": 53,
   "id": "86f18b59",
   "metadata": {},
   "outputs": [
    {
     "data": {
      "text/plain": [
       "'i am student of bs'"
      ]
     },
     "execution_count": 53,
     "metadata": {},
     "output_type": "execute_result"
    }
   ],
   "source": [
    "a.lower()"
   ]
  },
  {
   "cell_type": "code",
   "execution_count": 60,
   "id": "5d5c8357",
   "metadata": {},
   "outputs": [
    {
     "data": {
      "text/plain": [
       "2"
      ]
     },
     "execution_count": 60,
     "metadata": {},
     "output_type": "execute_result"
    }
   ],
   "source": [
    "a.count('t')"
   ]
  },
  {
   "cell_type": "code",
   "execution_count": 57,
   "id": "e0033092",
   "metadata": {},
   "outputs": [
    {
     "data": {
      "text/plain": [
       "1"
      ]
     },
     "execution_count": 57,
     "metadata": {},
     "output_type": "execute_result"
    }
   ],
   "source": [
    "a.count('s')"
   ]
  },
  {
   "cell_type": "code",
   "execution_count": 61,
   "id": "92157e05",
   "metadata": {},
   "outputs": [
    {
     "data": {
      "text/plain": [
       "False"
      ]
     },
     "execution_count": 61,
     "metadata": {},
     "output_type": "execute_result"
    }
   ],
   "source": [
    "a.isalpha()"
   ]
  },
  {
   "cell_type": "code",
   "execution_count": 62,
   "id": "347a3691",
   "metadata": {},
   "outputs": [
    {
     "data": {
      "text/plain": [
       "'I am student of BS'"
      ]
     },
     "execution_count": 62,
     "metadata": {},
     "output_type": "execute_result"
    }
   ],
   "source": [
    "a.lstrip()"
   ]
  },
  {
   "cell_type": "code",
   "execution_count": 63,
   "id": "e46ef5c5",
   "metadata": {},
   "outputs": [
    {
     "data": {
      "text/plain": [
       "'I am squdenq of BS'"
      ]
     },
     "execution_count": 63,
     "metadata": {},
     "output_type": "execute_result"
    }
   ],
   "source": [
    "a.replace('t','q')"
   ]
  },
  {
   "cell_type": "markdown",
   "id": "b42c7b28",
   "metadata": {},
   "source": [
    "# strip()\n",
    "- Whitespace is the space before and/or after the actual text, and very often you want to remove this space.\n",
    "The strip() method removes any whitespace from the beginning or the end:"
   ]
  },
  {
   "cell_type": "code",
   "execution_count": 64,
   "id": "9f102e86",
   "metadata": {},
   "outputs": [],
   "source": [
    "a='     hello world      '"
   ]
  },
  {
   "cell_type": "code",
   "execution_count": 65,
   "id": "37982321",
   "metadata": {},
   "outputs": [
    {
     "data": {
      "text/plain": [
       "'     hello world      '"
      ]
     },
     "execution_count": 65,
     "metadata": {},
     "output_type": "execute_result"
    }
   ],
   "source": [
    "a"
   ]
  },
  {
   "cell_type": "code",
   "execution_count": 66,
   "id": "0b1b217a",
   "metadata": {},
   "outputs": [
    {
     "data": {
      "text/plain": [
       "'hello world'"
      ]
     },
     "execution_count": 66,
     "metadata": {},
     "output_type": "execute_result"
    }
   ],
   "source": [
    "a.strip()"
   ]
  },
  {
   "cell_type": "code",
   "execution_count": 67,
   "id": "d37faf2e",
   "metadata": {},
   "outputs": [],
   "source": [
    "a='hello world'"
   ]
  },
  {
   "cell_type": "code",
   "execution_count": 70,
   "id": "289ee496",
   "metadata": {},
   "outputs": [],
   "source": [
    "a=a.split(\" \")"
   ]
  },
  {
   "cell_type": "code",
   "execution_count": 74,
   "id": "262c7144",
   "metadata": {},
   "outputs": [
    {
     "data": {
      "text/plain": [
       "'wor'"
      ]
     },
     "execution_count": 74,
     "metadata": {},
     "output_type": "execute_result"
    }
   ],
   "source": [
    "a[1][:3]"
   ]
  },
  {
   "cell_type": "markdown",
   "id": "a666faf9",
   "metadata": {},
   "source": [
    "# String Concatenation\n",
    "- To concatenate or combine, two strings you can use the + operator."
   ]
  },
  {
   "cell_type": "code",
   "execution_count": 75,
   "id": "dbb4f89e",
   "metadata": {},
   "outputs": [
    {
     "name": "stdout",
     "output_type": "stream",
     "text": [
      "helloworld\n"
     ]
    }
   ],
   "source": [
    "a='hello'\n",
    "b='world'\n",
    "print(a+b)"
   ]
  },
  {
   "cell_type": "code",
   "execution_count": 77,
   "id": "03308cc4",
   "metadata": {},
   "outputs": [
    {
     "name": "stdout",
     "output_type": "stream",
     "text": [
      "hello world\n"
     ]
    }
   ],
   "source": [
    "print(a+\" \"+b)"
   ]
  },
  {
   "cell_type": "code",
   "execution_count": 78,
   "id": "8ef7cddb",
   "metadata": {},
   "outputs": [
    {
     "ename": "TypeError",
     "evalue": "can only concatenate str (not \"int\") to str",
     "output_type": "error",
     "traceback": [
      "\u001b[1;31m---------------------------------------------------------------------------\u001b[0m",
      "\u001b[1;31mTypeError\u001b[0m                                 Traceback (most recent call last)",
      "Input \u001b[1;32mIn [78]\u001b[0m, in \u001b[0;36m<cell line: 2>\u001b[1;34m()\u001b[0m\n\u001b[0;32m      1\u001b[0m age\u001b[38;5;241m=\u001b[39m\u001b[38;5;241m22\u001b[39m\n\u001b[1;32m----> 2\u001b[0m \u001b[38;5;28mprint\u001b[39m(\u001b[38;5;124;43m\"\u001b[39;49m\u001b[38;5;124;43mMy name is sanwal and my age is\u001b[39;49m\u001b[38;5;124;43m\"\u001b[39;49m\u001b[38;5;241;43m+\u001b[39;49m\u001b[43mage\u001b[49m)\n",
      "\u001b[1;31mTypeError\u001b[0m: can only concatenate str (not \"int\") to str"
     ]
    }
   ],
   "source": [
    "age=22\n",
    "print(\"My name is sanwal and my age is\"+age)"
   ]
  },
  {
   "cell_type": "code",
   "execution_count": 80,
   "id": "e7ec9323",
   "metadata": {},
   "outputs": [
    {
     "name": "stdout",
     "output_type": "stream",
     "text": [
      "My name is sanwal and my age is 22\n"
     ]
    }
   ],
   "source": [
    "print(\"My name is sanwal and my age is {}\".format(age))"
   ]
  },
  {
   "cell_type": "code",
   "execution_count": 81,
   "id": "dc55f4d4",
   "metadata": {},
   "outputs": [
    {
     "name": "stdout",
     "output_type": "stream",
     "text": [
      "I want 33 pieces of items 567 for 46.94 dollar\n"
     ]
    }
   ],
   "source": [
    "quantity=33\n",
    "items=567\n",
    "price=46.94\n",
    "my_order=\"I want {} pieces of items {} for {} dollar\"\n",
    "print(my_order.format(quantity,items,price))"
   ]
  },
  {
   "cell_type": "code",
   "execution_count": 87,
   "id": "ad40ac3d",
   "metadata": {},
   "outputs": [],
   "source": [
    "age=25\n",
    "gender='male'"
   ]
  },
  {
   "cell_type": "code",
   "execution_count": 88,
   "id": "132a6881",
   "metadata": {},
   "outputs": [
    {
     "name": "stdout",
     "output_type": "stream",
     "text": [
      "You are eligble\n"
     ]
    }
   ],
   "source": [
    "if age==25 and gender=='male':\n",
    "    print(\"You are eligble\")"
   ]
  },
  {
   "cell_type": "code",
   "execution_count": 89,
   "id": "91146c0c",
   "metadata": {},
   "outputs": [
    {
     "name": "stdout",
     "output_type": "stream",
     "text": [
      "You are eligble\n"
     ]
    }
   ],
   "source": [
    "if age==25 or gender=='male':\n",
    "    print(\"You are eligble\")"
   ]
  },
  {
   "cell_type": "markdown",
   "id": "0f87ca83",
   "metadata": {},
   "source": [
    "# Data Structure\n",
    "- List is a collection which is ordered and changeable. Allows duplicate members.\n",
    "- Tuple is a collection which is ordered and unchangeable. Allows duplicate members.\n",
    "- Set is a collection which is unordered, unchangeable*, and unindexed. No duplicate members.\n",
    "- Dictionary is a collection which is ordered** and changeable. No duplicate members.\n"
   ]
  },
  {
   "cell_type": "markdown",
   "id": "70c28f0f",
   "metadata": {},
   "source": [
    "# Python Lists\n",
    "- Lists are used to store multiple items in a single variable.\n",
    "- Lists are created using square brackets"
   ]
  },
  {
   "cell_type": "code",
   "execution_count": 90,
   "id": "90798459",
   "metadata": {},
   "outputs": [],
   "source": [
    "thislist=['apple','banana','cheery']"
   ]
  },
  {
   "cell_type": "code",
   "execution_count": 91,
   "id": "9005b2b7",
   "metadata": {},
   "outputs": [
    {
     "name": "stdout",
     "output_type": "stream",
     "text": [
      "<class 'list'>\n"
     ]
    }
   ],
   "source": [
    "print(type(thislist))"
   ]
  },
  {
   "cell_type": "code",
   "execution_count": 92,
   "id": "9b444827",
   "metadata": {},
   "outputs": [
    {
     "data": {
      "text/plain": [
       "3"
      ]
     },
     "execution_count": 92,
     "metadata": {},
     "output_type": "execute_result"
    }
   ],
   "source": [
    "len(thislist)"
   ]
  },
  {
   "cell_type": "code",
   "execution_count": 93,
   "id": "1c0d061c",
   "metadata": {},
   "outputs": [
    {
     "data": {
      "text/plain": [
       "'app'"
      ]
     },
     "execution_count": 93,
     "metadata": {},
     "output_type": "execute_result"
    }
   ],
   "source": [
    "thislist[0][:3]"
   ]
  },
  {
   "cell_type": "code",
   "execution_count": 94,
   "id": "6f4fe7a1",
   "metadata": {},
   "outputs": [],
   "source": [
    "lis=['apple','banana',24,True]"
   ]
  },
  {
   "cell_type": "code",
   "execution_count": 95,
   "id": "a2b0b04c",
   "metadata": {},
   "outputs": [
    {
     "data": {
      "text/plain": [
       "4"
      ]
     },
     "execution_count": 95,
     "metadata": {},
     "output_type": "execute_result"
    }
   ],
   "source": [
    "len(lis)"
   ]
  },
  {
   "cell_type": "code",
   "execution_count": 96,
   "id": "b173efe5",
   "metadata": {},
   "outputs": [
    {
     "data": {
      "text/plain": [
       "True"
      ]
     },
     "execution_count": 96,
     "metadata": {},
     "output_type": "execute_result"
    }
   ],
   "source": [
    "lis[-1]"
   ]
  },
  {
   "cell_type": "code",
   "execution_count": 97,
   "id": "3d4e2e8f",
   "metadata": {},
   "outputs": [],
   "source": [
    "lis.append(\"sanwal\")"
   ]
  },
  {
   "cell_type": "code",
   "execution_count": 98,
   "id": "ebef2a47",
   "metadata": {},
   "outputs": [
    {
     "data": {
      "text/plain": [
       "['apple', 'banana', 24, True, 'sanwal']"
      ]
     },
     "execution_count": 98,
     "metadata": {},
     "output_type": "execute_result"
    }
   ],
   "source": [
    "lis"
   ]
  },
  {
   "cell_type": "code",
   "execution_count": 100,
   "id": "5b0bd945",
   "metadata": {},
   "outputs": [
    {
     "data": {
      "text/plain": [
       "1"
      ]
     },
     "execution_count": 100,
     "metadata": {},
     "output_type": "execute_result"
    }
   ],
   "source": [
    "lis.count(\"apple\")"
   ]
  },
  {
   "cell_type": "code",
   "execution_count": 101,
   "id": "04508f4d",
   "metadata": {},
   "outputs": [],
   "source": [
    "lis.append('apple')"
   ]
  },
  {
   "cell_type": "code",
   "execution_count": 102,
   "id": "c5825c2c",
   "metadata": {},
   "outputs": [
    {
     "data": {
      "text/plain": [
       "['apple', 'banana', 24, True, 'sanwal', 'apple']"
      ]
     },
     "execution_count": 102,
     "metadata": {},
     "output_type": "execute_result"
    }
   ],
   "source": [
    "lis"
   ]
  },
  {
   "cell_type": "code",
   "execution_count": 103,
   "id": "82f15c21",
   "metadata": {},
   "outputs": [
    {
     "data": {
      "text/plain": [
       "2"
      ]
     },
     "execution_count": 103,
     "metadata": {},
     "output_type": "execute_result"
    }
   ],
   "source": [
    "lis.count('apple')"
   ]
  },
  {
   "cell_type": "code",
   "execution_count": 104,
   "id": "78449ae3",
   "metadata": {},
   "outputs": [],
   "source": [
    "lis.insert(0,\"cheery\")"
   ]
  },
  {
   "cell_type": "code",
   "execution_count": 105,
   "id": "2cfd38e8",
   "metadata": {},
   "outputs": [
    {
     "data": {
      "text/plain": [
       "['cheery', 'apple', 'banana', 24, True, 'sanwal', 'apple']"
      ]
     },
     "execution_count": 105,
     "metadata": {},
     "output_type": "execute_result"
    }
   ],
   "source": [
    "lis"
   ]
  },
  {
   "cell_type": "code",
   "execution_count": 110,
   "id": "f455f5da",
   "metadata": {},
   "outputs": [],
   "source": [
    "lis=['A','B','C']\n",
    "lis2=['a','b','c']"
   ]
  },
  {
   "cell_type": "code",
   "execution_count": 111,
   "id": "1d46bc18",
   "metadata": {},
   "outputs": [],
   "source": [
    "lis.extend(lis2)"
   ]
  },
  {
   "cell_type": "code",
   "execution_count": 112,
   "id": "d8face25",
   "metadata": {},
   "outputs": [
    {
     "data": {
      "text/plain": [
       "['A', 'B', 'C', 'a', 'b', 'c']"
      ]
     },
     "execution_count": 112,
     "metadata": {},
     "output_type": "execute_result"
    }
   ],
   "source": [
    "lis"
   ]
  },
  {
   "cell_type": "code",
   "execution_count": 117,
   "id": "da815ce6",
   "metadata": {},
   "outputs": [
    {
     "data": {
      "text/plain": [
       "['c', 'b', 'a', 'C', 'B', 'A']"
      ]
     },
     "execution_count": 117,
     "metadata": {},
     "output_type": "execute_result"
    }
   ],
   "source": [
    "lis.sort()\n",
    "lis.reverse()\n",
    "lis"
   ]
  },
  {
   "cell_type": "code",
   "execution_count": 118,
   "id": "a6f78c66",
   "metadata": {},
   "outputs": [],
   "source": [
    "lis.remove('A')"
   ]
  },
  {
   "cell_type": "code",
   "execution_count": 119,
   "id": "fc64e210",
   "metadata": {},
   "outputs": [
    {
     "data": {
      "text/plain": [
       "['c', 'b', 'a', 'C', 'B']"
      ]
     },
     "execution_count": 119,
     "metadata": {},
     "output_type": "execute_result"
    }
   ],
   "source": [
    "lis"
   ]
  },
  {
   "cell_type": "code",
   "execution_count": 120,
   "id": "057e977a",
   "metadata": {},
   "outputs": [
    {
     "data": {
      "text/plain": [
       "'B'"
      ]
     },
     "execution_count": 120,
     "metadata": {},
     "output_type": "execute_result"
    }
   ],
   "source": [
    "lis.pop()"
   ]
  },
  {
   "cell_type": "code",
   "execution_count": 121,
   "id": "98d7a8cb",
   "metadata": {},
   "outputs": [
    {
     "data": {
      "text/plain": [
       "['c', 'b', 'a', 'C']"
      ]
     },
     "execution_count": 121,
     "metadata": {},
     "output_type": "execute_result"
    }
   ],
   "source": [
    "lis"
   ]
  },
  {
   "cell_type": "code",
   "execution_count": 122,
   "id": "4d4d0f38",
   "metadata": {},
   "outputs": [
    {
     "data": {
      "text/plain": [
       "'c'"
      ]
     },
     "execution_count": 122,
     "metadata": {},
     "output_type": "execute_result"
    }
   ],
   "source": [
    "lis.pop(0)"
   ]
  },
  {
   "cell_type": "markdown",
   "id": "6b3bf8be",
   "metadata": {},
   "source": [
    "# Python Tuple\n",
    "- Tuples are used to store multiple items in a single variable. A tuple is a collection which is ordered and unchangeable. Tuples are written with round brackets."
   ]
  },
  {
   "cell_type": "code",
   "execution_count": 123,
   "id": "3586b0a9",
   "metadata": {},
   "outputs": [],
   "source": [
    "tup=('apple','banana','cheery')"
   ]
  },
  {
   "cell_type": "code",
   "execution_count": 124,
   "id": "f7ab9ccf",
   "metadata": {},
   "outputs": [
    {
     "data": {
      "text/plain": [
       "tuple"
      ]
     },
     "execution_count": 124,
     "metadata": {},
     "output_type": "execute_result"
    }
   ],
   "source": [
    "type(tup)"
   ]
  },
  {
   "cell_type": "code",
   "execution_count": 125,
   "id": "35fba12b",
   "metadata": {},
   "outputs": [
    {
     "data": {
      "text/plain": [
       "1"
      ]
     },
     "execution_count": 125,
     "metadata": {},
     "output_type": "execute_result"
    }
   ],
   "source": [
    "tup.count('apple')"
   ]
  },
  {
   "cell_type": "code",
   "execution_count": 128,
   "id": "e16d023d",
   "metadata": {},
   "outputs": [
    {
     "ename": "TypeError",
     "evalue": "'tuple' object does not support item assignment",
     "output_type": "error",
     "traceback": [
      "\u001b[1;31m---------------------------------------------------------------------------\u001b[0m",
      "\u001b[1;31mTypeError\u001b[0m                                 Traceback (most recent call last)",
      "Input \u001b[1;32mIn [128]\u001b[0m, in \u001b[0;36m<cell line: 1>\u001b[1;34m()\u001b[0m\n\u001b[1;32m----> 1\u001b[0m tup[\u001b[38;5;241m1\u001b[39m]\u001b[38;5;241m=\u001b[39m\u001b[38;5;124m'\u001b[39m\u001b[38;5;124mmango\u001b[39m\u001b[38;5;124m'\u001b[39m\n",
      "\u001b[1;31mTypeError\u001b[0m: 'tuple' object does not support item assignment"
     ]
    }
   ],
   "source": [
    "tup[1]='mango'"
   ]
  },
  {
   "cell_type": "code",
   "execution_count": 129,
   "id": "c06f00dc",
   "metadata": {},
   "outputs": [],
   "source": [
    "li=list(tup)\n",
    "li[0]='mango'"
   ]
  },
  {
   "cell_type": "code",
   "execution_count": 132,
   "id": "edf3c6fa",
   "metadata": {},
   "outputs": [],
   "source": [
    "tup=tuple(li)"
   ]
  },
  {
   "cell_type": "code",
   "execution_count": 134,
   "id": "c4b55ee2",
   "metadata": {},
   "outputs": [
    {
     "data": {
      "text/plain": [
       "tuple"
      ]
     },
     "execution_count": 134,
     "metadata": {},
     "output_type": "execute_result"
    }
   ],
   "source": [
    "type(tup)"
   ]
  },
  {
   "cell_type": "code",
   "execution_count": 135,
   "id": "f00ab2d4",
   "metadata": {},
   "outputs": [],
   "source": [
    "tup1=('A','B','C')\n",
    "tup2=(1,2,3)"
   ]
  },
  {
   "cell_type": "code",
   "execution_count": 136,
   "id": "12db4512",
   "metadata": {},
   "outputs": [
    {
     "data": {
      "text/plain": [
       "('A', 'B', 'C', 1, 2, 3)"
      ]
     },
     "execution_count": 136,
     "metadata": {},
     "output_type": "execute_result"
    }
   ],
   "source": [
    "tup1+tup2"
   ]
  },
  {
   "cell_type": "markdown",
   "id": "3792feab",
   "metadata": {},
   "source": [
    "# Python Sets\n",
    "- Sets are used to store multiple items in a single variable.\n",
    "- Sets are written with curly brackets.\n",
    "- Set items are unordered, unchangeable, and do not allow duplicate values.\n",
    "- Set items can appear in a different order every time you use them, and cannot be referred to by index or key.\n",
    "- Set items are unchangeable, meaning that we cannot change the items after the set has been created.\n",
    "- Sets cannot have two items with the same value."
   ]
  },
  {
   "cell_type": "code",
   "execution_count": 137,
   "id": "5e3d9e7a",
   "metadata": {},
   "outputs": [],
   "source": [
    "thisset={'apple','mango','cheery'}"
   ]
  },
  {
   "cell_type": "code",
   "execution_count": 138,
   "id": "e36f27f0",
   "metadata": {},
   "outputs": [
    {
     "data": {
      "text/plain": [
       "set"
      ]
     },
     "execution_count": 138,
     "metadata": {},
     "output_type": "execute_result"
    }
   ],
   "source": [
    "type(thisset)"
   ]
  },
  {
   "cell_type": "code",
   "execution_count": 139,
   "id": "5991c9c0",
   "metadata": {},
   "outputs": [],
   "source": [
    "thisset.add(\"banana\")"
   ]
  },
  {
   "cell_type": "code",
   "execution_count": 140,
   "id": "8e97c778",
   "metadata": {},
   "outputs": [
    {
     "data": {
      "text/plain": [
       "{'apple', 'banana', 'cheery', 'mango'}"
      ]
     },
     "execution_count": 140,
     "metadata": {},
     "output_type": "execute_result"
    }
   ],
   "source": [
    "thisset"
   ]
  },
  {
   "cell_type": "code",
   "execution_count": 141,
   "id": "5488aed3",
   "metadata": {},
   "outputs": [],
   "source": [
    "thisset.add('apple')"
   ]
  },
  {
   "cell_type": "code",
   "execution_count": 142,
   "id": "ccb80e54",
   "metadata": {},
   "outputs": [
    {
     "data": {
      "text/plain": [
       "{'apple', 'banana', 'cheery', 'mango'}"
      ]
     },
     "execution_count": 142,
     "metadata": {},
     "output_type": "execute_result"
    }
   ],
   "source": [
    "thisset"
   ]
  },
  {
   "cell_type": "code",
   "execution_count": 144,
   "id": "361893cc",
   "metadata": {},
   "outputs": [],
   "source": [
    "thisset.remove('apple')"
   ]
  },
  {
   "cell_type": "code",
   "execution_count": 145,
   "id": "7cda6e42",
   "metadata": {},
   "outputs": [
    {
     "data": {
      "text/plain": [
       "{'banana', 'cheery', 'mango'}"
      ]
     },
     "execution_count": 145,
     "metadata": {},
     "output_type": "execute_result"
    }
   ],
   "source": [
    "thisset"
   ]
  },
  {
   "cell_type": "code",
   "execution_count": 146,
   "id": "5b1134e9",
   "metadata": {},
   "outputs": [
    {
     "name": "stdout",
     "output_type": "stream",
     "text": [
      "mango\n",
      "cheery\n",
      "banana\n"
     ]
    }
   ],
   "source": [
    "for i in thisset:\n",
    "    print(i)"
   ]
  },
  {
   "cell_type": "code",
   "execution_count": 149,
   "id": "0addb9d6",
   "metadata": {},
   "outputs": [],
   "source": [
    "thisset.discard('cheery')"
   ]
  },
  {
   "cell_type": "code",
   "execution_count": 150,
   "id": "1ce1fe70",
   "metadata": {},
   "outputs": [
    {
     "ename": "KeyError",
     "evalue": "'cheery'",
     "output_type": "error",
     "traceback": [
      "\u001b[1;31m---------------------------------------------------------------------------\u001b[0m",
      "\u001b[1;31mKeyError\u001b[0m                                  Traceback (most recent call last)",
      "Input \u001b[1;32mIn [150]\u001b[0m, in \u001b[0;36m<cell line: 1>\u001b[1;34m()\u001b[0m\n\u001b[1;32m----> 1\u001b[0m \u001b[43mthisset\u001b[49m\u001b[38;5;241;43m.\u001b[39;49m\u001b[43mremove\u001b[49m\u001b[43m(\u001b[49m\u001b[38;5;124;43m'\u001b[39;49m\u001b[38;5;124;43mcheery\u001b[39;49m\u001b[38;5;124;43m'\u001b[39;49m\u001b[43m)\u001b[49m\n",
      "\u001b[1;31mKeyError\u001b[0m: 'cheery'"
     ]
    }
   ],
   "source": [
    "thisset.remove('cheery')"
   ]
  },
  {
   "cell_type": "code",
   "execution_count": 152,
   "id": "d0b5fd13",
   "metadata": {},
   "outputs": [],
   "source": [
    "thisset.add(\"apple\")"
   ]
  },
  {
   "cell_type": "code",
   "execution_count": 153,
   "id": "711367d5",
   "metadata": {},
   "outputs": [
    {
     "data": {
      "text/plain": [
       "{'apple', 'banana', 'mango'}"
      ]
     },
     "execution_count": 153,
     "metadata": {},
     "output_type": "execute_result"
    }
   ],
   "source": [
    "thisset"
   ]
  },
  {
   "cell_type": "code",
   "execution_count": 154,
   "id": "52523111",
   "metadata": {},
   "outputs": [
    {
     "data": {
      "text/plain": [
       "'banana'"
      ]
     },
     "execution_count": 154,
     "metadata": {},
     "output_type": "execute_result"
    }
   ],
   "source": [
    "thisset.pop()"
   ]
  },
  {
   "cell_type": "code",
   "execution_count": 158,
   "id": "e3771e49",
   "metadata": {},
   "outputs": [
    {
     "ename": "KeyError",
     "evalue": "'pop from an empty set'",
     "output_type": "error",
     "traceback": [
      "\u001b[1;31m---------------------------------------------------------------------------\u001b[0m",
      "\u001b[1;31mKeyError\u001b[0m                                  Traceback (most recent call last)",
      "Input \u001b[1;32mIn [158]\u001b[0m, in \u001b[0;36m<cell line: 1>\u001b[1;34m()\u001b[0m\n\u001b[1;32m----> 1\u001b[0m \u001b[43mthisset\u001b[49m\u001b[38;5;241;43m.\u001b[39;49m\u001b[43mpop\u001b[49m\u001b[43m(\u001b[49m\u001b[43m)\u001b[49m\n",
      "\u001b[1;31mKeyError\u001b[0m: 'pop from an empty set'"
     ]
    }
   ],
   "source": [
    "thisset.pop()"
   ]
  },
  {
   "cell_type": "code",
   "execution_count": 159,
   "id": "5711e67f",
   "metadata": {},
   "outputs": [],
   "source": [
    "set1={'A','B','C'}\n",
    "set2={1,2,3,\"A\",'c'}\n",
    "set3=set1.union(set2)"
   ]
  },
  {
   "cell_type": "code",
   "execution_count": null,
   "id": "39ec6067",
   "metadata": {},
   "outputs": [],
   "source": []
  }
 ],
 "metadata": {
  "kernelspec": {
   "display_name": "Python 3 (ipykernel)",
   "language": "python",
   "name": "python3"
  },
  "language_info": {
   "codemirror_mode": {
    "name": "ipython",
    "version": 3
   },
   "file_extension": ".py",
   "mimetype": "text/x-python",
   "name": "python",
   "nbconvert_exporter": "python",
   "pygments_lexer": "ipython3",
   "version": "3.9.12"
  }
 },
 "nbformat": 4,
 "nbformat_minor": 5
}
