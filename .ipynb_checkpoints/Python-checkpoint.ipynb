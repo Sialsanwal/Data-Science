{
 "cells": [
  {
   "cell_type": "code",
   "execution_count": null,
   "id": "935fb5df",
   "metadata": {},
   "outputs": [],
   "source": [
    "a = 5"
   ]
  },
  {
   "cell_type": "code",
   "execution_count": null,
   "id": "6c5f3b1a",
   "metadata": {},
   "outputs": [],
   "source": [
    "if a>5:\n",
    "    print('Result')\n",
    "else:\n",
    "    print('Yes')"
   ]
  },
  {
   "cell_type": "code",
   "execution_count": null,
   "id": "9b20835e",
   "metadata": {},
   "outputs": [],
   "source": [
    "True if a==5 else False"
   ]
  },
  {
   "cell_type": "code",
   "execution_count": null,
   "id": "71a7b833",
   "metadata": {},
   "outputs": [],
   "source": [
    "mylist_ = [1,2,3,4,5]"
   ]
  },
  {
   "cell_type": "code",
   "execution_count": null,
   "id": "2fea71a7",
   "metadata": {},
   "outputs": [],
   "source": [
    "[x**2 for x in mylist_]"
   ]
  },
  {
   "cell_type": "code",
   "execution_count": 3,
   "id": "179f09f7",
   "metadata": {},
   "outputs": [
    {
     "name": "stdout",
     "output_type": "stream",
     "text": [
      "1\n",
      "2\n",
      "3\n",
      "4\n",
      "5\n",
      "Finally End!\n"
     ]
    }
   ],
   "source": [
    "i = 1\n",
    "\n",
    "while i<6:\n",
    "    print(i)\n",
    "    i+=1\n",
    "else:\n",
    "    print('Finally End!')"
   ]
  },
  {
   "cell_type": "code",
   "execution_count": 4,
   "id": "a49647fd",
   "metadata": {},
   "outputs": [],
   "source": [
    "fruits = ['A', 'B', 'C', 'D']"
   ]
  },
  {
   "cell_type": "code",
   "execution_count": 7,
   "id": "9abf344b",
   "metadata": {},
   "outputs": [
    {
     "name": "stdout",
     "output_type": "stream",
     "text": [
      "0 A\n",
      "1 B\n",
      "2 C\n",
      "3 D\n"
     ]
    }
   ],
   "source": [
    "for i, v in enumerate(fruits):\n",
    "    print(i,v)"
   ]
  },
  {
   "cell_type": "code",
   "execution_count": 12,
   "id": "858cb440",
   "metadata": {},
   "outputs": [
    {
     "name": "stdout",
     "output_type": "stream",
     "text": [
      "10\n",
      "20\n",
      "30\n",
      "40\n",
      "50\n",
      "60\n",
      "70\n",
      "80\n",
      "90\n",
      "100\n"
     ]
    }
   ],
   "source": [
    "for x in range(10, 100+1, 10):\n",
    "    print(x)"
   ]
  },
  {
   "cell_type": "code",
   "execution_count": 14,
   "id": "befdd92b",
   "metadata": {},
   "outputs": [],
   "source": [
    "Person = ['Ali', 'Raza', 'Kashif']\n",
    "Fruits = ['Apple', 'Banana', 'Strawberry']"
   ]
  },
  {
   "cell_type": "code",
   "execution_count": 17,
   "id": "c39b3480",
   "metadata": {},
   "outputs": [
    {
     "name": "stdout",
     "output_type": "stream",
     "text": [
      "Ali likes Apple\n",
      "Ali likes Banana\n",
      "Ali likes Strawberry\n",
      "Raza likes Apple\n",
      "Raza likes Banana\n",
      "Raza likes Strawberry\n",
      "Kashif likes Apple\n",
      "Kashif likes Banana\n",
      "Kashif likes Strawberry\n"
     ]
    }
   ],
   "source": [
    "for p in Person:\n",
    "    for f in Fruits:\n",
    "        print('{} likes {}'.format(p, f))"
   ]
  },
  {
   "cell_type": "code",
   "execution_count": 19,
   "id": "2fcfe206",
   "metadata": {},
   "outputs": [
    {
     "name": "stdout",
     "output_type": "stream",
     "text": [
      "Ali likes Apple\n",
      "Raza likes Banana\n",
      "Kashif likes Strawberry\n"
     ]
    }
   ],
   "source": [
    "for i in range(3):\n",
    "    print('{} likes {}'.format(Person[i], Fruits[i]))"
   ]
  },
  {
   "cell_type": "code",
   "execution_count": 21,
   "id": "3ead6813",
   "metadata": {},
   "outputs": [
    {
     "name": "stdout",
     "output_type": "stream",
     "text": [
      "('Ali', 'Apple')\n",
      "('Raza', 'Banana')\n",
      "('Kashif', 'Strawberry')\n"
     ]
    }
   ],
   "source": [
    "for x in zip(Person, Fruits):\n",
    "    print(x)"
   ]
  },
  {
   "cell_type": "code",
   "execution_count": null,
   "id": "2909ffb2",
   "metadata": {},
   "outputs": [],
   "source": []
  },
  {
   "cell_type": "code",
   "execution_count": null,
   "id": "38515fc3",
   "metadata": {},
   "outputs": [],
   "source": []
  },
  {
   "cell_type": "code",
   "execution_count": null,
   "id": "032f3002",
   "metadata": {},
   "outputs": [],
   "source": []
  },
  {
   "cell_type": "code",
   "execution_count": 31,
   "id": "d7088a16",
   "metadata": {},
   "outputs": [],
   "source": [
    "def P(fname, lname):\n",
    "    print('Hello {} {}!'.format(fname, lname))"
   ]
  },
  {
   "cell_type": "code",
   "execution_count": 32,
   "id": "131e3d25",
   "metadata": {},
   "outputs": [
    {
     "name": "stdout",
     "output_type": "stream",
     "text": [
      "Hello Waheed Abbas!\n"
     ]
    }
   ],
   "source": [
    "P('Waheed', 'Abbas')"
   ]
  },
  {
   "cell_type": "code",
   "execution_count": 33,
   "id": "81255e40",
   "metadata": {},
   "outputs": [],
   "source": [
    "def Power(x):\n",
    "    return x**2"
   ]
  },
  {
   "cell_type": "code",
   "execution_count": 34,
   "id": "bc1f05c6",
   "metadata": {},
   "outputs": [
    {
     "data": {
      "text/plain": [
       "100"
      ]
     },
     "execution_count": 34,
     "metadata": {},
     "output_type": "execute_result"
    }
   ],
   "source": [
    "Power(10)"
   ]
  },
  {
   "cell_type": "code",
   "execution_count": 43,
   "id": "bf059c99",
   "metadata": {},
   "outputs": [
    {
     "data": {
      "text/plain": [
       "[0, 4, 16, 36, 64]"
      ]
     },
     "execution_count": 43,
     "metadata": {},
     "output_type": "execute_result"
    }
   ],
   "source": [
    "[Power(x) for x in range(0,10) if x%2==0]"
   ]
  },
  {
   "cell_type": "code",
   "execution_count": 57,
   "id": "d784c844",
   "metadata": {},
   "outputs": [],
   "source": [
    "z = lambda x, y: Power(x)+Power(y)"
   ]
  },
  {
   "cell_type": "code",
   "execution_count": 58,
   "id": "e6fd58dd",
   "metadata": {},
   "outputs": [
    {
     "data": {
      "text/plain": [
       "125"
      ]
     },
     "execution_count": 58,
     "metadata": {},
     "output_type": "execute_result"
    }
   ],
   "source": [
    "z(5, 10)"
   ]
  },
  {
   "cell_type": "code",
   "execution_count": null,
   "id": "b236dfde",
   "metadata": {},
   "outputs": [],
   "source": []
  },
  {
   "cell_type": "code",
   "execution_count": 61,
   "id": "fb639b36",
   "metadata": {},
   "outputs": [
    {
     "data": {
      "text/plain": [
       "10"
      ]
     },
     "execution_count": 61,
     "metadata": {},
     "output_type": "execute_result"
    }
   ],
   "source": [
    "int('10')"
   ]
  },
  {
   "cell_type": "code",
   "execution_count": null,
   "id": "2eac10a6",
   "metadata": {},
   "outputs": [],
   "source": []
  },
  {
   "cell_type": "code",
   "execution_count": null,
   "id": "3f47b57c",
   "metadata": {},
   "outputs": [],
   "source": []
  },
  {
   "cell_type": "code",
   "execution_count": null,
   "id": "45cb6759",
   "metadata": {},
   "outputs": [],
   "source": []
  },
  {
   "cell_type": "code",
   "execution_count": null,
   "id": "41a550f0",
   "metadata": {},
   "outputs": [],
   "source": []
  },
  {
   "cell_type": "code",
   "execution_count": null,
   "id": "10e796c7",
   "metadata": {},
   "outputs": [],
   "source": []
  },
  {
   "cell_type": "code",
   "execution_count": 64,
   "id": "b447d046",
   "metadata": {},
   "outputs": [
    {
     "name": "stdout",
     "output_type": "stream",
     "text": [
      "0 0\n",
      "0 1\n",
      "0 2\n",
      "0 3\n",
      "0 4\n",
      "1 0\n",
      "1 1\n",
      "1 2\n",
      "1 3\n",
      "1 4\n",
      "2 0\n",
      "2 1\n",
      "2 2\n",
      "2 3\n",
      "2 4\n",
      "3 0\n",
      "3 1\n",
      "3 2\n",
      "3 3\n",
      "3 4\n",
      "4 0\n",
      "4 1\n",
      "4 2\n",
      "4 3\n",
      "4 4\n"
     ]
    }
   ],
   "source": [
    "for x in range(0,5):\n",
    "    for y in range(0,5):\n",
    "        print(x,y)"
   ]
  },
  {
   "cell_type": "code",
   "execution_count": 85,
   "id": "1b3f3120",
   "metadata": {},
   "outputs": [
    {
     "data": {
      "text/plain": [
       "['His first name is ALI and last name is Xanax',\n",
       " 'His first name is ALI and last name is Yasir',\n",
       " 'His first name is ALI and last name is Zaheer',\n",
       " 'His first name is BILAL and last name is Xanax',\n",
       " 'His first name is BILAL and last name is Yasir',\n",
       " 'His first name is BILAL and last name is Zaheer',\n",
       " 'His first name is CHAND and last name is Xanax',\n",
       " 'His first name is CHAND and last name is Yasir',\n",
       " 'His first name is CHAND and last name is Zaheer']"
      ]
     },
     "execution_count": 85,
     "metadata": {},
     "output_type": "execute_result"
    }
   ],
   "source": [
    "['His first name is '+x.strip().upper()+' and last name is '+y.strip() \n",
    " for x in ['Ali ', ' Bilal', 'Chand'] \n",
    " for y in [' Xanax', 'Yasir ', ' Zaheer']]"
   ]
  },
  {
   "cell_type": "code",
   "execution_count": null,
   "id": "864922fe",
   "metadata": {},
   "outputs": [],
   "source": []
  }
 ],
 "metadata": {
  "kernelspec": {
   "display_name": "Python 3 (ipykernel)",
   "language": "python",
   "name": "python3"
  },
  "language_info": {
   "codemirror_mode": {
    "name": "ipython",
    "version": 3
   },
   "file_extension": ".py",
   "mimetype": "text/x-python",
   "name": "python",
   "nbconvert_exporter": "python",
   "pygments_lexer": "ipython3",
   "version": "3.9.12"
  }
 },
 "nbformat": 4,
 "nbformat_minor": 5
}
