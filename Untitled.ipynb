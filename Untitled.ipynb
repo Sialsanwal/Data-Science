{
 "cells": [
  {
   "cell_type": "markdown",
   "id": "85a2cfcd",
   "metadata": {},
   "source": [
    "Write a program that inputs temperature and display thr messeage"
   ]
  },
  {
   "cell_type": "code",
   "execution_count": 7,
   "id": "b4a2b129",
   "metadata": {},
   "outputs": [
    {
     "name": "stdout",
     "output_type": "stream",
     "text": [
      "Enter the Temperature:37\n",
      "Hot day\n"
     ]
    }
   ],
   "source": [
    "temp=int(input(\"Enter the Temperature:\"))\n",
    "if temp>=35:\n",
    "    print(\"Hot day\")\n",
    "elif temp>=25 and temp<=35:\n",
    "    print('Pleasent today')\n",
    "elif temp<25:\n",
    "    print(\"Cool day\")"
   ]
  },
  {
   "cell_type": "markdown",
   "id": "35ab4051",
   "metadata": {},
   "source": [
    "Write a program that input the obtained number of a student calculate the percentage and display grade"
   ]
  },
  {
   "cell_type": "code",
   "execution_count": 25,
   "id": "13382cd4",
   "metadata": {},
   "outputs": [
    {
     "name": "stdout",
     "output_type": "stream",
     "text": [
      "Enter the obtained mark:720\n",
      "65.45454545454545\n",
      "Your Grade is B\n"
     ]
    }
   ],
   "source": [
    "total_num=1100\n",
    "marks=int(input(\"Enter the obtained mark:\"))\n",
    "Percentage=marks/1100*100\n",
    "print(Percentage)\n",
    "if Percentage>=80:\n",
    "    print(\"Your Grade is A+\")\n",
    "elif Percentage>=70 and Percentage<80:\n",
    "    print(\"Your Grade is A\")\n",
    "elif Percentage>=60 and Percentage<70:\n",
    "    print(\"Your Grade is B\")\n",
    "elif Percentage>=50 and Percentage<60:\n",
    "    print(\"Your Grade is C\")\n",
    "elif Percentage>=40 and Percentage<50:\n",
    "    print(\"Your Grade is D\")\n",
    "elif Percentage>=33 and Percentage<40:\n",
    "    print(\"Your Grade is E\")\n",
    "elif Percentage<33:\n",
    "    print('F')"
   ]
  },
  {
   "cell_type": "code",
   "execution_count": null,
   "id": "c6aaf63a",
   "metadata": {},
   "outputs": [],
   "source": []
  }
 ],
 "metadata": {
  "kernelspec": {
   "display_name": "Python 3 (ipykernel)",
   "language": "python",
   "name": "python3"
  },
  "language_info": {
   "codemirror_mode": {
    "name": "ipython",
    "version": 3
   },
   "file_extension": ".py",
   "mimetype": "text/x-python",
   "name": "python",
   "nbconvert_exporter": "python",
   "pygments_lexer": "ipython3",
   "version": "3.9.12"
  }
 },
 "nbformat": 4,
 "nbformat_minor": 5
}
