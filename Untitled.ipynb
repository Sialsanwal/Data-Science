{
 "cells": [
  {
   "cell_type": "markdown",
   "id": "f5a7a391",
   "metadata": {},
   "source": [
    "# Question No 1"
   ]
  },
  {
   "cell_type": "markdown",
   "id": "85a2cfcd",
   "metadata": {},
   "source": [
    "Write a program that inputs temperature and display thr messeage"
   ]
  },
  {
   "cell_type": "code",
   "execution_count": null,
   "id": "b4a2b129",
   "metadata": {},
   "outputs": [],
   "source": [
    "temp=int(input(\"Enter the Temperature:\"))\n",
    "if temp>=35:\n",
    "    print(\"Hot day\")\n",
    "elif temp>=25 and temp<=35:\n",
    "    print('Pleasent today')\n",
    "elif temp<25:\n",
    "    print(\"Cool day\")"
   ]
  },
  {
   "cell_type": "markdown",
   "id": "ea3ad7ec",
   "metadata": {},
   "source": [
    "# Question No 2"
   ]
  },
  {
   "cell_type": "markdown",
   "id": "fa97e856",
   "metadata": {},
   "source": [
    "Write a program that input the obtained number of a student calculate the percentage and display grade"
   ]
  },
  {
   "cell_type": "code",
   "execution_count": null,
   "id": "5b6ac09c",
   "metadata": {},
   "outputs": [],
   "source": [
    "total_num=1100\n",
    "marks=int(input(\"Enter the obtained mark:\"))\n",
    "Percentage=marks/1100*100\n",
    "print(Percentage)\n",
    "if Percentage>=80:\n",
    "    print(\"Your Grade is A+\")\n",
    "elif Percentage>=70 and Percentage<80:\n",
    "    print(\"Your Grade is A\")\n",
    "elif Percentage>=60 and Percentage<70:\n",
    "    print(\"Your Grade is B\")\n",
    "elif Percentage>=50 and Percentage<60:\n",
    "    print(\"Your Grade is C\")\n",
    "elif Percentage>=40 and Percentage<50:\n",
    "    print(\"Your Grade is D\")\n",
    "elif Percentage>=33 and Percentage<40:\n",
    "    print(\"Your Grade is E\")\n",
    "elif Percentage<33:\n",
    "    print('F')"
   ]
  },
  {
   "cell_type": "markdown",
   "id": "f2cc3160",
   "metadata": {},
   "source": [
    "# Question No 3"
   ]
  },
  {
   "cell_type": "markdown",
   "id": "24aa4f65",
   "metadata": {},
   "source": [
    "Write a program that input the salary of an employee from the users.It deducts the income tax from the salary on the follwong basis\n",
    "- 20% income tax if the salary is above Rs.30,000\n",
    "- 15% income tax if the salary is between Rs.20,000 and Rs.30,000\n",
    "- 10% income tax if the salary is below Rs.20,000\n",
    "\n",
    "The Program finally display salary ,income tax and the net salary"
   ]
  },
  {
   "cell_type": "code",
   "execution_count": null,
   "id": "0e6f7de5",
   "metadata": {},
   "outputs": [],
   "source": [
    "salary=int(input(\"Enter your salary:\"))\n",
    "if salary>30000:\n",
    "    income_tax=20/100*salary\n",
    "    net_salary=salary-income_tax\n",
    "    print(\"The income tax is:\",income_tax)\n",
    "    print(\"The Net-salary is:\",net_salary)\n",
    "elif salary>=20000 and salary<=30000:\n",
    "    income_tax=15/100*salary\n",
    "    net_salary=salary-income_tax\n",
    "    print(\"The income tax is:\",income_tax)\n",
    "    print(\"The Net-salary is:\",net_salary)\n",
    "elif salary<=20000:\n",
    "    income_tax=10/100*salary\n",
    "    net_salary=salary-income_tax\n",
    "    print(\"The income tax is:\",income_tax)\n",
    "    print(\"The Net-salary is:\",net_salary)"
   ]
  },
  {
   "cell_type": "markdown",
   "id": "af3daef9",
   "metadata": {
    "scrolled": true
   },
   "source": [
    "# Question No 4"
   ]
  },
  {
   "cell_type": "markdown",
   "id": "9beb6e11",
   "metadata": {},
   "source": [
    "Write a program to display Pascal's triangle."
   ]
  },
  {
   "cell_type": "code",
   "execution_count": null,
   "id": "87aa61a1",
   "metadata": {},
   "outputs": [],
   "source": [
    "from math import factorial\n",
    "n = 5\n",
    "for i in range(n):\n",
    "    \n",
    "    for j in range(n-i+1):\n",
    "        \n",
    "        # for left spacing\n",
    "        print(end=\" \")\n",
    "\n",
    "    for j in range(i+1):\n",
    "\n",
    "        print(factorial(i)//(factorial(j)*factorial(i-j)), end=\" \")\n",
    "\n",
    "    print()\n"
   ]
  },
  {
   "cell_type": "markdown",
   "id": "be24f9fe",
   "metadata": {},
   "source": [
    "# Question No 5"
   ]
  },
  {
   "cell_type": "markdown",
   "id": "a59150d2",
   "metadata": {},
   "source": [
    "  - Write a program to read the Richter magnitude value from the user and display the result for the following condition using if else statement\n",
    "- >1.0 and <2.0  then MicroEarthQuakes not felt or rarely felt\n",
    "- >2.0 and <4.0   then Very rarely causes damage\n",
    "- >4.0 and <5.0   then Damage done to weak building\n",
    "- >5.0 and <6.0   then Causes damage to the poorly constructed building\n",
    "- >6.0 and <7.0   then Causes damage to well-built structures\n",
    "- >7.0 and <8.0   then Causes damage to most buildings\n",
    "- >8.0 and <9.0   then Causes major destruction\n",
    "- >9.0            then Causes unbelieavable damage"
   ]
  },
  {
   "cell_type": "code",
   "execution_count": 6,
   "id": "3bc87761",
   "metadata": {},
   "outputs": [
    {
     "name": "stdout",
     "output_type": "stream",
     "text": [
      "Enter the magnitude:1.6\n",
      "MicroEarthQuakes not felt or rarely felt\n"
     ]
    }
   ],
   "source": [
    "magnitude=float(input(\"Enter the magnitude:\"))\n",
    "if magnitude >1.0 and magnitude<2.0:\n",
    "    print(\"MicroEarthQuakes not felt or rarely felt\")\n",
    "elif magnitude >2.0 and magnitude<4.0:\n",
    "    print(\"Very rarely causes damage\")\n",
    "elif magnitude >4.0 and magnitude<5.0:\n",
    "    print(\"Damage done to weak building\")\n",
    "elif magnitude >5.0 and magnitude<6.0:\n",
    "    print(\"Causes damage to the poorly constructed building\")\n",
    "elif magnitude >6.0 and magnitude<7.0:\n",
    "    print(\"Causes damage to well-built structures\")\n",
    "elif magnitude >7.0 and magnitude<8.0:\n",
    "    print(\"Causes damage to most buildings\")\n",
    "elif magnitude >8.0 and magnitude<9.0:\n",
    "    print(\"Causes major destruction\")\n",
    "elif magnitude>9.0:\n",
    "    print(\"Causes unbelieavable damage\")\n"
   ]
  },
  {
   "cell_type": "markdown",
   "id": "64d0a2d5",
   "metadata": {},
   "source": [
    "# Question No 6"
   ]
  },
  {
   "cell_type": "markdown",
   "id": "f9948844",
   "metadata": {},
   "source": [
    "Write a program that input year and month. It display the number of days in the month of the year entered by the user. For example if the user 2010 in year and 3 month the program should display \"March 2010 has 31 days\""
   ]
  },
  {
   "cell_type": "code",
   "execution_count": 11,
   "id": "852b4e8b",
   "metadata": {},
   "outputs": [
    {
     "name": "stdout",
     "output_type": "stream",
     "text": [
      "Enter the year:2020\n",
      "Enter the month:12\n",
      "December 2020 has 31 days\n"
     ]
    }
   ],
   "source": [
    "year=int(input(\"Enter the year:\"))\n",
    "month=int(input(\"Enter the month:\"))\n",
    "if month==1:\n",
    "    print(\"January\",year,\"has 31 days\")\n",
    "elif month==2:\n",
    "    print(\"February\",year,\"has 28 days\")\n",
    "elif month==3:\n",
    "    print(\"March\",year,\"has 31 days\")\n",
    "elif month==4:\n",
    "    print(\"April\",year,\"has 30 days\")\n",
    "elif month==5:\n",
    "    print(\"May\",year,\"has 31 days\")\n",
    "elif month==6:\n",
    "    print(\"June\",year,\"has 30 days\")\n",
    "elif month==7:\n",
    "    print(\"July\",year,\"has 31 days\")\n",
    "elif month==8:\n",
    "    print(\"August\",year,\"has 31 days\")\n",
    "elif month==9:\n",
    "    print(\"September\",year,\"has 30 days\")\n",
    "elif month==10:\n",
    "    print(\"October\",year,\"has 31 days\")\n",
    "elif month==11:\n",
    "    print(\"November\",year,\"has 30 days\")\n",
    "elif month==12:\n",
    "    print(\"December\",year,\"has 31 days\")"
   ]
  },
  {
   "cell_type": "markdown",
   "id": "727381b0",
   "metadata": {},
   "source": [
    "# Question No 7"
   ]
  },
  {
   "cell_type": "markdown",
   "id": "c7c69bb6",
   "metadata": {},
   "source": [
    "Write a program to display the following pattern using nested loops"
   ]
  },
  {
   "cell_type": "code",
   "execution_count": 28,
   "id": "5c6ea318",
   "metadata": {},
   "outputs": [
    {
     "name": "stdout",
     "output_type": "stream",
     "text": [
      "Enter number of rows: 5\n",
      "1\n",
      "22\n",
      "333\n",
      "4444\n",
      "55555\n"
     ]
    }
   ],
   "source": [
    "n = int(input(\"Enter number of rows: \"))\n",
    "\n",
    "for i in range(1,n+1):\n",
    "    for j in range(1, i+1):\n",
    "        print(i, end=\"\")\n",
    "    print()"
   ]
  },
  {
   "cell_type": "markdown",
   "id": "5255c0bc",
   "metadata": {},
   "source": [
    "# Question No 8"
   ]
  },
  {
   "cell_type": "markdown",
   "id": "bd9ce33f",
   "metadata": {},
   "source": [
    "Write a program to print the sum of the following series"
   ]
  },
  {
   "cell_type": "code",
   "execution_count": 32,
   "id": "8428647a",
   "metadata": {},
   "outputs": [
    {
     "name": "stdout",
     "output_type": "stream",
     "text": [
      "Enter the number of terms: 2\n",
      "The sum of series is 1.5\n"
     ]
    }
   ],
   "source": [
    "n=int(input(\"Enter the number of terms: \"))\n",
    "sum1=0\n",
    "for i in range(1,n+1):\n",
    "    sum1=sum1+(1/i)\n",
    "print(\"The sum of series is\",round(sum1,2))"
   ]
  },
  {
   "cell_type": "code",
   "execution_count": 31,
   "id": "b5abf498",
   "metadata": {},
   "outputs": [
    {
     "name": "stdout",
     "output_type": "stream",
     "text": [
      "Enter a value of n: 2\n",
      "The sum of the series is  3.0\n"
     ]
    }
   ],
   "source": [
    "n = int(input(\"Enter a value of n: \"))\n",
    "s=0.0 \n",
    "\n",
    "for i in range(1,n+1): \n",
    "      a=float(i**i)/i \n",
    "      s=s+a \n",
    "print(\"The sum of the series is \", s)  "
   ]
  },
  {
   "cell_type": "markdown",
   "id": "b1fc3cbe",
   "metadata": {},
   "source": [
    "# Question No 9"
   ]
  },
  {
   "cell_type": "code",
   "execution_count": null,
   "id": "eaec0ead",
   "metadata": {},
   "outputs": [],
   "source": [
    "Write a program that uses a while loop to add up all the even numbers between 100 and 200."
   ]
  },
  {
   "cell_type": "code",
   "execution_count": 36,
   "id": "2e3d9432",
   "metadata": {},
   "outputs": [
    {
     "name": "stdout",
     "output_type": "stream",
     "text": [
      "202\n"
     ]
    }
   ],
   "source": [
    "i=100;\n",
    "sum=0\n",
    "while(i<=200):  \n",
    "    i+=2\n",
    "sum=sum+i\n",
    "print(sum)"
   ]
  },
  {
   "cell_type": "code",
   "execution_count": null,
   "id": "37d46a5b",
   "metadata": {},
   "outputs": [],
   "source": []
  }
 ],
 "metadata": {
  "kernelspec": {
   "display_name": "Python 3 (ipykernel)",
   "language": "python",
   "name": "python3"
  },
  "language_info": {
   "codemirror_mode": {
    "name": "ipython",
    "version": 3
   },
   "file_extension": ".py",
   "mimetype": "text/x-python",
   "name": "python",
   "nbconvert_exporter": "python",
   "pygments_lexer": "ipython3",
   "version": "3.9.12"
  }
 },
 "nbformat": 4,
 "nbformat_minor": 5
}
