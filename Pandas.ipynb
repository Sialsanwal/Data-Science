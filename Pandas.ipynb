{
 "cells": [
  {
   "cell_type": "code",
   "execution_count": null,
   "id": "077cb06a",
   "metadata": {},
   "outputs": [],
   "source": [
    "%%timeit\n",
    "import pandas as pd"
   ]
  },
  {
   "cell_type": "markdown",
   "id": "2dc484fc",
   "metadata": {},
   "source": [
    "# Getting Started\n",
    "The primary two components of pandas are the Series and DataFrame.\n",
    "\n",
    "A Series is essentially a column, and a DataFrame is a multi-dimensional table made up of a collection of Series."
   ]
  },
  {
   "cell_type": "markdown",
   "id": "8b975fc0",
   "metadata": {},
   "source": [
    "# 1. What is a Series?\n",
    "- A Pandas Series is like a column in a table.\n",
    "- It is a one-dimensional array holding data of any type."
   ]
  },
  {
   "cell_type": "code",
   "execution_count": null,
   "id": "92bd4536",
   "metadata": {},
   "outputs": [],
   "source": [
    "a=[1,3,6,4,2]\n",
    "myvar=pd.Series(a)"
   ]
  },
  {
   "cell_type": "code",
   "execution_count": null,
   "id": "bf170451",
   "metadata": {},
   "outputs": [],
   "source": [
    "type(myvar)"
   ]
  },
  {
   "cell_type": "code",
   "execution_count": null,
   "id": "432445d8",
   "metadata": {},
   "outputs": [],
   "source": [
    "myvar"
   ]
  },
  {
   "cell_type": "markdown",
   "id": "ffe715a1",
   "metadata": {},
   "source": [
    "# 1.1. Labels\n",
    "If nothing else is specified, the values are labeled with their index number. First value has index 0, second value has index 1 etc.\n",
    "\n",
    "This label can be used to access a specified value."
   ]
  },
  {
   "cell_type": "code",
   "execution_count": null,
   "id": "7bdcf4fe",
   "metadata": {},
   "outputs": [],
   "source": [
    "print(myvar[0])"
   ]
  },
  {
   "cell_type": "code",
   "execution_count": null,
   "id": "33f6575a",
   "metadata": {},
   "outputs": [],
   "source": [
    "print(myvar[3])"
   ]
  },
  {
   "cell_type": "markdown",
   "id": "e7cdfea5",
   "metadata": {},
   "source": [
    "# 1.2. Create Labels\n",
    "With the index argument, you can name your own labels."
   ]
  },
  {
   "cell_type": "code",
   "execution_count": null,
   "id": "60ff4f2b",
   "metadata": {},
   "outputs": [],
   "source": [
    "a=[1,4,6]\n",
    "\n",
    "myvar=pd.Series(a, index=[\"x\",\"y\",\"z\"])"
   ]
  },
  {
   "cell_type": "code",
   "execution_count": null,
   "id": "4f6df305",
   "metadata": {},
   "outputs": [],
   "source": [
    "myvar"
   ]
  },
  {
   "cell_type": "code",
   "execution_count": null,
   "id": "05e70c7f",
   "metadata": {},
   "outputs": [],
   "source": [
    "myvar[0]"
   ]
  },
  {
   "cell_type": "code",
   "execution_count": null,
   "id": "9670754c",
   "metadata": {},
   "outputs": [],
   "source": [
    "myvar[\"y\"]"
   ]
  },
  {
   "cell_type": "markdown",
   "id": "39804589",
   "metadata": {},
   "source": [
    "# 1.3. Key/Value Objects as Series\n",
    "You can also use a key/value object, like a dictionary, when creating a Series."
   ]
  },
  {
   "cell_type": "code",
   "execution_count": null,
   "id": "b5e671be",
   "metadata": {},
   "outputs": [],
   "source": [
    "calerios={\"day1\":420,\"day2\":380,\"day3\":400}\n",
    "myvar=pd.Series(calerios)"
   ]
  },
  {
   "cell_type": "code",
   "execution_count": null,
   "id": "13e46698",
   "metadata": {},
   "outputs": [],
   "source": [
    "myvar"
   ]
  },
  {
   "cell_type": "markdown",
   "id": "f21982ef",
   "metadata": {},
   "source": [
    "# 2. What is a DataFrame?\n",
    "A Pandas DataFrame is a 2 dimensional data structure, like a 2 dimensional array, or a table with rows and columns."
   ]
  },
  {
   "cell_type": "code",
   "execution_count": null,
   "id": "5874a8f6",
   "metadata": {},
   "outputs": [],
   "source": [
    "data={\"caleories\":[420,340,210],\n",
    "     \"duration\":[40,50,60]}"
   ]
  },
  {
   "cell_type": "code",
   "execution_count": null,
   "id": "1e4e51c3",
   "metadata": {},
   "outputs": [],
   "source": [
    "df=pd.DataFrame(data)"
   ]
  },
  {
   "cell_type": "code",
   "execution_count": null,
   "id": "a4ea9c23",
   "metadata": {},
   "outputs": [],
   "source": [
    "df"
   ]
  },
  {
   "cell_type": "markdown",
   "id": "a27b5b09",
   "metadata": {},
   "source": [
    "# 2.1. Locate Row\n",
    "As you can see from the result above, the DataFrame is like a table with rows and columns.\n",
    "\n",
    "Pandas use the loc attribute to return one or more specified row(s)"
   ]
  },
  {
   "cell_type": "code",
   "execution_count": null,
   "id": "78ed033b",
   "metadata": {},
   "outputs": [],
   "source": [
    "print(df.iloc[1])"
   ]
  },
  {
   "cell_type": "code",
   "execution_count": null,
   "id": "d5bdb8c9",
   "metadata": {},
   "outputs": [],
   "source": [
    "df.iloc[0]"
   ]
  },
  {
   "cell_type": "code",
   "execution_count": null,
   "id": "b62518c3",
   "metadata": {},
   "outputs": [],
   "source": [
    "df.iloc[0,1]"
   ]
  },
  {
   "cell_type": "code",
   "execution_count": null,
   "id": "ebea260b",
   "metadata": {},
   "outputs": [],
   "source": [
    "df"
   ]
  },
  {
   "cell_type": "code",
   "execution_count": null,
   "id": "12c10cbd",
   "metadata": {},
   "outputs": [],
   "source": [
    "df.iloc[[0,2]]"
   ]
  },
  {
   "cell_type": "code",
   "execution_count": null,
   "id": "97b1f33c",
   "metadata": {},
   "outputs": [],
   "source": [
    "df.iloc[[0]]"
   ]
  },
  {
   "cell_type": "code",
   "execution_count": null,
   "id": "7329e1a5",
   "metadata": {},
   "outputs": [],
   "source": [
    "df.iloc[0]"
   ]
  },
  {
   "cell_type": "code",
   "execution_count": null,
   "id": "18999b0f",
   "metadata": {},
   "outputs": [],
   "source": [
    "data = {\n",
    "  \"calories\": [420, 380, 390],\n",
    "  \"duration\": [50, 40, 45]\n",
    "}\n",
    "\n",
    "df = pd.DataFrame(data, index = [\"day1\", \"day2\", \"day3\"])\n",
    "\n",
    "print(df) "
   ]
  },
  {
   "cell_type": "code",
   "execution_count": null,
   "id": "0ef6d9e1",
   "metadata": {},
   "outputs": [],
   "source": [
    "df"
   ]
  },
  {
   "cell_type": "code",
   "execution_count": null,
   "id": "76f21007",
   "metadata": {},
   "outputs": [],
   "source": [
    "print(df.loc[\"day1\"])"
   ]
  },
  {
   "cell_type": "code",
   "execution_count": null,
   "id": "08344236",
   "metadata": {},
   "outputs": [],
   "source": [
    "df.loc[\"day1\"]"
   ]
  },
  {
   "cell_type": "code",
   "execution_count": null,
   "id": "95817c53",
   "metadata": {},
   "outputs": [],
   "source": [
    "df=pd.read_csv(\"data.csv\")"
   ]
  },
  {
   "cell_type": "code",
   "execution_count": null,
   "id": "ea649463",
   "metadata": {},
   "outputs": [],
   "source": [
    "df.head()"
   ]
  },
  {
   "cell_type": "code",
   "execution_count": null,
   "id": "412f7f73",
   "metadata": {},
   "outputs": [],
   "source": [
    "df.shape"
   ]
  },
  {
   "cell_type": "code",
   "execution_count": null,
   "id": "54832bd6",
   "metadata": {},
   "outputs": [],
   "source": [
    "df.loc[1:20]"
   ]
  },
  {
   "cell_type": "code",
   "execution_count": null,
   "id": "58b8eb57",
   "metadata": {},
   "outputs": [],
   "source": [
    "df"
   ]
  },
  {
   "cell_type": "code",
   "execution_count": null,
   "id": "66516462",
   "metadata": {},
   "outputs": [],
   "source": [
    "df.head()"
   ]
  },
  {
   "cell_type": "code",
   "execution_count": null,
   "id": "9eb6918f",
   "metadata": {},
   "outputs": [],
   "source": [
    "df.tail()"
   ]
  },
  {
   "cell_type": "code",
   "execution_count": null,
   "id": "485f8d27",
   "metadata": {},
   "outputs": [],
   "source": [
    "#pick up the randow data\n",
    "df.sample(6)"
   ]
  },
  {
   "cell_type": "code",
   "execution_count": null,
   "id": "d913bcef",
   "metadata": {},
   "outputs": [],
   "source": [
    "df.max()"
   ]
  },
  {
   "cell_type": "markdown",
   "id": "5734e203",
   "metadata": {},
   "source": [
    "# 6. Getting info about your data"
   ]
  },
  {
   "cell_type": "code",
   "execution_count": null,
   "id": "366d2687",
   "metadata": {},
   "outputs": [],
   "source": [
    "df.info()"
   ]
  },
  {
   "cell_type": "code",
   "execution_count": null,
   "id": "96ca0e4f",
   "metadata": {},
   "outputs": [],
   "source": [
    "df.describe()"
   ]
  },
  {
   "cell_type": "code",
   "execution_count": null,
   "id": "8f5acfce",
   "metadata": {},
   "outputs": [],
   "source": [
    "df.shape"
   ]
  },
  {
   "cell_type": "code",
   "execution_count": null,
   "id": "51e0b928",
   "metadata": {},
   "outputs": [],
   "source": [
    "df.isnull()"
   ]
  },
  {
   "cell_type": "code",
   "execution_count": null,
   "id": "002ecf86",
   "metadata": {},
   "outputs": [],
   "source": [
    "df.isnull().sum()"
   ]
  },
  {
   "cell_type": "code",
   "execution_count": null,
   "id": "df0c172a",
   "metadata": {},
   "outputs": [],
   "source": [
    "df[\"Calories\"].min()"
   ]
  },
  {
   "cell_type": "code",
   "execution_count": null,
   "id": "4fe28c64",
   "metadata": {},
   "outputs": [],
   "source": [
    "df.head()"
   ]
  },
  {
   "cell_type": "code",
   "execution_count": null,
   "id": "c2197588",
   "metadata": {},
   "outputs": [],
   "source": [
    "df[\"Time\"].value_counts()"
   ]
  },
  {
   "cell_type": "code",
   "execution_count": null,
   "id": "dbb4ef34",
   "metadata": {},
   "outputs": [],
   "source": [
    "df[\"Time\"].unique()"
   ]
  },
  {
   "cell_type": "code",
   "execution_count": null,
   "id": "41a8e232",
   "metadata": {},
   "outputs": [],
   "source": [
    "df[\"Time\"].unique()"
   ]
  },
  {
   "cell_type": "code",
   "execution_count": null,
   "id": "72b5acc8",
   "metadata": {},
   "outputs": [],
   "source": [
    "df.columns"
   ]
  },
  {
   "cell_type": "code",
   "execution_count": null,
   "id": "3ab32985",
   "metadata": {},
   "outputs": [],
   "source": [
    "df[[\"Duration\",\"Time\"]].sample(12)"
   ]
  },
  {
   "cell_type": "code",
   "execution_count": null,
   "id": "a05b3432",
   "metadata": {},
   "outputs": [],
   "source": [
    "df[\"Duration\"].value_counts()"
   ]
  },
  {
   "cell_type": "code",
   "execution_count": null,
   "id": "b191cc16",
   "metadata": {},
   "outputs": [],
   "source": []
  }
 ],
 "metadata": {
  "kernelspec": {
   "display_name": "Python 3 (ipykernel)",
   "language": "python",
   "name": "python3"
  },
  "language_info": {
   "codemirror_mode": {
    "name": "ipython",
    "version": 3
   },
   "file_extension": ".py",
   "mimetype": "text/x-python",
   "name": "python",
   "nbconvert_exporter": "python",
   "pygments_lexer": "ipython3",
   "version": "3.9.12"
  }
 },
 "nbformat": 4,
 "nbformat_minor": 5
}
