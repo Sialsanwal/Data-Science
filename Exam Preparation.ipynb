{
 "cells": [
  {
   "cell_type": "code",
   "execution_count": 1,
   "id": "ff409e27",
   "metadata": {},
   "outputs": [],
   "source": [
    "import numpy as np\n",
    "import pandas as pd\n",
    "import statistics"
   ]
  },
  {
   "cell_type": "code",
   "execution_count": 24,
   "id": "6516048b",
   "metadata": {},
   "outputs": [],
   "source": [
    "age=[12,12,12,12,12,12,12,12,12]"
   ]
  },
  {
   "cell_type": "code",
   "execution_count": 25,
   "id": "5e50e27b",
   "metadata": {},
   "outputs": [],
   "source": [
    "age_mean=np.mean(age)\n",
    "diff_mean=[age_mean-x for x in age]\n",
    "squad_diff_mean=[x**2 for x in diff_mean]\n",
    "var=statistics.mean(squad_diff_mean)"
   ]
  },
  {
   "cell_type": "code",
   "execution_count": null,
   "id": "a9e5e275",
   "metadata": {},
   "outputs": [],
   "source": []
  },
  {
   "cell_type": "code",
   "execution_count": 12,
   "id": "afa5e001",
   "metadata": {},
   "outputs": [],
   "source": [
    "age=[12,34,65,34,56,23,86,45,24,51]\n",
    "age_mean=np.mean(age)\n",
    "diff_mean=[age_mean-x for x in age]\n",
    "Squad_diff_mean=[x**2 for x in diff_mean]\n",
    "variences=statistics.mean(Squad_diff_mean)"
   ]
  },
  {
   "cell_type": "code",
   "execution_count": 13,
   "id": "9ef45c1d",
   "metadata": {},
   "outputs": [
    {
     "data": {
      "text/plain": [
       "445.4"
      ]
     },
     "execution_count": 13,
     "metadata": {},
     "output_type": "execute_result"
    }
   ],
   "source": [
    "variences"
   ]
  },
  {
   "cell_type": "code",
   "execution_count": 14,
   "id": "067d1783",
   "metadata": {},
   "outputs": [
    {
     "data": {
      "text/plain": [
       "494.8888888888889"
      ]
     },
     "execution_count": 14,
     "metadata": {},
     "output_type": "execute_result"
    }
   ],
   "source": [
    "statistics.variance(age)"
   ]
  },
  {
   "cell_type": "code",
   "execution_count": 28,
   "id": "034720f5",
   "metadata": {},
   "outputs": [],
   "source": [
    "age=[12,34,65,34,56,23,86,45,24,51]\n",
    "\n",
    "age_mean=np.mean(age)\n",
    "diff_mean=[age_mean-x for x in age]\n",
    "squad_diff_mean=[x**2 for x in diff_mean]\n",
    "var=statistics.mean(squad_diff_mean)"
   ]
  },
  {
   "cell_type": "code",
   "execution_count": 29,
   "id": "44ac5e9a",
   "metadata": {},
   "outputs": [
    {
     "data": {
      "text/plain": [
       "21.104501889407388"
      ]
     },
     "execution_count": 29,
     "metadata": {},
     "output_type": "execute_result"
    }
   ],
   "source": [
    "statistics.sqrt(var)"
   ]
  },
  {
   "cell_type": "code",
   "execution_count": 33,
   "id": "afa3366e",
   "metadata": {},
   "outputs": [],
   "source": [
    "age=[12,34,65,34,56,23,86,45,24,51]"
   ]
  },
  {
   "cell_type": "code",
   "execution_count": 34,
   "id": "42deda97",
   "metadata": {},
   "outputs": [
    {
     "data": {
      "text/plain": [
       "21.104501889407388"
      ]
     },
     "execution_count": 34,
     "metadata": {},
     "output_type": "execute_result"
    }
   ],
   "source": [
    "np.var(age)"
   ]
  },
  {
   "cell_type": "code",
   "execution_count": null,
   "id": "cd2c6541",
   "metadata": {},
   "outputs": [],
   "source": []
  }
 ],
 "metadata": {
  "kernelspec": {
   "display_name": "Python 3 (ipykernel)",
   "language": "python",
   "name": "python3"
  },
  "language_info": {
   "codemirror_mode": {
    "name": "ipython",
    "version": 3
   },
   "file_extension": ".py",
   "mimetype": "text/x-python",
   "name": "python",
   "nbconvert_exporter": "python",
   "pygments_lexer": "ipython3",
   "version": "3.9.12"
  }
 },
 "nbformat": 4,
 "nbformat_minor": 5
}
