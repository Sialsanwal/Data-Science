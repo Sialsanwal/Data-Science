{
 "cells": [
  {
   "cell_type": "code",
   "execution_count": 1,
   "id": "db8cd345",
   "metadata": {},
   "outputs": [],
   "source": [
    "import numpy as np\n",
    "import pandas as pd\n",
    "import statistics"
   ]
  },
  {
   "cell_type": "code",
   "execution_count": 2,
   "id": "875713a4",
   "metadata": {},
   "outputs": [],
   "source": [
    "age=[12,12,12,12,12,12,12,12,12]"
   ]
  },
  {
   "cell_type": "code",
   "execution_count": 3,
   "id": "41518c3a",
   "metadata": {},
   "outputs": [],
   "source": [
    "age_mean=np.mean(age)\n",
    "diff_mean=[age_mean-x for x in age]\n",
    "squad_diff_mean=[x**2 for x in diff_mean]\n",
    "var=statistics.mean(squad_diff_mean)"
   ]
  },
  {
   "cell_type": "code",
   "execution_count": 5,
   "id": "c16d5774",
   "metadata": {},
   "outputs": [
    {
     "data": {
      "text/plain": [
       "0.0"
      ]
     },
     "execution_count": 5,
     "metadata": {},
     "output_type": "execute_result"
    }
   ],
   "source": [
    "var"
   ]
  },
  {
   "cell_type": "code",
   "execution_count": null,
   "id": "fe15aedf",
   "metadata": {},
   "outputs": [],
   "source": []
  },
  {
   "cell_type": "code",
   "execution_count": null,
   "id": "c0d12a68",
   "metadata": {},
   "outputs": [],
   "source": []
  }
 ],
 "metadata": {
  "kernelspec": {
   "display_name": "Python 3 (ipykernel)",
   "language": "python",
   "name": "python3"
  },
  "language_info": {
   "codemirror_mode": {
    "name": "ipython",
    "version": 3
   },
   "file_extension": ".py",
   "mimetype": "text/x-python",
   "name": "python",
   "nbconvert_exporter": "python",
   "pygments_lexer": "ipython3",
   "version": "3.9.12"
  }
 },
 "nbformat": 4,
 "nbformat_minor": 5
}
