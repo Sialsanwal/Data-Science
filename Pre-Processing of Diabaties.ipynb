{
 "cells": [
  {
   "cell_type": "code",
   "execution_count": 1,
   "id": "959be021",
   "metadata": {},
   "outputs": [],
   "source": [
    "import numpy as np\n",
    "import pandas as pd\n",
    "import seaborn as sns\n",
    "import matplotlib.pylab as plt\n",
    "\n",
    "\n",
    "import warnings\n",
    "warnings.filterwarnings(\"ignore\")"
   ]
  },
  {
   "cell_type": "markdown",
   "id": "8b36a6d5",
   "metadata": {},
   "source": [
    "# Load the data"
   ]
  },
  {
   "cell_type": "code",
   "execution_count": 2,
   "id": "33fa523f",
   "metadata": {},
   "outputs": [],
   "source": [
    "df=pd.read_csv(\"diabetes.csv\")"
   ]
  },
  {
   "cell_type": "code",
   "execution_count": 3,
   "id": "3b8f5f01",
   "metadata": {},
   "outputs": [
    {
     "data": {
      "text/html": [
       "<div>\n",
       "<style scoped>\n",
       "    .dataframe tbody tr th:only-of-type {\n",
       "        vertical-align: middle;\n",
       "    }\n",
       "\n",
       "    .dataframe tbody tr th {\n",
       "        vertical-align: top;\n",
       "    }\n",
       "\n",
       "    .dataframe thead th {\n",
       "        text-align: right;\n",
       "    }\n",
       "</style>\n",
       "<table border=\"1\" class=\"dataframe\">\n",
       "  <thead>\n",
       "    <tr style=\"text-align: right;\">\n",
       "      <th></th>\n",
       "      <th>Pregnancies</th>\n",
       "      <th>Glucose</th>\n",
       "      <th>BloodPressure</th>\n",
       "      <th>SkinThickness</th>\n",
       "      <th>Insulin</th>\n",
       "      <th>BMI</th>\n",
       "      <th>DiabetesPedigreeFunction</th>\n",
       "      <th>Age</th>\n",
       "      <th>Outcome</th>\n",
       "    </tr>\n",
       "  </thead>\n",
       "  <tbody>\n",
       "    <tr>\n",
       "      <th>0</th>\n",
       "      <td>6</td>\n",
       "      <td>148</td>\n",
       "      <td>72</td>\n",
       "      <td>35</td>\n",
       "      <td>0</td>\n",
       "      <td>33.6</td>\n",
       "      <td>0.627</td>\n",
       "      <td>50</td>\n",
       "      <td>1</td>\n",
       "    </tr>\n",
       "    <tr>\n",
       "      <th>1</th>\n",
       "      <td>1</td>\n",
       "      <td>85</td>\n",
       "      <td>66</td>\n",
       "      <td>29</td>\n",
       "      <td>0</td>\n",
       "      <td>26.6</td>\n",
       "      <td>0.351</td>\n",
       "      <td>31</td>\n",
       "      <td>0</td>\n",
       "    </tr>\n",
       "    <tr>\n",
       "      <th>2</th>\n",
       "      <td>8</td>\n",
       "      <td>183</td>\n",
       "      <td>64</td>\n",
       "      <td>0</td>\n",
       "      <td>0</td>\n",
       "      <td>23.3</td>\n",
       "      <td>0.672</td>\n",
       "      <td>32</td>\n",
       "      <td>1</td>\n",
       "    </tr>\n",
       "    <tr>\n",
       "      <th>3</th>\n",
       "      <td>1</td>\n",
       "      <td>89</td>\n",
       "      <td>66</td>\n",
       "      <td>23</td>\n",
       "      <td>94</td>\n",
       "      <td>28.1</td>\n",
       "      <td>0.167</td>\n",
       "      <td>21</td>\n",
       "      <td>0</td>\n",
       "    </tr>\n",
       "    <tr>\n",
       "      <th>4</th>\n",
       "      <td>0</td>\n",
       "      <td>137</td>\n",
       "      <td>40</td>\n",
       "      <td>35</td>\n",
       "      <td>168</td>\n",
       "      <td>43.1</td>\n",
       "      <td>2.288</td>\n",
       "      <td>33</td>\n",
       "      <td>1</td>\n",
       "    </tr>\n",
       "  </tbody>\n",
       "</table>\n",
       "</div>"
      ],
      "text/plain": [
       "   Pregnancies  Glucose  BloodPressure  SkinThickness  Insulin   BMI  \\\n",
       "0            6      148             72             35        0  33.6   \n",
       "1            1       85             66             29        0  26.6   \n",
       "2            8      183             64              0        0  23.3   \n",
       "3            1       89             66             23       94  28.1   \n",
       "4            0      137             40             35      168  43.1   \n",
       "\n",
       "   DiabetesPedigreeFunction  Age  Outcome  \n",
       "0                     0.627   50        1  \n",
       "1                     0.351   31        0  \n",
       "2                     0.672   32        1  \n",
       "3                     0.167   21        0  \n",
       "4                     2.288   33        1  "
      ]
     },
     "execution_count": 3,
     "metadata": {},
     "output_type": "execute_result"
    }
   ],
   "source": [
    "df.head()"
   ]
  },
  {
   "cell_type": "markdown",
   "id": "3d195cf7",
   "metadata": {},
   "source": [
    "### Checking the BloodPressure data Skew or not"
   ]
  },
  {
   "cell_type": "code",
   "execution_count": 4,
   "id": "77693977",
   "metadata": {},
   "outputs": [
    {
     "data": {
      "text/plain": [
       "-1.8436079833551302"
      ]
     },
     "execution_count": 4,
     "metadata": {},
     "output_type": "execute_result"
    }
   ],
   "source": [
    "df.BloodPressure.skew()"
   ]
  },
  {
   "cell_type": "markdown",
   "id": "e680807d",
   "metadata": {},
   "source": [
    "**Observation**\n",
    "- its negative so,its not skewed"
   ]
  },
  {
   "cell_type": "markdown",
   "id": "5f835bd5",
   "metadata": {},
   "source": [
    "### Statistical measure for the BloodPressure column"
   ]
  },
  {
   "cell_type": "code",
   "execution_count": 5,
   "id": "4d3665c7",
   "metadata": {},
   "outputs": [
    {
     "name": "stdout",
     "output_type": "stream",
     "text": [
      "Mean value of BloodPressure: 69.11\n",
      "Median value of BloodPressure: 72.0\n",
      "Minimum value of BloodPressure: 0\n",
      "Maximum value of BloodPressure 122\n",
      "StandardDivation value of BloodPressure: 19.36\n"
     ]
    }
   ],
   "source": [
    "print(\"Mean value of BloodPressure:\",round(df.BloodPressure.mean(),2))\n",
    "print(\"Median value of BloodPressure:\",round(df.BloodPressure.median(),2))\n",
    "print(\"Minimum value of BloodPressure:\",round(df.BloodPressure.min(),2))\n",
    "print(\"Maximum value of BloodPressure\",round(df.BloodPressure.max(),2))\n",
    "print(\"StandardDivation value of BloodPressure:\",round(df.BloodPressure.std(),2))"
   ]
  },
  {
   "cell_type": "markdown",
   "id": "ed13f086",
   "metadata": {},
   "source": [
    "**Observation**\n",
    "- The minimum value of BloodPressure is Zero that not possible so its outliers"
   ]
  },
  {
   "cell_type": "markdown",
   "id": "671b5dac",
   "metadata": {},
   "source": [
    "### calculating the upper and lower limits to detects the outliers"
   ]
  },
  {
   "cell_type": "markdown",
   "id": "54edf222",
   "metadata": {},
   "source": [
    "- Lower Bound: (Q1 - 1.5 * IQR)\n",
    "- Upper Bound: (Q3 + 1.5 * IQR)\n",
    "- IQR = Q3 - Q1"
   ]
  },
  {
   "cell_type": "code",
   "execution_count": 6,
   "id": "81fcf243",
   "metadata": {},
   "outputs": [],
   "source": [
    "Q3=df.BloodPressure.quantile(.75)\n",
    "Q1=df.BloodPressure.quantile(.25)\n",
    "IQR=Q3-Q1"
   ]
  },
  {
   "cell_type": "code",
   "execution_count": 7,
   "id": "7161b895",
   "metadata": {},
   "outputs": [],
   "source": [
    "upper_limit=Q3+1.5*IQR\n",
    "lower_limit=Q1-1.5*IQR"
   ]
  },
  {
   "cell_type": "code",
   "execution_count": 8,
   "id": "fee0ab24",
   "metadata": {},
   "outputs": [
    {
     "name": "stdout",
     "output_type": "stream",
     "text": [
      "Lower limit is: 35.0\n",
      "Upper limit is: 107.0\n"
     ]
    }
   ],
   "source": [
    "print(\"Lower limit is:\",lower_limit)\n",
    "print(\"Upper limit is:\",upper_limit)"
   ]
  },
  {
   "cell_type": "markdown",
   "id": "d93f5d60",
   "metadata": {},
   "source": [
    "### count the values which are above the upper and below the lower limit"
   ]
  },
  {
   "cell_type": "code",
   "execution_count": 9,
   "id": "c61bef19",
   "metadata": {},
   "outputs": [
    {
     "data": {
      "text/plain": [
       "45"
      ]
     },
     "execution_count": 9,
     "metadata": {},
     "output_type": "execute_result"
    }
   ],
   "source": [
    "len(df[(df['BloodPressure'] > upper_limit) | (df['BloodPressure'] < lower_limit)])"
   ]
  },
  {
   "cell_type": "code",
   "execution_count": 10,
   "id": "21b78185",
   "metadata": {},
   "outputs": [],
   "source": [
    "#its a big number if removed it will be bad for model training, so will modify them\n",
    "\n",
    "#creating another column in the dataframe to load the modified value of bloodpressure and ploting the values, if any problem occured we will\n",
    "#drop the new column and treat the outliers again by using original columns value\n",
    "\n",
    "#blood pressure 0 not possible because BloodPressure 0 means the body is dead\n",
    "#minimum 60-70 can be consideres as normal blood pressure, so replacing it with the mean of blood pressure"
   ]
  },
  {
   "cell_type": "code",
   "execution_count": 11,
   "id": "64e3a66e",
   "metadata": {},
   "outputs": [],
   "source": [
    "bp_mean=df.BloodPressure.mean()\n",
    "df[\"BloodPressureModified\"]=np.where(\n",
    "                                df.BloodPressure>upper_limit,bp_mean,\n",
    "                                np.where(\n",
    "                                df.BloodPressure<lower_limit,bp_mean,\n",
    "                                df.BloodPressure))"
   ]
  },
  {
   "cell_type": "code",
   "execution_count": 12,
   "id": "f28a0b03",
   "metadata": {},
   "outputs": [
    {
     "data": {
      "text/html": [
       "<div>\n",
       "<style scoped>\n",
       "    .dataframe tbody tr th:only-of-type {\n",
       "        vertical-align: middle;\n",
       "    }\n",
       "\n",
       "    .dataframe tbody tr th {\n",
       "        vertical-align: top;\n",
       "    }\n",
       "\n",
       "    .dataframe thead th {\n",
       "        text-align: right;\n",
       "    }\n",
       "</style>\n",
       "<table border=\"1\" class=\"dataframe\">\n",
       "  <thead>\n",
       "    <tr style=\"text-align: right;\">\n",
       "      <th></th>\n",
       "      <th>BloodPressureModified</th>\n",
       "    </tr>\n",
       "  </thead>\n",
       "  <tbody>\n",
       "    <tr>\n",
       "      <th>count</th>\n",
       "      <td>768.000000</td>\n",
       "    </tr>\n",
       "    <tr>\n",
       "      <th>mean</th>\n",
       "      <td>72.027013</td>\n",
       "    </tr>\n",
       "    <tr>\n",
       "      <th>std</th>\n",
       "      <td>11.170450</td>\n",
       "    </tr>\n",
       "    <tr>\n",
       "      <th>min</th>\n",
       "      <td>38.000000</td>\n",
       "    </tr>\n",
       "    <tr>\n",
       "      <th>25%</th>\n",
       "      <td>64.000000</td>\n",
       "    </tr>\n",
       "    <tr>\n",
       "      <th>50%</th>\n",
       "      <td>72.000000</td>\n",
       "    </tr>\n",
       "    <tr>\n",
       "      <th>75%</th>\n",
       "      <td>80.000000</td>\n",
       "    </tr>\n",
       "    <tr>\n",
       "      <th>max</th>\n",
       "      <td>106.000000</td>\n",
       "    </tr>\n",
       "  </tbody>\n",
       "</table>\n",
       "</div>"
      ],
      "text/plain": [
       "       BloodPressureModified\n",
       "count             768.000000\n",
       "mean               72.027013\n",
       "std                11.170450\n",
       "min                38.000000\n",
       "25%                64.000000\n",
       "50%                72.000000\n",
       "75%                80.000000\n",
       "max               106.000000"
      ]
     },
     "execution_count": 12,
     "metadata": {},
     "output_type": "execute_result"
    }
   ],
   "source": [
    "pd.DataFrame(df.BloodPressureModified.describe().T)"
   ]
  },
  {
   "cell_type": "code",
   "execution_count": 13,
   "id": "b538a93e",
   "metadata": {},
   "outputs": [
    {
     "data": {
      "image/png": "[encoded data removed]",
      "text/plain": [
       "<Figure size 1080x288 with 2 Axes>"
      ]
     },
     "metadata": {
      "needs_background": "light"
     },
     "output_type": "display_data"
    }
   ],
   "source": [
    "#ploting the bloodpressure modified column to check the outliers\n",
    "fig = plt.figure(figsize=[15,4])\n",
    "\n",
    "plt.subplot(1,2,1)\n",
    "sns.boxplot(x='BloodPressureModified', data=df)\n",
    "\n",
    "plt.subplot(1,2,2)\n",
    "sns.histplot(data=df, hue='Outcome', x=\"BloodPressureModified\",kde=True)\n",
    "\n",
    "plt.show()"
   ]
  },
  {
   "cell_type": "code",
   "execution_count": 14,
   "id": "c453e9a2",
   "metadata": {},
   "outputs": [
    {
     "data": {
      "image/png": "[encoded data removed]",
      "text/plain": [
       "<Figure size 1080x288 with 2 Axes>"
      ]
     },
     "metadata": {
      "needs_background": "light"
     },
     "output_type": "display_data"
    }
   ],
   "source": [
    "#ploting the SkinThickness modified column to check the outliers\n",
    "fig = plt.figure(figsize=[15,4])\n",
    "\n",
    "plt.subplot(1,2,1)\n",
    "sns.boxplot(x='SkinThickness', data=df)\n",
    "\n",
    "plt.subplot(1,2,2)\n",
    "sns.histplot(data=df, hue='Outcome', x=\"SkinThickness\",kde=True)\n",
    "\n",
    "plt.show()"
   ]
  },
  {
   "cell_type": "code",
   "execution_count": 15,
   "id": "cc2ec49f",
   "metadata": {},
   "outputs": [
    {
     "data": {
      "text/plain": [
       "0.10937249648187608"
      ]
     },
     "execution_count": 15,
     "metadata": {},
     "output_type": "execute_result"
    }
   ],
   "source": [
    "df.SkinThickness.skew()"
   ]
  },
  {
   "cell_type": "markdown",
   "id": "09ee698f",
   "metadata": {},
   "source": [
    "Lower Bound: (Q1 - 1.5 * IQR)\n",
    "Upper Bound: (Q3 + 1.5 * IQR)\n",
    "IQR = Q3 - Q1"
   ]
  },
  {
   "cell_type": "code",
   "execution_count": 25,
   "id": "2df1ad9e",
   "metadata": {},
   "outputs": [],
   "source": [
    "#we remove the outliers using IQR technique\n",
    "Q3=df.SkinThickness.quantile(.75)\n",
    "Q1=df.SkinThickness.quantile(.25)\n",
    "IQR=Q3-Q1\n"
   ]
  },
  {
   "cell_type": "code",
   "execution_count": 27,
   "id": "4c7251ad",
   "metadata": {},
   "outputs": [],
   "source": [
    "upper_limit=Q3+1.5*IQR\n",
    "lower_limit=Q1-1.5*IQR"
   ]
  },
  {
   "cell_type": "code",
   "execution_count": 30,
   "id": "e6b61260",
   "metadata": {},
   "outputs": [
    {
     "name": "stdout",
     "output_type": "stream",
     "text": [
      "Lower limit is: -48.0\n",
      "Upper limit is: 80.0\n"
     ]
    }
   ],
   "source": [
    "print(\"Lower limit is:\",lower_limit)\n",
    "print(\"Upper limit is:\",upper_limit)"
   ]
  },
  {
   "cell_type": "code",
   "execution_count": null,
   "id": "c1ee287c",
   "metadata": {},
   "outputs": [],
   "source": []
  },
  {
   "cell_type": "code",
   "execution_count": null,
   "id": "6117a900",
   "metadata": {},
   "outputs": [],
   "source": []
  },
  {
   "cell_type": "code",
   "execution_count": null,
   "id": "bd8939de",
   "metadata": {},
   "outputs": [],
   "source": []
  }
 ],
 "metadata": {
  "kernelspec": {
   "display_name": "Python 3 (ipykernel)",
   "language": "python",
   "name": "python3"
  },
  "language_info": {
   "codemirror_mode": {
    "name": "ipython",
    "version": 3
   },
   "file_extension": ".py",
   "mimetype": "text/x-python",
   "name": "python",
   "nbconvert_exporter": "python",
   "pygments_lexer": "ipython3",
   "version": "3.9.12"
  }
 },
 "nbformat": 4,
 "nbformat_minor": 5
}
