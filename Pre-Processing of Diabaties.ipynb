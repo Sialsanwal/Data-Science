{
 "cells": [
  {
   "cell_type": "code",
   "execution_count": 1,
   "id": "1a66aea8",
   "metadata": {},
   "outputs": [],
   "source": [
    "import numpy as np\n",
    "import pandas as pd\n",
    "import seaborn as sns\n",
    "import matplotlib.pylab as plt\n",
    "\n",
    "\n",
    "import warnings\n",
    "warnings.filterwarnings(\"ignore\")"
   ]
  },
  {
   "cell_type": "markdown",
   "id": "d6e1d5f8",
   "metadata": {},
   "source": [
    "# Load the data"
   ]
  },
  {
   "cell_type": "code",
   "execution_count": 2,
   "id": "e6a388ea",
   "metadata": {},
   "outputs": [],
   "source": [
    "df=pd.read_csv(\"diabetes.csv\")"
   ]
  },
  {
   "cell_type": "code",
   "execution_count": 3,
   "id": "d820e217",
   "metadata": {},
   "outputs": [
    {
     "data": {
      "text/html": [
       "<div>\n",
       "<style scoped>\n",
       "    .dataframe tbody tr th:only-of-type {\n",
       "        vertical-align: middle;\n",
       "    }\n",
       "\n",
       "    .dataframe tbody tr th {\n",
       "        vertical-align: top;\n",
       "    }\n",
       "\n",
       "    .dataframe thead th {\n",
       "        text-align: right;\n",
       "    }\n",
       "</style>\n",
       "<table border=\"1\" class=\"dataframe\">\n",
       "  <thead>\n",
       "    <tr style=\"text-align: right;\">\n",
       "      <th></th>\n",
       "      <th>Pregnancies</th>\n",
       "      <th>Glucose</th>\n",
       "      <th>BloodPressure</th>\n",
       "      <th>SkinThickness</th>\n",
       "      <th>Insulin</th>\n",
       "      <th>BMI</th>\n",
       "      <th>DiabetesPedigreeFunction</th>\n",
       "      <th>Age</th>\n",
       "      <th>Outcome</th>\n",
       "    </tr>\n",
       "  </thead>\n",
       "  <tbody>\n",
       "    <tr>\n",
       "      <th>0</th>\n",
       "      <td>6</td>\n",
       "      <td>148</td>\n",
       "      <td>72</td>\n",
       "      <td>35</td>\n",
       "      <td>0</td>\n",
       "      <td>33.6</td>\n",
       "      <td>0.627</td>\n",
       "      <td>50</td>\n",
       "      <td>1</td>\n",
       "    </tr>\n",
       "    <tr>\n",
       "      <th>1</th>\n",
       "      <td>1</td>\n",
       "      <td>85</td>\n",
       "      <td>66</td>\n",
       "      <td>29</td>\n",
       "      <td>0</td>\n",
       "      <td>26.6</td>\n",
       "      <td>0.351</td>\n",
       "      <td>31</td>\n",
       "      <td>0</td>\n",
       "    </tr>\n",
       "    <tr>\n",
       "      <th>2</th>\n",
       "      <td>8</td>\n",
       "      <td>183</td>\n",
       "      <td>64</td>\n",
       "      <td>0</td>\n",
       "      <td>0</td>\n",
       "      <td>23.3</td>\n",
       "      <td>0.672</td>\n",
       "      <td>32</td>\n",
       "      <td>1</td>\n",
       "    </tr>\n",
       "    <tr>\n",
       "      <th>3</th>\n",
       "      <td>1</td>\n",
       "      <td>89</td>\n",
       "      <td>66</td>\n",
       "      <td>23</td>\n",
       "      <td>94</td>\n",
       "      <td>28.1</td>\n",
       "      <td>0.167</td>\n",
       "      <td>21</td>\n",
       "      <td>0</td>\n",
       "    </tr>\n",
       "    <tr>\n",
       "      <th>4</th>\n",
       "      <td>0</td>\n",
       "      <td>137</td>\n",
       "      <td>40</td>\n",
       "      <td>35</td>\n",
       "      <td>168</td>\n",
       "      <td>43.1</td>\n",
       "      <td>2.288</td>\n",
       "      <td>33</td>\n",
       "      <td>1</td>\n",
       "    </tr>\n",
       "  </tbody>\n",
       "</table>\n",
       "</div>"
      ],
      "text/plain": [
       "   Pregnancies  Glucose  BloodPressure  SkinThickness  Insulin   BMI  \\\n",
       "0            6      148             72             35        0  33.6   \n",
       "1            1       85             66             29        0  26.6   \n",
       "2            8      183             64              0        0  23.3   \n",
       "3            1       89             66             23       94  28.1   \n",
       "4            0      137             40             35      168  43.1   \n",
       "\n",
       "   DiabetesPedigreeFunction  Age  Outcome  \n",
       "0                     0.627   50        1  \n",
       "1                     0.351   31        0  \n",
       "2                     0.672   32        1  \n",
       "3                     0.167   21        0  \n",
       "4                     2.288   33        1  "
      ]
     },
     "execution_count": 3,
     "metadata": {},
     "output_type": "execute_result"
    }
   ],
   "source": [
    "df.head()"
   ]
  },
  {
   "cell_type": "markdown",
   "id": "60c8913a",
   "metadata": {},
   "source": [
    "### Checking the BloodPressure data Skew or not"
   ]
  },
  {
   "cell_type": "code",
   "execution_count": 5,
   "id": "44a488b1",
   "metadata": {},
   "outputs": [
    {
     "data": {
      "text/plain": [
       "-1.8436079833551302"
      ]
     },
     "execution_count": 5,
     "metadata": {},
     "output_type": "execute_result"
    }
   ],
   "source": [
    "df.BloodPressure.skew()"
   ]
  },
  {
   "cell_type": "markdown",
   "id": "eda5f575",
   "metadata": {},
   "source": [
    "**Observation**\n",
    "- its negative so,its not skewed"
   ]
  },
  {
   "cell_type": "markdown",
   "id": "f7e19c09",
   "metadata": {},
   "source": [
    "### Statistical measure for the BloodPressure column"
   ]
  },
  {
   "cell_type": "code",
   "execution_count": 13,
   "id": "98128b64",
   "metadata": {},
   "outputs": [
    {
     "name": "stdout",
     "output_type": "stream",
     "text": [
      "Mean value of BloodPressure: 69.11\n",
      "Median value of BloodPressure: 72.0\n",
      "Minimum value of BloodPressure: 0\n",
      "Maximum value of BloodPressure 122\n",
      "StandardDivation value of BloodPressure: 19.36\n"
     ]
    }
   ],
   "source": [
    "print(\"Mean value of BloodPressure:\",round(df.BloodPressure.mean(),2))\n",
    "print(\"Median value of BloodPressure:\",round(df.BloodPressure.median(),2))\n",
    "print(\"Minimum value of BloodPressure:\",round(df.BloodPressure.min(),2))\n",
    "print(\"Maximum value of BloodPressure\",round(df.BloodPressure.max(),2))\n",
    "print(\"StandardDivation value of BloodPressure:\",round(df.BloodPressure.std(),2))"
   ]
  },
  {
   "cell_type": "markdown",
   "id": "eeddcbc1",
   "metadata": {},
   "source": [
    "**Observation**\n",
    "- The minimum value of BloodPressure is Zero that not possible so its outliers"
   ]
  },
  {
   "cell_type": "markdown",
   "id": "d48edeb1",
   "metadata": {},
   "source": [
    "### calculating the upper and lower limits to detects the outliers"
   ]
  },
  {
   "cell_type": "markdown",
   "id": "28ab07ca",
   "metadata": {},
   "source": [
    "- Lower Bound: (Q1 - 1.5 * IQR)\n",
    "- Upper Bound: (Q3 + 1.5 * IQR)\n",
    "- IQR = Q3 - Q1"
   ]
  },
  {
   "cell_type": "code",
   "execution_count": 15,
   "id": "b647abfe",
   "metadata": {},
   "outputs": [],
   "source": [
    "Q3=df.BloodPressure.quantile(.75)\n",
    "Q1=df.BloodPressure.quantile(.25)\n",
    "IQR=Q3-Q1"
   ]
  },
  {
   "cell_type": "code",
   "execution_count": 17,
   "id": "7ded838a",
   "metadata": {},
   "outputs": [],
   "source": [
    "upper_limit=Q3+1.5*IQR\n",
    "lower_limit=Q1-1.5*IQR"
   ]
  },
  {
   "cell_type": "code",
   "execution_count": 18,
   "id": "24d540d0",
   "metadata": {},
   "outputs": [
    {
     "name": "stdout",
     "output_type": "stream",
     "text": [
      "Lower limit is: 35.0\n",
      "Upper limit is: 107.0\n"
     ]
    }
   ],
   "source": [
    "print(\"Lower limit is:\",lower_limit)\n",
    "print(\"Upper limit is:\",upper_limit)"
   ]
  },
  {
   "cell_type": "markdown",
   "id": "e239387e",
   "metadata": {},
   "source": [
    "### count the values which are above the upper and below the lower limit"
   ]
  },
  {
   "cell_type": "code",
   "execution_count": 25,
   "id": "750cabbd",
   "metadata": {},
   "outputs": [
    {
     "data": {
      "text/plain": [
       "45"
      ]
     },
     "execution_count": 25,
     "metadata": {},
     "output_type": "execute_result"
    }
   ],
   "source": [
    "len(df[(df['BloodPressure'] > upper_limit) | (df['BloodPressure'] < lower_limit)])"
   ]
  },
  {
   "cell_type": "code",
   "execution_count": null,
   "id": "bbcbd94a",
   "metadata": {},
   "outputs": [],
   "source": []
  },
  {
   "cell_type": "code",
   "execution_count": null,
   "id": "2673ef63",
   "metadata": {},
   "outputs": [],
   "source": []
  }
 ],
 "metadata": {
  "kernelspec": {
   "display_name": "Python 3 (ipykernel)",
   "language": "python",
   "name": "python3"
  },
  "language_info": {
   "codemirror_mode": {
    "name": "ipython",
    "version": 3
   },
   "file_extension": ".py",
   "mimetype": "text/x-python",
   "name": "python",
   "nbconvert_exporter": "python",
   "pygments_lexer": "ipython3",
   "version": "3.9.12"
  }
 },
 "nbformat": 4,
 "nbformat_minor": 5
}
