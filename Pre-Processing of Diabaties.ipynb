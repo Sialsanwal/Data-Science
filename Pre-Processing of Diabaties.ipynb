{
 "cells": [
  {
   "cell_type": "markdown",
   "id": "de6b1157",
   "metadata": {},
   "source": [
    "# Import Libraries"
   ]
  },
  {
   "cell_type": "code",
   "execution_count": 1,
   "id": "959be021",
   "metadata": {},
   "outputs": [],
   "source": [
    "import numpy as np\n",
    "import pandas as pd\n",
    "import seaborn as sns\n",
    "import matplotlib.pylab as plt\n",
    "from sklearn.model_selection import train_test_split\n",
    "from sklearn.tree import DecisionTreeClassifier\n",
    "from sklearn.ensemble import RandomForestClassifier\n",
    "from sklearn.linear_model import LogisticRegression\n",
    "from sklearn.svm import SVC\n",
    "from sklearn import metrics\n",
    "\n",
    "\n",
    "import warnings\n",
    "warnings.filterwarnings(\"ignore\")"
   ]
  },
  {
   "cell_type": "markdown",
   "id": "8b36a6d5",
   "metadata": {},
   "source": [
    "# Load the data"
   ]
  },
  {
   "cell_type": "code",
   "execution_count": 2,
   "id": "33fa523f",
   "metadata": {},
   "outputs": [],
   "source": [
    "df=pd.read_csv(\"diabetes.csv\")"
   ]
  },
  {
   "cell_type": "code",
   "execution_count": 3,
   "id": "3b8f5f01",
   "metadata": {},
   "outputs": [
    {
     "data": {
      "text/html": [
       "<div>\n",
       "<style scoped>\n",
       "    .dataframe tbody tr th:only-of-type {\n",
       "        vertical-align: middle;\n",
       "    }\n",
       "\n",
       "    .dataframe tbody tr th {\n",
       "        vertical-align: top;\n",
       "    }\n",
       "\n",
       "    .dataframe thead th {\n",
       "        text-align: right;\n",
       "    }\n",
       "</style>\n",
       "<table border=\"1\" class=\"dataframe\">\n",
       "  <thead>\n",
       "    <tr style=\"text-align: right;\">\n",
       "      <th></th>\n",
       "      <th>Pregnancies</th>\n",
       "      <th>Glucose</th>\n",
       "      <th>BloodPressure</th>\n",
       "      <th>SkinThickness</th>\n",
       "      <th>Insulin</th>\n",
       "      <th>BMI</th>\n",
       "      <th>DiabetesPedigreeFunction</th>\n",
       "      <th>Age</th>\n",
       "      <th>Outcome</th>\n",
       "    </tr>\n",
       "  </thead>\n",
       "  <tbody>\n",
       "    <tr>\n",
       "      <th>0</th>\n",
       "      <td>6</td>\n",
       "      <td>148</td>\n",
       "      <td>72</td>\n",
       "      <td>35</td>\n",
       "      <td>0</td>\n",
       "      <td>33.6</td>\n",
       "      <td>0.627</td>\n",
       "      <td>50</td>\n",
       "      <td>1</td>\n",
       "    </tr>\n",
       "    <tr>\n",
       "      <th>1</th>\n",
       "      <td>1</td>\n",
       "      <td>85</td>\n",
       "      <td>66</td>\n",
       "      <td>29</td>\n",
       "      <td>0</td>\n",
       "      <td>26.6</td>\n",
       "      <td>0.351</td>\n",
       "      <td>31</td>\n",
       "      <td>0</td>\n",
       "    </tr>\n",
       "    <tr>\n",
       "      <th>2</th>\n",
       "      <td>8</td>\n",
       "      <td>183</td>\n",
       "      <td>64</td>\n",
       "      <td>0</td>\n",
       "      <td>0</td>\n",
       "      <td>23.3</td>\n",
       "      <td>0.672</td>\n",
       "      <td>32</td>\n",
       "      <td>1</td>\n",
       "    </tr>\n",
       "    <tr>\n",
       "      <th>3</th>\n",
       "      <td>1</td>\n",
       "      <td>89</td>\n",
       "      <td>66</td>\n",
       "      <td>23</td>\n",
       "      <td>94</td>\n",
       "      <td>28.1</td>\n",
       "      <td>0.167</td>\n",
       "      <td>21</td>\n",
       "      <td>0</td>\n",
       "    </tr>\n",
       "    <tr>\n",
       "      <th>4</th>\n",
       "      <td>0</td>\n",
       "      <td>137</td>\n",
       "      <td>40</td>\n",
       "      <td>35</td>\n",
       "      <td>168</td>\n",
       "      <td>43.1</td>\n",
       "      <td>2.288</td>\n",
       "      <td>33</td>\n",
       "      <td>1</td>\n",
       "    </tr>\n",
       "  </tbody>\n",
       "</table>\n",
       "</div>"
      ],
      "text/plain": [
       "   Pregnancies  Glucose  BloodPressure  SkinThickness  Insulin   BMI  \\\n",
       "0            6      148             72             35        0  33.6   \n",
       "1            1       85             66             29        0  26.6   \n",
       "2            8      183             64              0        0  23.3   \n",
       "3            1       89             66             23       94  28.1   \n",
       "4            0      137             40             35      168  43.1   \n",
       "\n",
       "   DiabetesPedigreeFunction  Age  Outcome  \n",
       "0                     0.627   50        1  \n",
       "1                     0.351   31        0  \n",
       "2                     0.672   32        1  \n",
       "3                     0.167   21        0  \n",
       "4                     2.288   33        1  "
      ]
     },
     "execution_count": 3,
     "metadata": {},
     "output_type": "execute_result"
    }
   ],
   "source": [
    "df.head()"
   ]
  },
  {
   "cell_type": "markdown",
   "id": "3d195cf7",
   "metadata": {},
   "source": [
    "### Checking the BloodPressure data Skew or not"
   ]
  },
  {
   "cell_type": "code",
   "execution_count": 4,
   "id": "77693977",
   "metadata": {},
   "outputs": [
    {
     "data": {
      "text/plain": [
       "-1.8436079833551302"
      ]
     },
     "execution_count": 4,
     "metadata": {},
     "output_type": "execute_result"
    }
   ],
   "source": [
    "df.BloodPressure.skew()"
   ]
  },
  {
   "cell_type": "markdown",
   "id": "e680807d",
   "metadata": {},
   "source": [
    "**Observation**\n",
    "- its negative so,its not skewed"
   ]
  },
  {
   "cell_type": "markdown",
   "id": "5f835bd5",
   "metadata": {},
   "source": [
    "### Statistical measure for the BloodPressure column"
   ]
  },
  {
   "cell_type": "code",
   "execution_count": 5,
   "id": "4d3665c7",
   "metadata": {},
   "outputs": [
    {
     "name": "stdout",
     "output_type": "stream",
     "text": [
      "Mean value of BloodPressure: 69.11\n",
      "Median value of BloodPressure: 72.0\n",
      "Minimum value of BloodPressure: 0\n",
      "Maximum value of BloodPressure 122\n",
      "StandardDivation value of BloodPressure: 19.36\n"
     ]
    }
   ],
   "source": [
    "print(\"Mean value of BloodPressure:\",round(df.BloodPressure.mean(),2))\n",
    "print(\"Median value of BloodPressure:\",round(df.BloodPressure.median(),2))\n",
    "print(\"Minimum value of BloodPressure:\",round(df.BloodPressure.min(),2))\n",
    "print(\"Maximum value of BloodPressure\",round(df.BloodPressure.max(),2))\n",
    "print(\"StandardDivation value of BloodPressure:\",round(df.BloodPressure.std(),2))"
   ]
  },
  {
   "cell_type": "markdown",
   "id": "ed13f086",
   "metadata": {},
   "source": [
    "**Observation**\n",
    "- The minimum value of BloodPressure is Zero that not possible so its outliers"
   ]
  },
  {
   "cell_type": "markdown",
   "id": "671b5dac",
   "metadata": {},
   "source": [
    "### Calculating the upper and lower limits to detects the outliers in BloodPressure Columns"
   ]
  },
  {
   "cell_type": "markdown",
   "id": "54edf222",
   "metadata": {},
   "source": [
    "- Lower Bound: (Q1 - 1.5 * IQR)\n",
    "- Upper Bound: (Q3 + 1.5 * IQR)\n",
    "- IQR = Q3 - Q1"
   ]
  },
  {
   "cell_type": "code",
   "execution_count": 6,
   "id": "81fcf243",
   "metadata": {},
   "outputs": [],
   "source": [
    "Q3=df.BloodPressure.quantile(.75)\n",
    "Q1=df.BloodPressure.quantile(.25)\n",
    "IQR=Q3-Q1"
   ]
  },
  {
   "cell_type": "code",
   "execution_count": 7,
   "id": "7161b895",
   "metadata": {},
   "outputs": [],
   "source": [
    "upper_limit=Q3+1.5*IQR\n",
    "lower_limit=Q1-1.5*IQR"
   ]
  },
  {
   "cell_type": "code",
   "execution_count": 8,
   "id": "fee0ab24",
   "metadata": {},
   "outputs": [
    {
     "name": "stdout",
     "output_type": "stream",
     "text": [
      "Lower limit BloodPressure is: 35.0\n",
      "Upper limit BloodPressure is: 107.0\n"
     ]
    }
   ],
   "source": [
    "print(\"Lower limit BloodPressure is:\",lower_limit)\n",
    "print(\"Upper limit BloodPressure is:\",upper_limit)"
   ]
  },
  {
   "cell_type": "markdown",
   "id": "d93f5d60",
   "metadata": {},
   "source": [
    "### count the values which are above the upper and below the lower limit"
   ]
  },
  {
   "cell_type": "code",
   "execution_count": 9,
   "id": "c61bef19",
   "metadata": {},
   "outputs": [
    {
     "data": {
      "text/plain": [
       "45"
      ]
     },
     "execution_count": 9,
     "metadata": {},
     "output_type": "execute_result"
    }
   ],
   "source": [
    "len(df[(df['BloodPressure'] > upper_limit) | (df['BloodPressure'] < lower_limit)])"
   ]
  },
  {
   "cell_type": "code",
   "execution_count": 10,
   "id": "21b78185",
   "metadata": {},
   "outputs": [],
   "source": [
    "#its a big number if removed it will be bad for model training, so will modify them\n",
    "\n",
    "#creating another column in the dataframe to load the modified value of bloodpressure and ploting the values, if any problem occured we will\n",
    "#drop the new column and treat the outliers again by using original columns value\n",
    "\n",
    "#blood pressure 0 not possible because BloodPressure 0 means the body is dead\n",
    "#minimum 60-70 can be consideres as normal blood pressure, so replacing it with the mean of blood pressure"
   ]
  },
  {
   "cell_type": "code",
   "execution_count": null,
   "id": "cf059335",
   "metadata": {},
   "outputs": [],
   "source": []
  },
  {
   "cell_type": "code",
   "execution_count": 11,
   "id": "64e3a66e",
   "metadata": {},
   "outputs": [],
   "source": [
    "bp_mean=df.BloodPressure.mean()\n",
    "df[\"BloodPressureModified\"]=np.where(\n",
    "                                df.BloodPressure>upper_limit,bp_mean,\n",
    "                                np.where(\n",
    "                                df.BloodPressure<lower_limit,bp_mean,\n",
    "                                df.BloodPressure))"
   ]
  },
  {
   "cell_type": "code",
   "execution_count": 12,
   "id": "f28a0b03",
   "metadata": {},
   "outputs": [
    {
     "data": {
      "text/html": [
       "<div>\n",
       "<style scoped>\n",
       "    .dataframe tbody tr th:only-of-type {\n",
       "        vertical-align: middle;\n",
       "    }\n",
       "\n",
       "    .dataframe tbody tr th {\n",
       "        vertical-align: top;\n",
       "    }\n",
       "\n",
       "    .dataframe thead th {\n",
       "        text-align: right;\n",
       "    }\n",
       "</style>\n",
       "<table border=\"1\" class=\"dataframe\">\n",
       "  <thead>\n",
       "    <tr style=\"text-align: right;\">\n",
       "      <th></th>\n",
       "      <th>BloodPressureModified</th>\n",
       "    </tr>\n",
       "  </thead>\n",
       "  <tbody>\n",
       "    <tr>\n",
       "      <th>count</th>\n",
       "      <td>768.000000</td>\n",
       "    </tr>\n",
       "    <tr>\n",
       "      <th>mean</th>\n",
       "      <td>72.027013</td>\n",
       "    </tr>\n",
       "    <tr>\n",
       "      <th>std</th>\n",
       "      <td>11.170450</td>\n",
       "    </tr>\n",
       "    <tr>\n",
       "      <th>min</th>\n",
       "      <td>38.000000</td>\n",
       "    </tr>\n",
       "    <tr>\n",
       "      <th>25%</th>\n",
       "      <td>64.000000</td>\n",
       "    </tr>\n",
       "    <tr>\n",
       "      <th>50%</th>\n",
       "      <td>72.000000</td>\n",
       "    </tr>\n",
       "    <tr>\n",
       "      <th>75%</th>\n",
       "      <td>80.000000</td>\n",
       "    </tr>\n",
       "    <tr>\n",
       "      <th>max</th>\n",
       "      <td>106.000000</td>\n",
       "    </tr>\n",
       "  </tbody>\n",
       "</table>\n",
       "</div>"
      ],
      "text/plain": [
       "       BloodPressureModified\n",
       "count             768.000000\n",
       "mean               72.027013\n",
       "std                11.170450\n",
       "min                38.000000\n",
       "25%                64.000000\n",
       "50%                72.000000\n",
       "75%                80.000000\n",
       "max               106.000000"
      ]
     },
     "execution_count": 12,
     "metadata": {},
     "output_type": "execute_result"
    }
   ],
   "source": [
    "pd.DataFrame(df.BloodPressureModified.describe().T)"
   ]
  },
  {
   "cell_type": "code",
   "execution_count": 23,
   "id": "b538a93e",
   "metadata": {},
   "outputs": [
    {
     "data": {
      "image/png": "[encoded data removed]",
      "text/plain": [
       "<Figure size 1080x288 with 4 Axes>"
      ]
     },
     "metadata": {
      "needs_background": "light"
     },
     "output_type": "display_data"
    }
   ],
   "source": [
    "#ploting the bloodpressure modified column to check the outliers\n",
    "fig = plt.figure(figsize=[15,4])\n",
    "\n",
    "plt.subplot(2,2,1)\n",
    "sns.boxplot(x='BloodPressure', data=df)\n",
    "plt.title(\"BloodPressure contains outliers\")\n",
    "\n",
    "plt.subplot(2,2,2)\n",
    "sns.boxplot(x='BloodPressureModified', data=df)\n",
    "plt.title(\"BloodPressure contains No-Outliers\")\n",
    "\n",
    "\n",
    "plt.subplot(2,2,3)\n",
    "sns.histplot(data=df, hue='Outcome', x=\"BloodPressure\",kde=True)\n",
    "\n",
    "\n",
    "\n",
    "plt.subplot(2,2,4)\n",
    "sns.histplot(data=df, hue='Outcome', x=\"BloodPressureModified\",kde=True)\n",
    "\n",
    "\n",
    "plt.show()"
   ]
  },
  {
   "cell_type": "markdown",
   "id": "c7a21170",
   "metadata": {},
   "source": [
    "## Outliers Detection in SkinThickness using IQR Technique"
   ]
  },
  {
   "cell_type": "code",
   "execution_count": 24,
   "id": "c453e9a2",
   "metadata": {},
   "outputs": [
    {
     "data": {
      "image/png": "[encoded data removed]",
      "text/plain": [
       "<Figure size 1080x288 with 2 Axes>"
      ]
     },
     "metadata": {
      "needs_background": "light"
     },
     "output_type": "display_data"
    }
   ],
   "source": [
    "#ploting the SkinThickness modified column to check the outliers\n",
    "fig = plt.figure(figsize=[15,4])\n",
    "\n",
    "plt.subplot(1,2,1)\n",
    "sns.boxplot(x='SkinThickness', data=df)\n",
    "\n",
    "plt.subplot(1,2,2)\n",
    "sns.histplot(data=df, hue='Outcome', x=\"SkinThickness\",kde=True)\n",
    "\n",
    "plt.show()"
   ]
  },
  {
   "cell_type": "code",
   "execution_count": 25,
   "id": "40ea7aa0",
   "metadata": {},
   "outputs": [
    {
     "data": {
      "text/plain": [
       "0.10937249648187608"
      ]
     },
     "execution_count": 25,
     "metadata": {},
     "output_type": "execute_result"
    }
   ],
   "source": [
    "df.SkinThickness.skew()"
   ]
  },
  {
   "cell_type": "code",
   "execution_count": 26,
   "id": "b7c0b636",
   "metadata": {},
   "outputs": [],
   "source": [
    "#we remove the outliers using IQR technique\n",
    "Q3=df.SkinThickness.quantile(.75)\n",
    "Q1=df.SkinThickness.quantile(.25)\n",
    "IQR=Q3-Q1\n"
   ]
  },
  {
   "cell_type": "code",
   "execution_count": 27,
   "id": "7bbdf469",
   "metadata": {},
   "outputs": [],
   "source": [
    "upper_limit=Q3+1.5*IQR\n",
    "lower_limit=Q1-1.5*IQR"
   ]
  },
  {
   "cell_type": "code",
   "execution_count": 28,
   "id": "35051d5c",
   "metadata": {},
   "outputs": [
    {
     "name": "stdout",
     "output_type": "stream",
     "text": [
      "Lower limit is: -48.0\n",
      "Upper limit is: 80.0\n"
     ]
    }
   ],
   "source": [
    "print(\"Lower limit is:\",lower_limit)\n",
    "print(\"Upper limit is:\",upper_limit)"
   ]
  },
  {
   "cell_type": "code",
   "execution_count": 29,
   "id": "a947dc66",
   "metadata": {},
   "outputs": [
    {
     "data": {
      "text/plain": [
       "count    768.000000\n",
       "mean      20.536458\n",
       "std       15.952218\n",
       "min        0.000000\n",
       "25%        0.000000\n",
       "50%       23.000000\n",
       "75%       32.000000\n",
       "max       99.000000\n",
       "Name: SkinThickness, dtype: float64"
      ]
     },
     "execution_count": 29,
     "metadata": {},
     "output_type": "execute_result"
    }
   ],
   "source": [
    "df.SkinThickness.describe().T# checking outliers remove or not"
   ]
  },
  {
   "cell_type": "code",
   "execution_count": 31,
   "id": "fb698f69",
   "metadata": {},
   "outputs": [
    {
     "data": {
      "text/plain": [
       "count    768.000000\n",
       "mean      79.799479\n",
       "std      115.244002\n",
       "min        0.000000\n",
       "25%        0.000000\n",
       "50%       30.500000\n",
       "75%      127.250000\n",
       "max      846.000000\n",
       "Name: Insulin, dtype: float64"
      ]
     },
     "execution_count": 31,
     "metadata": {},
     "output_type": "execute_result"
    }
   ],
   "source": [
    "df.Insulin.describe().T"
   ]
  },
  {
   "cell_type": "code",
   "execution_count": 32,
   "id": "5f344762",
   "metadata": {},
   "outputs": [
    {
     "data": {
      "image/png": "[encoded data removed]",
      "text/plain": [
       "<Figure size 1080x288 with 2 Axes>"
      ]
     },
     "metadata": {
      "needs_background": "light"
     },
     "output_type": "display_data"
    }
   ],
   "source": [
    "#ploting the Insulin modified column to check the outliers\n",
    "fig = plt.figure(figsize=[15,4])\n",
    "\n",
    "plt.subplot(1,2,1)\n",
    "sns.boxplot(x='Insulin', data=df)\n",
    "\n",
    "plt.subplot(1,2,2)\n",
    "sns.histplot(data=df, hue='Outcome', x=\"Insulin\",kde=True)\n",
    "\n",
    "plt.show()"
   ]
  },
  {
   "cell_type": "code",
   "execution_count": 33,
   "id": "8330a1a0",
   "metadata": {},
   "outputs": [],
   "source": [
    "#we remove the outliers using IQR technique\n",
    "Q3=df.Insulin.quantile(.75)\n",
    "Q1=df.Insulin.quantile(.25)\n",
    "IQR=Q3-Q1"
   ]
  },
  {
   "cell_type": "code",
   "execution_count": 34,
   "id": "6d836f9b",
   "metadata": {},
   "outputs": [],
   "source": [
    "upper_limit=Q3+1.5*IQR\n",
    "lower_limit=Q1-1.5*IQR"
   ]
  },
  {
   "cell_type": "code",
   "execution_count": 35,
   "id": "f18fb0cd",
   "metadata": {},
   "outputs": [
    {
     "name": "stdout",
     "output_type": "stream",
     "text": [
      "Lower limit Insulin is: -190.875\n",
      "Upper limit Insulin is: 318.125\n"
     ]
    }
   ],
   "source": [
    "print(\"Lower limit Insulin is:\",lower_limit)\n",
    "print(\"Upper limit Insulin is:\",upper_limit)"
   ]
  },
  {
   "cell_type": "code",
   "execution_count": 36,
   "id": "0ed89950",
   "metadata": {},
   "outputs": [
    {
     "data": {
      "text/html": [
       "<div>\n",
       "<style scoped>\n",
       "    .dataframe tbody tr th:only-of-type {\n",
       "        vertical-align: middle;\n",
       "    }\n",
       "\n",
       "    .dataframe tbody tr th {\n",
       "        vertical-align: top;\n",
       "    }\n",
       "\n",
       "    .dataframe thead th {\n",
       "        text-align: right;\n",
       "    }\n",
       "</style>\n",
       "<table border=\"1\" class=\"dataframe\">\n",
       "  <thead>\n",
       "    <tr style=\"text-align: right;\">\n",
       "      <th></th>\n",
       "      <th>Pregnancies</th>\n",
       "      <th>Glucose</th>\n",
       "      <th>BloodPressure</th>\n",
       "      <th>SkinThickness</th>\n",
       "      <th>Insulin</th>\n",
       "      <th>BMI</th>\n",
       "      <th>DiabetesPedigreeFunction</th>\n",
       "      <th>Age</th>\n",
       "      <th>Outcome</th>\n",
       "      <th>BloodPressureModified</th>\n",
       "    </tr>\n",
       "  </thead>\n",
       "  <tbody>\n",
       "    <tr>\n",
       "      <th>8</th>\n",
       "      <td>2</td>\n",
       "      <td>197</td>\n",
       "      <td>70</td>\n",
       "      <td>45</td>\n",
       "      <td>543</td>\n",
       "      <td>30.5</td>\n",
       "      <td>0.158</td>\n",
       "      <td>53</td>\n",
       "      <td>1</td>\n",
       "      <td>70.0</td>\n",
       "    </tr>\n",
       "    <tr>\n",
       "      <th>13</th>\n",
       "      <td>1</td>\n",
       "      <td>189</td>\n",
       "      <td>60</td>\n",
       "      <td>23</td>\n",
       "      <td>846</td>\n",
       "      <td>30.1</td>\n",
       "      <td>0.398</td>\n",
       "      <td>59</td>\n",
       "      <td>1</td>\n",
       "      <td>60.0</td>\n",
       "    </tr>\n",
       "    <tr>\n",
       "      <th>54</th>\n",
       "      <td>7</td>\n",
       "      <td>150</td>\n",
       "      <td>66</td>\n",
       "      <td>42</td>\n",
       "      <td>342</td>\n",
       "      <td>34.7</td>\n",
       "      <td>0.718</td>\n",
       "      <td>42</td>\n",
       "      <td>0</td>\n",
       "      <td>66.0</td>\n",
       "    </tr>\n",
       "    <tr>\n",
       "      <th>111</th>\n",
       "      <td>8</td>\n",
       "      <td>155</td>\n",
       "      <td>62</td>\n",
       "      <td>26</td>\n",
       "      <td>495</td>\n",
       "      <td>34.0</td>\n",
       "      <td>0.543</td>\n",
       "      <td>46</td>\n",
       "      <td>1</td>\n",
       "      <td>62.0</td>\n",
       "    </tr>\n",
       "    <tr>\n",
       "      <th>139</th>\n",
       "      <td>5</td>\n",
       "      <td>105</td>\n",
       "      <td>72</td>\n",
       "      <td>29</td>\n",
       "      <td>325</td>\n",
       "      <td>36.9</td>\n",
       "      <td>0.159</td>\n",
       "      <td>28</td>\n",
       "      <td>0</td>\n",
       "      <td>72.0</td>\n",
       "    </tr>\n",
       "    <tr>\n",
       "      <th>153</th>\n",
       "      <td>1</td>\n",
       "      <td>153</td>\n",
       "      <td>82</td>\n",
       "      <td>42</td>\n",
       "      <td>485</td>\n",
       "      <td>40.6</td>\n",
       "      <td>0.687</td>\n",
       "      <td>23</td>\n",
       "      <td>0</td>\n",
       "      <td>82.0</td>\n",
       "    </tr>\n",
       "    <tr>\n",
       "      <th>186</th>\n",
       "      <td>8</td>\n",
       "      <td>181</td>\n",
       "      <td>68</td>\n",
       "      <td>36</td>\n",
       "      <td>495</td>\n",
       "      <td>30.1</td>\n",
       "      <td>0.615</td>\n",
       "      <td>60</td>\n",
       "      <td>1</td>\n",
       "      <td>68.0</td>\n",
       "    </tr>\n",
       "    <tr>\n",
       "      <th>220</th>\n",
       "      <td>0</td>\n",
       "      <td>177</td>\n",
       "      <td>60</td>\n",
       "      <td>29</td>\n",
       "      <td>478</td>\n",
       "      <td>34.6</td>\n",
       "      <td>1.072</td>\n",
       "      <td>21</td>\n",
       "      <td>1</td>\n",
       "      <td>60.0</td>\n",
       "    </tr>\n",
       "    <tr>\n",
       "      <th>228</th>\n",
       "      <td>4</td>\n",
       "      <td>197</td>\n",
       "      <td>70</td>\n",
       "      <td>39</td>\n",
       "      <td>744</td>\n",
       "      <td>36.7</td>\n",
       "      <td>2.329</td>\n",
       "      <td>31</td>\n",
       "      <td>0</td>\n",
       "      <td>70.0</td>\n",
       "    </tr>\n",
       "    <tr>\n",
       "      <th>231</th>\n",
       "      <td>6</td>\n",
       "      <td>134</td>\n",
       "      <td>80</td>\n",
       "      <td>37</td>\n",
       "      <td>370</td>\n",
       "      <td>46.2</td>\n",
       "      <td>0.238</td>\n",
       "      <td>46</td>\n",
       "      <td>1</td>\n",
       "      <td>80.0</td>\n",
       "    </tr>\n",
       "    <tr>\n",
       "      <th>247</th>\n",
       "      <td>0</td>\n",
       "      <td>165</td>\n",
       "      <td>90</td>\n",
       "      <td>33</td>\n",
       "      <td>680</td>\n",
       "      <td>52.3</td>\n",
       "      <td>0.427</td>\n",
       "      <td>23</td>\n",
       "      <td>0</td>\n",
       "      <td>90.0</td>\n",
       "    </tr>\n",
       "    <tr>\n",
       "      <th>248</th>\n",
       "      <td>9</td>\n",
       "      <td>124</td>\n",
       "      <td>70</td>\n",
       "      <td>33</td>\n",
       "      <td>402</td>\n",
       "      <td>35.4</td>\n",
       "      <td>0.282</td>\n",
       "      <td>34</td>\n",
       "      <td>0</td>\n",
       "      <td>70.0</td>\n",
       "    </tr>\n",
       "    <tr>\n",
       "      <th>258</th>\n",
       "      <td>1</td>\n",
       "      <td>193</td>\n",
       "      <td>50</td>\n",
       "      <td>16</td>\n",
       "      <td>375</td>\n",
       "      <td>25.9</td>\n",
       "      <td>0.655</td>\n",
       "      <td>24</td>\n",
       "      <td>0</td>\n",
       "      <td>50.0</td>\n",
       "    </tr>\n",
       "    <tr>\n",
       "      <th>286</th>\n",
       "      <td>5</td>\n",
       "      <td>155</td>\n",
       "      <td>84</td>\n",
       "      <td>44</td>\n",
       "      <td>545</td>\n",
       "      <td>38.7</td>\n",
       "      <td>0.619</td>\n",
       "      <td>34</td>\n",
       "      <td>0</td>\n",
       "      <td>84.0</td>\n",
       "    </tr>\n",
       "    <tr>\n",
       "      <th>296</th>\n",
       "      <td>2</td>\n",
       "      <td>146</td>\n",
       "      <td>70</td>\n",
       "      <td>38</td>\n",
       "      <td>360</td>\n",
       "      <td>28.0</td>\n",
       "      <td>0.337</td>\n",
       "      <td>29</td>\n",
       "      <td>1</td>\n",
       "      <td>70.0</td>\n",
       "    </tr>\n",
       "    <tr>\n",
       "      <th>360</th>\n",
       "      <td>5</td>\n",
       "      <td>189</td>\n",
       "      <td>64</td>\n",
       "      <td>33</td>\n",
       "      <td>325</td>\n",
       "      <td>31.2</td>\n",
       "      <td>0.583</td>\n",
       "      <td>29</td>\n",
       "      <td>1</td>\n",
       "      <td>64.0</td>\n",
       "    </tr>\n",
       "    <tr>\n",
       "      <th>370</th>\n",
       "      <td>3</td>\n",
       "      <td>173</td>\n",
       "      <td>82</td>\n",
       "      <td>48</td>\n",
       "      <td>465</td>\n",
       "      <td>38.4</td>\n",
       "      <td>2.137</td>\n",
       "      <td>25</td>\n",
       "      <td>1</td>\n",
       "      <td>82.0</td>\n",
       "    </tr>\n",
       "    <tr>\n",
       "      <th>375</th>\n",
       "      <td>12</td>\n",
       "      <td>140</td>\n",
       "      <td>82</td>\n",
       "      <td>43</td>\n",
       "      <td>325</td>\n",
       "      <td>39.2</td>\n",
       "      <td>0.528</td>\n",
       "      <td>58</td>\n",
       "      <td>1</td>\n",
       "      <td>82.0</td>\n",
       "    </tr>\n",
       "    <tr>\n",
       "      <th>392</th>\n",
       "      <td>1</td>\n",
       "      <td>131</td>\n",
       "      <td>64</td>\n",
       "      <td>14</td>\n",
       "      <td>415</td>\n",
       "      <td>23.7</td>\n",
       "      <td>0.389</td>\n",
       "      <td>21</td>\n",
       "      <td>0</td>\n",
       "      <td>64.0</td>\n",
       "    </tr>\n",
       "    <tr>\n",
       "      <th>409</th>\n",
       "      <td>1</td>\n",
       "      <td>172</td>\n",
       "      <td>68</td>\n",
       "      <td>49</td>\n",
       "      <td>579</td>\n",
       "      <td>42.4</td>\n",
       "      <td>0.702</td>\n",
       "      <td>28</td>\n",
       "      <td>1</td>\n",
       "      <td>68.0</td>\n",
       "    </tr>\n",
       "    <tr>\n",
       "      <th>415</th>\n",
       "      <td>3</td>\n",
       "      <td>173</td>\n",
       "      <td>84</td>\n",
       "      <td>33</td>\n",
       "      <td>474</td>\n",
       "      <td>35.7</td>\n",
       "      <td>0.258</td>\n",
       "      <td>22</td>\n",
       "      <td>1</td>\n",
       "      <td>84.0</td>\n",
       "    </tr>\n",
       "    <tr>\n",
       "      <th>480</th>\n",
       "      <td>3</td>\n",
       "      <td>158</td>\n",
       "      <td>70</td>\n",
       "      <td>30</td>\n",
       "      <td>328</td>\n",
       "      <td>35.5</td>\n",
       "      <td>0.344</td>\n",
       "      <td>35</td>\n",
       "      <td>1</td>\n",
       "      <td>70.0</td>\n",
       "    </tr>\n",
       "    <tr>\n",
       "      <th>486</th>\n",
       "      <td>1</td>\n",
       "      <td>139</td>\n",
       "      <td>62</td>\n",
       "      <td>41</td>\n",
       "      <td>480</td>\n",
       "      <td>40.7</td>\n",
       "      <td>0.536</td>\n",
       "      <td>21</td>\n",
       "      <td>0</td>\n",
       "      <td>62.0</td>\n",
       "    </tr>\n",
       "    <tr>\n",
       "      <th>519</th>\n",
       "      <td>6</td>\n",
       "      <td>129</td>\n",
       "      <td>90</td>\n",
       "      <td>7</td>\n",
       "      <td>326</td>\n",
       "      <td>19.6</td>\n",
       "      <td>0.582</td>\n",
       "      <td>60</td>\n",
       "      <td>0</td>\n",
       "      <td>90.0</td>\n",
       "    </tr>\n",
       "    <tr>\n",
       "      <th>574</th>\n",
       "      <td>1</td>\n",
       "      <td>143</td>\n",
       "      <td>86</td>\n",
       "      <td>30</td>\n",
       "      <td>330</td>\n",
       "      <td>30.1</td>\n",
       "      <td>0.892</td>\n",
       "      <td>23</td>\n",
       "      <td>0</td>\n",
       "      <td>86.0</td>\n",
       "    </tr>\n",
       "    <tr>\n",
       "      <th>584</th>\n",
       "      <td>8</td>\n",
       "      <td>124</td>\n",
       "      <td>76</td>\n",
       "      <td>24</td>\n",
       "      <td>600</td>\n",
       "      <td>28.7</td>\n",
       "      <td>0.687</td>\n",
       "      <td>52</td>\n",
       "      <td>1</td>\n",
       "      <td>76.0</td>\n",
       "    </tr>\n",
       "    <tr>\n",
       "      <th>612</th>\n",
       "      <td>7</td>\n",
       "      <td>168</td>\n",
       "      <td>88</td>\n",
       "      <td>42</td>\n",
       "      <td>321</td>\n",
       "      <td>38.2</td>\n",
       "      <td>0.787</td>\n",
       "      <td>40</td>\n",
       "      <td>1</td>\n",
       "      <td>88.0</td>\n",
       "    </tr>\n",
       "    <tr>\n",
       "      <th>645</th>\n",
       "      <td>2</td>\n",
       "      <td>157</td>\n",
       "      <td>74</td>\n",
       "      <td>35</td>\n",
       "      <td>440</td>\n",
       "      <td>39.4</td>\n",
       "      <td>0.134</td>\n",
       "      <td>30</td>\n",
       "      <td>0</td>\n",
       "      <td>74.0</td>\n",
       "    </tr>\n",
       "    <tr>\n",
       "      <th>655</th>\n",
       "      <td>2</td>\n",
       "      <td>155</td>\n",
       "      <td>52</td>\n",
       "      <td>27</td>\n",
       "      <td>540</td>\n",
       "      <td>38.7</td>\n",
       "      <td>0.240</td>\n",
       "      <td>25</td>\n",
       "      <td>1</td>\n",
       "      <td>52.0</td>\n",
       "    </tr>\n",
       "    <tr>\n",
       "      <th>695</th>\n",
       "      <td>7</td>\n",
       "      <td>142</td>\n",
       "      <td>90</td>\n",
       "      <td>24</td>\n",
       "      <td>480</td>\n",
       "      <td>30.4</td>\n",
       "      <td>0.128</td>\n",
       "      <td>43</td>\n",
       "      <td>1</td>\n",
       "      <td>90.0</td>\n",
       "    </tr>\n",
       "    <tr>\n",
       "      <th>707</th>\n",
       "      <td>2</td>\n",
       "      <td>127</td>\n",
       "      <td>46</td>\n",
       "      <td>21</td>\n",
       "      <td>335</td>\n",
       "      <td>34.4</td>\n",
       "      <td>0.176</td>\n",
       "      <td>22</td>\n",
       "      <td>0</td>\n",
       "      <td>46.0</td>\n",
       "    </tr>\n",
       "    <tr>\n",
       "      <th>710</th>\n",
       "      <td>3</td>\n",
       "      <td>158</td>\n",
       "      <td>64</td>\n",
       "      <td>13</td>\n",
       "      <td>387</td>\n",
       "      <td>31.2</td>\n",
       "      <td>0.295</td>\n",
       "      <td>24</td>\n",
       "      <td>0</td>\n",
       "      <td>64.0</td>\n",
       "    </tr>\n",
       "    <tr>\n",
       "      <th>715</th>\n",
       "      <td>7</td>\n",
       "      <td>187</td>\n",
       "      <td>50</td>\n",
       "      <td>33</td>\n",
       "      <td>392</td>\n",
       "      <td>33.9</td>\n",
       "      <td>0.826</td>\n",
       "      <td>34</td>\n",
       "      <td>1</td>\n",
       "      <td>50.0</td>\n",
       "    </tr>\n",
       "    <tr>\n",
       "      <th>753</th>\n",
       "      <td>0</td>\n",
       "      <td>181</td>\n",
       "      <td>88</td>\n",
       "      <td>44</td>\n",
       "      <td>510</td>\n",
       "      <td>43.3</td>\n",
       "      <td>0.222</td>\n",
       "      <td>26</td>\n",
       "      <td>1</td>\n",
       "      <td>88.0</td>\n",
       "    </tr>\n",
       "  </tbody>\n",
       "</table>\n",
       "</div>"
      ],
      "text/plain": [
       "     Pregnancies  Glucose  BloodPressure  SkinThickness  Insulin   BMI  \\\n",
       "8              2      197             70             45      543  30.5   \n",
       "13             1      189             60             23      846  30.1   \n",
       "54             7      150             66             42      342  34.7   \n",
       "111            8      155             62             26      495  34.0   \n",
       "139            5      105             72             29      325  36.9   \n",
       "153            1      153             82             42      485  40.6   \n",
       "186            8      181             68             36      495  30.1   \n",
       "220            0      177             60             29      478  34.6   \n",
       "228            4      197             70             39      744  36.7   \n",
       "231            6      134             80             37      370  46.2   \n",
       "247            0      165             90             33      680  52.3   \n",
       "248            9      124             70             33      402  35.4   \n",
       "258            1      193             50             16      375  25.9   \n",
       "286            5      155             84             44      545  38.7   \n",
       "296            2      146             70             38      360  28.0   \n",
       "360            5      189             64             33      325  31.2   \n",
       "370            3      173             82             48      465  38.4   \n",
       "375           12      140             82             43      325  39.2   \n",
       "392            1      131             64             14      415  23.7   \n",
       "409            1      172             68             49      579  42.4   \n",
       "415            3      173             84             33      474  35.7   \n",
       "480            3      158             70             30      328  35.5   \n",
       "486            1      139             62             41      480  40.7   \n",
       "519            6      129             90              7      326  19.6   \n",
       "574            1      143             86             30      330  30.1   \n",
       "584            8      124             76             24      600  28.7   \n",
       "612            7      168             88             42      321  38.2   \n",
       "645            2      157             74             35      440  39.4   \n",
       "655            2      155             52             27      540  38.7   \n",
       "695            7      142             90             24      480  30.4   \n",
       "707            2      127             46             21      335  34.4   \n",
       "710            3      158             64             13      387  31.2   \n",
       "715            7      187             50             33      392  33.9   \n",
       "753            0      181             88             44      510  43.3   \n",
       "\n",
       "     DiabetesPedigreeFunction  Age  Outcome  BloodPressureModified  \n",
       "8                       0.158   53        1                   70.0  \n",
       "13                      0.398   59        1                   60.0  \n",
       "54                      0.718   42        0                   66.0  \n",
       "111                     0.543   46        1                   62.0  \n",
       "139                     0.159   28        0                   72.0  \n",
       "153                     0.687   23        0                   82.0  \n",
       "186                     0.615   60        1                   68.0  \n",
       "220                     1.072   21        1                   60.0  \n",
       "228                     2.329   31        0                   70.0  \n",
       "231                     0.238   46        1                   80.0  \n",
       "247                     0.427   23        0                   90.0  \n",
       "248                     0.282   34        0                   70.0  \n",
       "258                     0.655   24        0                   50.0  \n",
       "286                     0.619   34        0                   84.0  \n",
       "296                     0.337   29        1                   70.0  \n",
       "360                     0.583   29        1                   64.0  \n",
       "370                     2.137   25        1                   82.0  \n",
       "375                     0.528   58        1                   82.0  \n",
       "392                     0.389   21        0                   64.0  \n",
       "409                     0.702   28        1                   68.0  \n",
       "415                     0.258   22        1                   84.0  \n",
       "480                     0.344   35        1                   70.0  \n",
       "486                     0.536   21        0                   62.0  \n",
       "519                     0.582   60        0                   90.0  \n",
       "574                     0.892   23        0                   86.0  \n",
       "584                     0.687   52        1                   76.0  \n",
       "612                     0.787   40        1                   88.0  \n",
       "645                     0.134   30        0                   74.0  \n",
       "655                     0.240   25        1                   52.0  \n",
       "695                     0.128   43        1                   90.0  \n",
       "707                     0.176   22        0                   46.0  \n",
       "710                     0.295   24        0                   64.0  \n",
       "715                     0.826   34        1                   50.0  \n",
       "753                     0.222   26        1                   88.0  "
      ]
     },
     "execution_count": 36,
     "metadata": {},
     "output_type": "execute_result"
    }
   ],
   "source": [
    "(df[(df['Insulin'] > upper_limit) | (df['Insulin'] < lower_limit)])"
   ]
  },
  {
   "cell_type": "code",
   "execution_count": 37,
   "id": "d9603e6b",
   "metadata": {},
   "outputs": [
    {
     "data": {
      "text/html": [
       "<div>\n",
       "<style scoped>\n",
       "    .dataframe tbody tr th:only-of-type {\n",
       "        vertical-align: middle;\n",
       "    }\n",
       "\n",
       "    .dataframe tbody tr th {\n",
       "        vertical-align: top;\n",
       "    }\n",
       "\n",
       "    .dataframe thead th {\n",
       "        text-align: right;\n",
       "    }\n",
       "</style>\n",
       "<table border=\"1\" class=\"dataframe\">\n",
       "  <thead>\n",
       "    <tr style=\"text-align: right;\">\n",
       "      <th></th>\n",
       "      <th>Pregnancies</th>\n",
       "      <th>Glucose</th>\n",
       "      <th>BloodPressure</th>\n",
       "      <th>SkinThickness</th>\n",
       "      <th>Insulin</th>\n",
       "      <th>BMI</th>\n",
       "      <th>DiabetesPedigreeFunction</th>\n",
       "      <th>Age</th>\n",
       "      <th>Outcome</th>\n",
       "      <th>BloodPressureModified</th>\n",
       "    </tr>\n",
       "  </thead>\n",
       "  <tbody>\n",
       "    <tr>\n",
       "      <th>0</th>\n",
       "      <td>6</td>\n",
       "      <td>148</td>\n",
       "      <td>72</td>\n",
       "      <td>35</td>\n",
       "      <td>0</td>\n",
       "      <td>33.6</td>\n",
       "      <td>0.627</td>\n",
       "      <td>50</td>\n",
       "      <td>1</td>\n",
       "      <td>72.000000</td>\n",
       "    </tr>\n",
       "    <tr>\n",
       "      <th>1</th>\n",
       "      <td>1</td>\n",
       "      <td>85</td>\n",
       "      <td>66</td>\n",
       "      <td>29</td>\n",
       "      <td>0</td>\n",
       "      <td>26.6</td>\n",
       "      <td>0.351</td>\n",
       "      <td>31</td>\n",
       "      <td>0</td>\n",
       "      <td>66.000000</td>\n",
       "    </tr>\n",
       "    <tr>\n",
       "      <th>2</th>\n",
       "      <td>8</td>\n",
       "      <td>183</td>\n",
       "      <td>64</td>\n",
       "      <td>0</td>\n",
       "      <td>0</td>\n",
       "      <td>23.3</td>\n",
       "      <td>0.672</td>\n",
       "      <td>32</td>\n",
       "      <td>1</td>\n",
       "      <td>64.000000</td>\n",
       "    </tr>\n",
       "    <tr>\n",
       "      <th>5</th>\n",
       "      <td>5</td>\n",
       "      <td>116</td>\n",
       "      <td>74</td>\n",
       "      <td>0</td>\n",
       "      <td>0</td>\n",
       "      <td>25.6</td>\n",
       "      <td>0.201</td>\n",
       "      <td>30</td>\n",
       "      <td>0</td>\n",
       "      <td>74.000000</td>\n",
       "    </tr>\n",
       "    <tr>\n",
       "      <th>7</th>\n",
       "      <td>10</td>\n",
       "      <td>115</td>\n",
       "      <td>0</td>\n",
       "      <td>0</td>\n",
       "      <td>0</td>\n",
       "      <td>35.3</td>\n",
       "      <td>0.134</td>\n",
       "      <td>29</td>\n",
       "      <td>0</td>\n",
       "      <td>69.105469</td>\n",
       "    </tr>\n",
       "    <tr>\n",
       "      <th>...</th>\n",
       "      <td>...</td>\n",
       "      <td>...</td>\n",
       "      <td>...</td>\n",
       "      <td>...</td>\n",
       "      <td>...</td>\n",
       "      <td>...</td>\n",
       "      <td>...</td>\n",
       "      <td>...</td>\n",
       "      <td>...</td>\n",
       "      <td>...</td>\n",
       "    </tr>\n",
       "    <tr>\n",
       "      <th>761</th>\n",
       "      <td>9</td>\n",
       "      <td>170</td>\n",
       "      <td>74</td>\n",
       "      <td>31</td>\n",
       "      <td>0</td>\n",
       "      <td>44.0</td>\n",
       "      <td>0.403</td>\n",
       "      <td>43</td>\n",
       "      <td>1</td>\n",
       "      <td>74.000000</td>\n",
       "    </tr>\n",
       "    <tr>\n",
       "      <th>762</th>\n",
       "      <td>9</td>\n",
       "      <td>89</td>\n",
       "      <td>62</td>\n",
       "      <td>0</td>\n",
       "      <td>0</td>\n",
       "      <td>22.5</td>\n",
       "      <td>0.142</td>\n",
       "      <td>33</td>\n",
       "      <td>0</td>\n",
       "      <td>62.000000</td>\n",
       "    </tr>\n",
       "    <tr>\n",
       "      <th>764</th>\n",
       "      <td>2</td>\n",
       "      <td>122</td>\n",
       "      <td>70</td>\n",
       "      <td>27</td>\n",
       "      <td>0</td>\n",
       "      <td>36.8</td>\n",
       "      <td>0.340</td>\n",
       "      <td>27</td>\n",
       "      <td>0</td>\n",
       "      <td>70.000000</td>\n",
       "    </tr>\n",
       "    <tr>\n",
       "      <th>766</th>\n",
       "      <td>1</td>\n",
       "      <td>126</td>\n",
       "      <td>60</td>\n",
       "      <td>0</td>\n",
       "      <td>0</td>\n",
       "      <td>30.1</td>\n",
       "      <td>0.349</td>\n",
       "      <td>47</td>\n",
       "      <td>1</td>\n",
       "      <td>60.000000</td>\n",
       "    </tr>\n",
       "    <tr>\n",
       "      <th>767</th>\n",
       "      <td>1</td>\n",
       "      <td>93</td>\n",
       "      <td>70</td>\n",
       "      <td>31</td>\n",
       "      <td>0</td>\n",
       "      <td>30.4</td>\n",
       "      <td>0.315</td>\n",
       "      <td>23</td>\n",
       "      <td>0</td>\n",
       "      <td>70.000000</td>\n",
       "    </tr>\n",
       "  </tbody>\n",
       "</table>\n",
       "<p>374 rows × 10 columns</p>\n",
       "</div>"
      ],
      "text/plain": [
       "     Pregnancies  Glucose  BloodPressure  SkinThickness  Insulin   BMI  \\\n",
       "0              6      148             72             35        0  33.6   \n",
       "1              1       85             66             29        0  26.6   \n",
       "2              8      183             64              0        0  23.3   \n",
       "5              5      116             74              0        0  25.6   \n",
       "7             10      115              0              0        0  35.3   \n",
       "..           ...      ...            ...            ...      ...   ...   \n",
       "761            9      170             74             31        0  44.0   \n",
       "762            9       89             62              0        0  22.5   \n",
       "764            2      122             70             27        0  36.8   \n",
       "766            1      126             60              0        0  30.1   \n",
       "767            1       93             70             31        0  30.4   \n",
       "\n",
       "     DiabetesPedigreeFunction  Age  Outcome  BloodPressureModified  \n",
       "0                       0.627   50        1              72.000000  \n",
       "1                       0.351   31        0              66.000000  \n",
       "2                       0.672   32        1              64.000000  \n",
       "5                       0.201   30        0              74.000000  \n",
       "7                       0.134   29        0              69.105469  \n",
       "..                        ...  ...      ...                    ...  \n",
       "761                     0.403   43        1              74.000000  \n",
       "762                     0.142   33        0              62.000000  \n",
       "764                     0.340   27        0              70.000000  \n",
       "766                     0.349   47        1              60.000000  \n",
       "767                     0.315   23        0              70.000000  \n",
       "\n",
       "[374 rows x 10 columns]"
      ]
     },
     "execution_count": 37,
     "metadata": {},
     "output_type": "execute_result"
    }
   ],
   "source": [
    "df[df.Insulin==0]"
   ]
  },
  {
   "cell_type": "code",
   "execution_count": 38,
   "id": "f97c5e31",
   "metadata": {},
   "outputs": [
    {
     "data": {
      "text/plain": [
       "count    768.000000\n",
       "mean      73.652669\n",
       "std       93.576029\n",
       "min        0.000000\n",
       "25%        0.000000\n",
       "50%       30.500000\n",
       "75%      127.250000\n",
       "max      318.125000\n",
       "Name: insulin_modified, dtype: float64"
      ]
     },
     "execution_count": 38,
     "metadata": {},
     "output_type": "execute_result"
    }
   ],
   "source": [
    "df['insulin_modified'] = np.where(df['Insulin']>upper_limit,upper_limit,df['Insulin'])\n",
    "df['insulin_modified'].describe()"
   ]
  },
  {
   "cell_type": "code",
   "execution_count": 39,
   "id": "d8aec9c5",
   "metadata": {},
   "outputs": [
    {
     "data": {
      "image/png": "[encoded data removed]",
      "text/plain": [
       "<Figure size 1080x288 with 2 Axes>"
      ]
     },
     "metadata": {
      "needs_background": "light"
     },
     "output_type": "display_data"
    }
   ],
   "source": [
    "#ploting the visualization of insulin after replacing the outliers\n",
    "fig = plt.figure(figsize=[15,4])\n",
    "\n",
    "plt.subplot(1,2,1)\n",
    "sns.boxplot(x='insulin_modified', data=df)\n",
    "\n",
    "plt.subplot(1,2,2)\n",
    "sns.histplot(data=df, hue='Outcome', x=\"insulin_modified\",kde=True)\n",
    "\n",
    "plt.show()"
   ]
  },
  {
   "cell_type": "markdown",
   "id": "112f72ff",
   "metadata": {},
   "source": [
    "## Before and After Outliers Detection"
   ]
  },
  {
   "cell_type": "code",
   "execution_count": 48,
   "id": "ce79c847",
   "metadata": {},
   "outputs": [
    {
     "data": {
      "text/plain": [
       "<AxesSubplot:xlabel='insulin_modified', ylabel='Count'>"
      ]
     },
     "execution_count": 48,
     "metadata": {},
     "output_type": "execute_result"
    },
    {
     "data": {
      "image/png": "[encoded data removed]",
      "text/plain": [
       "<Figure size 1080x288 with 4 Axes>"
      ]
     },
     "metadata": {
      "needs_background": "light"
     },
     "output_type": "display_data"
    }
   ],
   "source": [
    "fig = plt.figure(figsize=[15,4])\n",
    "\n",
    "plt.subplot(2,2,1)\n",
    "sns.boxplot(x='Insulin', data=df)\n",
    "\n",
    "plt.subplot(2,2,3)\n",
    "sns.histplot(data=df, hue='Outcome', x=\"Insulin\",kde=True)\n",
    "\n",
    "plt.subplot(2,2,2)\n",
    "sns.boxplot(x='insulin_modified', data=df)\n",
    "\n",
    "plt.subplot(2,2,4)\n",
    "sns.histplot(data=df, hue='Outcome', x=\"insulin_modified\",kde=True)"
   ]
  },
  {
   "cell_type": "code",
   "execution_count": null,
   "id": "cc85aef4",
   "metadata": {},
   "outputs": [],
   "source": [
    "#visulaizing body mass index\n",
    "fig = plt.figure(figsize=[15,4])\n",
    "\n",
    "plt.subplot(1,2,1)\n",
    "sns.boxplot(x='BMI', data=df)\n",
    "\n",
    "plt.subplot(1,2,2)\n",
    "sns.histplot(data=df, hue='Outcome', x=\"BMI\",kde=True)\n",
    "\n",
    "plt.show()"
   ]
  },
  {
   "cell_type": "code",
   "execution_count": null,
   "id": "7c2da68a",
   "metadata": {},
   "outputs": [],
   "source": [
    "Q3=df.BMI.quantile(.75)\n",
    "Q1=df.BMI.quantile(.25)\n",
    "IQR=Q3-Q1\n",
    "upper_limit=Q3+1.5*IQR\n",
    "lower_limit=Q1-1.5*IQR"
   ]
  },
  {
   "cell_type": "code",
   "execution_count": null,
   "id": "db4495db",
   "metadata": {},
   "outputs": [],
   "source": [
    "print(\"Lower limit is:\",lower_limit)\n",
    "print(\"Upper limit is:\",upper_limit)"
   ]
  },
  {
   "cell_type": "code",
   "execution_count": null,
   "id": "1d9e4ecf",
   "metadata": {},
   "outputs": [],
   "source": [
    "df[df.BMI==0]"
   ]
  },
  {
   "cell_type": "code",
   "execution_count": null,
   "id": "125d9e03",
   "metadata": {},
   "outputs": [],
   "source": [
    "(df[(df.BMI>upper_limit)|(df.BMI<lower_limit)])"
   ]
  },
  {
   "cell_type": "code",
   "execution_count": null,
   "id": "768a7653",
   "metadata": {},
   "outputs": [],
   "source": [
    "df[\"modified_BMI\"]=np.where(df.BMI<lower_limit,lower_limit,\n",
    "                           np.where(df.BMI>upper_limit,upper_limit,df.BMI))"
   ]
  },
  {
   "cell_type": "code",
   "execution_count": null,
   "id": "cf16405d",
   "metadata": {},
   "outputs": [],
   "source": [
    "df"
   ]
  },
  {
   "cell_type": "code",
   "execution_count": null,
   "id": "deff129d",
   "metadata": {},
   "outputs": [],
   "source": [
    "df.modified_BMI.describe().T"
   ]
  },
  {
   "cell_type": "code",
   "execution_count": null,
   "id": "70a28f5a",
   "metadata": {},
   "outputs": [],
   "source": [
    "#visulaizing body mass index\n",
    "fig = plt.figure(figsize=[15,4])\n",
    "\n",
    "plt.subplot(1,2,1)\n",
    "sns.boxplot(x='modified_BMI', data=df)\n",
    "\n",
    "plt.subplot(1,2,2)\n",
    "sns.histplot(data=df, hue='Outcome', x=\"modified_BMI\",kde=True)\n",
    "\n",
    "plt.show()"
   ]
  },
  {
   "cell_type": "code",
   "execution_count": null,
   "id": "7b9683fc",
   "metadata": {},
   "outputs": [],
   "source": [
    "# diabetes pedigree function determines the risk of type 2 diabetes based on family history, the larger the function, the higher the risk of type 2 diabetes\n",
    "# so, the column contain the values of risk, so keeping the column as it is"
   ]
  },
  {
   "cell_type": "code",
   "execution_count": null,
   "id": "1915c7cf",
   "metadata": {},
   "outputs": [],
   "source": [
    "#visulaizing   Age\n",
    "fig = plt.figure(figsize=[15,4])\n",
    "\n",
    "plt.subplot(1,2,1)\n",
    "sns.boxplot(x='Age', data=df)\n",
    "\n",
    "plt.subplot(1,2,2)\n",
    "sns.histplot(data=df, hue='Outcome', x=\"Age\",kde=True)\n",
    "\n",
    "plt.show()"
   ]
  },
  {
   "cell_type": "code",
   "execution_count": null,
   "id": "c3509aa2",
   "metadata": {},
   "outputs": [],
   "source": [
    "Q3=df.Age.quantile(.75)\n",
    "Q1=df.Age.quantile(.25)\n",
    "IQR=Q3-Q1\n",
    "upper_limit=Q3+1.5*IQR\n",
    "lower_limit=Q1-1.5*IQR"
   ]
  },
  {
   "cell_type": "code",
   "execution_count": null,
   "id": "f6a35da2",
   "metadata": {},
   "outputs": [],
   "source": [
    "print(\"Lower limit is:\",lower_limit)\n",
    "print(\"Upper limit is:\",upper_limit)"
   ]
  },
  {
   "cell_type": "code",
   "execution_count": null,
   "id": "255e1a79",
   "metadata": {},
   "outputs": [],
   "source": [
    "df[\"modified_age\"]=np.where(df.Age>upper_limit,upper_limit,df.Age)"
   ]
  },
  {
   "cell_type": "code",
   "execution_count": null,
   "id": "5aef9109",
   "metadata": {},
   "outputs": [],
   "source": [
    "#visulaizing   Age\n",
    "fig = plt.figure(figsize=[15,4])\n",
    "\n",
    "plt.subplot(1,2,1)\n",
    "sns.boxplot(x='modified_age', data=df)\n",
    "\n",
    "plt.subplot(1,2,2)\n",
    "sns.histplot(data=df, hue='Outcome', x=\"modified_age\",kde=True)\n",
    "\n",
    "plt.show()"
   ]
  },
  {
   "cell_type": "code",
   "execution_count": null,
   "id": "777ed4da",
   "metadata": {},
   "outputs": [],
   "source": [
    "df.columns"
   ]
  },
  {
   "cell_type": "code",
   "execution_count": null,
   "id": "e4333c00",
   "metadata": {},
   "outputs": [],
   "source": [
    "#droping some old columns which are not needed for the training\n",
    "df=df.drop([\"BloodPressure\",\"Insulin\",\"BMI\",\"Age\"],axis=1)"
   ]
  },
  {
   "cell_type": "code",
   "execution_count": null,
   "id": "dbc6b4cb",
   "metadata": {},
   "outputs": [],
   "source": [
    "df.head(2)"
   ]
  },
  {
   "cell_type": "code",
   "execution_count": null,
   "id": "d441d167",
   "metadata": {},
   "outputs": [],
   "source": [
    "x=df.drop(['Outcome'],axis=1)\n",
    "y=df['Outcome']"
   ]
  },
  {
   "cell_type": "markdown",
   "id": "1b0ef142",
   "metadata": {},
   "source": [
    "## Train test Spliting"
   ]
  },
  {
   "cell_type": "code",
   "execution_count": null,
   "id": "9b971993",
   "metadata": {},
   "outputs": [],
   "source": [
    "x_train, x_test, y_train, y_test = train_test_split(x, y, test_size = 0.2, random_state = 5)"
   ]
  },
  {
   "cell_type": "markdown",
   "id": "56030ae9",
   "metadata": {},
   "source": [
    "# LogisticRegression"
   ]
  },
  {
   "cell_type": "code",
   "execution_count": null,
   "id": "d263ecc9",
   "metadata": {},
   "outputs": [],
   "source": [
    "lr=LogisticRegression()\n",
    "lr.fit(x_train,y_train)\n",
    "y_pred=lr.predict(x_test)\n",
    "result_lr=metrics.accuracy_score(y_test, y_pred)\n",
    "print(\"LogisticRegression:\",round(result_lr*100,3))"
   ]
  },
  {
   "cell_type": "markdown",
   "id": "ba26ff3f",
   "metadata": {},
   "source": [
    "# DecisionTreeClassifier"
   ]
  },
  {
   "cell_type": "code",
   "execution_count": null,
   "id": "50bd7487",
   "metadata": {},
   "outputs": [],
   "source": [
    "dt=DecisionTreeClassifier(random_state=42)\n",
    "dt.fit(x_train,y_train)\n",
    "y_pred=dt.predict(x_test)\n",
    "result_dt=metrics.accuracy_score(y_test, y_pred)\n",
    "print(\"DecisionTreeClassifier:\",round(result_dt*100,3))"
   ]
  },
  {
   "cell_type": "markdown",
   "id": "bd5f251f",
   "metadata": {},
   "source": [
    "# RandomForestClassifier"
   ]
  },
  {
   "cell_type": "code",
   "execution_count": null,
   "id": "9d3f0742",
   "metadata": {},
   "outputs": [],
   "source": [
    "rf=RandomForestClassifier(random_state=42)\n",
    "rf.fit(x_train,y_train)\n",
    "y_pred=rf.predict(x_test)\n",
    "result_rf=metrics.accuracy_score(y_test, y_pred)\n",
    "print(\"RandomForestClassifier\",round(result_rf*100,3))"
   ]
  },
  {
   "cell_type": "markdown",
   "id": "6f982d6d",
   "metadata": {},
   "source": [
    "# Support vector machine\n"
   ]
  },
  {
   "cell_type": "code",
   "execution_count": null,
   "id": "5718c3b1",
   "metadata": {},
   "outputs": [],
   "source": [
    "svc=SVC()\n",
    "svc.fit(x_train,y_train)\n",
    "y_pred=svc.predict(x_test)\n",
    "result_svc=metrics.accuracy_score(y_test, y_pred)\n",
    "print(\"Support vector machine:\",round(result_svc*100,3))"
   ]
  },
  {
   "cell_type": "code",
   "execution_count": null,
   "id": "9ae24529",
   "metadata": {},
   "outputs": [],
   "source": [
    "print(metrics.classification_report(y_test,y_pred))\n"
   ]
  },
  {
   "cell_type": "code",
   "execution_count": null,
   "id": "45739889",
   "metadata": {},
   "outputs": [],
   "source": [
    "metrics.confusion_matrix(y_test, y_pred)\n"
   ]
  },
  {
   "cell_type": "code",
   "execution_count": null,
   "id": "0ed39563",
   "metadata": {},
   "outputs": [],
   "source": []
  }
 ],
 "metadata": {
  "kernelspec": {
   "display_name": "Python 3 (ipykernel)",
   "language": "python",
   "name": "python3"
  },
  "language_info": {
   "codemirror_mode": {
    "name": "ipython",
    "version": 3
   },
   "file_extension": ".py",
   "mimetype": "text/x-python",
   "name": "python",
   "nbconvert_exporter": "python",
   "pygments_lexer": "ipython3",
   "version": "3.9.12"
  }
 },
 "nbformat": 4,
 "nbformat_minor": 5
}
